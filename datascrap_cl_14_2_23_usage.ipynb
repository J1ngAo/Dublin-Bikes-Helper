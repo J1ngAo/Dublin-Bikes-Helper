{
 "cells": [
  {
   "cell_type": "markdown",
   "id": "0ded6a85",
   "metadata": {},
   "source": [
    "# Datascrapping - Usage Data "
   ]
  },
  {
   "cell_type": "code",
   "execution_count": 1,
   "id": "2cc9711c",
   "metadata": {},
   "outputs": [],
   "source": [
    "import requests\n",
    "import pandas as pd\n",
    "from bs4 import BeautifulSoup\n",
    "import json"
   ]
  },
  {
   "cell_type": "code",
   "execution_count": 2,
   "id": "8e4f6a8d",
   "metadata": {},
   "outputs": [],
   "source": [
    "url = \"https://data.smartdublin.ie/dataset/33ec9fe2-4957-4e9a-ab55-c5e917c7a9ab/resource/5bc73751-4280-4423-b64d-18f4cc17986d/download/dublinbikes_20211001_20220101.csv\""
   ]
  },
  {
   "cell_type": "code",
   "execution_count": null,
   "id": "e0888c43",
   "metadata": {},
   "outputs": [],
   "source": [
    "#requests_object = requests.get(url)\n",
    "#text_page = requests_object.text\n",
    "#pd.read_csv(requests_object.text)"
   ]
  },
  {
   "cell_type": "code",
   "execution_count": 6,
   "id": "7df38975",
   "metadata": {},
   "outputs": [],
   "source": [
    "df = pd.read_csv(\"C:/Users/corma/Desktop/Software Eng/dublinbikes_20211001_20220101.csv\")"
   ]
  },
  {
   "cell_type": "code",
   "execution_count": 7,
   "id": "c0f3db82",
   "metadata": {},
   "outputs": [
    {
     "name": "stdout",
     "output_type": "stream",
     "text": [
      "(2776085, 11)\n",
      "   STATION ID                 TIME         LAST UPDATED                NAME  \\\n",
      "0           2  2021-10-01 00:05:02  2021-10-01 00:00:15  BLESSINGTON STREET   \n",
      "1           2  2021-10-01 00:10:02  2021-10-01 00:05:36  BLESSINGTON STREET   \n",
      "2           2  2021-10-01 00:15:02  2021-10-01 00:05:36  BLESSINGTON STREET   \n",
      "3           2  2021-10-01 00:20:02  2021-10-01 00:15:43  BLESSINGTON STREET   \n",
      "4           2  2021-10-01 00:25:02  2021-10-01 00:15:43  BLESSINGTON STREET   \n",
      "5           2  2021-10-01 00:30:02  2021-10-01 00:25:49  BLESSINGTON STREET   \n",
      "6           2  2021-10-01 00:35:02  2021-10-01 00:25:49  BLESSINGTON STREET   \n",
      "7           2  2021-10-01 00:40:02  2021-10-01 00:35:55  BLESSINGTON STREET   \n",
      "8           2  2021-10-01 00:45:02  2021-10-01 00:35:55  BLESSINGTON STREET   \n",
      "9           2  2021-10-01 00:50:02  2021-10-01 00:46:01  BLESSINGTON STREET   \n",
      "\n",
      "   BIKE STANDS  AVAILABLE BIKE STANDS  AVAILABLE BIKES STATUS  \\\n",
      "0           20                      7               13   Open   \n",
      "1           20                      6               14   Open   \n",
      "2           20                      6               14   Open   \n",
      "3           20                      6               14   Open   \n",
      "4           20                      6               14   Open   \n",
      "5           20                      6               14   Open   \n",
      "6           20                      6               14   Open   \n",
      "7           20                      6               14   Open   \n",
      "8           20                      6               14   Open   \n",
      "9           20                      6               14   Open   \n",
      "\n",
      "              ADDRESS  LATITUDE  LONGITUDE  \n",
      "0  Blessington Street  53.35677   -6.26814  \n",
      "1  Blessington Street  53.35677   -6.26814  \n",
      "2  Blessington Street  53.35677   -6.26814  \n",
      "3  Blessington Street  53.35677   -6.26814  \n",
      "4  Blessington Street  53.35677   -6.26814  \n",
      "5  Blessington Street  53.35677   -6.26814  \n",
      "6  Blessington Street  53.35677   -6.26814  \n",
      "7  Blessington Street  53.35677   -6.26814  \n",
      "8  Blessington Street  53.35677   -6.26814  \n",
      "9  Blessington Street  53.35677   -6.26814  \n",
      "         STATION ID                 TIME         LAST UPDATED  \\\n",
      "2776075         507  2022-01-01 23:10:02  2021-11-18 07:11:16   \n",
      "2776076         507  2022-01-01 23:15:02  2021-11-18 07:11:16   \n",
      "2776077         507  2022-01-01 23:20:02  2021-11-18 07:11:16   \n",
      "2776078         507  2022-01-01 23:25:02  2021-11-18 07:11:16   \n",
      "2776079         507  2022-01-01 23:30:02  2021-11-18 07:11:16   \n",
      "2776080         507  2022-01-01 23:35:02  2021-11-18 07:11:16   \n",
      "2776081         507  2022-01-01 23:40:02  2021-11-18 07:11:16   \n",
      "2776082         507  2022-01-01 23:45:02  2021-11-18 07:11:16   \n",
      "2776083         507  2022-01-01 23:50:02  2021-11-18 07:11:16   \n",
      "2776084         507  2022-01-01 23:55:02  2021-11-18 07:11:16   \n",
      "\n",
      "                               NAME  BIKE STANDS  AVAILABLE BIKE STANDS  \\\n",
      "2776075  ORIEL STREET TEST TERMINAL            1                      0   \n",
      "2776076  ORIEL STREET TEST TERMINAL            1                      0   \n",
      "2776077  ORIEL STREET TEST TERMINAL            1                      0   \n",
      "2776078  ORIEL STREET TEST TERMINAL            1                      0   \n",
      "2776079  ORIEL STREET TEST TERMINAL            1                      0   \n",
      "2776080  ORIEL STREET TEST TERMINAL            1                      0   \n",
      "2776081  ORIEL STREET TEST TERMINAL            1                      0   \n",
      "2776082  ORIEL STREET TEST TERMINAL            1                      0   \n",
      "2776083  ORIEL STREET TEST TERMINAL            1                      0   \n",
      "2776084  ORIEL STREET TEST TERMINAL            1                      0   \n",
      "\n",
      "         AVAILABLE BIKES STATUS  \\\n",
      "2776075                1   Open   \n",
      "2776076                1   Open   \n",
      "2776077                1   Open   \n",
      "2776078                1   Open   \n",
      "2776079                1   Open   \n",
      "2776080                1   Open   \n",
      "2776081                1   Open   \n",
      "2776082                1   Open   \n",
      "2776083                1   Open   \n",
      "2776084                1   Open   \n",
      "\n",
      "                                                   ADDRESS  LATITUDE  \\\n",
      "2776075  JCDecaux Ireland, 52 Oriel Street Lower, Dublin 1  53.35463   \n",
      "2776076  JCDecaux Ireland, 52 Oriel Street Lower, Dublin 1  53.35463   \n",
      "2776077  JCDecaux Ireland, 52 Oriel Street Lower, Dublin 1  53.35463   \n",
      "2776078  JCDecaux Ireland, 52 Oriel Street Lower, Dublin 1  53.35463   \n",
      "2776079  JCDecaux Ireland, 52 Oriel Street Lower, Dublin 1  53.35463   \n",
      "2776080  JCDecaux Ireland, 52 Oriel Street Lower, Dublin 1  53.35463   \n",
      "2776081  JCDecaux Ireland, 52 Oriel Street Lower, Dublin 1  53.35463   \n",
      "2776082  JCDecaux Ireland, 52 Oriel Street Lower, Dublin 1  53.35463   \n",
      "2776083  JCDecaux Ireland, 52 Oriel Street Lower, Dublin 1  53.35463   \n",
      "2776084  JCDecaux Ireland, 52 Oriel Street Lower, Dublin 1  53.35463   \n",
      "\n",
      "         LONGITUDE  \n",
      "2776075  -6.242615  \n",
      "2776076  -6.242615  \n",
      "2776077  -6.242615  \n",
      "2776078  -6.242615  \n",
      "2776079  -6.242615  \n",
      "2776080  -6.242615  \n",
      "2776081  -6.242615  \n",
      "2776082  -6.242615  \n",
      "2776083  -6.242615  \n",
      "2776084  -6.242615  \n"
     ]
    }
   ],
   "source": [
    "print(df.shape)\n",
    "print(df.head(10))\n",
    "print(df.tail(10))"
   ]
  }
 ],
 "metadata": {
  "kernelspec": {
   "display_name": "Python 3 (ipykernel)",
   "language": "python",
   "name": "python3"
  },
  "language_info": {
   "codemirror_mode": {
    "name": "ipython",
    "version": 3
   },
   "file_extension": ".py",
   "mimetype": "text/x-python",
   "name": "python",
   "nbconvert_exporter": "python",
   "pygments_lexer": "ipython3",
   "version": "3.10.9"
  }
 },
 "nbformat": 4,
 "nbformat_minor": 5
}
