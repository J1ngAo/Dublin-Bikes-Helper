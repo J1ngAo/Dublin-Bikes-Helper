{
 "cells": [
  {
   "cell_type": "code",
   "execution_count": 1,
   "id": "07e2590b",
   "metadata": {},
   "outputs": [],
   "source": [
    "import pandas as pd\n",
    "import numpy as np\n",
    "\n",
    "import matplotlib.pyplot as plt\n",
    "import matplotlib.dates\n",
    "\n",
    "#import requests\n",
    "#import json\n",
    "from pathlib import Path\n",
    "import sys\n",
    "import pickle\n",
    "\n",
    "import time\n",
    "from datetime import datetime\n",
    "import datetime\n",
    "\n",
    "from sklearn.linear_model import LinearRegression\n",
    "from sklearn import metrics\n",
    "from sklearn.model_selection import train_test_split, cross_validate, cross_val_score, RandomizedSearchCV\n",
    "from sklearn.tree import DecisionTreeRegressor\n",
    "from sklearn.metrics import mean_squared_error, r2_score\n",
    "from sklearn import datasets, linear_model\n",
    "from sklearn.preprocessing import StandardScaler\n",
    "from sklearn.linear_model import Lasso\n",
    "from sklearn.tree import export_graphviz\n",
    "from sklearn.ensemble import RandomForestClassifier\n",
    "from sklearn.metrics import accuracy_score, confusion_matrix, precision_score, recall_score, ConfusionMatrixDisplay\n",
    "from sklearn.ensemble import RandomForestRegressor\n",
    "\n",
    "from scipy.stats import randint\n",
    "\n",
    "#from IPython.display import Image\n",
    "#import graphviz\n",
    "\n",
    "%matplotlib inline"
   ]
  },
  {
   "cell_type": "markdown",
   "id": "91c529fb",
   "metadata": {},
   "source": [
    "## Function to convert day number to day"
   ]
  },
  {
   "cell_type": "code",
   "execution_count": 2,
   "id": "c04688f0",
   "metadata": {},
   "outputs": [],
   "source": [
    "def convert_day(num):\n",
    "    if num == 1:\n",
    "        return 'Monday'\n",
    "    elif num == 2:\n",
    "        return 'Tuesday'\n",
    "    elif num == 3:\n",
    "        return 'Wednesday'\n",
    "    elif num == 4:\n",
    "        return 'Thursday'\n",
    "    elif num == 5:\n",
    "        return 'Friday'\n",
    "    elif num == 6:\n",
    "        return 'Saturday'\n",
    "    else:\n",
    "        return 'Sunday'"
   ]
  },
  {
   "cell_type": "markdown",
   "id": "b990ccde",
   "metadata": {},
   "source": [
    "## Function to convert Month number to Month"
   ]
  },
  {
   "cell_type": "code",
   "execution_count": 3,
   "id": "c9c4352d",
   "metadata": {},
   "outputs": [],
   "source": [
    "def convert_month(num):\n",
    "    if num == 1:\n",
    "        return 'January'\n",
    "    elif num == 2:\n",
    "        return 'February'\n",
    "    elif num == 3:\n",
    "        return 'March'\n",
    "    elif num == 4:\n",
    "        return 'April'\n",
    "    elif num == 5:\n",
    "        return 'May'\n",
    "    elif num == 6:\n",
    "        return 'June'\n",
    "    elif num == 7:\n",
    "        return 'July'\n",
    "    elif num == 8:\n",
    "        return 'August'\n",
    "    elif num == 9:\n",
    "        return 'September'\n",
    "    elif num == 10:\n",
    "        return 'October'\n",
    "    elif num == 11:\n",
    "        return 'November'\n",
    "    else:\n",
    "        return 'December'"
   ]
  },
  {
   "cell_type": "code",
   "execution_count": 4,
   "id": "8b25234a",
   "metadata": {},
   "outputs": [],
   "source": [
    "#path to files\n",
    "file_path_csv_weather = Path('C:\\\\Users\\\\corma\\\\Documents\\\\GitHub\\\\Dublin-Bikes-Helper\\\\MachineLearn_DBH\\\\weather_info_final.csv')\n",
    "file_path_csv_bike = Path('C:\\\\Users\\\\corma\\\\Documents\\\\GitHub\\\\Dublin-Bikes-Helper\\\\MachineLearn_DBH\\\\bike_info_final.csv')\n",
    "file_path_pickle = Path('C:\\\\Users\\\\corma\\\\Documents\\\\GitHub\\\\Dublin-Bikes-Helper\\\\MachineLearn_DBH\\\\Pickle Files\\\\')"
   ]
  },
  {
   "cell_type": "code",
   "execution_count": 5,
   "id": "9f1c8f5c",
   "metadata": {},
   "outputs": [],
   "source": [
    "#Read files\n",
    "df = pd.read_csv(file_path_csv_bike,index_col=False)\n",
    "dfw = pd.read_csv(file_path_csv_weather,index_col=False)"
   ]
  },
  {
   "cell_type": "markdown",
   "id": "92a925ee",
   "metadata": {},
   "source": [
    "df.shape,dfw.shape"
   ]
  },
  {
   "cell_type": "markdown",
   "id": "67868d49",
   "metadata": {},
   "source": [
    "df.describe()"
   ]
  },
  {
   "cell_type": "markdown",
   "id": "c383bc62",
   "metadata": {},
   "source": [
    "df.dtypes"
   ]
  },
  {
   "cell_type": "markdown",
   "id": "76b3b499",
   "metadata": {},
   "source": [
    "df.head()"
   ]
  },
  {
   "cell_type": "markdown",
   "id": "37ac1337",
   "metadata": {},
   "source": [
    "df['status'].unique()"
   ]
  },
  {
   "cell_type": "markdown",
   "id": "82967818",
   "metadata": {},
   "source": [
    "dfw.describe()"
   ]
  },
  {
   "cell_type": "markdown",
   "id": "679e2623",
   "metadata": {},
   "source": [
    "dfw.dtypes"
   ]
  },
  {
   "cell_type": "markdown",
   "id": "f4cf4834",
   "metadata": {},
   "source": [
    "dfw.head()"
   ]
  },
  {
   "cell_type": "markdown",
   "id": "2a06e5c2",
   "metadata": {},
   "source": [
    "dfw['weather_main'].unique()"
   ]
  },
  {
   "cell_type": "markdown",
   "id": "5c8629ea",
   "metadata": {},
   "source": [
    "## Set up Time Parmeters - Bike and Weather"
   ]
  },
  {
   "cell_type": "code",
   "execution_count": 6,
   "id": "dc72a52b",
   "metadata": {},
   "outputs": [],
   "source": [
    "df[\"TIME\"] = pd.to_datetime(df[\"creat_time\"],format='%Y-%m-%d %H:%M:%S')\n",
    "df[\"YEAR\"] = df[\"TIME\"].dt.year\n",
    "df[\"MONTH\"] = df[\"TIME\"].dt.month\n",
    "df[\"DAY\"] = df['TIME'].dt.dayofweek\n",
    "df[\"DAY_num\"] = df[\"TIME\"].dt.day\n",
    "df[\"HOUR\"] = df[\"TIME\"].dt.hour\n",
    "df[\"MINUTE\"] = df[\"TIME\"].dt.minute"
   ]
  },
  {
   "cell_type": "markdown",
   "id": "23938327",
   "metadata": {},
   "source": [
    "df.dtypes"
   ]
  },
  {
   "cell_type": "markdown",
   "id": "954f65da",
   "metadata": {},
   "source": [
    "df['DAY'].unique()"
   ]
  },
  {
   "cell_type": "markdown",
   "id": "8c85827b",
   "metadata": {},
   "source": [
    "df[\"TIME\"].head()"
   ]
  },
  {
   "cell_type": "code",
   "execution_count": 7,
   "id": "a52eaf34",
   "metadata": {},
   "outputs": [],
   "source": [
    "df['TIME'] = df['TIME'].dt.round('H')"
   ]
  },
  {
   "cell_type": "markdown",
   "id": "5458dba0",
   "metadata": {},
   "source": [
    "df['TIME'].head()"
   ]
  },
  {
   "cell_type": "code",
   "execution_count": 8,
   "id": "a823f109",
   "metadata": {},
   "outputs": [],
   "source": [
    "dfw[\"TIME\"] = pd.to_datetime(dfw[\"creat_time\"],format='%Y-%m-%d %H:%M:%S')\n",
    "dfw[\"sunrise\"] = pd.to_datetime(dfw[\"sunrise\"],format='%Y-%m-%d %H:%M:%S')\n",
    "dfw[\"sunset\"] = pd.to_datetime(dfw[\"sunset\"],format='%Y-%m-%d %H:%M:%S')\n",
    "\n",
    "dfw[\"YEAR\"] = dfw[\"TIME\"].dt.year\n",
    "col =np.array(dfw[\"YEAR\"],np.int64) #Converts float to int\n",
    "dfw[\"YEAR\"] = col #Converts float to int\n",
    "\n",
    "dfw[\"MONTH\"] = dfw[\"TIME\"].dt.month\n",
    "col =np.array(dfw[\"MONTH\"] ,np.int64)\n",
    "dfw[\"MONTH\"]  = col\n",
    "\n",
    "dfw['DAY'] = dfw['TIME'].dt.dayofweek\n",
    "col =np.array(dfw['DAY'],np.int64) \n",
    "dfw['DAY'] = col \n",
    "dfw[\"DAY_num\"] = dfw[\"TIME\"].dt.day\n",
    "col =np.array(dfw[\"DAY_num\"],np.int64)\n",
    "dfw[\"DAY_num\"] = col\n",
    "\n",
    "dfw[\"HOUR\"] = dfw[\"TIME\"].dt.hour\n",
    "col =np.array(dfw[\"HOUR\"] ,np.int64)\n",
    "dfw[\"HOUR\"]  = col\n",
    "\n",
    "dfw[\"MINUTE\"] = dfw[\"TIME\"].dt.minute\n",
    "col =np.array(dfw[\"MINUTE\"] ,np.int64)\n",
    "dfw[\"MINUTE\"] = col"
   ]
  },
  {
   "cell_type": "code",
   "execution_count": 9,
   "id": "873f260d",
   "metadata": {},
   "outputs": [
    {
     "data": {
      "text/plain": [
       "0   2023-03-13 09:00:00\n",
       "1   2023-03-28 10:00:00\n",
       "2   2023-03-31 01:00:00\n",
       "3   2023-03-15 06:00:00\n",
       "4   2023-03-31 01:00:00\n",
       "Name: TIME, dtype: datetime64[ns]"
      ]
     },
     "execution_count": 9,
     "metadata": {},
     "output_type": "execute_result"
    }
   ],
   "source": [
    "dfw['TIME'] = dfw['TIME'].dt.round('H')\n",
    "dfw['TIME'] .head()"
   ]
  },
  {
   "cell_type": "code",
   "execution_count": 10,
   "id": "b823182a",
   "metadata": {},
   "outputs": [
    {
     "data": {
      "text/plain": [
       "array(['Wed', 'Thu', 'Sat', 'Sun', 'Tue', 'Mon', 'Fri'], dtype=object)"
      ]
     },
     "execution_count": 10,
     "metadata": {},
     "output_type": "execute_result"
    }
   ],
   "source": [
    "df.loc[df['DAY'] == 0, 'DAY_name'] = 'Mon'  \n",
    "df.loc[df['DAY'] == 1, 'DAY_name'] = 'Tue'  \n",
    "df.loc[df['DAY'] == 2, 'DAY_name'] = 'Wed'  \n",
    "df.loc[df['DAY'] == 3, 'DAY_name'] = 'Thu'  \n",
    "df.loc[df['DAY'] == 4, 'DAY_name'] = 'Fri' \n",
    "df.loc[df['DAY'] == 5, 'DAY_name'] = 'Sat' \n",
    "df.loc[df['DAY'] == 6, 'DAY_name'] = 'Sun' \n",
    "df[\"DAY_name\"].unique()"
   ]
  },
  {
   "cell_type": "code",
   "execution_count": 11,
   "id": "62ade5e1",
   "metadata": {},
   "outputs": [
    {
     "data": {
      "text/plain": [
       "array(['Wed', 'Thu', 'Sat', 'Sun', 'Tue', 'Mon', 'Fri'], dtype=object)"
      ]
     },
     "execution_count": 11,
     "metadata": {},
     "output_type": "execute_result"
    }
   ],
   "source": [
    "dfw.loc[df['DAY'] == 0, 'DAY_name'] = 'Mon'  \n",
    "dfw.loc[df['DAY'] == 1, 'DAY_name'] = 'Tue'  \n",
    "dfw.loc[df['DAY'] == 2, 'DAY_name'] = 'Wed'  \n",
    "dfw.loc[df['DAY'] == 3, 'DAY_name'] = 'Thu'  \n",
    "dfw.loc[df['DAY'] == 4, 'DAY_name'] = 'Fri' \n",
    "dfw.loc[df['DAY'] == 5, 'DAY_name'] = 'Sat' \n",
    "dfw.loc[df['DAY'] == 6, 'DAY_name'] = 'Sun' \n",
    "dfw[\"DAY_name\"].unique()"
   ]
  },
  {
   "cell_type": "markdown",
   "id": "345c8d8c",
   "metadata": {},
   "source": [
    "## Create New Bike parameters "
   ]
  },
  {
   "cell_type": "code",
   "execution_count": 12,
   "id": "b2a2997f",
   "metadata": {},
   "outputs": [],
   "source": [
    "df['utilisation'] = df['bike_stand_available'] / df['bike_stand']\n",
    "#df['utilisation'].head()"
   ]
  },
  {
   "cell_type": "markdown",
   "id": "8f4d5a00",
   "metadata": {},
   "source": [
    "## Set Up 3 lists to hold the R2 values of Training and Test Random Forest Models + StationID"
   ]
  },
  {
   "cell_type": "code",
   "execution_count": 48,
   "id": "d0365fce",
   "metadata": {},
   "outputs": [],
   "source": [
    "randommodel_mser_train_list = []\n",
    "randommodel_mser_test_list = []\n",
    "randommodel_stationid = []\n"
   ]
  },
  {
   "cell_type": "markdown",
   "id": "1789e1a5",
   "metadata": {},
   "source": [
    "## Convert Temperature to Celcius"
   ]
  },
  {
   "cell_type": "code",
   "execution_count": 83,
   "id": "443d03cb",
   "metadata": {},
   "outputs": [],
   "source": [
    "#Convert from Kelvin to Celcius\n",
    "dfw[\"tempcel\"] = dfw[\"temp\"]-273.15\n",
    "dfw[\"tempcel_feel\"] = dfw[\"temp_feel\"]-273.15\n"
   ]
  },
  {
   "cell_type": "markdown",
   "id": "7d93cbe3",
   "metadata": {},
   "source": [
    "dfw[\"wind_speed\"].unique()\n",
    "dfw[\"weather_main\"].unique()"
   ]
  },
  {
   "cell_type": "markdown",
   "id": "5418992d",
   "metadata": {},
   "source": [
    "dfw['temp_check'] = (dfw['tempcel']==0)\n",
    "dfw[\"tempcel\"].loc[dfw['temp_check']]"
   ]
  },
  {
   "cell_type": "markdown",
   "id": "dbac638e",
   "metadata": {},
   "source": [
    "## Create new column putting numerical values to weather_main"
   ]
  },
  {
   "cell_type": "code",
   "execution_count": 84,
   "id": "317e6cff",
   "metadata": {},
   "outputs": [
    {
     "data": {
      "text/plain": [
       "array([2, 4, 3, 5, 1, 6, 7], dtype=int64)"
      ]
     },
     "execution_count": 84,
     "metadata": {},
     "output_type": "execute_result"
    }
   ],
   "source": [
    "dfw['weather_main'].replace(['Clouds', 'Rain','Snow','Clear','Drizzle','Mist','Fog'],[2, 4,5,1,3,6,7], inplace=True)\n",
    "dfw[\"weather_main\"].unique()"
   ]
  },
  {
   "cell_type": "markdown",
   "id": "98d0d61c",
   "metadata": {},
   "source": [
    "## Create Weather Plots "
   ]
  },
  {
   "cell_type": "code",
   "execution_count": 85,
   "id": "3878dcc6",
   "metadata": {},
   "outputs": [
    {
     "data": {
      "image/png": "[encoded data removed]",
      "text/plain": [
       "<Figure size 640x480 with 1 Axes>"
      ]
     },
     "metadata": {},
     "output_type": "display_data"
    }
   ],
   "source": [
    "#Set X and Y plot\n",
    "\n",
    "dfw['time_select'] = (dfw['DAY']==day_num-1) & (dfw['MONTH']==month_num) #& (dfw[\"HOUR_w\"] == hour_num)\n",
    "x =dfw['HOUR'].loc[dfw['time_select']]\n",
    "y = dfw[\"tempcel\"].loc[dfw['time_select']]\n",
    "\n",
    "#Create Plot\n",
    "plt.title(f'Temperature Ranges \\non {convert_day(day_num-1)}s \\n in {convert_month(day_num-1)}')\n",
    "plt.xlabel(\"Time (24 hours)\")\n",
    "plt.ylabel(\"Temperatue - Degrees Celcsius\")\n",
    "#ytick = np.array([0,2,4,6,8,10,12,14,16,18,20,22,24,26,28,30,32,34,36,38,40,42,44])\n",
    "#xtick = np.array([0,4,8,12,16,20,24])\n",
    "#plt.xticks(xtick)\n",
    "#plt.yticks(ytick)\n",
    "plt.scatter(x,y)\n",
    "plt.show()"
   ]
  },
  {
   "cell_type": "markdown",
   "id": "429c2070",
   "metadata": {},
   "source": [
    "y.unique()"
   ]
  },
  {
   "cell_type": "code",
   "execution_count": 86,
   "id": "21d861cb",
   "metadata": {},
   "outputs": [
    {
     "data": {
      "image/png": "[encoded data removed]",
      "text/plain": [
       "<Figure size 640x480 with 1 Axes>"
      ]
     },
     "metadata": {},
     "output_type": "display_data"
    }
   ],
   "source": [
    "#Set X and Y plot\n",
    "x =dfw['HOUR'].loc[dfw['time_select']]\n",
    "y = dfw[\"clouds\"].loc[dfw['time_select']]\n",
    "\n",
    "#Create Plot\n",
    "plt.title(f'Cloud Coverage  \\non {convert_day(day_num-1)}s\\n in {convert_month(day_num-1)}')\n",
    "plt.xlabel(\"Time (24 hours)\")\n",
    "plt.ylabel(\"Cloud Coverage - %\")\n",
    "ytick = np.array([0,10,20,30,40,50,60,70,80,90,100])\n",
    "xtick = np.array([0,4,8,12,16,20,24])\n",
    "plt.xticks(xtick)\n",
    "plt.yticks(ytick)\n",
    "#plt.xlim(0,24)\n",
    "plt.scatter(x,y)\n",
    "plt.show()"
   ]
  },
  {
   "cell_type": "code",
   "execution_count": 87,
   "id": "037dbeae",
   "metadata": {},
   "outputs": [
    {
     "data": {
      "image/png": "[encoded data removed]",
      "text/plain": [
       "<Figure size 640x480 with 1 Axes>"
      ]
     },
     "metadata": {},
     "output_type": "display_data"
    }
   ],
   "source": [
    "#Set X and Y plot\n",
    "x =dfw['HOUR'].loc[dfw['time_select']]\n",
    "y = dfw[\"weather_main\"].loc[dfw['time_select']]\n",
    "\n",
    "#Create Plot\n",
    "plt.title(f'Weather \\non {convert_day(day_num-1)}s\\n in {convert_month(day_num-1)}')\n",
    "plt.xlabel(\"Time (24 hours)\")\n",
    "plt.ylabel(\"Weather\")\n",
    "#ytick = np.array([0,10,20,30,40,50,60,70,80,90,100])\n",
    "xtick = np.array([0,4,8,12,16,20,24])\n",
    "plt.xticks(xtick)\n",
    "#plt.yticks(ytick)\n",
    "#plt.xlim(0,24)\n",
    "plt.scatter(x,y,color='red')\n",
    "plt.show()"
   ]
  },
  {
   "cell_type": "markdown",
   "id": "2815ca69",
   "metadata": {},
   "source": [
    "## Set up Search Parameters for Bike (Station ID, Month, Day, Hour, Bike Avail., Bike Park.) "
   ]
  },
  {
   "cell_type": "code",
   "execution_count": 185,
   "id": "2a7abbf2",
   "metadata": {},
   "outputs": [
    {
     "data": {
      "image/png": "[encoded data removed]",
      "text/plain": [
       "<Figure size 640x480 with 1 Axes>"
      ]
     },
     "metadata": {},
     "output_type": "display_data"
    }
   ],
   "source": [
    "#Check Bike availability or Bike Parking Availability\n",
    "req = 'b' #input(\"Do you want to check for Bike Availability (Type: b) or Parking Availability (Type: p): \")\n",
    "if req == 'b' or req == 'B' or req == 'p' or req == 'P' or req == 'bike' or req == 'Bike' or req == 'park' or req == 'Park':\n",
    "\n",
    "    #Month\n",
    "    month_num = 3\n",
    "\n",
    "    #Day of the week\n",
    "    day_num = 4 #int(input(\"Enter Day Number (1 = Mon, 2 = Tues, 3 = Wed etc): \"))\n",
    "    \n",
    "    #Hour\n",
    "    hour_num = 12\n",
    "    \n",
    "    #Minute pass the hour\n",
    "    #min_num = int(input(\"Enter Minute pass the hour (0 - 15 - 30 - 45): \"))\n",
    "    \n",
    "    #Station ID\n",
    "    stationid = 5 #int(input(\"Enter Station ID (1 to 117): \"))\n",
    "\n",
    "    try:\n",
    "        stationname = df.loc[(df['number']==stationid),'name'].values[0]\n",
    "        \n",
    "        #Filter data based on certain input parameters\n",
    "        df['station_select'] = (df['YEAR']==2023) & (df['MONTH']==month_num) & (df['DAY']==day_num-1) & (df['number']==stationid)\n",
    "        \n",
    "        ## Set up x- and y-axis of Plot\n",
    "        x =df['HOUR'].loc[df['station_select']]\n",
    "\n",
    "        if req == 'bike' or req == 'Bike' or req == 'b' or req == 'B':\n",
    "            y = df['bike_available'].loc[df['station_select']]\n",
    "            plt.ylabel(\"Bike Availability\")\n",
    "            plt.title(f'Likely Bike Availability \\nfor {stationname} \\non {convert_day(day_num-1)}')\n",
    "            \n",
    "        elif req == 'park' or req == 'Park' or req == 'p' or req == 'P':\n",
    "            y = df['bike_stand_available'].loc[df['station_select']]\n",
    "            plt.ylabel(\"Bike Parking Availability\")\n",
    "            plt.title(f'Likely Bike Parking Availability \\nfor {stationname} \\non {convert_day(day_num-1)}')\n",
    "            print(\"OK\")\n",
    "       \n",
    "        #Set Up Plot\n",
    "        plt.xlabel(\"Time (24 hours)\")\n",
    "        ytick = np.array([0,2,4,6,8,10,12,14,16,18,20,22,24,26,28,30,32,34,36,38,40,42,44])\n",
    "        xtick = np.array([0,4,8,12,16,20,24])\n",
    "        plt.xticks(xtick)\n",
    "        plt.yticks(ytick)\n",
    "        plt.xlim(0,24)\n",
    "        plt.scatter(x,y)\n",
    "        plt.show()\n",
    "    except:\n",
    "        print (\"Station ID Does not exist\")\n",
    "    \n",
    "else:\n",
    "    print(\"Incorrect Entry\")"
   ]
  },
  {
   "cell_type": "markdown",
   "id": "5daa9f53",
   "metadata": {},
   "source": [
    "## Combine the two dataframes - Bike & Weather"
   ]
  },
  {
   "cell_type": "code",
   "execution_count": 186,
   "id": "7cb88348",
   "metadata": {},
   "outputs": [
    {
     "data": {
      "text/plain": [
       "((821117, 21), (1678, 24))"
      ]
     },
     "execution_count": 186,
     "metadata": {},
     "output_type": "execute_result"
    }
   ],
   "source": [
    "df.shape,dfw.shape"
   ]
  },
  {
   "cell_type": "code",
   "execution_count": 187,
   "id": "c8804bea",
   "metadata": {},
   "outputs": [
    {
     "data": {
      "text/plain": [
       "(1640866, 44)"
      ]
     },
     "execution_count": 187,
     "metadata": {},
     "output_type": "execute_result"
    }
   ],
   "source": [
    "dfbikeweath = pd.merge(df, dfw, on='TIME', how='inner')\n",
    "\n",
    "#dfbikeweath = df.merge(dfw, on=\"TIME\")\n",
    "dfbikeweath.shape"
   ]
  },
  {
   "cell_type": "markdown",
   "id": "32b2b11a",
   "metadata": {},
   "source": [
    "dfw[\"TIME\"].isin(df[\"TIME\"]).value_counts()"
   ]
  },
  {
   "cell_type": "markdown",
   "id": "1ae7cec0",
   "metadata": {},
   "source": [
    "dfbikeweath.columns"
   ]
  },
  {
   "cell_type": "markdown",
   "id": "af383415",
   "metadata": {},
   "source": [
    "list(dfbikeweath.columns[:7]) + ['weather_main','tempcel']"
   ]
  },
  {
   "cell_type": "markdown",
   "id": "9f663ca8",
   "metadata": {},
   "source": [
    "dfbikeweath.head(10)[list(dfbikeweath.columns[:7]) + ['weather_main','tempcel']]"
   ]
  },
  {
   "cell_type": "markdown",
   "id": "c85d5ccc",
   "metadata": {},
   "source": [
    "dfbikeweath.describe().T"
   ]
  },
  {
   "cell_type": "markdown",
   "id": "517988c7",
   "metadata": {},
   "source": [
    "dfbikeweath.head()"
   ]
  },
  {
   "cell_type": "markdown",
   "id": "7ede8867",
   "metadata": {},
   "source": [
    "## Check if any missing values (NaN)"
   ]
  },
  {
   "cell_type": "code",
   "execution_count": 188,
   "id": "d0d35a28",
   "metadata": {},
   "outputs": [
    {
     "data": {
      "text/plain": [
       "0"
      ]
     },
     "execution_count": 188,
     "metadata": {},
     "output_type": "execute_result"
    }
   ],
   "source": [
    "dfbikeweath.isna().sum().sum()"
   ]
  },
  {
   "cell_type": "markdown",
   "id": "47d9f068",
   "metadata": {},
   "source": [
    "## Drop some of the unwanted columns "
   ]
  },
  {
   "cell_type": "code",
   "execution_count": 189,
   "id": "5d056a4a",
   "metadata": {},
   "outputs": [],
   "source": [
    "dfbikeweath.drop(labels=['delete_flag_y','id_x','delete_flag_x','address','status','last_update','coord_lon','coord_lat'],axis=1,inplace=True)"
   ]
  },
  {
   "cell_type": "markdown",
   "id": "162c2f3c",
   "metadata": {},
   "source": [
    "dfbikeweath.dtypes"
   ]
  },
  {
   "cell_type": "markdown",
   "id": "972b99ef",
   "metadata": {},
   "source": [
    "## Split Data set to Train and Test sets"
   ]
  },
  {
   "cell_type": "code",
   "execution_count": 190,
   "id": "6c2f8360",
   "metadata": {},
   "outputs": [
    {
     "data": {
      "text/plain": [
       "((1312692, 36), (328174, 36))"
      ]
     },
     "execution_count": 190,
     "metadata": {},
     "output_type": "execute_result"
    }
   ],
   "source": [
    "train_set,test_set = train_test_split(dfbikeweath,test_size=0.2,random_state=42)\n",
    "train_set.shape,test_set.shape"
   ]
  },
  {
   "cell_type": "markdown",
   "id": "2e7f4e02",
   "metadata": {},
   "source": [
    "## Carry out some preliminary analysis on Correlations"
   ]
  },
  {
   "cell_type": "markdown",
   "id": "b43a9cfd",
   "metadata": {},
   "source": [
    "bikes = train_set.copy()\n",
    "#bikes.dtypes"
   ]
  },
  {
   "cell_type": "code",
   "execution_count": 191,
   "id": "b1d49210",
   "metadata": {},
   "outputs": [
    {
     "name": "stderr",
     "output_type": "stream",
     "text": [
      "C:\\Users\\corma\\AppData\\Local\\Temp\\ipykernel_264\\4023298406.py:1: FutureWarning: The default value of numeric_only in DataFrame.corr is deprecated. In a future version, it will default to False. Select only valid columns or specify the value of numeric_only to silence this warning.\n",
      "  corr_matrix = train_set.corr()\n"
     ]
    }
   ],
   "source": [
    "corr_matrix = train_set.corr()"
   ]
  },
  {
   "cell_type": "code",
   "execution_count": 192,
   "id": "e3f8e7ae",
   "metadata": {},
   "outputs": [
    {
     "data": {
      "text/plain": [
       "bike_available          1.000000\n",
       "bike_stand              0.223730\n",
       "station_select          0.044832\n",
       "number                  0.023497\n",
       "DAY_x                   0.014485\n",
       "DAY_y                   0.014463\n",
       "clouds                  0.005051\n",
       "weather_main            0.004309\n",
       "MINUTE_x               -0.000481\n",
       "MINUTE_y               -0.000920\n",
       "DAY_num_x              -0.001456\n",
       "DAY_num_y              -0.001460\n",
       "weather_id             -0.001986\n",
       "wind_speed             -0.003546\n",
       "time_select            -0.008174\n",
       "tempcel_feel           -0.011270\n",
       "temp_feel              -0.011270\n",
       "tempcel                -0.011574\n",
       "temp                   -0.011574\n",
       "HOUR_y                 -0.011818\n",
       "HOUR_x                 -0.011892\n",
       "bike_stand_available   -0.694750\n",
       "utilisation            -0.866011\n",
       "YEAR_x                       NaN\n",
       "MONTH_x                      NaN\n",
       "YEAR_y                       NaN\n",
       "MONTH_y                      NaN\n",
       "Name: bike_available, dtype: float64"
      ]
     },
     "execution_count": 192,
     "metadata": {},
     "output_type": "execute_result"
    }
   ],
   "source": [
    "corr_matrix['bike_available'].sort_values(ascending = False)"
   ]
  },
  {
   "cell_type": "markdown",
   "id": "b5f8f3e6",
   "metadata": {},
   "source": [
    "## Correlation based on weather"
   ]
  },
  {
   "cell_type": "code",
   "execution_count": 193,
   "id": "ccf83480",
   "metadata": {},
   "outputs": [
    {
     "data": {
      "text/html": [
       "<div>\n",
       "<style scoped>\n",
       "    .dataframe tbody tr th:only-of-type {\n",
       "        vertical-align: middle;\n",
       "    }\n",
       "\n",
       "    .dataframe tbody tr th {\n",
       "        vertical-align: top;\n",
       "    }\n",
       "\n",
       "    .dataframe thead th {\n",
       "        text-align: right;\n",
       "    }\n",
       "</style>\n",
       "<table border=\"1\" class=\"dataframe\">\n",
       "  <thead>\n",
       "    <tr style=\"text-align: right;\">\n",
       "      <th></th>\n",
       "      <th>bike_available</th>\n",
       "      <th>weather_main</th>\n",
       "      <th>clouds</th>\n",
       "      <th>wind_speed</th>\n",
       "      <th>weather_id</th>\n",
       "      <th>tempcel_feel</th>\n",
       "      <th>tempcel</th>\n",
       "    </tr>\n",
       "  </thead>\n",
       "  <tbody>\n",
       "    <tr>\n",
       "      <th>bike_available</th>\n",
       "      <td>1.000000</td>\n",
       "      <td>0.004309</td>\n",
       "      <td>0.005051</td>\n",
       "      <td>-0.003546</td>\n",
       "      <td>-0.001986</td>\n",
       "      <td>-0.011270</td>\n",
       "      <td>-0.011574</td>\n",
       "    </tr>\n",
       "    <tr>\n",
       "      <th>weather_main</th>\n",
       "      <td>0.004309</td>\n",
       "      <td>1.000000</td>\n",
       "      <td>0.307769</td>\n",
       "      <td>0.148817</td>\n",
       "      <td>-0.780445</td>\n",
       "      <td>-0.089756</td>\n",
       "      <td>-0.060996</td>\n",
       "    </tr>\n",
       "    <tr>\n",
       "      <th>clouds</th>\n",
       "      <td>0.005051</td>\n",
       "      <td>0.307769</td>\n",
       "      <td>1.000000</td>\n",
       "      <td>0.095396</td>\n",
       "      <td>-0.239394</td>\n",
       "      <td>0.181944</td>\n",
       "      <td>0.204834</td>\n",
       "    </tr>\n",
       "    <tr>\n",
       "      <th>wind_speed</th>\n",
       "      <td>-0.003546</td>\n",
       "      <td>0.148817</td>\n",
       "      <td>0.095396</td>\n",
       "      <td>1.000000</td>\n",
       "      <td>-0.144138</td>\n",
       "      <td>0.250494</td>\n",
       "      <td>0.411942</td>\n",
       "    </tr>\n",
       "    <tr>\n",
       "      <th>weather_id</th>\n",
       "      <td>-0.001986</td>\n",
       "      <td>-0.780445</td>\n",
       "      <td>-0.239394</td>\n",
       "      <td>-0.144138</td>\n",
       "      <td>1.000000</td>\n",
       "      <td>0.046037</td>\n",
       "      <td>0.028552</td>\n",
       "    </tr>\n",
       "    <tr>\n",
       "      <th>tempcel_feel</th>\n",
       "      <td>-0.011270</td>\n",
       "      <td>-0.089756</td>\n",
       "      <td>0.181944</td>\n",
       "      <td>0.250494</td>\n",
       "      <td>0.046037</td>\n",
       "      <td>1.000000</td>\n",
       "      <td>0.971809</td>\n",
       "    </tr>\n",
       "    <tr>\n",
       "      <th>tempcel</th>\n",
       "      <td>-0.011574</td>\n",
       "      <td>-0.060996</td>\n",
       "      <td>0.204834</td>\n",
       "      <td>0.411942</td>\n",
       "      <td>0.028552</td>\n",
       "      <td>0.971809</td>\n",
       "      <td>1.000000</td>\n",
       "    </tr>\n",
       "  </tbody>\n",
       "</table>\n",
       "</div>"
      ],
      "text/plain": [
       "                bike_available  weather_main    clouds  wind_speed  \\\n",
       "bike_available        1.000000      0.004309  0.005051   -0.003546   \n",
       "weather_main          0.004309      1.000000  0.307769    0.148817   \n",
       "clouds                0.005051      0.307769  1.000000    0.095396   \n",
       "wind_speed           -0.003546      0.148817  0.095396    1.000000   \n",
       "weather_id           -0.001986     -0.780445 -0.239394   -0.144138   \n",
       "tempcel_feel         -0.011270     -0.089756  0.181944    0.250494   \n",
       "tempcel              -0.011574     -0.060996  0.204834    0.411942   \n",
       "\n",
       "                weather_id  tempcel_feel   tempcel  \n",
       "bike_available   -0.001986     -0.011270 -0.011574  \n",
       "weather_main     -0.780445     -0.089756 -0.060996  \n",
       "clouds           -0.239394      0.181944  0.204834  \n",
       "wind_speed       -0.144138      0.250494  0.411942  \n",
       "weather_id        1.000000      0.046037  0.028552  \n",
       "tempcel_feel      0.046037      1.000000  0.971809  \n",
       "tempcel           0.028552      0.971809  1.000000  "
      ]
     },
     "execution_count": 193,
     "metadata": {},
     "output_type": "execute_result"
    }
   ],
   "source": [
    "train_set[['bike_available','weather_main','clouds','wind_speed','weather_id','tempcel_feel','tempcel']].corr()"
   ]
  },
  {
   "cell_type": "markdown",
   "id": "9b13896c",
   "metadata": {},
   "source": [
    "fig, axs = plt.subplots(2, 3, sharey=True)\n",
    "bikes.plot(kind='scatter', x='weather_main', y='bike_available', label=\"%.3f\" % bikes[['weather_main', 'bike_available']].corr().to_numpy()[0,1], ax=axs[0][0], figsize=(10, 5))\n",
    "bikes.plot(kind='scatter', x='clouds', y='bike_available', label=\"%.3f\" % bikes[['clouds', 'bike_available']].corr().to_numpy()[0,1], ax=axs[0][1])\n",
    "bikes.plot(kind='scatter', x='wind_speed', y='bike_available', label=\"%.3f\" % bikes[['wind_speed', 'bike_available']].corr().to_numpy()[0,1], ax=axs[0][2])\n",
    "bikes.plot(kind='scatter', x='weather_id', y='bike_available', label=\"%.3f\" % bikes[['weather_id', 'bike_available']].corr().to_numpy()[0,1], ax=axs[1][0])\n",
    "bikes.plot(kind='scatter', x='temp_feel', y='bike_available', label=\"%.3f\" % bikes[['temp_feel', 'bike_available']].corr().to_numpy()[0,1], ax=axs[1][1])\n",
    "bikes.plot(kind='scatter', x='temp', y='bike_available', label=\"%.3f\" % bikes[['temp', 'bike_available']].corr().to_numpy()[0,1], ax=axs[1][2])"
   ]
  },
  {
   "cell_type": "markdown",
   "id": "c4712f30",
   "metadata": {},
   "source": [
    "## Correlation based on time"
   ]
  },
  {
   "cell_type": "code",
   "execution_count": 194,
   "id": "814d0870",
   "metadata": {},
   "outputs": [
    {
     "data": {
      "text/html": [
       "<div>\n",
       "<style scoped>\n",
       "    .dataframe tbody tr th:only-of-type {\n",
       "        vertical-align: middle;\n",
       "    }\n",
       "\n",
       "    .dataframe tbody tr th {\n",
       "        vertical-align: top;\n",
       "    }\n",
       "\n",
       "    .dataframe thead th {\n",
       "        text-align: right;\n",
       "    }\n",
       "</style>\n",
       "<table border=\"1\" class=\"dataframe\">\n",
       "  <thead>\n",
       "    <tr style=\"text-align: right;\">\n",
       "      <th></th>\n",
       "      <th>bike_available</th>\n",
       "      <th>HOUR_x</th>\n",
       "      <th>DAY_num_x</th>\n",
       "      <th>MINUTE_x</th>\n",
       "      <th>DAY_x</th>\n",
       "    </tr>\n",
       "  </thead>\n",
       "  <tbody>\n",
       "    <tr>\n",
       "      <th>bike_available</th>\n",
       "      <td>1.000000</td>\n",
       "      <td>-0.011892</td>\n",
       "      <td>-0.001456</td>\n",
       "      <td>-0.000481</td>\n",
       "      <td>0.014485</td>\n",
       "    </tr>\n",
       "    <tr>\n",
       "      <th>HOUR_x</th>\n",
       "      <td>-0.011892</td>\n",
       "      <td>1.000000</td>\n",
       "      <td>-0.059778</td>\n",
       "      <td>-0.003214</td>\n",
       "      <td>0.025881</td>\n",
       "    </tr>\n",
       "    <tr>\n",
       "      <th>DAY_num_x</th>\n",
       "      <td>-0.001456</td>\n",
       "      <td>-0.059778</td>\n",
       "      <td>1.000000</td>\n",
       "      <td>-0.000840</td>\n",
       "      <td>0.011365</td>\n",
       "    </tr>\n",
       "    <tr>\n",
       "      <th>MINUTE_x</th>\n",
       "      <td>-0.000481</td>\n",
       "      <td>-0.003214</td>\n",
       "      <td>-0.000840</td>\n",
       "      <td>1.000000</td>\n",
       "      <td>0.003355</td>\n",
       "    </tr>\n",
       "    <tr>\n",
       "      <th>DAY_x</th>\n",
       "      <td>0.014485</td>\n",
       "      <td>0.025881</td>\n",
       "      <td>0.011365</td>\n",
       "      <td>0.003355</td>\n",
       "      <td>1.000000</td>\n",
       "    </tr>\n",
       "  </tbody>\n",
       "</table>\n",
       "</div>"
      ],
      "text/plain": [
       "                bike_available    HOUR_x  DAY_num_x  MINUTE_x     DAY_x\n",
       "bike_available        1.000000 -0.011892  -0.001456 -0.000481  0.014485\n",
       "HOUR_x               -0.011892  1.000000  -0.059778 -0.003214  0.025881\n",
       "DAY_num_x            -0.001456 -0.059778   1.000000 -0.000840  0.011365\n",
       "MINUTE_x             -0.000481 -0.003214  -0.000840  1.000000  0.003355\n",
       "DAY_x                 0.014485  0.025881   0.011365  0.003355  1.000000"
      ]
     },
     "execution_count": 194,
     "metadata": {},
     "output_type": "execute_result"
    }
   ],
   "source": [
    "train_set[['bike_available','HOUR_x','DAY_num_x','MINUTE_x','DAY_x']].corr()"
   ]
  },
  {
   "cell_type": "markdown",
   "id": "b7ea8d94",
   "metadata": {},
   "source": [
    "## Correlation based on bike"
   ]
  },
  {
   "cell_type": "code",
   "execution_count": 195,
   "id": "421ef939",
   "metadata": {},
   "outputs": [
    {
     "data": {
      "text/html": [
       "<div>\n",
       "<style scoped>\n",
       "    .dataframe tbody tr th:only-of-type {\n",
       "        vertical-align: middle;\n",
       "    }\n",
       "\n",
       "    .dataframe tbody tr th {\n",
       "        vertical-align: top;\n",
       "    }\n",
       "\n",
       "    .dataframe thead th {\n",
       "        text-align: right;\n",
       "    }\n",
       "</style>\n",
       "<table border=\"1\" class=\"dataframe\">\n",
       "  <thead>\n",
       "    <tr style=\"text-align: right;\">\n",
       "      <th></th>\n",
       "      <th>bike_available</th>\n",
       "      <th>bike_stand_available</th>\n",
       "      <th>bike_stand</th>\n",
       "      <th>utilisation</th>\n",
       "    </tr>\n",
       "  </thead>\n",
       "  <tbody>\n",
       "    <tr>\n",
       "      <th>bike_available</th>\n",
       "      <td>1.000000</td>\n",
       "      <td>-0.694750</td>\n",
       "      <td>0.223730</td>\n",
       "      <td>-0.866011</td>\n",
       "    </tr>\n",
       "    <tr>\n",
       "      <th>bike_stand_available</th>\n",
       "      <td>-0.694750</td>\n",
       "      <td>1.000000</td>\n",
       "      <td>0.515434</td>\n",
       "      <td>0.895084</td>\n",
       "    </tr>\n",
       "    <tr>\n",
       "      <th>bike_stand</th>\n",
       "      <td>0.223730</td>\n",
       "      <td>0.515434</td>\n",
       "      <td>1.000000</td>\n",
       "      <td>0.146033</td>\n",
       "    </tr>\n",
       "    <tr>\n",
       "      <th>utilisation</th>\n",
       "      <td>-0.866011</td>\n",
       "      <td>0.895084</td>\n",
       "      <td>0.146033</td>\n",
       "      <td>1.000000</td>\n",
       "    </tr>\n",
       "  </tbody>\n",
       "</table>\n",
       "</div>"
      ],
      "text/plain": [
       "                      bike_available  bike_stand_available  bike_stand  \\\n",
       "bike_available              1.000000             -0.694750    0.223730   \n",
       "bike_stand_available       -0.694750              1.000000    0.515434   \n",
       "bike_stand                  0.223730              0.515434    1.000000   \n",
       "utilisation                -0.866011              0.895084    0.146033   \n",
       "\n",
       "                      utilisation  \n",
       "bike_available          -0.866011  \n",
       "bike_stand_available     0.895084  \n",
       "bike_stand               0.146033  \n",
       "utilisation              1.000000  "
      ]
     },
     "execution_count": 195,
     "metadata": {},
     "output_type": "execute_result"
    }
   ],
   "source": [
    "#NOTE: Utilisation is 'bike_available' / 'bike_stand'\n",
    "train_set[['bike_available','bike_stand_available','bike_stand','utilisation']].corr()"
   ]
  },
  {
   "cell_type": "markdown",
   "id": "f24fc8b4",
   "metadata": {},
   "source": [
    "## Create Model of Bike Availability by StationID (Y Axis) "
   ]
  },
  {
   "cell_type": "code",
   "execution_count": 196,
   "id": "80d90bd5",
   "metadata": {},
   "outputs": [
    {
     "data": {
      "text/plain": [
       "(1645,)"
      ]
     },
     "execution_count": 196,
     "metadata": {},
     "output_type": "execute_result"
    }
   ],
   "source": [
    "y = train_set['bike_available'].loc[train_set['station_select']]\n",
    "y.shape"
   ]
  },
  {
   "cell_type": "markdown",
   "id": "ddfd21cc",
   "metadata": {},
   "source": [
    "## Prepare Features "
   ]
  },
  {
   "cell_type": "code",
   "execution_count": 197,
   "id": "fd1f906a",
   "metadata": {},
   "outputs": [],
   "source": [
    "weather_features = ['weather_main','clouds','tempcel', 'weather_id', 'wind_speed','tempcel_feel']\n",
    "bike_features = ['bike_stand']\n",
    "time_features = ['HOUR_x','DAY_num_x','MINUTE_x','Day_of_Week_x']\n",
    "all_features = ['weather_main','clouds','tempcel', 'weather_id', 'wind_speed','tempcel_feel','bike_stand','HOUR_x','DAY_num_x','MINUTE_x','Day_of_Week_x']\n",
    "\n",
    "features = weather_features"
   ]
  },
  {
   "cell_type": "markdown",
   "id": "c8a586a2",
   "metadata": {},
   "source": [
    "## Prepare Linear Regression inputs - choose single feature (X Axis)"
   ]
  },
  {
   "cell_type": "code",
   "execution_count": 198,
   "id": "f737e8ef",
   "metadata": {},
   "outputs": [
    {
     "name": "stdout",
     "output_type": "stream",
     "text": [
      "\n",
      "Intercept: \n",
      " 26.925498424667076\n",
      "Features: \n",
      " ['tempcel_feel']\n",
      "Coeficients: \n",
      " [-0.58313412]\n"
     ]
    }
   ],
   "source": [
    "feature = ['tempcel_feel']\n",
    "\n",
    "X = train_set[feature].loc[train_set['station_select']]\n",
    "\n",
    "linreg = LinearRegression()\n",
    "linreg.fit(X, y)\n",
    "          \n",
    "# Print the estimated linear regression coefficients.\n",
    "print(\"\\nIntercept: \\n\", linreg.intercept_)\n",
    "print(\"Features: \\n\", feature)\n",
    "print(\"Coeficients: \\n\", linreg.coef_)"
   ]
  },
  {
   "cell_type": "markdown",
   "id": "0a07fd9b",
   "metadata": {},
   "source": [
    "## Actual vs Predicted - Linear Regression"
   ]
  },
  {
   "cell_type": "code",
   "execution_count": 199,
   "id": "7fd968ad",
   "metadata": {},
   "outputs": [
    {
     "name": "stdout",
     "output_type": "stream",
     "text": [
      "\n",
      "Prediction based on: (['tempcel_feel'], Bike Availability, Predicted Bike Availability): 12 , 7 , 20\n",
      "\n",
      "For CHARLEMONT PLACE: ---\n"
     ]
    },
    {
     "data": {
      "text/html": [
       "<div>\n",
       "<style scoped>\n",
       "    .dataframe tbody tr th:only-of-type {\n",
       "        vertical-align: middle;\n",
       "    }\n",
       "\n",
       "    .dataframe tbody tr th {\n",
       "        vertical-align: top;\n",
       "    }\n",
       "\n",
       "    .dataframe thead th {\n",
       "        text-align: right;\n",
       "    }\n",
       "</style>\n",
       "<table border=\"1\" class=\"dataframe\">\n",
       "  <thead>\n",
       "    <tr style=\"text-align: right;\">\n",
       "      <th></th>\n",
       "      <th>bike_available</th>\n",
       "      <th>Predicted</th>\n",
       "    </tr>\n",
       "  </thead>\n",
       "  <tbody>\n",
       "    <tr>\n",
       "      <th>293384</th>\n",
       "      <td>7</td>\n",
       "      <td>20.0</td>\n",
       "    </tr>\n",
       "    <tr>\n",
       "      <th>407947</th>\n",
       "      <td>39</td>\n",
       "      <td>25.0</td>\n",
       "    </tr>\n",
       "    <tr>\n",
       "      <th>1401083</th>\n",
       "      <td>37</td>\n",
       "      <td>21.0</td>\n",
       "    </tr>\n",
       "    <tr>\n",
       "      <th>1362929</th>\n",
       "      <td>39</td>\n",
       "      <td>28.0</td>\n",
       "    </tr>\n",
       "    <tr>\n",
       "      <th>323679</th>\n",
       "      <td>1</td>\n",
       "      <td>19.0</td>\n",
       "    </tr>\n",
       "    <tr>\n",
       "      <th>...</th>\n",
       "      <td>...</td>\n",
       "      <td>...</td>\n",
       "    </tr>\n",
       "    <tr>\n",
       "      <th>1407753</th>\n",
       "      <td>0</td>\n",
       "      <td>19.0</td>\n",
       "    </tr>\n",
       "    <tr>\n",
       "      <th>1400283</th>\n",
       "      <td>35</td>\n",
       "      <td>21.0</td>\n",
       "    </tr>\n",
       "    <tr>\n",
       "      <th>1142077</th>\n",
       "      <td>36</td>\n",
       "      <td>21.0</td>\n",
       "    </tr>\n",
       "    <tr>\n",
       "      <th>1068632</th>\n",
       "      <td>17</td>\n",
       "      <td>28.0</td>\n",
       "    </tr>\n",
       "    <tr>\n",
       "      <th>787201</th>\n",
       "      <td>1</td>\n",
       "      <td>20.0</td>\n",
       "    </tr>\n",
       "  </tbody>\n",
       "</table>\n",
       "<p>1645 rows × 2 columns</p>\n",
       "</div>"
      ],
      "text/plain": [
       "         bike_available  Predicted\n",
       "293384                7       20.0\n",
       "407947               39       25.0\n",
       "1401083              37       21.0\n",
       "1362929              39       28.0\n",
       "323679                1       19.0\n",
       "...                 ...        ...\n",
       "1407753               0       19.0\n",
       "1400283              35       21.0\n",
       "1142077              36       21.0\n",
       "1068632              17       28.0\n",
       "787201                1       20.0\n",
       "\n",
       "[1645 rows x 2 columns]"
      ]
     },
     "execution_count": 199,
     "metadata": {},
     "output_type": "execute_result"
    }
   ],
   "source": [
    "# Predicted scores \n",
    "linreg_predictions = linreg.predict(X).round(0)\n",
    "print(f\"\\nPrediction based on: ({feature}, Bike Availability, Predicted Bike Availability): {int(X.values[0])} , {y.values[0]} , {int(linreg_predictions[0])}\")\n",
    "actual_vs_predicted = pd.concat([y,pd.DataFrame(linreg_predictions, columns=['Predicted'], index=y.index)], axis=1)\n",
    "print(f\"\\nFor {stationname}: ---\")\n",
    "actual_vs_predicted"
   ]
  },
  {
   "cell_type": "markdown",
   "id": "78cbc59d",
   "metadata": {},
   "source": [
    "## Actual Bike Availability - Value | Frequency\n",
    "(unique, counts) = np.unique(y, return_counts=True)\n",
    "frequencies = np.asarray((unique, counts)).T\n",
    "#print(frequencies)"
   ]
  },
  {
   "cell_type": "markdown",
   "id": "a64f664a",
   "metadata": {},
   "source": [
    "## Plot Results - Linear Regression "
   ]
  },
  {
   "cell_type": "markdown",
   "id": "700b0602",
   "metadata": {},
   "source": [
    "plt.title(f'Predicted Bike Availability for {stationname}\\n Using Linear Regression \\nBased on {feature}')\n",
    "plt.xlabel(\"Predicted\")\n",
    "plt.ylabel(\"Actual\")\n",
    "plt.xlim(0,40)\n",
    "plt.ylim(0,40)\n",
    "plt.scatter(linreg_predictions, y)"
   ]
  },
  {
   "cell_type": "markdown",
   "id": "b1abd83b",
   "metadata": {},
   "source": [
    "## Model based on Multiple Regression - multiple features "
   ]
  },
  {
   "cell_type": "code",
   "execution_count": 200,
   "id": "e63e0880",
   "metadata": {},
   "outputs": [
    {
     "name": "stdout",
     "output_type": "stream",
     "text": [
      "\n",
      "Intercept: \n",
      " 80.93684430727777\n",
      "Features: \n",
      " ['weather_main', 'clouds', 'tempcel', 'weather_id', 'wind_speed', 'tempcel_feel']\n",
      "Coeficients: \n",
      " [-3.52529028 -0.111138   -2.45725164 -0.03210153 -0.35562149  0.92402789]\n"
     ]
    }
   ],
   "source": [
    "y = train_set['bike_available'].loc[train_set['station_select']]\n",
    "X = train_set[features].loc[train_set['station_select']]\n",
    "\n",
    "linreg_m = LinearRegression()\n",
    "linreg_m.fit(X[features], y)\n",
    "\n",
    "# Print the estimated linear regression coefficients.\n",
    "print(\"\\nIntercept: \\n\", linreg_m.intercept_)\n",
    "print(\"Features: \\n\", features)\n",
    "print(\"Coeficients: \\n\", linreg_m.coef_)"
   ]
  },
  {
   "cell_type": "markdown",
   "id": "644d83b1",
   "metadata": {},
   "source": [
    "## Actual vs Predicted- Multiple Regression"
   ]
  },
  {
   "cell_type": "code",
   "execution_count": 201,
   "id": "9ff87313",
   "metadata": {},
   "outputs": [
    {
     "name": "stdout",
     "output_type": "stream",
     "text": [
      "\n",
      "For CHARLEMONT PLACE: ---\n"
     ]
    },
    {
     "data": {
      "text/html": [
       "<div>\n",
       "<style scoped>\n",
       "    .dataframe tbody tr th:only-of-type {\n",
       "        vertical-align: middle;\n",
       "    }\n",
       "\n",
       "    .dataframe tbody tr th {\n",
       "        vertical-align: top;\n",
       "    }\n",
       "\n",
       "    .dataframe thead th {\n",
       "        text-align: right;\n",
       "    }\n",
       "</style>\n",
       "<table border=\"1\" class=\"dataframe\">\n",
       "  <thead>\n",
       "    <tr style=\"text-align: right;\">\n",
       "      <th></th>\n",
       "      <th>bike_available</th>\n",
       "      <th>Predicted</th>\n",
       "    </tr>\n",
       "  </thead>\n",
       "  <tbody>\n",
       "    <tr>\n",
       "      <th>293384</th>\n",
       "      <td>7</td>\n",
       "      <td>18.0</td>\n",
       "    </tr>\n",
       "    <tr>\n",
       "      <th>407947</th>\n",
       "      <td>39</td>\n",
       "      <td>27.0</td>\n",
       "    </tr>\n",
       "    <tr>\n",
       "      <th>1401083</th>\n",
       "      <td>37</td>\n",
       "      <td>24.0</td>\n",
       "    </tr>\n",
       "    <tr>\n",
       "      <th>1362929</th>\n",
       "      <td>39</td>\n",
       "      <td>32.0</td>\n",
       "    </tr>\n",
       "    <tr>\n",
       "      <th>323679</th>\n",
       "      <td>1</td>\n",
       "      <td>16.0</td>\n",
       "    </tr>\n",
       "    <tr>\n",
       "      <th>...</th>\n",
       "      <td>...</td>\n",
       "      <td>...</td>\n",
       "    </tr>\n",
       "    <tr>\n",
       "      <th>1407753</th>\n",
       "      <td>0</td>\n",
       "      <td>15.0</td>\n",
       "    </tr>\n",
       "    <tr>\n",
       "      <th>1400283</th>\n",
       "      <td>35</td>\n",
       "      <td>24.0</td>\n",
       "    </tr>\n",
       "    <tr>\n",
       "      <th>1142077</th>\n",
       "      <td>36</td>\n",
       "      <td>26.0</td>\n",
       "    </tr>\n",
       "    <tr>\n",
       "      <th>1068632</th>\n",
       "      <td>17</td>\n",
       "      <td>27.0</td>\n",
       "    </tr>\n",
       "    <tr>\n",
       "      <th>787201</th>\n",
       "      <td>1</td>\n",
       "      <td>30.0</td>\n",
       "    </tr>\n",
       "  </tbody>\n",
       "</table>\n",
       "<p>1645 rows × 2 columns</p>\n",
       "</div>"
      ],
      "text/plain": [
       "         bike_available  Predicted\n",
       "293384                7       18.0\n",
       "407947               39       27.0\n",
       "1401083              37       24.0\n",
       "1362929              39       32.0\n",
       "323679                1       16.0\n",
       "...                 ...        ...\n",
       "1407753               0       15.0\n",
       "1400283              35       24.0\n",
       "1142077              36       26.0\n",
       "1068632              17       27.0\n",
       "787201                1       30.0\n",
       "\n",
       "[1645 rows x 2 columns]"
      ]
     },
     "execution_count": 201,
     "metadata": {},
     "output_type": "execute_result"
    }
   ],
   "source": [
    "# Predicted scores\n",
    "linreg_m_predictions = linreg_m.predict(X).round(0)\n",
    "\n",
    "actual_vs_predicted_m = pd.concat([y, pd.DataFrame(linreg_m_predictions, columns=['Predicted'], index=y.index)], axis=1)\n",
    "print(f\"\\nFor {stationname}: ---\")\n",
    "actual_vs_predicted_m"
   ]
  },
  {
   "cell_type": "markdown",
   "id": "5fd3d12b",
   "metadata": {},
   "source": [
    "## Predicted Bike Availability - Value | Frequency\n",
    "(unique, counts) = np.unique(linreg_m_predictions, return_counts=True)\n",
    "frequencies = np.asarray((unique, counts)).T\n",
    "#print(frequencies)"
   ]
  },
  {
   "cell_type": "markdown",
   "id": "7f14e656",
   "metadata": {},
   "source": [
    "## Plot Results - Multiple Regression"
   ]
  },
  {
   "cell_type": "markdown",
   "id": "d1089c6c",
   "metadata": {},
   "source": [
    "plt.title(f'Predicted Bike Availability for {stationname}\\n Using Multiple Regression \\nBased on {features}')\n",
    "plt.xlabel(\"Predicted\")\n",
    "plt.ylabel(\"Actual\")\n",
    "plt.xlim(0,40)\n",
    "plt.ylim(0,40)\n",
    "plt.scatter(linreg_m_predictions, y)"
   ]
  },
  {
   "cell_type": "markdown",
   "id": "ea29e025",
   "metadata": {},
   "source": [
    "## Lasso Regression "
   ]
  },
  {
   "cell_type": "code",
   "execution_count": 202,
   "id": "ed99cea4",
   "metadata": {},
   "outputs": [],
   "source": [
    "y = train_set['bike_available'].loc[train_set['station_select']]\n",
    "X = train_set[features].loc[train_set['station_select']]\n",
    "\n",
    "scaler = StandardScaler().fit(X)\n",
    "X = scaler.transform(X)"
   ]
  },
  {
   "cell_type": "code",
   "execution_count": 203,
   "id": "6e604037",
   "metadata": {},
   "outputs": [
    {
     "name": "stdout",
     "output_type": "stream",
     "text": [
      "\n",
      "Intercept: \n",
      " 23.934346504559272\n",
      "Features: \n",
      " ['weather_main', 'clouds', 'tempcel', 'weather_id', 'wind_speed', 'tempcel_feel']\n",
      "Coeficients: \n",
      " [ 0.         -0.84378588 -2.86161649 -0.24313028 -0.41260508 -0.        ]\n"
     ]
    }
   ],
   "source": [
    "lassoreg = Lasso(alpha=1)\n",
    "lassoreg.fit(X, y)\n",
    "\n",
    "# Print the estimated lasso regression coefficients.\n",
    "print(\"\\nIntercept: \\n\", lassoreg.intercept_)\n",
    "print(\"Features: \\n\", features)\n",
    "print(\"Coeficients: \\n\", lassoreg.coef_)"
   ]
  },
  {
   "cell_type": "code",
   "execution_count": 204,
   "id": "f5816c5f",
   "metadata": {},
   "outputs": [
    {
     "name": "stdout",
     "output_type": "stream",
     "text": [
      "\n",
      "For CHARLEMONT PLACE: ---\n"
     ]
    },
    {
     "data": {
      "text/html": [
       "<div>\n",
       "<style scoped>\n",
       "    .dataframe tbody tr th:only-of-type {\n",
       "        vertical-align: middle;\n",
       "    }\n",
       "\n",
       "    .dataframe tbody tr th {\n",
       "        vertical-align: top;\n",
       "    }\n",
       "\n",
       "    .dataframe thead th {\n",
       "        text-align: right;\n",
       "    }\n",
       "</style>\n",
       "<table border=\"1\" class=\"dataframe\">\n",
       "  <thead>\n",
       "    <tr style=\"text-align: right;\">\n",
       "      <th></th>\n",
       "      <th>bike_available</th>\n",
       "      <th>Predicted</th>\n",
       "    </tr>\n",
       "  </thead>\n",
       "  <tbody>\n",
       "    <tr>\n",
       "      <th>293384</th>\n",
       "      <td>7</td>\n",
       "      <td>20.0</td>\n",
       "    </tr>\n",
       "    <tr>\n",
       "      <th>407947</th>\n",
       "      <td>39</td>\n",
       "      <td>26.0</td>\n",
       "    </tr>\n",
       "    <tr>\n",
       "      <th>1401083</th>\n",
       "      <td>37</td>\n",
       "      <td>23.0</td>\n",
       "    </tr>\n",
       "    <tr>\n",
       "      <th>1362929</th>\n",
       "      <td>39</td>\n",
       "      <td>28.0</td>\n",
       "    </tr>\n",
       "    <tr>\n",
       "      <th>323679</th>\n",
       "      <td>1</td>\n",
       "      <td>20.0</td>\n",
       "    </tr>\n",
       "    <tr>\n",
       "      <th>...</th>\n",
       "      <td>...</td>\n",
       "      <td>...</td>\n",
       "    </tr>\n",
       "    <tr>\n",
       "      <th>1407753</th>\n",
       "      <td>0</td>\n",
       "      <td>19.0</td>\n",
       "    </tr>\n",
       "    <tr>\n",
       "      <th>1400283</th>\n",
       "      <td>35</td>\n",
       "      <td>23.0</td>\n",
       "    </tr>\n",
       "    <tr>\n",
       "      <th>1142077</th>\n",
       "      <td>36</td>\n",
       "      <td>24.0</td>\n",
       "    </tr>\n",
       "    <tr>\n",
       "      <th>1068632</th>\n",
       "      <td>17</td>\n",
       "      <td>26.0</td>\n",
       "    </tr>\n",
       "    <tr>\n",
       "      <th>787201</th>\n",
       "      <td>1</td>\n",
       "      <td>21.0</td>\n",
       "    </tr>\n",
       "  </tbody>\n",
       "</table>\n",
       "<p>1645 rows × 2 columns</p>\n",
       "</div>"
      ],
      "text/plain": [
       "         bike_available  Predicted\n",
       "293384                7       20.0\n",
       "407947               39       26.0\n",
       "1401083              37       23.0\n",
       "1362929              39       28.0\n",
       "323679                1       20.0\n",
       "...                 ...        ...\n",
       "1407753               0       19.0\n",
       "1400283              35       23.0\n",
       "1142077              36       24.0\n",
       "1068632              17       26.0\n",
       "787201                1       21.0\n",
       "\n",
       "[1645 rows x 2 columns]"
      ]
     },
     "execution_count": 204,
     "metadata": {},
     "output_type": "execute_result"
    }
   ],
   "source": [
    "lassoreg_predictions = lassoreg.predict(X).round(0)\n",
    "\n",
    "actual_vs_predicted_lasso = pd.concat([y, pd.DataFrame(lassoreg_predictions, columns=['Predicted'], index=y.index)], axis=1)\n",
    "print(f\"\\nFor {stationname}: ---\")\n",
    "actual_vs_predicted_lasso"
   ]
  },
  {
   "cell_type": "markdown",
   "id": "2c443a7e",
   "metadata": {},
   "source": [
    "## Plot Results - Lasso Regression "
   ]
  },
  {
   "cell_type": "markdown",
   "id": "3e78a10c",
   "metadata": {},
   "source": [
    "plt.title(f'Predicted Bike Availability for {stationname}\\n Using Lasso Regression \\nBased on {features}')\n",
    "plt.xlabel(\"Predicted\")\n",
    "plt.ylabel(\"Actual\")\n",
    "plt.xlim(0,40)\n",
    "plt.ylim(0,40)\n",
    "plt.scatter(lassoreg_predictions, y)"
   ]
  },
  {
   "cell_type": "markdown",
   "id": "cbe18e5c",
   "metadata": {},
   "source": [
    "## Model based on Decision Tree Regressor "
   ]
  },
  {
   "cell_type": "code",
   "execution_count": 205,
   "id": "437079f7",
   "metadata": {},
   "outputs": [
    {
     "data": {
      "text/html": [
       "<style>#sk-container-id-6 {color: black;background-color: white;}#sk-container-id-6 pre{padding: 0;}#sk-container-id-6 div.sk-toggleable {background-color: white;}#sk-container-id-6 label.sk-toggleable__label {cursor: pointer;display: block;width: 100%;margin-bottom: 0;padding: 0.3em;box-sizing: border-box;text-align: center;}#sk-container-id-6 label.sk-toggleable__label-arrow:before {content: \"▸\";float: left;margin-right: 0.25em;color: #696969;}#sk-container-id-6 label.sk-toggleable__label-arrow:hover:before {color: black;}#sk-container-id-6 div.sk-estimator:hover label.sk-toggleable__label-arrow:before {color: black;}#sk-container-id-6 div.sk-toggleable__content {max-height: 0;max-width: 0;overflow: hidden;text-align: left;background-color: #f0f8ff;}#sk-container-id-6 div.sk-toggleable__content pre {margin: 0.2em;color: black;border-radius: 0.25em;background-color: #f0f8ff;}#sk-container-id-6 input.sk-toggleable__control:checked~div.sk-toggleable__content {max-height: 200px;max-width: 100%;overflow: auto;}#sk-container-id-6 input.sk-toggleable__control:checked~label.sk-toggleable__label-arrow:before {content: \"▾\";}#sk-container-id-6 div.sk-estimator input.sk-toggleable__control:checked~label.sk-toggleable__label {background-color: #d4ebff;}#sk-container-id-6 div.sk-label input.sk-toggleable__control:checked~label.sk-toggleable__label {background-color: #d4ebff;}#sk-container-id-6 input.sk-hidden--visually {border: 0;clip: rect(1px 1px 1px 1px);clip: rect(1px, 1px, 1px, 1px);height: 1px;margin: -1px;overflow: hidden;padding: 0;position: absolute;width: 1px;}#sk-container-id-6 div.sk-estimator {font-family: monospace;background-color: #f0f8ff;border: 1px dotted black;border-radius: 0.25em;box-sizing: border-box;margin-bottom: 0.5em;}#sk-container-id-6 div.sk-estimator:hover {background-color: #d4ebff;}#sk-container-id-6 div.sk-parallel-item::after {content: \"\";width: 100%;border-bottom: 1px solid gray;flex-grow: 1;}#sk-container-id-6 div.sk-label:hover label.sk-toggleable__label {background-color: #d4ebff;}#sk-container-id-6 div.sk-serial::before {content: \"\";position: absolute;border-left: 1px solid gray;box-sizing: border-box;top: 0;bottom: 0;left: 50%;z-index: 0;}#sk-container-id-6 div.sk-serial {display: flex;flex-direction: column;align-items: center;background-color: white;padding-right: 0.2em;padding-left: 0.2em;position: relative;}#sk-container-id-6 div.sk-item {position: relative;z-index: 1;}#sk-container-id-6 div.sk-parallel {display: flex;align-items: stretch;justify-content: center;background-color: white;position: relative;}#sk-container-id-6 div.sk-item::before, #sk-container-id-6 div.sk-parallel-item::before {content: \"\";position: absolute;border-left: 1px solid gray;box-sizing: border-box;top: 0;bottom: 0;left: 50%;z-index: -1;}#sk-container-id-6 div.sk-parallel-item {display: flex;flex-direction: column;z-index: 1;position: relative;background-color: white;}#sk-container-id-6 div.sk-parallel-item:first-child::after {align-self: flex-end;width: 50%;}#sk-container-id-6 div.sk-parallel-item:last-child::after {align-self: flex-start;width: 50%;}#sk-container-id-6 div.sk-parallel-item:only-child::after {width: 0;}#sk-container-id-6 div.sk-dashed-wrapped {border: 1px dashed gray;margin: 0 0.4em 0.5em 0.4em;box-sizing: border-box;padding-bottom: 0.4em;background-color: white;}#sk-container-id-6 div.sk-label label {font-family: monospace;font-weight: bold;display: inline-block;line-height: 1.2em;}#sk-container-id-6 div.sk-label-container {text-align: center;}#sk-container-id-6 div.sk-container {/* jupyter's `normalize.less` sets `[hidden] { display: none; }` but bootstrap.min.css set `[hidden] { display: none !important; }` so we also need the `!important` here to be able to override the default hidden behavior on the sphinx rendered scikit-learn.org. See: https://github.com/scikit-learn/scikit-learn/issues/21755 */display: inline-block !important;position: relative;}#sk-container-id-6 div.sk-text-repr-fallback {display: none;}</style><div id=\"sk-container-id-6\" class=\"sk-top-container\"><div class=\"sk-text-repr-fallback\"><pre>DecisionTreeRegressor()</pre><b>In a Jupyter environment, please rerun this cell to show the HTML representation or trust the notebook. <br />On GitHub, the HTML representation is unable to render, please try loading this page with nbviewer.org.</b></div><div class=\"sk-container\" hidden><div class=\"sk-item\"><div class=\"sk-estimator sk-toggleable\"><input class=\"sk-toggleable__control sk-hidden--visually\" id=\"sk-estimator-id-6\" type=\"checkbox\" checked><label for=\"sk-estimator-id-6\" class=\"sk-toggleable__label sk-toggleable__label-arrow\">DecisionTreeRegressor</label><div class=\"sk-toggleable__content\"><pre>DecisionTreeRegressor()</pre></div></div></div></div></div>"
      ],
      "text/plain": [
       "DecisionTreeRegressor()"
      ]
     },
     "execution_count": 205,
     "metadata": {},
     "output_type": "execute_result"
    }
   ],
   "source": [
    "y = train_set['bike_available'].loc[train_set['station_select']]\n",
    "X = train_set[features].loc[train_set['station_select']]\n",
    "\n",
    "#print(len(y))\n",
    "treereg = DecisionTreeRegressor()\n",
    "treereg.fit(X, y)"
   ]
  },
  {
   "cell_type": "code",
   "execution_count": 206,
   "id": "801ccaf2",
   "metadata": {},
   "outputs": [
    {
     "name": "stdout",
     "output_type": "stream",
     "text": [
      "\n",
      "For CHARLEMONT PLACE: ---\n"
     ]
    },
    {
     "data": {
      "text/html": [
       "<div>\n",
       "<style scoped>\n",
       "    .dataframe tbody tr th:only-of-type {\n",
       "        vertical-align: middle;\n",
       "    }\n",
       "\n",
       "    .dataframe tbody tr th {\n",
       "        vertical-align: top;\n",
       "    }\n",
       "\n",
       "    .dataframe thead th {\n",
       "        text-align: right;\n",
       "    }\n",
       "</style>\n",
       "<table border=\"1\" class=\"dataframe\">\n",
       "  <thead>\n",
       "    <tr style=\"text-align: right;\">\n",
       "      <th></th>\n",
       "      <th>bike_available</th>\n",
       "      <th>Predicted</th>\n",
       "    </tr>\n",
       "  </thead>\n",
       "  <tbody>\n",
       "    <tr>\n",
       "      <th>293384</th>\n",
       "      <td>7</td>\n",
       "      <td>7.0</td>\n",
       "    </tr>\n",
       "    <tr>\n",
       "      <th>407947</th>\n",
       "      <td>39</td>\n",
       "      <td>39.0</td>\n",
       "    </tr>\n",
       "    <tr>\n",
       "      <th>1401083</th>\n",
       "      <td>37</td>\n",
       "      <td>35.0</td>\n",
       "    </tr>\n",
       "    <tr>\n",
       "      <th>1362929</th>\n",
       "      <td>39</td>\n",
       "      <td>39.0</td>\n",
       "    </tr>\n",
       "    <tr>\n",
       "      <th>323679</th>\n",
       "      <td>1</td>\n",
       "      <td>1.0</td>\n",
       "    </tr>\n",
       "    <tr>\n",
       "      <th>...</th>\n",
       "      <td>...</td>\n",
       "      <td>...</td>\n",
       "    </tr>\n",
       "    <tr>\n",
       "      <th>1407753</th>\n",
       "      <td>0</td>\n",
       "      <td>1.0</td>\n",
       "    </tr>\n",
       "    <tr>\n",
       "      <th>1400283</th>\n",
       "      <td>35</td>\n",
       "      <td>35.0</td>\n",
       "    </tr>\n",
       "    <tr>\n",
       "      <th>1142077</th>\n",
       "      <td>36</td>\n",
       "      <td>38.0</td>\n",
       "    </tr>\n",
       "    <tr>\n",
       "      <th>1068632</th>\n",
       "      <td>17</td>\n",
       "      <td>17.0</td>\n",
       "    </tr>\n",
       "    <tr>\n",
       "      <th>787201</th>\n",
       "      <td>1</td>\n",
       "      <td>0.0</td>\n",
       "    </tr>\n",
       "  </tbody>\n",
       "</table>\n",
       "<p>1645 rows × 2 columns</p>\n",
       "</div>"
      ],
      "text/plain": [
       "         bike_available  Predicted\n",
       "293384                7        7.0\n",
       "407947               39       39.0\n",
       "1401083              37       35.0\n",
       "1362929              39       39.0\n",
       "323679                1        1.0\n",
       "...                 ...        ...\n",
       "1407753               0        1.0\n",
       "1400283              35       35.0\n",
       "1142077              36       38.0\n",
       "1068632              17       17.0\n",
       "787201                1        0.0\n",
       "\n",
       "[1645 rows x 2 columns]"
      ]
     },
     "execution_count": 206,
     "metadata": {},
     "output_type": "execute_result"
    }
   ],
   "source": [
    "# Predicted scores for each example. \n",
    "treereg_predictions = treereg.predict(X).round(0)\n",
    "\n",
    "actual_vs_predicted_tree = pd.concat([y, pd.DataFrame(treereg_predictions, columns=['Predicted'], index=y.index)], axis=1)\n",
    "print(f\"\\nFor {stationname}: ---\")\n",
    "actual_vs_predicted_tree"
   ]
  },
  {
   "cell_type": "markdown",
   "id": "a872a5d2",
   "metadata": {},
   "source": [
    "## Predicted Bike Availability - Value | Frequency\n",
    "(unique, counts) = np.unique(treereg_predictions, return_counts=True)\n",
    "frequencies = np.asarray((unique, counts)).T\n",
    "#print(frequencies)"
   ]
  },
  {
   "cell_type": "markdown",
   "id": "4f993afa",
   "metadata": {},
   "source": [
    "## Plot Results - Decision Tree Regressor "
   ]
  },
  {
   "cell_type": "markdown",
   "id": "b7d9107c",
   "metadata": {},
   "source": [
    "plt.title(f'Predicted Bike Availability for {stationname}\\n Using Decision Tree Regressor \\nBased on {features}')\n",
    "plt.xlabel(\"Predicted\")\n",
    "plt.ylabel(\"Actual\")\n",
    "plt.xlim(0,40)\n",
    "plt.ylim(0,40)\n",
    "plt.scatter(treereg_predictions, y)"
   ]
  },
  {
   "cell_type": "markdown",
   "id": "9218e005",
   "metadata": {},
   "source": [
    "## Random Forest Model "
   ]
  },
  {
   "cell_type": "code",
   "execution_count": 207,
   "id": "253581ec",
   "metadata": {},
   "outputs": [
    {
     "name": "stdout",
     "output_type": "stream",
     "text": [
      "\n",
      "For CHARLEMONT PLACE: ---\n"
     ]
    },
    {
     "data": {
      "text/html": [
       "<div>\n",
       "<style scoped>\n",
       "    .dataframe tbody tr th:only-of-type {\n",
       "        vertical-align: middle;\n",
       "    }\n",
       "\n",
       "    .dataframe tbody tr th {\n",
       "        vertical-align: top;\n",
       "    }\n",
       "\n",
       "    .dataframe thead th {\n",
       "        text-align: right;\n",
       "    }\n",
       "</style>\n",
       "<table border=\"1\" class=\"dataframe\">\n",
       "  <thead>\n",
       "    <tr style=\"text-align: right;\">\n",
       "      <th></th>\n",
       "      <th>bike_available</th>\n",
       "      <th>Predicted</th>\n",
       "    </tr>\n",
       "  </thead>\n",
       "  <tbody>\n",
       "    <tr>\n",
       "      <th>293384</th>\n",
       "      <td>7</td>\n",
       "      <td>7.0</td>\n",
       "    </tr>\n",
       "    <tr>\n",
       "      <th>407947</th>\n",
       "      <td>39</td>\n",
       "      <td>39.0</td>\n",
       "    </tr>\n",
       "    <tr>\n",
       "      <th>1401083</th>\n",
       "      <td>37</td>\n",
       "      <td>35.0</td>\n",
       "    </tr>\n",
       "    <tr>\n",
       "      <th>1362929</th>\n",
       "      <td>39</td>\n",
       "      <td>39.0</td>\n",
       "    </tr>\n",
       "    <tr>\n",
       "      <th>323679</th>\n",
       "      <td>1</td>\n",
       "      <td>1.0</td>\n",
       "    </tr>\n",
       "    <tr>\n",
       "      <th>...</th>\n",
       "      <td>...</td>\n",
       "      <td>...</td>\n",
       "    </tr>\n",
       "    <tr>\n",
       "      <th>1407753</th>\n",
       "      <td>0</td>\n",
       "      <td>1.0</td>\n",
       "    </tr>\n",
       "    <tr>\n",
       "      <th>1400283</th>\n",
       "      <td>35</td>\n",
       "      <td>35.0</td>\n",
       "    </tr>\n",
       "    <tr>\n",
       "      <th>1142077</th>\n",
       "      <td>36</td>\n",
       "      <td>38.0</td>\n",
       "    </tr>\n",
       "    <tr>\n",
       "      <th>1068632</th>\n",
       "      <td>17</td>\n",
       "      <td>17.0</td>\n",
       "    </tr>\n",
       "    <tr>\n",
       "      <th>787201</th>\n",
       "      <td>1</td>\n",
       "      <td>0.0</td>\n",
       "    </tr>\n",
       "  </tbody>\n",
       "</table>\n",
       "<p>1645 rows × 2 columns</p>\n",
       "</div>"
      ],
      "text/plain": [
       "         bike_available  Predicted\n",
       "293384                7        7.0\n",
       "407947               39       39.0\n",
       "1401083              37       35.0\n",
       "1362929              39       39.0\n",
       "323679                1        1.0\n",
       "...                 ...        ...\n",
       "1407753               0        1.0\n",
       "1400283              35       35.0\n",
       "1142077              36       38.0\n",
       "1068632              17       17.0\n",
       "787201                1        0.0\n",
       "\n",
       "[1645 rows x 2 columns]"
      ]
     },
     "execution_count": 207,
     "metadata": {},
     "output_type": "execute_result"
    }
   ],
   "source": [
    "y = train_set['bike_available'].loc[train_set['station_select']]\n",
    "X = train_set[features].loc[train_set['station_select']]\n",
    "\n",
    "randomforest = RandomForestRegressor()\n",
    "randomforest.fit(X, y)\n",
    "\n",
    "randomforest_predictions = randomforest.predict(X).round(0)\n",
    "\n",
    "actual_vs_predicted_randomforest = pd.concat([y,pd.DataFrame(randomforest_predictions, columns=['Predicted'], index=y.index)], axis=1)\n",
    "print(f\"\\nFor {stationname}: ---\")\n",
    "actual_vs_predicted_randomforest"
   ]
  },
  {
   "cell_type": "code",
   "execution_count": 208,
   "id": "ed1f5f83",
   "metadata": {},
   "outputs": [
    {
     "data": {
      "text/plain": [
       "<matplotlib.collections.PathCollection at 0x1f5253f7b20>"
      ]
     },
     "execution_count": 208,
     "metadata": {},
     "output_type": "execute_result"
    },
    {
     "data": {
      "image/png": "[encoded data removed]",
      "text/plain": [
       "<Figure size 640x480 with 1 Axes>"
      ]
     },
     "metadata": {},
     "output_type": "display_data"
    }
   ],
   "source": [
    "plt.title(f'Predicted Bike Availability for {stationname}\\n Using Random Forest \\nBased on {features}')\n",
    "plt.xlabel(\"Predicted\")\n",
    "plt.ylabel(\"Actual\")\n",
    "plt.xlim(0,40)\n",
    "plt.ylim(0,40)\n",
    "plt.scatter(randomforest_predictions, y)"
   ]
  },
  {
   "cell_type": "markdown",
   "id": "c2c0e28d",
   "metadata": {},
   "source": [
    "## Calculate R2 on Training Data Set - Different Models"
   ]
  },
  {
   "cell_type": "code",
   "execution_count": 209,
   "id": "a35dd617",
   "metadata": {},
   "outputs": [
    {
     "name": "stdout",
     "output_type": "stream",
     "text": [
      "\n",
      "R2 Calculations for different prediction models for CHARLEMONT PLACE\n",
      "-------------------------------------------------------------------------\n",
      "Feature is ['tempcel_feel'] \n",
      " R2 of Linear Regression Model (for Training Data Set) = 14.62 \n",
      "\n",
      "Features are ['weather_main', 'clouds', 'tempcel', 'weather_id', 'wind_speed', 'tempcel_feel'] \n",
      " R2 of Multiple Regression Model (for Training Data Set) = 14.16\n",
      "\n",
      "Features are ['weather_main', 'clouds', 'tempcel', 'weather_id', 'wind_speed', 'tempcel_feel'] \n",
      " R2 of Decision Regressor Model (for Training Data Set) = 2.95\n",
      "\n",
      "Feature is ['weather_main', 'clouds', 'tempcel', 'weather_id', 'wind_speed', 'tempcel_feel'] \n",
      " R2 of Random Tree Regression Model (for Training Data Set) = 2.95 \n",
      "\n",
      "Features are ['weather_main', 'clouds', 'tempcel', 'weather_id', 'wind_speed', 'tempcel_feel'] \n",
      " R2 of Lasso Regression Model (for Training Data Set) = 14.48\n",
      "\n"
     ]
    }
   ],
   "source": [
    "print(f\"\\nR2 Calculations for different prediction models for {stationname}\")\n",
    "print(\"-------------------------------------------------------------------------\")\n",
    "\n",
    "linreg_mse = mean_squared_error(y,linreg_predictions)\n",
    "linreg_mser = np.sqrt(linreg_mse).round(2)\n",
    "print(f'Feature is {feature} \\n R2 of Linear Regression Model (for Training Data Set) = {linreg_mser} \\n')\n",
    "\n",
    "linreg_m_mse = mean_squared_error(y,linreg_m_predictions)\n",
    "linreg_m_mser = np.sqrt(linreg_m_mse).round(2)\n",
    "print(f'Features are {features} \\n R2 of Multiple Regression Model (for Training Data Set) = {linreg_m_mser}\\n')\n",
    "\n",
    "treereg_mse = mean_squared_error(y,treereg_predictions)\n",
    "treereg_mser = np.sqrt(treereg_mse).round(2)\n",
    "print(f'Features are {features} \\n R2 of Decision Regressor Model (for Training Data Set) = {treereg_mser}\\n')\n",
    "\n",
    "randomforest_mse = mean_squared_error(y,randomforest_predictions)\n",
    "randomforest_mser = np.sqrt(randomforest_mse).round(2)\n",
    "print(f'Feature is {features} \\n R2 of Random Tree Regression Model (for Training Data Set) = {randomforest_mser} \\n')\n",
    "\n",
    "lassoreg_mse = mean_squared_error(y,lassoreg_predictions)\n",
    "lassoreg_mser = np.sqrt(lassoreg_mse).round(2)\n",
    "print(f'Features are {features} \\n R2 of Lasso Regression Model (for Training Data Set) = {lassoreg_mser}\\n')"
   ]
  },
  {
   "cell_type": "markdown",
   "id": "6094925b",
   "metadata": {},
   "source": [
    "## Test the Models on the Test Data Set "
   ]
  },
  {
   "cell_type": "code",
   "execution_count": 210,
   "id": "4e41d9cd",
   "metadata": {},
   "outputs": [
    {
     "name": "stdout",
     "output_type": "stream",
     "text": [
      "\n",
      "For CHARLEMONT PLACE: ---\n"
     ]
    },
    {
     "data": {
      "text/html": [
       "<div>\n",
       "<style scoped>\n",
       "    .dataframe tbody tr th:only-of-type {\n",
       "        vertical-align: middle;\n",
       "    }\n",
       "\n",
       "    .dataframe tbody tr th {\n",
       "        vertical-align: top;\n",
       "    }\n",
       "\n",
       "    .dataframe thead th {\n",
       "        text-align: right;\n",
       "    }\n",
       "</style>\n",
       "<table border=\"1\" class=\"dataframe\">\n",
       "  <thead>\n",
       "    <tr style=\"text-align: right;\">\n",
       "      <th></th>\n",
       "      <th>bike_available</th>\n",
       "      <th>Predicted</th>\n",
       "    </tr>\n",
       "  </thead>\n",
       "  <tbody>\n",
       "    <tr>\n",
       "      <th>1556749</th>\n",
       "      <td>6</td>\n",
       "      <td>8.0</td>\n",
       "    </tr>\n",
       "    <tr>\n",
       "      <th>371395</th>\n",
       "      <td>39</td>\n",
       "      <td>38.0</td>\n",
       "    </tr>\n",
       "    <tr>\n",
       "      <th>293385</th>\n",
       "      <td>7</td>\n",
       "      <td>7.0</td>\n",
       "    </tr>\n",
       "    <tr>\n",
       "      <th>1001956</th>\n",
       "      <td>6</td>\n",
       "      <td>12.0</td>\n",
       "    </tr>\n",
       "    <tr>\n",
       "      <th>1520219</th>\n",
       "      <td>0</td>\n",
       "      <td>0.0</td>\n",
       "    </tr>\n",
       "    <tr>\n",
       "      <th>...</th>\n",
       "      <td>...</td>\n",
       "      <td>...</td>\n",
       "    </tr>\n",
       "    <tr>\n",
       "      <th>1233030</th>\n",
       "      <td>40</td>\n",
       "      <td>40.0</td>\n",
       "    </tr>\n",
       "    <tr>\n",
       "      <th>1001957</th>\n",
       "      <td>6</td>\n",
       "      <td>12.0</td>\n",
       "    </tr>\n",
       "    <tr>\n",
       "      <th>1178871</th>\n",
       "      <td>35</td>\n",
       "      <td>35.0</td>\n",
       "    </tr>\n",
       "    <tr>\n",
       "      <th>787730</th>\n",
       "      <td>0</td>\n",
       "      <td>0.0</td>\n",
       "    </tr>\n",
       "    <tr>\n",
       "      <th>1142298</th>\n",
       "      <td>35</td>\n",
       "      <td>38.0</td>\n",
       "    </tr>\n",
       "  </tbody>\n",
       "</table>\n",
       "<p>393 rows × 2 columns</p>\n",
       "</div>"
      ],
      "text/plain": [
       "         bike_available  Predicted\n",
       "1556749               6        8.0\n",
       "371395               39       38.0\n",
       "293385                7        7.0\n",
       "1001956               6       12.0\n",
       "1520219               0        0.0\n",
       "...                 ...        ...\n",
       "1233030              40       40.0\n",
       "1001957               6       12.0\n",
       "1178871              35       35.0\n",
       "787730                0        0.0\n",
       "1142298              35       38.0\n",
       "\n",
       "[393 rows x 2 columns]"
      ]
     },
     "execution_count": 210,
     "metadata": {},
     "output_type": "execute_result"
    }
   ],
   "source": [
    "y_test = test_set['bike_available'].loc[test_set['station_select']]\n",
    "X_test = test_set[features].loc[test_set['station_select']]\n",
    "\n",
    "randomforest_predictions_test = randomforest.predict(X_test).round(0)\n",
    "\n",
    "actual_vs_predicted_randomforest_test = pd.concat([y_test,pd.DataFrame(randomforest_predictions_test, columns=['Predicted'], index=y_test.index)], axis=1)\n",
    "print(f\"\\nFor {stationname}: ---\")\n",
    "actual_vs_predicted_randomforest_test"
   ]
  },
  {
   "cell_type": "code",
   "execution_count": 211,
   "id": "31a28d94",
   "metadata": {},
   "outputs": [
    {
     "name": "stdout",
     "output_type": "stream",
     "text": [
      "Feature is ['weather_main', 'clouds', 'tempcel', 'weather_id', 'wind_speed', 'tempcel_feel'] \n",
      "R2 of Random Tree Regression Model (for Test Data Set) = 3.19 \n",
      "\n",
      "versus:--- \n",
      "R2 of Random Tree Regression Model (for Training Data Set) = 2.95 \n",
      "\n"
     ]
    }
   ],
   "source": [
    "randomforest_mse_test = mean_squared_error(y_test,randomforest_predictions_test)\n",
    "randomforest_mser_test = np.sqrt(randomforest_mse_test).round(2)\n",
    "print(f'Feature is {features} \\nR2 of Random Tree Regression Model (for Test Data Set) = {randomforest_mser_test} \\n')\n",
    "print(f'versus:--- \\nR2 of Random Tree Regression Model (for Training Data Set) = {randomforest_mser} \\n')\n",
    "\n",
    "randommodel_mser_test_list.append(randomforest_mser_test)\n",
    "randommodel_mser_train_list.append(randomforest_mser)\n",
    "randommodel_stationid.append(stationid)"
   ]
  },
  {
   "cell_type": "code",
   "execution_count": 212,
   "id": "1b688a47",
   "metadata": {},
   "outputs": [
    {
     "name": "stdout",
     "output_type": "stream",
     "text": [
      "For station: 3 | R2 (Training) = 1.51 -- R2 (Test) = 1.77\n",
      "For station: 4 | R2 (Training) = 1.22 -- R2 (Test) = 1.15\n",
      "For station: 5 | R2 (Training) = 1.03 -- R2 (Test) = 1.09\n"
     ]
    }
   ],
   "source": [
    "for i in range(len(randommodel_stationid)):\n",
    "    print(f'For station: {randommodel_stationid[i]} | R2 (Training) = {randommodel_mser_train_list[i]} -- R2 (Test) = {randommodel_mser_test_list[i]}')\n"
   ]
  },
  {
   "cell_type": "markdown",
   "id": "22b0a381",
   "metadata": {},
   "source": [
    "## Write the model to a pickle file "
   ]
  },
  {
   "cell_type": "code",
   "execution_count": 213,
   "id": "5fd475cf",
   "metadata": {},
   "outputs": [
    {
     "name": "stdout",
     "output_type": "stream",
     "text": [
      "C:\\Users\\corma\\Documents\\GitHub\\Dublin-Bikes-Helper\\MachineLearn_DBH\\Pickle Files\\randomforest5.pkl\n"
     ]
    }
   ],
   "source": [
    "# Serialize model object (in this case Random Forest) into a file on disk using pickle\n",
    "filename = f'{file_path_pickle}\\\\randomforest{stationid}.pkl'\n",
    "print(filename)\n",
    "with open(filename, 'wb') as handle:\n",
    "    pickle.dump(randomforest, handle, pickle.HIGHEST_PROTOCOL)"
   ]
  },
  {
   "cell_type": "code",
   "execution_count": null,
   "id": "5f747285",
   "metadata": {},
   "outputs": [],
   "source": []
  },
  {
   "cell_type": "code",
   "execution_count": null,
   "id": "259e783b",
   "metadata": {},
   "outputs": [],
   "source": []
  },
  {
   "cell_type": "code",
   "execution_count": null,
   "id": "df846cc2",
   "metadata": {},
   "outputs": [],
   "source": []
  },
  {
   "cell_type": "code",
   "execution_count": null,
   "id": "c10d4666",
   "metadata": {},
   "outputs": [],
   "source": []
  },
  {
   "cell_type": "code",
   "execution_count": null,
   "id": "3a33ee6e",
   "metadata": {},
   "outputs": [],
   "source": []
  },
  {
   "cell_type": "code",
   "execution_count": null,
   "id": "c5f94ba2",
   "metadata": {},
   "outputs": [],
   "source": []
  },
  {
   "cell_type": "code",
   "execution_count": null,
   "id": "c345d694",
   "metadata": {},
   "outputs": [],
   "source": []
  },
  {
   "cell_type": "code",
   "execution_count": null,
   "id": "761179cc",
   "metadata": {},
   "outputs": [],
   "source": []
  }
 ],
 "metadata": {
  "kernelspec": {
   "display_name": "Python 3 (ipykernel)",
   "language": "python",
   "name": "python3"
  },
  "language_info": {
   "codemirror_mode": {
    "name": "ipython",
    "version": 3
   },
   "file_extension": ".py",
   "mimetype": "text/x-python",
   "name": "python",
   "nbconvert_exporter": "python",
   "pygments_lexer": "ipython3",
   "version": "3.10.9"
  }
 },
 "nbformat": 4,
 "nbformat_minor": 5
}
