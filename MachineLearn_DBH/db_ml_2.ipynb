{
 "cells": [
  {
   "cell_type": "code",
   "execution_count": 1,
   "id": "07e2590b",
   "metadata": {},
   "outputs": [],
   "source": [
    "import pandas as pd\n",
    "import numpy as np\n",
    "\n",
    "import matplotlib.pyplot as plt\n",
    "import matplotlib.dates\n",
    "\n",
    "import requests\n",
    "import json\n",
    "from pathlib import Path\n",
    "import sys\n",
    "import pickle\n",
    "\n",
    "import time\n",
    "from datetime import datetime\n",
    "import datetime\n",
    "\n",
    "#from sklearn.model_selection import \n",
    "from sklearn.linear_model import LinearRegression\n",
    "#from sklearn.model_selection import train_test_split\n",
    "from sklearn import metrics\n",
    "from sklearn.model_selection import train_test_split, cross_validate, cross_val_score, RandomizedSearchCV\n",
    "#from sklearn.model_selection import \n",
    "from sklearn.tree import DecisionTreeRegressor\n",
    "from sklearn.metrics import mean_squared_error, r2_score\n",
    "from sklearn import datasets, linear_model\n",
    "from sklearn.preprocessing import StandardScaler\n",
    "from sklearn.linear_model import Lasso\n",
    "from sklearn.tree import export_graphviz\n",
    "from sklearn.ensemble import RandomForestClassifier\n",
    "from sklearn.metrics import accuracy_score, confusion_matrix, precision_score, recall_score, ConfusionMatrixDisplay\n",
    "#from sklearn.model_selection import \n",
    "from sklearn.ensemble import RandomForestRegressor\n",
    "\n",
    "from scipy.stats import randint\n",
    "\n",
    "from IPython.display import Image\n",
    "import graphviz\n",
    "\n",
    "%matplotlib inline"
   ]
  },
  {
   "cell_type": "markdown",
   "id": "91c529fb",
   "metadata": {},
   "source": [
    "## Function to convert day number to day"
   ]
  },
  {
   "cell_type": "code",
   "execution_count": 2,
   "id": "c04688f0",
   "metadata": {},
   "outputs": [],
   "source": [
    "def convert_day(num):\n",
    "    if num == 1:\n",
    "        return 'Monday'\n",
    "    elif num == 2:\n",
    "        return 'Tuesday'\n",
    "    elif num == 3:\n",
    "        return 'Wednesday'\n",
    "    elif num == 4:\n",
    "        return 'Thursday'\n",
    "    elif num == 5:\n",
    "        return 'Friday'\n",
    "    elif num == 6:\n",
    "        return 'Saturday'\n",
    "    else:\n",
    "        return 'Sunday'"
   ]
  },
  {
   "cell_type": "markdown",
   "id": "b990ccde",
   "metadata": {},
   "source": [
    "## Function to convert Month number to Month"
   ]
  },
  {
   "cell_type": "code",
   "execution_count": 3,
   "id": "c9c4352d",
   "metadata": {},
   "outputs": [],
   "source": [
    "def convert_month(num):\n",
    "    if num == 1:\n",
    "        return 'January'\n",
    "    elif num == 2:\n",
    "        return 'February'\n",
    "    elif num == 3:\n",
    "        return 'March'\n",
    "    elif num == 4:\n",
    "        return 'April'\n",
    "    elif num == 5:\n",
    "        return 'May'\n",
    "    elif num == 6:\n",
    "        return 'June'\n",
    "    elif num == 7:\n",
    "        return 'July'\n",
    "    elif num == 8:\n",
    "        return 'August'\n",
    "    elif num == 9:\n",
    "        return 'September'\n",
    "    elif num == 10:\n",
    "        return 'October'\n",
    "    elif num == 11:\n",
    "        return 'November'\n",
    "    else:\n",
    "        return 'December'"
   ]
  },
  {
   "cell_type": "code",
   "execution_count": 4,
   "id": "8b25234a",
   "metadata": {},
   "outputs": [],
   "source": [
    "#path to files\n",
    "file_path_csv_weather = Path('C:\\\\Users\\\\corma\\\\Documents\\\\GitHub\\\\Dublin-Bikes-Helper\\\\MachineLearn_DBH\\\\weather_info_final.csv')\n",
    "file_path_csv_bike = Path('C:\\\\Users\\\\corma\\\\Documents\\\\GitHub\\\\Dublin-Bikes-Helper\\\\MachineLearn_DBH\\\\bike_info_final.csv')"
   ]
  },
  {
   "cell_type": "code",
   "execution_count": 5,
   "id": "9f1c8f5c",
   "metadata": {},
   "outputs": [],
   "source": [
    "#Read files\n",
    "df = pd.read_csv(file_path_csv_bike,index_col=False)\n",
    "dfw = pd.read_csv(file_path_csv_weather,index_col=False)"
   ]
  },
  {
   "cell_type": "code",
   "execution_count": 6,
   "id": "b1aa1587",
   "metadata": {},
   "outputs": [
    {
     "data": {
      "text/plain": [
       "((821117, 11), (1678, 13))"
      ]
     },
     "execution_count": 6,
     "metadata": {},
     "output_type": "execute_result"
    }
   ],
   "source": [
    "df.shape,dfw.shape"
   ]
  },
  {
   "cell_type": "code",
   "execution_count": 7,
   "id": "e45ba9c6",
   "metadata": {},
   "outputs": [
    {
     "data": {
      "text/plain": [
       "array(['OPEN'], dtype=object)"
      ]
     },
     "execution_count": 7,
     "metadata": {},
     "output_type": "execute_result"
    }
   ],
   "source": [
    "df['status'].unique()"
   ]
  },
  {
   "cell_type": "code",
   "execution_count": 8,
   "id": "6aa924db",
   "metadata": {},
   "outputs": [
    {
     "data": {
      "text/html": [
       "<div>\n",
       "<style scoped>\n",
       "    .dataframe tbody tr th:only-of-type {\n",
       "        vertical-align: middle;\n",
       "    }\n",
       "\n",
       "    .dataframe tbody tr th {\n",
       "        vertical-align: top;\n",
       "    }\n",
       "\n",
       "    .dataframe thead th {\n",
       "        text-align: right;\n",
       "    }\n",
       "</style>\n",
       "<table border=\"1\" class=\"dataframe\">\n",
       "  <thead>\n",
       "    <tr style=\"text-align: right;\">\n",
       "      <th></th>\n",
       "      <th>number</th>\n",
       "      <th>bike_stand</th>\n",
       "      <th>bike_stand_available</th>\n",
       "      <th>bike_available</th>\n",
       "      <th>delete_flag</th>\n",
       "    </tr>\n",
       "  </thead>\n",
       "  <tbody>\n",
       "    <tr>\n",
       "      <th>count</th>\n",
       "      <td>821117.000000</td>\n",
       "      <td>821117.000000</td>\n",
       "      <td>821117.000000</td>\n",
       "      <td>821117.000000</td>\n",
       "      <td>821117.0</td>\n",
       "    </tr>\n",
       "    <tr>\n",
       "      <th>mean</th>\n",
       "      <td>60.117590</td>\n",
       "      <td>31.893069</td>\n",
       "      <td>19.795916</td>\n",
       "      <td>11.743927</td>\n",
       "      <td>0.0</td>\n",
       "    </tr>\n",
       "    <tr>\n",
       "      <th>std</th>\n",
       "      <td>41.693403</td>\n",
       "      <td>7.629862</td>\n",
       "      <td>11.061139</td>\n",
       "      <td>9.627312</td>\n",
       "      <td>0.0</td>\n",
       "    </tr>\n",
       "    <tr>\n",
       "      <th>min</th>\n",
       "      <td>1.000000</td>\n",
       "      <td>1.000000</td>\n",
       "      <td>0.000000</td>\n",
       "      <td>0.000000</td>\n",
       "      <td>0.0</td>\n",
       "    </tr>\n",
       "    <tr>\n",
       "      <th>25%</th>\n",
       "      <td>29.000000</td>\n",
       "      <td>29.000000</td>\n",
       "      <td>11.000000</td>\n",
       "      <td>4.000000</td>\n",
       "      <td>0.0</td>\n",
       "    </tr>\n",
       "    <tr>\n",
       "      <th>50%</th>\n",
       "      <td>59.000000</td>\n",
       "      <td>30.000000</td>\n",
       "      <td>20.000000</td>\n",
       "      <td>10.000000</td>\n",
       "      <td>0.0</td>\n",
       "    </tr>\n",
       "    <tr>\n",
       "      <th>75%</th>\n",
       "      <td>89.000000</td>\n",
       "      <td>40.000000</td>\n",
       "      <td>28.000000</td>\n",
       "      <td>18.000000</td>\n",
       "      <td>0.0</td>\n",
       "    </tr>\n",
       "    <tr>\n",
       "      <th>max</th>\n",
       "      <td>507.000000</td>\n",
       "      <td>40.000000</td>\n",
       "      <td>40.000000</td>\n",
       "      <td>40.000000</td>\n",
       "      <td>0.0</td>\n",
       "    </tr>\n",
       "  </tbody>\n",
       "</table>\n",
       "</div>"
      ],
      "text/plain": [
       "              number     bike_stand  bike_stand_available  bike_available  \\\n",
       "count  821117.000000  821117.000000         821117.000000   821117.000000   \n",
       "mean       60.117590      31.893069             19.795916       11.743927   \n",
       "std        41.693403       7.629862             11.061139        9.627312   \n",
       "min         1.000000       1.000000              0.000000        0.000000   \n",
       "25%        29.000000      29.000000             11.000000        4.000000   \n",
       "50%        59.000000      30.000000             20.000000       10.000000   \n",
       "75%        89.000000      40.000000             28.000000       18.000000   \n",
       "max       507.000000      40.000000             40.000000       40.000000   \n",
       "\n",
       "       delete_flag  \n",
       "count     821117.0  \n",
       "mean           0.0  \n",
       "std            0.0  \n",
       "min            0.0  \n",
       "25%            0.0  \n",
       "50%            0.0  \n",
       "75%            0.0  \n",
       "max            0.0  "
      ]
     },
     "execution_count": 8,
     "metadata": {},
     "output_type": "execute_result"
    }
   ],
   "source": [
    "df.describe()"
   ]
  },
  {
   "cell_type": "code",
   "execution_count": 9,
   "id": "62a8ac30",
   "metadata": {},
   "outputs": [
    {
     "data": {
      "text/plain": [
       "id                      object\n",
       "number                   int64\n",
       "name                    object\n",
       "address                 object\n",
       "bike_stand               int64\n",
       "bike_stand_available     int64\n",
       "bike_available           int64\n",
       "status                  object\n",
       "last_update             object\n",
       "creat_time              object\n",
       "delete_flag              int64\n",
       "dtype: object"
      ]
     },
     "execution_count": 9,
     "metadata": {},
     "output_type": "execute_result"
    }
   ],
   "source": [
    "df.dtypes"
   ]
  },
  {
   "cell_type": "code",
   "execution_count": 10,
   "id": "fc34eea6",
   "metadata": {},
   "outputs": [],
   "source": [
    "#dfw.shape"
   ]
  },
  {
   "cell_type": "code",
   "execution_count": 11,
   "id": "5828b978",
   "metadata": {},
   "outputs": [],
   "source": [
    "#dfw.describe()"
   ]
  },
  {
   "cell_type": "code",
   "execution_count": 12,
   "id": "92637f4c",
   "metadata": {},
   "outputs": [],
   "source": [
    "#dfw.dtypes"
   ]
  },
  {
   "cell_type": "code",
   "execution_count": 13,
   "id": "cde3da89",
   "metadata": {},
   "outputs": [],
   "source": [
    "#dfw.head(5)"
   ]
  },
  {
   "cell_type": "code",
   "execution_count": 14,
   "id": "8ef6d756",
   "metadata": {},
   "outputs": [],
   "source": [
    "#dfw['weather_main'].unique()"
   ]
  },
  {
   "cell_type": "code",
   "execution_count": 15,
   "id": "5a2eb124",
   "metadata": {},
   "outputs": [
    {
     "data": {
      "text/html": [
       "<div>\n",
       "<style scoped>\n",
       "    .dataframe tbody tr th:only-of-type {\n",
       "        vertical-align: middle;\n",
       "    }\n",
       "\n",
       "    .dataframe tbody tr th {\n",
       "        vertical-align: top;\n",
       "    }\n",
       "\n",
       "    .dataframe thead th {\n",
       "        text-align: right;\n",
       "    }\n",
       "</style>\n",
       "<table border=\"1\" class=\"dataframe\">\n",
       "  <thead>\n",
       "    <tr style=\"text-align: right;\">\n",
       "      <th></th>\n",
       "      <th>id</th>\n",
       "      <th>number</th>\n",
       "      <th>name</th>\n",
       "      <th>address</th>\n",
       "      <th>bike_stand</th>\n",
       "      <th>bike_stand_available</th>\n",
       "      <th>bike_available</th>\n",
       "      <th>status</th>\n",
       "      <th>last_update</th>\n",
       "      <th>creat_time</th>\n",
       "      <th>delete_flag</th>\n",
       "    </tr>\n",
       "  </thead>\n",
       "  <tbody>\n",
       "    <tr>\n",
       "      <th>0</th>\n",
       "      <td>00003a0978d64fb0</td>\n",
       "      <td>5</td>\n",
       "      <td>CHARLEMONT PLACE</td>\n",
       "      <td>Charlemont Street</td>\n",
       "      <td>40</td>\n",
       "      <td>35</td>\n",
       "      <td>5</td>\n",
       "      <td>OPEN</td>\n",
       "      <td>2023-03-22 17:07:52</td>\n",
       "      <td>2023-03-22 17:09:30</td>\n",
       "      <td>0</td>\n",
       "    </tr>\n",
       "    <tr>\n",
       "      <th>1</th>\n",
       "      <td>00003d7ece87406b</td>\n",
       "      <td>55</td>\n",
       "      <td>HATCH STREET</td>\n",
       "      <td>Hatch Street</td>\n",
       "      <td>36</td>\n",
       "      <td>26</td>\n",
       "      <td>8</td>\n",
       "      <td>OPEN</td>\n",
       "      <td>2023-03-23 17:06:28</td>\n",
       "      <td>2023-03-23 17:06:59</td>\n",
       "      <td>0</td>\n",
       "    </tr>\n",
       "    <tr>\n",
       "      <th>2</th>\n",
       "      <td>000059ab036a48f3</td>\n",
       "      <td>76</td>\n",
       "      <td>MARKET STREET SOUTH</td>\n",
       "      <td>Market Street South</td>\n",
       "      <td>38</td>\n",
       "      <td>30</td>\n",
       "      <td>8</td>\n",
       "      <td>OPEN</td>\n",
       "      <td>2023-03-11 09:47:27</td>\n",
       "      <td>2023-03-11 09:49:12</td>\n",
       "      <td>0</td>\n",
       "    </tr>\n",
       "    <tr>\n",
       "      <th>3</th>\n",
       "      <td>000088f148a64088</td>\n",
       "      <td>108</td>\n",
       "      <td>AVONDALE ROAD</td>\n",
       "      <td>Avondale Road</td>\n",
       "      <td>35</td>\n",
       "      <td>18</td>\n",
       "      <td>17</td>\n",
       "      <td>OPEN</td>\n",
       "      <td>2023-03-26 02:04:50</td>\n",
       "      <td>2023-03-26 02:10:38</td>\n",
       "      <td>0</td>\n",
       "    </tr>\n",
       "    <tr>\n",
       "      <th>4</th>\n",
       "      <td>000095e7fbc148ab</td>\n",
       "      <td>113</td>\n",
       "      <td>MERRION SQUARE SOUTH</td>\n",
       "      <td>Merrion Square South</td>\n",
       "      <td>40</td>\n",
       "      <td>21</td>\n",
       "      <td>19</td>\n",
       "      <td>OPEN</td>\n",
       "      <td>2023-03-14 14:38:00</td>\n",
       "      <td>2023-03-14 14:48:35</td>\n",
       "      <td>0</td>\n",
       "    </tr>\n",
       "  </tbody>\n",
       "</table>\n",
       "</div>"
      ],
      "text/plain": [
       "                 id  number                  name               address  \\\n",
       "0  00003a0978d64fb0       5      CHARLEMONT PLACE     Charlemont Street   \n",
       "1  00003d7ece87406b      55          HATCH STREET          Hatch Street   \n",
       "2  000059ab036a48f3      76   MARKET STREET SOUTH   Market Street South   \n",
       "3  000088f148a64088     108         AVONDALE ROAD         Avondale Road   \n",
       "4  000095e7fbc148ab     113  MERRION SQUARE SOUTH  Merrion Square South   \n",
       "\n",
       "   bike_stand  bike_stand_available  bike_available status  \\\n",
       "0          40                    35               5   OPEN   \n",
       "1          36                    26               8   OPEN   \n",
       "2          38                    30               8   OPEN   \n",
       "3          35                    18              17   OPEN   \n",
       "4          40                    21              19   OPEN   \n",
       "\n",
       "           last_update           creat_time  delete_flag  \n",
       "0  2023-03-22 17:07:52  2023-03-22 17:09:30            0  \n",
       "1  2023-03-23 17:06:28  2023-03-23 17:06:59            0  \n",
       "2  2023-03-11 09:47:27  2023-03-11 09:49:12            0  \n",
       "3  2023-03-26 02:04:50  2023-03-26 02:10:38            0  \n",
       "4  2023-03-14 14:38:00  2023-03-14 14:48:35            0  "
      ]
     },
     "execution_count": 15,
     "metadata": {},
     "output_type": "execute_result"
    }
   ],
   "source": [
    "df.head(5)"
   ]
  },
  {
   "cell_type": "markdown",
   "id": "5c8629ea",
   "metadata": {},
   "source": [
    "## Set up Time Parmeters - Bike and Weather"
   ]
  },
  {
   "cell_type": "code",
   "execution_count": 16,
   "id": "dc72a52b",
   "metadata": {},
   "outputs": [],
   "source": [
    "df[\"TIME\"] = pd.to_datetime(df[\"creat_time\"],format='%Y-%m-%d %H:%M:%S')\n",
    "df[\"YEAR\"] = df[\"TIME\"].dt.year\n",
    "df[\"MONTH\"] = df[\"TIME\"].dt.month\n",
    "df[\"DAY\"] = df['TIME'].dt.dayofweek\n",
    "df[\"DAY_num\"] = df[\"TIME\"].dt.day\n",
    "df[\"HOUR\"] = df[\"TIME\"].dt.hour\n",
    "df[\"MINUTE\"] = df[\"TIME\"].dt.minute"
   ]
  },
  {
   "cell_type": "code",
   "execution_count": 17,
   "id": "4d2f6120",
   "metadata": {},
   "outputs": [
    {
     "data": {
      "text/plain": [
       "id                              object\n",
       "number                           int64\n",
       "name                            object\n",
       "address                         object\n",
       "bike_stand                       int64\n",
       "bike_stand_available             int64\n",
       "bike_available                   int64\n",
       "status                          object\n",
       "last_update                     object\n",
       "creat_time                      object\n",
       "delete_flag                      int64\n",
       "TIME                    datetime64[ns]\n",
       "YEAR                             int64\n",
       "MONTH                            int64\n",
       "DAY                              int64\n",
       "DAY_num                          int64\n",
       "HOUR                             int64\n",
       "MINUTE                           int64\n",
       "dtype: object"
      ]
     },
     "execution_count": 17,
     "metadata": {},
     "output_type": "execute_result"
    }
   ],
   "source": [
    "df.dtypes"
   ]
  },
  {
   "cell_type": "code",
   "execution_count": 18,
   "id": "37618913",
   "metadata": {},
   "outputs": [
    {
     "data": {
      "text/plain": [
       "array([2, 3, 5, 6, 1, 0, 4], dtype=int64)"
      ]
     },
     "execution_count": 18,
     "metadata": {},
     "output_type": "execute_result"
    }
   ],
   "source": [
    "df['DAY'].unique()"
   ]
  },
  {
   "cell_type": "code",
   "execution_count": 19,
   "id": "565c0315",
   "metadata": {},
   "outputs": [
    {
     "data": {
      "text/plain": [
       "0   2023-03-22 17:09:30\n",
       "1   2023-03-23 17:06:59\n",
       "2   2023-03-11 09:49:12\n",
       "3   2023-03-26 02:10:38\n",
       "4   2023-03-14 14:48:35\n",
       "Name: TIME, dtype: datetime64[ns]"
      ]
     },
     "execution_count": 19,
     "metadata": {},
     "output_type": "execute_result"
    }
   ],
   "source": [
    "df[\"TIME\"].head()"
   ]
  },
  {
   "cell_type": "code",
   "execution_count": 20,
   "id": "7a54fa83",
   "metadata": {},
   "outputs": [],
   "source": [
    "df['TIME'] = df['TIME'].dt.round('H')"
   ]
  },
  {
   "cell_type": "code",
   "execution_count": 21,
   "id": "9efc164c",
   "metadata": {},
   "outputs": [
    {
     "data": {
      "text/plain": [
       "0   2023-03-22 17:00:00\n",
       "1   2023-03-23 17:00:00\n",
       "2   2023-03-11 10:00:00\n",
       "3   2023-03-26 02:00:00\n",
       "4   2023-03-14 15:00:00\n",
       "Name: TIME, dtype: datetime64[ns]"
      ]
     },
     "execution_count": 21,
     "metadata": {},
     "output_type": "execute_result"
    }
   ],
   "source": [
    "df['TIME'].head()"
   ]
  },
  {
   "cell_type": "code",
   "execution_count": 22,
   "id": "a823f109",
   "metadata": {},
   "outputs": [],
   "source": [
    "dfw[\"TIME\"] = pd.to_datetime(dfw[\"creat_time\"],format='%Y-%m-%d %H:%M:%S')\n",
    "dfw[\"sunrise\"] = pd.to_datetime(dfw[\"sunrise\"],format='%Y-%m-%d %H:%M:%S')\n",
    "dfw[\"sunset\"] = pd.to_datetime(dfw[\"sunset\"],format='%Y-%m-%d %H:%M:%S')\n",
    "\n",
    "dfw[\"YEAR\"] = dfw[\"TIME\"].dt.year\n",
    "col =np.array(dfw[\"YEAR\"],np.int64) #Converts float to int\n",
    "dfw[\"YEAR\"] = col #Converts float to int\n",
    "\n",
    "dfw[\"MONTH\"] = dfw[\"TIME\"].dt.month\n",
    "col =np.array(dfw[\"MONTH\"] ,np.int64)\n",
    "dfw[\"MONTH\"]  = col\n",
    "\n",
    "dfw['DAY'] = dfw['TIME'].dt.dayofweek\n",
    "col =np.array(dfw['DAY'],np.int64) \n",
    "dfw['DAY'] = col \n",
    "dfw[\"DAY_num\"] = dfw[\"TIME\"].dt.day\n",
    "col =np.array(dfw[\"DAY_num\"],np.int64)\n",
    "dfw[\"DAY_num\"] = col\n",
    "\n",
    "dfw[\"HOUR\"] = dfw[\"TIME\"].dt.hour\n",
    "col =np.array(dfw[\"HOUR\"] ,np.int64)\n",
    "dfw[\"HOUR\"]  = col\n",
    "\n",
    "dfw[\"MINUTE\"] = dfw[\"TIME\"].dt.minute\n",
    "col =np.array(dfw[\"MINUTE\"] ,np.int64)\n",
    "dfw[\"MINUTE\"] = col"
   ]
  },
  {
   "cell_type": "code",
   "execution_count": 23,
   "id": "873f260d",
   "metadata": {},
   "outputs": [
    {
     "data": {
      "text/plain": [
       "0   2023-03-13 09:00:00\n",
       "1   2023-03-28 10:00:00\n",
       "2   2023-03-31 01:00:00\n",
       "3   2023-03-15 06:00:00\n",
       "4   2023-03-31 01:00:00\n",
       "Name: TIME, dtype: datetime64[ns]"
      ]
     },
     "execution_count": 23,
     "metadata": {},
     "output_type": "execute_result"
    }
   ],
   "source": [
    "dfw['TIME'] = dfw['TIME'].dt.round('H')\n",
    "dfw['TIME'] .head()"
   ]
  },
  {
   "cell_type": "code",
   "execution_count": 24,
   "id": "b823182a",
   "metadata": {},
   "outputs": [
    {
     "data": {
      "text/plain": [
       "array(['Wed', 'Thu', 'Sat', 'Sun', 'Tue', 'Mon', 'Fri'], dtype=object)"
      ]
     },
     "execution_count": 24,
     "metadata": {},
     "output_type": "execute_result"
    }
   ],
   "source": [
    "df.loc[df['DAY'] == 0, 'DAY_name'] = 'Mon'  \n",
    "df.loc[df['DAY'] == 1, 'DAY_name'] = 'Tue'  \n",
    "df.loc[df['DAY'] == 2, 'DAY_name'] = 'Wed'  \n",
    "df.loc[df['DAY'] == 3, 'DAY_name'] = 'Thu'  \n",
    "df.loc[df['DAY'] == 4, 'DAY_name'] = 'Fri' \n",
    "df.loc[df['DAY'] == 5, 'DAY_name'] = 'Sat' \n",
    "df.loc[df['DAY'] == 6, 'DAY_name'] = 'Sun' \n",
    "df[\"DAY_name\"].unique()"
   ]
  },
  {
   "cell_type": "code",
   "execution_count": 25,
   "id": "62ade5e1",
   "metadata": {},
   "outputs": [
    {
     "data": {
      "text/plain": [
       "array(['Wed', 'Thu', 'Sat', 'Sun', 'Tue', 'Mon', 'Fri'], dtype=object)"
      ]
     },
     "execution_count": 25,
     "metadata": {},
     "output_type": "execute_result"
    }
   ],
   "source": [
    "dfw.loc[df['DAY'] == 0, 'DAY_name'] = 'Mon'  \n",
    "dfw.loc[df['DAY'] == 1, 'DAY_name'] = 'Tue'  \n",
    "dfw.loc[df['DAY'] == 2, 'DAY_name'] = 'Wed'  \n",
    "dfw.loc[df['DAY'] == 3, 'DAY_name'] = 'Thu'  \n",
    "dfw.loc[df['DAY'] == 4, 'DAY_name'] = 'Fri' \n",
    "dfw.loc[df['DAY'] == 5, 'DAY_name'] = 'Sat' \n",
    "dfw.loc[df['DAY'] == 6, 'DAY_name'] = 'Sun' \n",
    "dfw[\"DAY_name\"].unique()"
   ]
  },
  {
   "cell_type": "markdown",
   "id": "345c8d8c",
   "metadata": {},
   "source": [
    "## Create New Bike parameters "
   ]
  },
  {
   "cell_type": "code",
   "execution_count": 26,
   "id": "b2a2997f",
   "metadata": {},
   "outputs": [
    {
     "data": {
      "text/plain": [
       "0    0.875000\n",
       "1    0.722222\n",
       "2    0.789474\n",
       "3    0.514286\n",
       "4    0.525000\n",
       "Name: utilisation, dtype: float64"
      ]
     },
     "execution_count": 26,
     "metadata": {},
     "output_type": "execute_result"
    }
   ],
   "source": [
    "df['utilisation'] = df['bike_stand_available'] / df['bike_stand']\n",
    "df['utilisation'].head()"
   ]
  },
  {
   "cell_type": "markdown",
   "id": "2815ca69",
   "metadata": {},
   "source": [
    "## Set up Search Parameters for Bike (Station ID, Day) "
   ]
  },
  {
   "cell_type": "code",
   "execution_count": 65,
   "id": "2a7abbf2",
   "metadata": {},
   "outputs": [
    {
     "name": "stdout",
     "output_type": "stream",
     "text": [
      "OK\n"
     ]
    },
    {
     "data": {
      "image/png": "[encoded data removed]",
      "text/plain": [
       "<Figure size 640x480 with 1 Axes>"
      ]
     },
     "metadata": {},
     "output_type": "display_data"
    }
   ],
   "source": [
    "#Check Bike availability or Bike Parking Availability\n",
    "req = 'p' #input(\"Do you want to check for Bike Availability (Type: b) or Parking Availability (Type: p): \")\n",
    "if req == 'b' or req == 'B' or req == 'p' or req == 'P' or req == 'bike' or req == 'Bike' or req == 'park' or req == 'Park':\n",
    "\n",
    "    #Month\n",
    "    month_num = 3\n",
    "\n",
    "    #Day of the week\n",
    "    day_num = 4 #int(input(\"Enter Day Number (1 = Mon, 2 = Tues, 3 = Wed etc): \"))\n",
    "    \n",
    "    #Hour\n",
    "    hour_num = 12\n",
    "    \n",
    "    #Minute pass the hour\n",
    "    #min_num = int(input(\"Enter Minute pass the hour (0 - 15 - 30 - 45): \"))\n",
    "    \n",
    "    #Station ID\n",
    "    stationid = 25 #int(input(\"Enter Station ID (1 to 117): \"))\n",
    "\n",
    "    try:\n",
    "        stationname = df.loc[(df['number']==stationid),'name'].values[0]\n",
    "        \n",
    "        #Filter data based on certain input parameters\n",
    "        df['station_select'] = (df['YEAR']==2023) & (df['MONTH']==month_num) & (df['DAY']==day_num-1) & (df['number']==stationid)\n",
    "        \n",
    "        ## Set up x- and y-axis of Plot\n",
    "        x =df['HOUR'].loc[df['station_select']]\n",
    "\n",
    "        if req == 'bike' or req == 'Bike' or req == 'b' or req == 'B':\n",
    "            y = df['bike_available'].loc[df['station_select']]\n",
    "            plt.ylabel(\"Bike Availability\")\n",
    "            plt.title(f'Likely Bike Availability \\nfor {stationname} \\non {convert_day(day_num-1)}')\n",
    "            \n",
    "        elif req == 'park' or req == 'Park' or req == 'p' or req == 'P':\n",
    "            y = df['bike_stand_available'].loc[df['station_select']]\n",
    "            plt.ylabel(\"Bike Parking Availability\")\n",
    "            plt.title(f'Likely Bike Parking Availability \\nfor {stationname} \\non {convert_day(day_num-1)}')\n",
    "            print(\"OK\")\n",
    "       \n",
    "        #Set Up Plot\n",
    "        plt.xlabel(\"Time (24 hours)\")\n",
    "        ytick = np.array([0,2,4,6,8,10,12,14,16,18,20,22,24,26,28,30,32,34,36,38,40,42,44])\n",
    "        xtick = np.array([0,4,8,12,16,20,24])\n",
    "        plt.xticks(xtick)\n",
    "        plt.yticks(ytick)\n",
    "        plt.xlim(0,24)\n",
    "        plt.scatter(x,y)\n",
    "        plt.show()\n",
    "    except:\n",
    "        print (\"Station ID Does not exist\")\n",
    "    \n",
    "else:\n",
    "    print(\"Incorrect Entry\")"
   ]
  },
  {
   "cell_type": "markdown",
   "id": "1789e1a5",
   "metadata": {},
   "source": [
    "## Examine Weather Information"
   ]
  },
  {
   "cell_type": "code",
   "execution_count": 28,
   "id": "443d03cb",
   "metadata": {},
   "outputs": [
    {
     "data": {
      "text/plain": [
       "array(['Clouds', 'Rain', 'Drizzle', 'Snow', 'Clear', 'Mist', 'Fog'],\n",
       "      dtype=object)"
      ]
     },
     "execution_count": 28,
     "metadata": {},
     "output_type": "execute_result"
    }
   ],
   "source": [
    "#Convert from Kelvin to Celcsius\n",
    "dfw[\"temp\"] = dfw[\"temp\"]-273.15\n",
    "dfw[\"temp_feel\"] = dfw[\"temp_feel\"]-273.15\n",
    "\n",
    "#dfw[\"wind_speed\"].unique()\n",
    "dfw[\"weather_main\"].unique()"
   ]
  },
  {
   "cell_type": "code",
   "execution_count": 29,
   "id": "d4dd7f02",
   "metadata": {},
   "outputs": [
    {
     "data": {
      "text/plain": [
       "Series([], Name: temp, dtype: float64)"
      ]
     },
     "execution_count": 29,
     "metadata": {},
     "output_type": "execute_result"
    }
   ],
   "source": [
    "dfw['temp_check'] = (dfw['temp']==0)\n",
    "dfw[\"temp\"].loc[dfw['temp_check']]"
   ]
  },
  {
   "cell_type": "markdown",
   "id": "dbac638e",
   "metadata": {},
   "source": [
    "## Create new column putting numerical values to weather_main"
   ]
  },
  {
   "cell_type": "code",
   "execution_count": 30,
   "id": "317e6cff",
   "metadata": {},
   "outputs": [
    {
     "data": {
      "text/plain": [
       "array([2, 4, 3, 5, 1, 6, 7], dtype=int64)"
      ]
     },
     "execution_count": 30,
     "metadata": {},
     "output_type": "execute_result"
    }
   ],
   "source": [
    "dfw['weather_main'].replace(['Clouds', 'Rain','Snow','Clear','Drizzle','Mist','Fog'],[2, 4,5,1,3,6,7], inplace=True)\n",
    "dfw[\"weather_main\"].unique()"
   ]
  },
  {
   "cell_type": "code",
   "execution_count": 31,
   "id": "41f59f8c",
   "metadata": {},
   "outputs": [],
   "source": [
    "dfw['time_select'] = (dfw['DAY']==day_num-1) & (dfw['MONTH']==month_num) #& (dfw[\"HOUR_w\"] == hour_num)"
   ]
  },
  {
   "cell_type": "code",
   "execution_count": 61,
   "id": "3878dcc6",
   "metadata": {},
   "outputs": [
    {
     "data": {
      "image/png": "[encoded data removed]",
      "text/plain": [
       "<Figure size 640x480 with 1 Axes>"
      ]
     },
     "metadata": {},
     "output_type": "display_data"
    }
   ],
   "source": [
    "#Set X and Y plot\n",
    "x =dfw['HOUR'].loc[dfw['time_select']]\n",
    "y = dfw[\"temp\"].loc[dfw['time_select']]\n",
    "\n",
    "#Create Plot\n",
    "plt.title(f'Temperature Ranges \\non {convert_day(day_num-1)}s \\n in {convert_month(day_num-1)}')\n",
    "plt.xlabel(\"Time (24 hours)\")\n",
    "plt.ylabel(\"Temperatue - Degrees Celcsius\")\n",
    "#ytick = np.array([0,2,4,6,8,10,12,14,16,18,20,22,24,26,28,30,32,34,36,38,40,42,44])\n",
    "#xtick = np.array([0,4,8,12,16,20,24])\n",
    "#plt.xticks(xtick)\n",
    "#plt.yticks(ytick)\n",
    "plt.scatter(x,y)\n",
    "plt.show()"
   ]
  },
  {
   "cell_type": "code",
   "execution_count": 33,
   "id": "05754298",
   "metadata": {},
   "outputs": [
    {
     "data": {
      "text/plain": [
       "array([10.45, 12.25,  3.19,  9.88,  6.36,  2.45, 10.08,  2.61, 13.25,\n",
       "        6.61, 16.57, 10.36, 11.7 ,  3.47, 15.43, 10.77,  7.83,  6.86,\n",
       "       13.49, 11.17,  1.71,  7.92, 12.01,  3.28, 11.4 , 13.89,  7.5 ,\n",
       "       10.09,  2.27,  2.53, 10.86, 13.41, 10.35,  2.06,  7.18, 13.12,\n",
       "        6.33, 10.  ,  7.77,  9.8 , 15.9 ,  6.74,  8.81, 12.11, 10.43,\n",
       "       11.8 ,  6.34, 10.48, 11.86,  6.58,  3.17,  2.87, 13.37,  8.05,\n",
       "       10.26,  2.51, 11.76,  3.66,  8.04,  8.38, 12.64, 11.55,  7.56,\n",
       "        9.56,  6.87, 15.25, 11.97,  3.79,  7.94, 13.68,  2.4 , 13.08,\n",
       "        9.03,  2.32, 13.35,  2.63, 14.56,  3.29,  2.55, 11.  ,  7.69,\n",
       "        8.1 ,  9.52, 15.66,  3.2 , 12.28,  6.44,  9.92, 13.06, 14.87,\n",
       "        9.07,  7.87,  7.46, 15.27,  9.59, 12.77,  2.7 , 10.46, 11.26,\n",
       "       14.39,  3.08, 13.83, 13.44,  7.39,  1.86,  2.26, 13.81,  8.96,\n",
       "        3.44, 10.55, 15.02, 13.96, 11.87,  9.63,  9.11,  3.87, 10.1 ,\n",
       "        3.34,  7.62, 12.13,  6.54, 11.57,  3.59, 15.06, 14.74,  3.53,\n",
       "       13.4 ,  9.36, 15.42, 11.5 , 10.96, 13.19,  7.54, 15.31, 15.28,\n",
       "        8.68, 12.95, 13.23,  3.05,  6.32,  7.04,  7.76, 13.58,  7.42,\n",
       "        7.58, 11.77,  2.88,  2.94, 10.66, 11.61, 12.58, 14.4 ,  8.94,\n",
       "        3.15, 14.68, 14.66,  9.97, 15.97,  6.99,  7.53, 14.75, 12.66,\n",
       "        6.51,  3.04, 13.38, 11.29,  7.35, 11.07, 15.63, 14.71, 10.74,\n",
       "       14.42,  3.09, 10.82,  3.33,  9.49, 10.54,  7.17, 10.99,  7.63,\n",
       "       11.09])"
      ]
     },
     "execution_count": 33,
     "metadata": {},
     "output_type": "execute_result"
    }
   ],
   "source": [
    "y.unique()"
   ]
  },
  {
   "cell_type": "code",
   "execution_count": 62,
   "id": "21d861cb",
   "metadata": {},
   "outputs": [
    {
     "data": {
      "image/png": "[encoded data removed]",
      "text/plain": [
       "<Figure size 640x480 with 1 Axes>"
      ]
     },
     "metadata": {},
     "output_type": "display_data"
    }
   ],
   "source": [
    "#Set X and Y plot\n",
    "x =dfw['HOUR'].loc[dfw['time_select']]\n",
    "y = dfw[\"clouds\"].loc[dfw['time_select']]\n",
    "\n",
    "#Create Plot\n",
    "plt.title(f'Cloud Coverage  \\non {convert_day(day_num-1)}\\n in {convert_month(day_num-1)}')\n",
    "plt.xlabel(\"Time (24 hours)\")\n",
    "plt.ylabel(\"Cloud Coverage - %\")\n",
    "ytick = np.array([0,10,20,30,40,50,60,70,80,90,100])\n",
    "xtick = np.array([0,4,8,12,16,20,24])\n",
    "plt.xticks(xtick)\n",
    "plt.yticks(ytick)\n",
    "#plt.xlim(0,24)\n",
    "plt.scatter(x,y)\n",
    "plt.show()"
   ]
  },
  {
   "cell_type": "code",
   "execution_count": 35,
   "id": "037dbeae",
   "metadata": {},
   "outputs": [
    {
     "data": {
      "image/png": "[encoded data removed]",
      "text/plain": [
       "<Figure size 640x480 with 1 Axes>"
      ]
     },
     "metadata": {},
     "output_type": "display_data"
    }
   ],
   "source": [
    "#Set X and Y plot\n",
    "x =dfw['HOUR'].loc[dfw['time_select']]\n",
    "y = dfw[\"weather_main\"].loc[dfw['time_select']]\n",
    "\n",
    "#Create Plot\n",
    "plt.title(f'Weather \\non {convert_day(day_num-1)}s\\n in {convert_month(day_num-1)}')\n",
    "plt.xlabel(\"Time (24 hours)\")\n",
    "plt.ylabel(\"Weather\")\n",
    "#ytick = np.array([0,10,20,30,40,50,60,70,80,90,100])\n",
    "xtick = np.array([0,4,8,12,16,20,24])\n",
    "plt.xticks(xtick)\n",
    "#plt.yticks(ytick)\n",
    "#plt.xlim(0,24)\n",
    "plt.scatter(x,y,color='red')\n",
    "plt.show()"
   ]
  },
  {
   "cell_type": "markdown",
   "id": "5daa9f53",
   "metadata": {},
   "source": [
    "## Combine the two dataframes"
   ]
  },
  {
   "cell_type": "code",
   "execution_count": 36,
   "id": "7cb88348",
   "metadata": {},
   "outputs": [
    {
     "data": {
      "text/plain": [
       "((821117, 21), (1678, 23))"
      ]
     },
     "execution_count": 36,
     "metadata": {},
     "output_type": "execute_result"
    }
   ],
   "source": [
    "df.shape,dfw.shape"
   ]
  },
  {
   "cell_type": "code",
   "execution_count": 66,
   "id": "c8804bea",
   "metadata": {},
   "outputs": [
    {
     "data": {
      "text/plain": [
       "(1640866, 43)"
      ]
     },
     "execution_count": 66,
     "metadata": {},
     "output_type": "execute_result"
    }
   ],
   "source": [
    "dfbikeweath = pd.merge(df, dfw, on='TIME', how='inner')\n",
    "\n",
    "#dfbikeweath = df.merge(dfw, on=\"TIME\")\n",
    "dfbikeweath.shape"
   ]
  },
  {
   "cell_type": "code",
   "execution_count": 67,
   "id": "32b52078",
   "metadata": {},
   "outputs": [
    {
     "data": {
      "text/plain": [
       "True     1203\n",
       "False     475\n",
       "Name: TIME, dtype: int64"
      ]
     },
     "execution_count": 67,
     "metadata": {},
     "output_type": "execute_result"
    }
   ],
   "source": [
    "dfw[\"TIME\"].isin(df[\"TIME\"]).value_counts()"
   ]
  },
  {
   "cell_type": "code",
   "execution_count": 68,
   "id": "e0944e66",
   "metadata": {},
   "outputs": [
    {
     "data": {
      "text/plain": [
       "Index(['id_x', 'number', 'name', 'address', 'bike_stand',\n",
       "       'bike_stand_available', 'bike_available', 'status', 'last_update',\n",
       "       'creat_time_x', 'delete_flag_x', 'TIME', 'YEAR_x', 'MONTH_x', 'DAY_x',\n",
       "       'DAY_num_x', 'HOUR_x', 'MINUTE_x', 'DAY_name_x', 'utilisation',\n",
       "       'station_select', 'id_y', 'coord_lon', 'coord_lat', 'weather_id',\n",
       "       'weather_main', 'temp', 'temp_feel', 'wind_speed', 'clouds', 'sunrise',\n",
       "       'sunset', 'creat_time_y', 'delete_flag_y', 'YEAR_y', 'MONTH_y', 'DAY_y',\n",
       "       'DAY_num_y', 'HOUR_y', 'MINUTE_y', 'DAY_name_y', 'temp_check',\n",
       "       'time_select'],\n",
       "      dtype='object')"
      ]
     },
     "execution_count": 68,
     "metadata": {},
     "output_type": "execute_result"
    }
   ],
   "source": [
    "dfbikeweath.columns"
   ]
  },
  {
   "cell_type": "code",
   "execution_count": 69,
   "id": "60a6e7cc",
   "metadata": {},
   "outputs": [
    {
     "data": {
      "text/plain": [
       "['id_x',\n",
       " 'number',\n",
       " 'name',\n",
       " 'address',\n",
       " 'bike_stand',\n",
       " 'bike_stand_available',\n",
       " 'bike_available',\n",
       " 'weather_main',\n",
       " 'temp']"
      ]
     },
     "execution_count": 69,
     "metadata": {},
     "output_type": "execute_result"
    }
   ],
   "source": [
    "list(dfbikeweath.columns[:7]) + ['weather_main','temp']"
   ]
  },
  {
   "cell_type": "code",
   "execution_count": 70,
   "id": "59ed6854",
   "metadata": {},
   "outputs": [
    {
     "data": {
      "text/html": [
       "<div>\n",
       "<style scoped>\n",
       "    .dataframe tbody tr th:only-of-type {\n",
       "        vertical-align: middle;\n",
       "    }\n",
       "\n",
       "    .dataframe tbody tr th {\n",
       "        vertical-align: top;\n",
       "    }\n",
       "\n",
       "    .dataframe thead th {\n",
       "        text-align: right;\n",
       "    }\n",
       "</style>\n",
       "<table border=\"1\" class=\"dataframe\">\n",
       "  <thead>\n",
       "    <tr style=\"text-align: right;\">\n",
       "      <th></th>\n",
       "      <th>id_x</th>\n",
       "      <th>number</th>\n",
       "      <th>name</th>\n",
       "      <th>address</th>\n",
       "      <th>bike_stand</th>\n",
       "      <th>bike_stand_available</th>\n",
       "      <th>bike_available</th>\n",
       "      <th>weather_main</th>\n",
       "      <th>temp</th>\n",
       "    </tr>\n",
       "  </thead>\n",
       "  <tbody>\n",
       "    <tr>\n",
       "      <th>0</th>\n",
       "      <td>00003a0978d64fb0</td>\n",
       "      <td>5</td>\n",
       "      <td>CHARLEMONT PLACE</td>\n",
       "      <td>Charlemont Street</td>\n",
       "      <td>40</td>\n",
       "      <td>35</td>\n",
       "      <td>5</td>\n",
       "      <td>2</td>\n",
       "      <td>11.62</td>\n",
       "    </tr>\n",
       "    <tr>\n",
       "      <th>1</th>\n",
       "      <td>00003a0978d64fb0</td>\n",
       "      <td>5</td>\n",
       "      <td>CHARLEMONT PLACE</td>\n",
       "      <td>Charlemont Street</td>\n",
       "      <td>40</td>\n",
       "      <td>35</td>\n",
       "      <td>5</td>\n",
       "      <td>2</td>\n",
       "      <td>11.25</td>\n",
       "    </tr>\n",
       "    <tr>\n",
       "      <th>2</th>\n",
       "      <td>0014b63a121a4193</td>\n",
       "      <td>31</td>\n",
       "      <td>PARNELL STREET</td>\n",
       "      <td>Parnell Street</td>\n",
       "      <td>20</td>\n",
       "      <td>11</td>\n",
       "      <td>9</td>\n",
       "      <td>2</td>\n",
       "      <td>11.62</td>\n",
       "    </tr>\n",
       "    <tr>\n",
       "      <th>3</th>\n",
       "      <td>0014b63a121a4193</td>\n",
       "      <td>31</td>\n",
       "      <td>PARNELL STREET</td>\n",
       "      <td>Parnell Street</td>\n",
       "      <td>20</td>\n",
       "      <td>11</td>\n",
       "      <td>9</td>\n",
       "      <td>2</td>\n",
       "      <td>11.25</td>\n",
       "    </tr>\n",
       "    <tr>\n",
       "      <th>4</th>\n",
       "      <td>002fd7cc52824964</td>\n",
       "      <td>23</td>\n",
       "      <td>CUSTOM HOUSE</td>\n",
       "      <td>Custom House</td>\n",
       "      <td>30</td>\n",
       "      <td>7</td>\n",
       "      <td>23</td>\n",
       "      <td>2</td>\n",
       "      <td>11.62</td>\n",
       "    </tr>\n",
       "    <tr>\n",
       "      <th>5</th>\n",
       "      <td>002fd7cc52824964</td>\n",
       "      <td>23</td>\n",
       "      <td>CUSTOM HOUSE</td>\n",
       "      <td>Custom House</td>\n",
       "      <td>30</td>\n",
       "      <td>7</td>\n",
       "      <td>23</td>\n",
       "      <td>2</td>\n",
       "      <td>11.25</td>\n",
       "    </tr>\n",
       "    <tr>\n",
       "      <th>6</th>\n",
       "      <td>003dec99e0254373</td>\n",
       "      <td>10</td>\n",
       "      <td>DAME STREET</td>\n",
       "      <td>Dame Street</td>\n",
       "      <td>16</td>\n",
       "      <td>16</td>\n",
       "      <td>0</td>\n",
       "      <td>2</td>\n",
       "      <td>11.62</td>\n",
       "    </tr>\n",
       "    <tr>\n",
       "      <th>7</th>\n",
       "      <td>003dec99e0254373</td>\n",
       "      <td>10</td>\n",
       "      <td>DAME STREET</td>\n",
       "      <td>Dame Street</td>\n",
       "      <td>16</td>\n",
       "      <td>16</td>\n",
       "      <td>0</td>\n",
       "      <td>2</td>\n",
       "      <td>11.25</td>\n",
       "    </tr>\n",
       "    <tr>\n",
       "      <th>8</th>\n",
       "      <td>0045d06920584868</td>\n",
       "      <td>40</td>\n",
       "      <td>JERVIS STREET</td>\n",
       "      <td>Jervis Street</td>\n",
       "      <td>21</td>\n",
       "      <td>7</td>\n",
       "      <td>14</td>\n",
       "      <td>2</td>\n",
       "      <td>11.62</td>\n",
       "    </tr>\n",
       "    <tr>\n",
       "      <th>9</th>\n",
       "      <td>0045d06920584868</td>\n",
       "      <td>40</td>\n",
       "      <td>JERVIS STREET</td>\n",
       "      <td>Jervis Street</td>\n",
       "      <td>21</td>\n",
       "      <td>7</td>\n",
       "      <td>14</td>\n",
       "      <td>2</td>\n",
       "      <td>11.25</td>\n",
       "    </tr>\n",
       "  </tbody>\n",
       "</table>\n",
       "</div>"
      ],
      "text/plain": [
       "               id_x  number              name            address  bike_stand  \\\n",
       "0  00003a0978d64fb0       5  CHARLEMONT PLACE  Charlemont Street          40   \n",
       "1  00003a0978d64fb0       5  CHARLEMONT PLACE  Charlemont Street          40   \n",
       "2  0014b63a121a4193      31    PARNELL STREET     Parnell Street          20   \n",
       "3  0014b63a121a4193      31    PARNELL STREET     Parnell Street          20   \n",
       "4  002fd7cc52824964      23      CUSTOM HOUSE       Custom House          30   \n",
       "5  002fd7cc52824964      23      CUSTOM HOUSE       Custom House          30   \n",
       "6  003dec99e0254373      10       DAME STREET        Dame Street          16   \n",
       "7  003dec99e0254373      10       DAME STREET        Dame Street          16   \n",
       "8  0045d06920584868      40     JERVIS STREET      Jervis Street          21   \n",
       "9  0045d06920584868      40     JERVIS STREET      Jervis Street          21   \n",
       "\n",
       "   bike_stand_available  bike_available  weather_main   temp  \n",
       "0                    35               5             2  11.62  \n",
       "1                    35               5             2  11.25  \n",
       "2                    11               9             2  11.62  \n",
       "3                    11               9             2  11.25  \n",
       "4                     7              23             2  11.62  \n",
       "5                     7              23             2  11.25  \n",
       "6                    16               0             2  11.62  \n",
       "7                    16               0             2  11.25  \n",
       "8                     7              14             2  11.62  \n",
       "9                     7              14             2  11.25  "
      ]
     },
     "execution_count": 70,
     "metadata": {},
     "output_type": "execute_result"
    }
   ],
   "source": [
    "dfbikeweath.head(10)[list(dfbikeweath.columns[:7]) + ['weather_main','temp']]"
   ]
  },
  {
   "cell_type": "code",
   "execution_count": 71,
   "id": "ec2b37e0",
   "metadata": {},
   "outputs": [
    {
     "data": {
      "text/html": [
       "<div>\n",
       "<style scoped>\n",
       "    .dataframe tbody tr th:only-of-type {\n",
       "        vertical-align: middle;\n",
       "    }\n",
       "\n",
       "    .dataframe tbody tr th {\n",
       "        vertical-align: top;\n",
       "    }\n",
       "\n",
       "    .dataframe thead th {\n",
       "        text-align: right;\n",
       "    }\n",
       "</style>\n",
       "<table border=\"1\" class=\"dataframe\">\n",
       "  <thead>\n",
       "    <tr style=\"text-align: right;\">\n",
       "      <th></th>\n",
       "      <th>count</th>\n",
       "      <th>mean</th>\n",
       "      <th>std</th>\n",
       "      <th>min</th>\n",
       "      <th>25%</th>\n",
       "      <th>50%</th>\n",
       "      <th>75%</th>\n",
       "      <th>max</th>\n",
       "    </tr>\n",
       "  </thead>\n",
       "  <tbody>\n",
       "    <tr>\n",
       "      <th>number</th>\n",
       "      <td>1640866.0</td>\n",
       "      <td>60.118668</td>\n",
       "      <td>41.699117</td>\n",
       "      <td>1.0000</td>\n",
       "      <td>29.0000</td>\n",
       "      <td>59.000000</td>\n",
       "      <td>89.000000</td>\n",
       "      <td>507.0000</td>\n",
       "    </tr>\n",
       "    <tr>\n",
       "      <th>bike_stand</th>\n",
       "      <td>1640866.0</td>\n",
       "      <td>31.892994</td>\n",
       "      <td>7.630001</td>\n",
       "      <td>1.0000</td>\n",
       "      <td>29.0000</td>\n",
       "      <td>30.000000</td>\n",
       "      <td>40.000000</td>\n",
       "      <td>40.0000</td>\n",
       "    </tr>\n",
       "    <tr>\n",
       "      <th>bike_stand_available</th>\n",
       "      <td>1640866.0</td>\n",
       "      <td>19.795724</td>\n",
       "      <td>11.060572</td>\n",
       "      <td>0.0000</td>\n",
       "      <td>11.0000</td>\n",
       "      <td>20.000000</td>\n",
       "      <td>28.000000</td>\n",
       "      <td>40.0000</td>\n",
       "    </tr>\n",
       "    <tr>\n",
       "      <th>bike_available</th>\n",
       "      <td>1640866.0</td>\n",
       "      <td>11.743925</td>\n",
       "      <td>9.626861</td>\n",
       "      <td>0.0000</td>\n",
       "      <td>4.0000</td>\n",
       "      <td>10.000000</td>\n",
       "      <td>18.000000</td>\n",
       "      <td>40.0000</td>\n",
       "    </tr>\n",
       "    <tr>\n",
       "      <th>delete_flag_x</th>\n",
       "      <td>1640866.0</td>\n",
       "      <td>0.000000</td>\n",
       "      <td>0.000000</td>\n",
       "      <td>0.0000</td>\n",
       "      <td>0.0000</td>\n",
       "      <td>0.000000</td>\n",
       "      <td>0.000000</td>\n",
       "      <td>0.0000</td>\n",
       "    </tr>\n",
       "    <tr>\n",
       "      <th>YEAR_x</th>\n",
       "      <td>1640866.0</td>\n",
       "      <td>2023.000000</td>\n",
       "      <td>0.000000</td>\n",
       "      <td>2023.0000</td>\n",
       "      <td>2023.0000</td>\n",
       "      <td>2023.000000</td>\n",
       "      <td>2023.000000</td>\n",
       "      <td>2023.0000</td>\n",
       "    </tr>\n",
       "    <tr>\n",
       "      <th>MONTH_x</th>\n",
       "      <td>1640866.0</td>\n",
       "      <td>3.000000</td>\n",
       "      <td>0.000000</td>\n",
       "      <td>3.0000</td>\n",
       "      <td>3.0000</td>\n",
       "      <td>3.000000</td>\n",
       "      <td>3.000000</td>\n",
       "      <td>3.0000</td>\n",
       "    </tr>\n",
       "    <tr>\n",
       "      <th>DAY_x</th>\n",
       "      <td>1640866.0</td>\n",
       "      <td>3.178936</td>\n",
       "      <td>2.015525</td>\n",
       "      <td>0.0000</td>\n",
       "      <td>1.0000</td>\n",
       "      <td>3.000000</td>\n",
       "      <td>5.000000</td>\n",
       "      <td>6.0000</td>\n",
       "    </tr>\n",
       "    <tr>\n",
       "      <th>DAY_num_x</th>\n",
       "      <td>1640866.0</td>\n",
       "      <td>14.447888</td>\n",
       "      <td>7.252007</td>\n",
       "      <td>2.0000</td>\n",
       "      <td>8.0000</td>\n",
       "      <td>14.000000</td>\n",
       "      <td>21.000000</td>\n",
       "      <td>27.0000</td>\n",
       "    </tr>\n",
       "    <tr>\n",
       "      <th>HOUR_x</th>\n",
       "      <td>1640866.0</td>\n",
       "      <td>11.493854</td>\n",
       "      <td>6.911985</td>\n",
       "      <td>0.0000</td>\n",
       "      <td>6.0000</td>\n",
       "      <td>11.000000</td>\n",
       "      <td>17.000000</td>\n",
       "      <td>23.0000</td>\n",
       "    </tr>\n",
       "    <tr>\n",
       "      <th>MINUTE_x</th>\n",
       "      <td>1640866.0</td>\n",
       "      <td>29.489568</td>\n",
       "      <td>17.323373</td>\n",
       "      <td>0.0000</td>\n",
       "      <td>14.0000</td>\n",
       "      <td>29.000000</td>\n",
       "      <td>44.000000</td>\n",
       "      <td>59.0000</td>\n",
       "    </tr>\n",
       "    <tr>\n",
       "      <th>utilisation</th>\n",
       "      <td>1640866.0</td>\n",
       "      <td>0.610213</td>\n",
       "      <td>0.299513</td>\n",
       "      <td>0.0000</td>\n",
       "      <td>0.4000</td>\n",
       "      <td>0.666667</td>\n",
       "      <td>0.866667</td>\n",
       "      <td>1.0000</td>\n",
       "    </tr>\n",
       "    <tr>\n",
       "      <th>coord_lon</th>\n",
       "      <td>1640866.0</td>\n",
       "      <td>-6.260225</td>\n",
       "      <td>0.001131</td>\n",
       "      <td>-6.2649</td>\n",
       "      <td>-6.2603</td>\n",
       "      <td>-6.260300</td>\n",
       "      <td>-6.260300</td>\n",
       "      <td>-6.2550</td>\n",
       "    </tr>\n",
       "    <tr>\n",
       "      <th>coord_lat</th>\n",
       "      <td>1640866.0</td>\n",
       "      <td>53.349567</td>\n",
       "      <td>0.001210</td>\n",
       "      <td>53.3453</td>\n",
       "      <td>53.3498</td>\n",
       "      <td>53.349800</td>\n",
       "      <td>53.349800</td>\n",
       "      <td>53.3545</td>\n",
       "    </tr>\n",
       "    <tr>\n",
       "      <th>weather_id</th>\n",
       "      <td>1640866.0</td>\n",
       "      <td>732.900378</td>\n",
       "      <td>134.661802</td>\n",
       "      <td>300.0000</td>\n",
       "      <td>800.0000</td>\n",
       "      <td>803.000000</td>\n",
       "      <td>803.000000</td>\n",
       "      <td>803.0000</td>\n",
       "    </tr>\n",
       "    <tr>\n",
       "      <th>weather_main</th>\n",
       "      <td>1640866.0</td>\n",
       "      <td>2.451209</td>\n",
       "      <td>0.957876</td>\n",
       "      <td>1.0000</td>\n",
       "      <td>2.0000</td>\n",
       "      <td>2.000000</td>\n",
       "      <td>2.000000</td>\n",
       "      <td>7.0000</td>\n",
       "    </tr>\n",
       "    <tr>\n",
       "      <th>temp</th>\n",
       "      <td>1640866.0</td>\n",
       "      <td>7.297225</td>\n",
       "      <td>3.736838</td>\n",
       "      <td>-0.7300</td>\n",
       "      <td>4.3200</td>\n",
       "      <td>7.470000</td>\n",
       "      <td>10.410000</td>\n",
       "      <td>15.9200</td>\n",
       "    </tr>\n",
       "    <tr>\n",
       "      <th>temp_feel</th>\n",
       "      <td>1640866.0</td>\n",
       "      <td>4.610299</td>\n",
       "      <td>5.002383</td>\n",
       "      <td>-5.7700</td>\n",
       "      <td>0.6000</td>\n",
       "      <td>4.110000</td>\n",
       "      <td>9.670000</td>\n",
       "      <td>15.4000</td>\n",
       "    </tr>\n",
       "    <tr>\n",
       "      <th>wind_speed</th>\n",
       "      <td>1640866.0</td>\n",
       "      <td>6.069404</td>\n",
       "      <td>2.740535</td>\n",
       "      <td>1.0300</td>\n",
       "      <td>3.6000</td>\n",
       "      <td>5.660000</td>\n",
       "      <td>8.230000</td>\n",
       "      <td>13.8900</td>\n",
       "    </tr>\n",
       "    <tr>\n",
       "      <th>clouds</th>\n",
       "      <td>1640866.0</td>\n",
       "      <td>63.728405</td>\n",
       "      <td>21.594474</td>\n",
       "      <td>0.0000</td>\n",
       "      <td>75.0000</td>\n",
       "      <td>75.000000</td>\n",
       "      <td>75.000000</td>\n",
       "      <td>100.0000</td>\n",
       "    </tr>\n",
       "    <tr>\n",
       "      <th>delete_flag_y</th>\n",
       "      <td>1640866.0</td>\n",
       "      <td>0.000000</td>\n",
       "      <td>0.000000</td>\n",
       "      <td>0.0000</td>\n",
       "      <td>0.0000</td>\n",
       "      <td>0.000000</td>\n",
       "      <td>0.000000</td>\n",
       "      <td>0.0000</td>\n",
       "    </tr>\n",
       "    <tr>\n",
       "      <th>YEAR_y</th>\n",
       "      <td>1640866.0</td>\n",
       "      <td>2023.000000</td>\n",
       "      <td>0.000000</td>\n",
       "      <td>2023.0000</td>\n",
       "      <td>2023.0000</td>\n",
       "      <td>2023.000000</td>\n",
       "      <td>2023.000000</td>\n",
       "      <td>2023.0000</td>\n",
       "    </tr>\n",
       "    <tr>\n",
       "      <th>MONTH_y</th>\n",
       "      <td>1640866.0</td>\n",
       "      <td>3.000000</td>\n",
       "      <td>0.000000</td>\n",
       "      <td>3.0000</td>\n",
       "      <td>3.0000</td>\n",
       "      <td>3.000000</td>\n",
       "      <td>3.000000</td>\n",
       "      <td>3.0000</td>\n",
       "    </tr>\n",
       "    <tr>\n",
       "      <th>DAY_y</th>\n",
       "      <td>1640866.0</td>\n",
       "      <td>3.178936</td>\n",
       "      <td>2.015525</td>\n",
       "      <td>0.0000</td>\n",
       "      <td>1.0000</td>\n",
       "      <td>3.000000</td>\n",
       "      <td>5.000000</td>\n",
       "      <td>6.0000</td>\n",
       "    </tr>\n",
       "    <tr>\n",
       "      <th>DAY_num_y</th>\n",
       "      <td>1640866.0</td>\n",
       "      <td>14.447888</td>\n",
       "      <td>7.252007</td>\n",
       "      <td>2.0000</td>\n",
       "      <td>8.0000</td>\n",
       "      <td>14.000000</td>\n",
       "      <td>21.000000</td>\n",
       "      <td>27.0000</td>\n",
       "    </tr>\n",
       "    <tr>\n",
       "      <th>HOUR_y</th>\n",
       "      <td>1640866.0</td>\n",
       "      <td>11.493517</td>\n",
       "      <td>6.912162</td>\n",
       "      <td>0.0000</td>\n",
       "      <td>6.0000</td>\n",
       "      <td>11.000000</td>\n",
       "      <td>17.000000</td>\n",
       "      <td>23.0000</td>\n",
       "    </tr>\n",
       "    <tr>\n",
       "      <th>MINUTE_y</th>\n",
       "      <td>1640866.0</td>\n",
       "      <td>37.290832</td>\n",
       "      <td>18.395249</td>\n",
       "      <td>0.0000</td>\n",
       "      <td>27.0000</td>\n",
       "      <td>30.000000</td>\n",
       "      <td>57.000000</td>\n",
       "      <td>59.0000</td>\n",
       "    </tr>\n",
       "  </tbody>\n",
       "</table>\n",
       "</div>"
      ],
      "text/plain": [
       "                          count         mean         std        min  \\\n",
       "number                1640866.0    60.118668   41.699117     1.0000   \n",
       "bike_stand            1640866.0    31.892994    7.630001     1.0000   \n",
       "bike_stand_available  1640866.0    19.795724   11.060572     0.0000   \n",
       "bike_available        1640866.0    11.743925    9.626861     0.0000   \n",
       "delete_flag_x         1640866.0     0.000000    0.000000     0.0000   \n",
       "YEAR_x                1640866.0  2023.000000    0.000000  2023.0000   \n",
       "MONTH_x               1640866.0     3.000000    0.000000     3.0000   \n",
       "DAY_x                 1640866.0     3.178936    2.015525     0.0000   \n",
       "DAY_num_x             1640866.0    14.447888    7.252007     2.0000   \n",
       "HOUR_x                1640866.0    11.493854    6.911985     0.0000   \n",
       "MINUTE_x              1640866.0    29.489568   17.323373     0.0000   \n",
       "utilisation           1640866.0     0.610213    0.299513     0.0000   \n",
       "coord_lon             1640866.0    -6.260225    0.001131    -6.2649   \n",
       "coord_lat             1640866.0    53.349567    0.001210    53.3453   \n",
       "weather_id            1640866.0   732.900378  134.661802   300.0000   \n",
       "weather_main          1640866.0     2.451209    0.957876     1.0000   \n",
       "temp                  1640866.0     7.297225    3.736838    -0.7300   \n",
       "temp_feel             1640866.0     4.610299    5.002383    -5.7700   \n",
       "wind_speed            1640866.0     6.069404    2.740535     1.0300   \n",
       "clouds                1640866.0    63.728405   21.594474     0.0000   \n",
       "delete_flag_y         1640866.0     0.000000    0.000000     0.0000   \n",
       "YEAR_y                1640866.0  2023.000000    0.000000  2023.0000   \n",
       "MONTH_y               1640866.0     3.000000    0.000000     3.0000   \n",
       "DAY_y                 1640866.0     3.178936    2.015525     0.0000   \n",
       "DAY_num_y             1640866.0    14.447888    7.252007     2.0000   \n",
       "HOUR_y                1640866.0    11.493517    6.912162     0.0000   \n",
       "MINUTE_y              1640866.0    37.290832   18.395249     0.0000   \n",
       "\n",
       "                            25%          50%          75%        max  \n",
       "number                  29.0000    59.000000    89.000000   507.0000  \n",
       "bike_stand              29.0000    30.000000    40.000000    40.0000  \n",
       "bike_stand_available    11.0000    20.000000    28.000000    40.0000  \n",
       "bike_available           4.0000    10.000000    18.000000    40.0000  \n",
       "delete_flag_x            0.0000     0.000000     0.000000     0.0000  \n",
       "YEAR_x                2023.0000  2023.000000  2023.000000  2023.0000  \n",
       "MONTH_x                  3.0000     3.000000     3.000000     3.0000  \n",
       "DAY_x                    1.0000     3.000000     5.000000     6.0000  \n",
       "DAY_num_x                8.0000    14.000000    21.000000    27.0000  \n",
       "HOUR_x                   6.0000    11.000000    17.000000    23.0000  \n",
       "MINUTE_x                14.0000    29.000000    44.000000    59.0000  \n",
       "utilisation              0.4000     0.666667     0.866667     1.0000  \n",
       "coord_lon               -6.2603    -6.260300    -6.260300    -6.2550  \n",
       "coord_lat               53.3498    53.349800    53.349800    53.3545  \n",
       "weather_id             800.0000   803.000000   803.000000   803.0000  \n",
       "weather_main             2.0000     2.000000     2.000000     7.0000  \n",
       "temp                     4.3200     7.470000    10.410000    15.9200  \n",
       "temp_feel                0.6000     4.110000     9.670000    15.4000  \n",
       "wind_speed               3.6000     5.660000     8.230000    13.8900  \n",
       "clouds                  75.0000    75.000000    75.000000   100.0000  \n",
       "delete_flag_y            0.0000     0.000000     0.000000     0.0000  \n",
       "YEAR_y                2023.0000  2023.000000  2023.000000  2023.0000  \n",
       "MONTH_y                  3.0000     3.000000     3.000000     3.0000  \n",
       "DAY_y                    1.0000     3.000000     5.000000     6.0000  \n",
       "DAY_num_y                8.0000    14.000000    21.000000    27.0000  \n",
       "HOUR_y                   6.0000    11.000000    17.000000    23.0000  \n",
       "MINUTE_y                27.0000    30.000000    57.000000    59.0000  "
      ]
     },
     "execution_count": 71,
     "metadata": {},
     "output_type": "execute_result"
    }
   ],
   "source": [
    "dfbikeweath.describe().T"
   ]
  },
  {
   "cell_type": "code",
   "execution_count": 72,
   "id": "9a8aff3b",
   "metadata": {},
   "outputs": [
    {
     "data": {
      "text/html": [
       "<div>\n",
       "<style scoped>\n",
       "    .dataframe tbody tr th:only-of-type {\n",
       "        vertical-align: middle;\n",
       "    }\n",
       "\n",
       "    .dataframe tbody tr th {\n",
       "        vertical-align: top;\n",
       "    }\n",
       "\n",
       "    .dataframe thead th {\n",
       "        text-align: right;\n",
       "    }\n",
       "</style>\n",
       "<table border=\"1\" class=\"dataframe\">\n",
       "  <thead>\n",
       "    <tr style=\"text-align: right;\">\n",
       "      <th></th>\n",
       "      <th>id_x</th>\n",
       "      <th>number</th>\n",
       "      <th>name</th>\n",
       "      <th>address</th>\n",
       "      <th>bike_stand</th>\n",
       "      <th>bike_stand_available</th>\n",
       "      <th>bike_available</th>\n",
       "      <th>status</th>\n",
       "      <th>last_update</th>\n",
       "      <th>creat_time_x</th>\n",
       "      <th>...</th>\n",
       "      <th>delete_flag_y</th>\n",
       "      <th>YEAR_y</th>\n",
       "      <th>MONTH_y</th>\n",
       "      <th>DAY_y</th>\n",
       "      <th>DAY_num_y</th>\n",
       "      <th>HOUR_y</th>\n",
       "      <th>MINUTE_y</th>\n",
       "      <th>DAY_name_y</th>\n",
       "      <th>temp_check</th>\n",
       "      <th>time_select</th>\n",
       "    </tr>\n",
       "  </thead>\n",
       "  <tbody>\n",
       "    <tr>\n",
       "      <th>0</th>\n",
       "      <td>00003a0978d64fb0</td>\n",
       "      <td>5</td>\n",
       "      <td>CHARLEMONT PLACE</td>\n",
       "      <td>Charlemont Street</td>\n",
       "      <td>40</td>\n",
       "      <td>35</td>\n",
       "      <td>5</td>\n",
       "      <td>OPEN</td>\n",
       "      <td>2023-03-22 17:07:52</td>\n",
       "      <td>2023-03-22 17:09:30</td>\n",
       "      <td>...</td>\n",
       "      <td>0</td>\n",
       "      <td>2023</td>\n",
       "      <td>3</td>\n",
       "      <td>2</td>\n",
       "      <td>22</td>\n",
       "      <td>16</td>\n",
       "      <td>59</td>\n",
       "      <td>Fri</td>\n",
       "      <td>False</td>\n",
       "      <td>False</td>\n",
       "    </tr>\n",
       "    <tr>\n",
       "      <th>1</th>\n",
       "      <td>00003a0978d64fb0</td>\n",
       "      <td>5</td>\n",
       "      <td>CHARLEMONT PLACE</td>\n",
       "      <td>Charlemont Street</td>\n",
       "      <td>40</td>\n",
       "      <td>35</td>\n",
       "      <td>5</td>\n",
       "      <td>OPEN</td>\n",
       "      <td>2023-03-22 17:07:52</td>\n",
       "      <td>2023-03-22 17:09:30</td>\n",
       "      <td>...</td>\n",
       "      <td>0</td>\n",
       "      <td>2023</td>\n",
       "      <td>3</td>\n",
       "      <td>2</td>\n",
       "      <td>22</td>\n",
       "      <td>17</td>\n",
       "      <td>29</td>\n",
       "      <td>Sun</td>\n",
       "      <td>False</td>\n",
       "      <td>False</td>\n",
       "    </tr>\n",
       "    <tr>\n",
       "      <th>2</th>\n",
       "      <td>0014b63a121a4193</td>\n",
       "      <td>31</td>\n",
       "      <td>PARNELL STREET</td>\n",
       "      <td>Parnell Street</td>\n",
       "      <td>20</td>\n",
       "      <td>11</td>\n",
       "      <td>9</td>\n",
       "      <td>OPEN</td>\n",
       "      <td>2023-03-22 17:28:32</td>\n",
       "      <td>2023-03-22 17:29:35</td>\n",
       "      <td>...</td>\n",
       "      <td>0</td>\n",
       "      <td>2023</td>\n",
       "      <td>3</td>\n",
       "      <td>2</td>\n",
       "      <td>22</td>\n",
       "      <td>16</td>\n",
       "      <td>59</td>\n",
       "      <td>Fri</td>\n",
       "      <td>False</td>\n",
       "      <td>False</td>\n",
       "    </tr>\n",
       "    <tr>\n",
       "      <th>3</th>\n",
       "      <td>0014b63a121a4193</td>\n",
       "      <td>31</td>\n",
       "      <td>PARNELL STREET</td>\n",
       "      <td>Parnell Street</td>\n",
       "      <td>20</td>\n",
       "      <td>11</td>\n",
       "      <td>9</td>\n",
       "      <td>OPEN</td>\n",
       "      <td>2023-03-22 17:28:32</td>\n",
       "      <td>2023-03-22 17:29:35</td>\n",
       "      <td>...</td>\n",
       "      <td>0</td>\n",
       "      <td>2023</td>\n",
       "      <td>3</td>\n",
       "      <td>2</td>\n",
       "      <td>22</td>\n",
       "      <td>17</td>\n",
       "      <td>29</td>\n",
       "      <td>Sun</td>\n",
       "      <td>False</td>\n",
       "      <td>False</td>\n",
       "    </tr>\n",
       "    <tr>\n",
       "      <th>4</th>\n",
       "      <td>002fd7cc52824964</td>\n",
       "      <td>23</td>\n",
       "      <td>CUSTOM HOUSE</td>\n",
       "      <td>Custom House</td>\n",
       "      <td>30</td>\n",
       "      <td>7</td>\n",
       "      <td>23</td>\n",
       "      <td>OPEN</td>\n",
       "      <td>2023-03-22 17:26:24</td>\n",
       "      <td>2023-03-22 17:29:35</td>\n",
       "      <td>...</td>\n",
       "      <td>0</td>\n",
       "      <td>2023</td>\n",
       "      <td>3</td>\n",
       "      <td>2</td>\n",
       "      <td>22</td>\n",
       "      <td>16</td>\n",
       "      <td>59</td>\n",
       "      <td>Fri</td>\n",
       "      <td>False</td>\n",
       "      <td>False</td>\n",
       "    </tr>\n",
       "  </tbody>\n",
       "</table>\n",
       "<p>5 rows × 43 columns</p>\n",
       "</div>"
      ],
      "text/plain": [
       "               id_x  number              name            address  bike_stand  \\\n",
       "0  00003a0978d64fb0       5  CHARLEMONT PLACE  Charlemont Street          40   \n",
       "1  00003a0978d64fb0       5  CHARLEMONT PLACE  Charlemont Street          40   \n",
       "2  0014b63a121a4193      31    PARNELL STREET     Parnell Street          20   \n",
       "3  0014b63a121a4193      31    PARNELL STREET     Parnell Street          20   \n",
       "4  002fd7cc52824964      23      CUSTOM HOUSE       Custom House          30   \n",
       "\n",
       "   bike_stand_available  bike_available status          last_update  \\\n",
       "0                    35               5   OPEN  2023-03-22 17:07:52   \n",
       "1                    35               5   OPEN  2023-03-22 17:07:52   \n",
       "2                    11               9   OPEN  2023-03-22 17:28:32   \n",
       "3                    11               9   OPEN  2023-03-22 17:28:32   \n",
       "4                     7              23   OPEN  2023-03-22 17:26:24   \n",
       "\n",
       "          creat_time_x  ...  delete_flag_y YEAR_y  MONTH_y  DAY_y  DAY_num_y  \\\n",
       "0  2023-03-22 17:09:30  ...              0   2023        3      2         22   \n",
       "1  2023-03-22 17:09:30  ...              0   2023        3      2         22   \n",
       "2  2023-03-22 17:29:35  ...              0   2023        3      2         22   \n",
       "3  2023-03-22 17:29:35  ...              0   2023        3      2         22   \n",
       "4  2023-03-22 17:29:35  ...              0   2023        3      2         22   \n",
       "\n",
       "   HOUR_y  MINUTE_y  DAY_name_y temp_check  time_select  \n",
       "0      16        59         Fri      False        False  \n",
       "1      17        29         Sun      False        False  \n",
       "2      16        59         Fri      False        False  \n",
       "3      17        29         Sun      False        False  \n",
       "4      16        59         Fri      False        False  \n",
       "\n",
       "[5 rows x 43 columns]"
      ]
     },
     "execution_count": 72,
     "metadata": {},
     "output_type": "execute_result"
    }
   ],
   "source": [
    "dfbikeweath.head()"
   ]
  },
  {
   "cell_type": "markdown",
   "id": "7ede8867",
   "metadata": {},
   "source": [
    "## Check if any missing values (NaN)"
   ]
  },
  {
   "cell_type": "code",
   "execution_count": 73,
   "id": "d0d35a28",
   "metadata": {},
   "outputs": [
    {
     "data": {
      "text/plain": [
       "0"
      ]
     },
     "execution_count": 73,
     "metadata": {},
     "output_type": "execute_result"
    }
   ],
   "source": [
    "dfbikeweath.isna().sum().sum()"
   ]
  },
  {
   "cell_type": "markdown",
   "id": "47d9f068",
   "metadata": {},
   "source": [
    "## Drop some of the unwanted columns "
   ]
  },
  {
   "cell_type": "code",
   "execution_count": 74,
   "id": "5d056a4a",
   "metadata": {},
   "outputs": [],
   "source": [
    "dfbikeweath.drop(labels=['delete_flag_y','id_x','delete_flag_x','address','status','last_update','coord_lon','coord_lat'],axis=1,inplace=True)"
   ]
  },
  {
   "cell_type": "code",
   "execution_count": 75,
   "id": "1ba2e6a4",
   "metadata": {},
   "outputs": [],
   "source": [
    "#dfbikeweath.dtypes"
   ]
  },
  {
   "cell_type": "markdown",
   "id": "972b99ef",
   "metadata": {},
   "source": [
    "## Split Data set to Train and Test"
   ]
  },
  {
   "cell_type": "code",
   "execution_count": 76,
   "id": "6c2f8360",
   "metadata": {},
   "outputs": [
    {
     "data": {
      "text/plain": [
       "((1312692, 35), (328174, 35))"
      ]
     },
     "execution_count": 76,
     "metadata": {},
     "output_type": "execute_result"
    }
   ],
   "source": [
    "train_set,test_set = train_test_split(dfbikeweath,test_size=0.2,random_state=42)\n",
    "train_set.shape,test_set.shape"
   ]
  },
  {
   "cell_type": "markdown",
   "id": "2e7f4e02",
   "metadata": {},
   "source": [
    "## Create a copy of Training set to carry out some preliminary analysis "
   ]
  },
  {
   "cell_type": "code",
   "execution_count": 77,
   "id": "86977655",
   "metadata": {},
   "outputs": [],
   "source": [
    "bikes = train_set.copy()\n",
    "#bikes.dtypes"
   ]
  },
  {
   "cell_type": "code",
   "execution_count": 78,
   "id": "b1d49210",
   "metadata": {},
   "outputs": [
    {
     "name": "stderr",
     "output_type": "stream",
     "text": [
      "C:\\Users\\corma\\AppData\\Local\\Temp\\ipykernel_16508\\295380.py:1: FutureWarning: The default value of numeric_only in DataFrame.corr is deprecated. In a future version, it will default to False. Select only valid columns or specify the value of numeric_only to silence this warning.\n",
      "  corr_matrix = bikes.corr()\n"
     ]
    }
   ],
   "source": [
    "corr_matrix = bikes.corr()"
   ]
  },
  {
   "cell_type": "code",
   "execution_count": 79,
   "id": "e3f8e7ae",
   "metadata": {},
   "outputs": [
    {
     "data": {
      "text/plain": [
       "bike_available          1.000000\n",
       "bike_stand              0.223730\n",
       "number                  0.023497\n",
       "DAY_x                   0.014485\n",
       "DAY_y                   0.014463\n",
       "clouds                  0.005051\n",
       "station_select          0.004323\n",
       "weather_main            0.004309\n",
       "MINUTE_x               -0.000481\n",
       "MINUTE_y               -0.000920\n",
       "DAY_num_x              -0.001456\n",
       "DAY_num_y              -0.001460\n",
       "weather_id             -0.001986\n",
       "wind_speed             -0.003546\n",
       "time_select            -0.008174\n",
       "temp_feel              -0.011270\n",
       "temp                   -0.011574\n",
       "HOUR_y                 -0.011818\n",
       "HOUR_x                 -0.011892\n",
       "bike_stand_available   -0.694750\n",
       "utilisation            -0.866011\n",
       "YEAR_x                       NaN\n",
       "MONTH_x                      NaN\n",
       "YEAR_y                       NaN\n",
       "MONTH_y                      NaN\n",
       "temp_check                   NaN\n",
       "Name: bike_available, dtype: float64"
      ]
     },
     "execution_count": 79,
     "metadata": {},
     "output_type": "execute_result"
    }
   ],
   "source": [
    "corr_matrix['bike_available'].sort_values(ascending = False)"
   ]
  },
  {
   "cell_type": "markdown",
   "id": "b5f8f3e6",
   "metadata": {},
   "source": [
    "## Correlation based on weather"
   ]
  },
  {
   "cell_type": "code",
   "execution_count": 80,
   "id": "ccf83480",
   "metadata": {},
   "outputs": [
    {
     "data": {
      "text/html": [
       "<div>\n",
       "<style scoped>\n",
       "    .dataframe tbody tr th:only-of-type {\n",
       "        vertical-align: middle;\n",
       "    }\n",
       "\n",
       "    .dataframe tbody tr th {\n",
       "        vertical-align: top;\n",
       "    }\n",
       "\n",
       "    .dataframe thead th {\n",
       "        text-align: right;\n",
       "    }\n",
       "</style>\n",
       "<table border=\"1\" class=\"dataframe\">\n",
       "  <thead>\n",
       "    <tr style=\"text-align: right;\">\n",
       "      <th></th>\n",
       "      <th>bike_available</th>\n",
       "      <th>weather_main</th>\n",
       "      <th>clouds</th>\n",
       "      <th>wind_speed</th>\n",
       "      <th>weather_id</th>\n",
       "      <th>temp_feel</th>\n",
       "      <th>temp</th>\n",
       "    </tr>\n",
       "  </thead>\n",
       "  <tbody>\n",
       "    <tr>\n",
       "      <th>bike_available</th>\n",
       "      <td>1.000000</td>\n",
       "      <td>0.004309</td>\n",
       "      <td>0.005051</td>\n",
       "      <td>-0.003546</td>\n",
       "      <td>-0.001986</td>\n",
       "      <td>-0.011270</td>\n",
       "      <td>-0.011574</td>\n",
       "    </tr>\n",
       "    <tr>\n",
       "      <th>weather_main</th>\n",
       "      <td>0.004309</td>\n",
       "      <td>1.000000</td>\n",
       "      <td>0.307769</td>\n",
       "      <td>0.148817</td>\n",
       "      <td>-0.780445</td>\n",
       "      <td>-0.089756</td>\n",
       "      <td>-0.060996</td>\n",
       "    </tr>\n",
       "    <tr>\n",
       "      <th>clouds</th>\n",
       "      <td>0.005051</td>\n",
       "      <td>0.307769</td>\n",
       "      <td>1.000000</td>\n",
       "      <td>0.095396</td>\n",
       "      <td>-0.239394</td>\n",
       "      <td>0.181944</td>\n",
       "      <td>0.204834</td>\n",
       "    </tr>\n",
       "    <tr>\n",
       "      <th>wind_speed</th>\n",
       "      <td>-0.003546</td>\n",
       "      <td>0.148817</td>\n",
       "      <td>0.095396</td>\n",
       "      <td>1.000000</td>\n",
       "      <td>-0.144138</td>\n",
       "      <td>0.250494</td>\n",
       "      <td>0.411942</td>\n",
       "    </tr>\n",
       "    <tr>\n",
       "      <th>weather_id</th>\n",
       "      <td>-0.001986</td>\n",
       "      <td>-0.780445</td>\n",
       "      <td>-0.239394</td>\n",
       "      <td>-0.144138</td>\n",
       "      <td>1.000000</td>\n",
       "      <td>0.046037</td>\n",
       "      <td>0.028552</td>\n",
       "    </tr>\n",
       "    <tr>\n",
       "      <th>temp_feel</th>\n",
       "      <td>-0.011270</td>\n",
       "      <td>-0.089756</td>\n",
       "      <td>0.181944</td>\n",
       "      <td>0.250494</td>\n",
       "      <td>0.046037</td>\n",
       "      <td>1.000000</td>\n",
       "      <td>0.971809</td>\n",
       "    </tr>\n",
       "    <tr>\n",
       "      <th>temp</th>\n",
       "      <td>-0.011574</td>\n",
       "      <td>-0.060996</td>\n",
       "      <td>0.204834</td>\n",
       "      <td>0.411942</td>\n",
       "      <td>0.028552</td>\n",
       "      <td>0.971809</td>\n",
       "      <td>1.000000</td>\n",
       "    </tr>\n",
       "  </tbody>\n",
       "</table>\n",
       "</div>"
      ],
      "text/plain": [
       "                bike_available  weather_main    clouds  wind_speed  \\\n",
       "bike_available        1.000000      0.004309  0.005051   -0.003546   \n",
       "weather_main          0.004309      1.000000  0.307769    0.148817   \n",
       "clouds                0.005051      0.307769  1.000000    0.095396   \n",
       "wind_speed           -0.003546      0.148817  0.095396    1.000000   \n",
       "weather_id           -0.001986     -0.780445 -0.239394   -0.144138   \n",
       "temp_feel            -0.011270     -0.089756  0.181944    0.250494   \n",
       "temp                 -0.011574     -0.060996  0.204834    0.411942   \n",
       "\n",
       "                weather_id  temp_feel      temp  \n",
       "bike_available   -0.001986  -0.011270 -0.011574  \n",
       "weather_main     -0.780445  -0.089756 -0.060996  \n",
       "clouds           -0.239394   0.181944  0.204834  \n",
       "wind_speed       -0.144138   0.250494  0.411942  \n",
       "weather_id        1.000000   0.046037  0.028552  \n",
       "temp_feel         0.046037   1.000000  0.971809  \n",
       "temp              0.028552   0.971809  1.000000  "
      ]
     },
     "execution_count": 80,
     "metadata": {},
     "output_type": "execute_result"
    }
   ],
   "source": [
    "bikes[['bike_available','weather_main','clouds','wind_speed','weather_id','temp_feel','temp']].corr()"
   ]
  },
  {
   "cell_type": "markdown",
   "id": "921f64e8",
   "metadata": {},
   "source": [
    "fig, axs = plt.subplots(2, 3, sharey=True)\n",
    "bikes.plot(kind='scatter', x='weather_main', y='bike_available', label=\"%.3f\" % bikes[['weather_main', 'bike_available']].corr().to_numpy()[0,1], ax=axs[0][0], figsize=(10, 5))\n",
    "bikes.plot(kind='scatter', x='clouds', y='bike_available', label=\"%.3f\" % bikes[['clouds', 'bike_available']].corr().to_numpy()[0,1], ax=axs[0][1])\n",
    "bikes.plot(kind='scatter', x='wind_speed', y='bike_available', label=\"%.3f\" % bikes[['wind_speed', 'bike_available']].corr().to_numpy()[0,1], ax=axs[0][2])\n",
    "bikes.plot(kind='scatter', x='weather_id', y='bike_available', label=\"%.3f\" % bikes[['weather_id', 'bike_available']].corr().to_numpy()[0,1], ax=axs[1][0])\n",
    "bikes.plot(kind='scatter', x='temp_feel', y='bike_available', label=\"%.3f\" % bikes[['temp_feel', 'bike_available']].corr().to_numpy()[0,1], ax=axs[1][1])\n",
    "bikes.plot(kind='scatter', x='temp', y='bike_available', label=\"%.3f\" % bikes[['temp', 'bike_available']].corr().to_numpy()[0,1], ax=axs[1][2])"
   ]
  },
  {
   "cell_type": "markdown",
   "id": "c4712f30",
   "metadata": {},
   "source": [
    "## Correlation based on time"
   ]
  },
  {
   "cell_type": "code",
   "execution_count": 81,
   "id": "814d0870",
   "metadata": {},
   "outputs": [
    {
     "data": {
      "text/html": [
       "<div>\n",
       "<style scoped>\n",
       "    .dataframe tbody tr th:only-of-type {\n",
       "        vertical-align: middle;\n",
       "    }\n",
       "\n",
       "    .dataframe tbody tr th {\n",
       "        vertical-align: top;\n",
       "    }\n",
       "\n",
       "    .dataframe thead th {\n",
       "        text-align: right;\n",
       "    }\n",
       "</style>\n",
       "<table border=\"1\" class=\"dataframe\">\n",
       "  <thead>\n",
       "    <tr style=\"text-align: right;\">\n",
       "      <th></th>\n",
       "      <th>bike_available</th>\n",
       "      <th>HOUR_x</th>\n",
       "      <th>DAY_num_x</th>\n",
       "      <th>MINUTE_x</th>\n",
       "      <th>DAY_x</th>\n",
       "    </tr>\n",
       "  </thead>\n",
       "  <tbody>\n",
       "    <tr>\n",
       "      <th>bike_available</th>\n",
       "      <td>1.000000</td>\n",
       "      <td>-0.011892</td>\n",
       "      <td>-0.001456</td>\n",
       "      <td>-0.000481</td>\n",
       "      <td>0.014485</td>\n",
       "    </tr>\n",
       "    <tr>\n",
       "      <th>HOUR_x</th>\n",
       "      <td>-0.011892</td>\n",
       "      <td>1.000000</td>\n",
       "      <td>-0.059778</td>\n",
       "      <td>-0.003214</td>\n",
       "      <td>0.025881</td>\n",
       "    </tr>\n",
       "    <tr>\n",
       "      <th>DAY_num_x</th>\n",
       "      <td>-0.001456</td>\n",
       "      <td>-0.059778</td>\n",
       "      <td>1.000000</td>\n",
       "      <td>-0.000840</td>\n",
       "      <td>0.011365</td>\n",
       "    </tr>\n",
       "    <tr>\n",
       "      <th>MINUTE_x</th>\n",
       "      <td>-0.000481</td>\n",
       "      <td>-0.003214</td>\n",
       "      <td>-0.000840</td>\n",
       "      <td>1.000000</td>\n",
       "      <td>0.003355</td>\n",
       "    </tr>\n",
       "    <tr>\n",
       "      <th>DAY_x</th>\n",
       "      <td>0.014485</td>\n",
       "      <td>0.025881</td>\n",
       "      <td>0.011365</td>\n",
       "      <td>0.003355</td>\n",
       "      <td>1.000000</td>\n",
       "    </tr>\n",
       "  </tbody>\n",
       "</table>\n",
       "</div>"
      ],
      "text/plain": [
       "                bike_available    HOUR_x  DAY_num_x  MINUTE_x     DAY_x\n",
       "bike_available        1.000000 -0.011892  -0.001456 -0.000481  0.014485\n",
       "HOUR_x               -0.011892  1.000000  -0.059778 -0.003214  0.025881\n",
       "DAY_num_x            -0.001456 -0.059778   1.000000 -0.000840  0.011365\n",
       "MINUTE_x             -0.000481 -0.003214  -0.000840  1.000000  0.003355\n",
       "DAY_x                 0.014485  0.025881   0.011365  0.003355  1.000000"
      ]
     },
     "execution_count": 81,
     "metadata": {},
     "output_type": "execute_result"
    }
   ],
   "source": [
    "bikes[['bike_available','HOUR_x','DAY_num_x','MINUTE_x','DAY_x']].corr()"
   ]
  },
  {
   "cell_type": "markdown",
   "id": "6f56fb13",
   "metadata": {},
   "source": [
    "fig, axs = plt.subplots(1, 3, sharey=True)\n",
    "bikes.plot(kind='scatter', x='HOUR_x', y='bike_available', label=\"%.3f\" % bikes[['HOUR_x', 'bike_available']].corr().to_numpy()[0,1], ax=axs[0], figsize=(10, 5))\n",
    "bikes.plot(kind='scatter', x='DAY_num_x', y='bike_available', label=\"%.3f\" % bikes[['DAY_num_x', 'bike_available']].corr().to_numpy()[0,1], ax=axs[1], figsize=(10, 5))\n",
    "bikes.plot(kind='scatter', x='DAY_x', y='bike_available', label=\"%.3f\" % bikes[['DAY_x', 'bike_available']].corr().to_numpy()[0,1], ax=axs[2], figsize=(10, 5))"
   ]
  },
  {
   "cell_type": "markdown",
   "id": "b7ea8d94",
   "metadata": {},
   "source": [
    "## Correlation based on bike"
   ]
  },
  {
   "cell_type": "code",
   "execution_count": 82,
   "id": "421ef939",
   "metadata": {},
   "outputs": [
    {
     "data": {
      "text/html": [
       "<div>\n",
       "<style scoped>\n",
       "    .dataframe tbody tr th:only-of-type {\n",
       "        vertical-align: middle;\n",
       "    }\n",
       "\n",
       "    .dataframe tbody tr th {\n",
       "        vertical-align: top;\n",
       "    }\n",
       "\n",
       "    .dataframe thead th {\n",
       "        text-align: right;\n",
       "    }\n",
       "</style>\n",
       "<table border=\"1\" class=\"dataframe\">\n",
       "  <thead>\n",
       "    <tr style=\"text-align: right;\">\n",
       "      <th></th>\n",
       "      <th>bike_available</th>\n",
       "      <th>bike_stand_available</th>\n",
       "      <th>bike_stand</th>\n",
       "      <th>utilisation</th>\n",
       "    </tr>\n",
       "  </thead>\n",
       "  <tbody>\n",
       "    <tr>\n",
       "      <th>bike_available</th>\n",
       "      <td>1.000000</td>\n",
       "      <td>-0.694750</td>\n",
       "      <td>0.223730</td>\n",
       "      <td>-0.866011</td>\n",
       "    </tr>\n",
       "    <tr>\n",
       "      <th>bike_stand_available</th>\n",
       "      <td>-0.694750</td>\n",
       "      <td>1.000000</td>\n",
       "      <td>0.515434</td>\n",
       "      <td>0.895084</td>\n",
       "    </tr>\n",
       "    <tr>\n",
       "      <th>bike_stand</th>\n",
       "      <td>0.223730</td>\n",
       "      <td>0.515434</td>\n",
       "      <td>1.000000</td>\n",
       "      <td>0.146033</td>\n",
       "    </tr>\n",
       "    <tr>\n",
       "      <th>utilisation</th>\n",
       "      <td>-0.866011</td>\n",
       "      <td>0.895084</td>\n",
       "      <td>0.146033</td>\n",
       "      <td>1.000000</td>\n",
       "    </tr>\n",
       "  </tbody>\n",
       "</table>\n",
       "</div>"
      ],
      "text/plain": [
       "                      bike_available  bike_stand_available  bike_stand  \\\n",
       "bike_available              1.000000             -0.694750    0.223730   \n",
       "bike_stand_available       -0.694750              1.000000    0.515434   \n",
       "bike_stand                  0.223730              0.515434    1.000000   \n",
       "utilisation                -0.866011              0.895084    0.146033   \n",
       "\n",
       "                      utilisation  \n",
       "bike_available          -0.866011  \n",
       "bike_stand_available     0.895084  \n",
       "bike_stand               0.146033  \n",
       "utilisation              1.000000  "
      ]
     },
     "execution_count": 82,
     "metadata": {},
     "output_type": "execute_result"
    }
   ],
   "source": [
    "#NOTE: Utilisation is 'bike_available' / 'bike_stand'\n",
    "bikes[['bike_available','bike_stand_available','bike_stand','utilisation']].corr()"
   ]
  },
  {
   "cell_type": "markdown",
   "id": "accc8f52",
   "metadata": {},
   "source": [
    "## Create Model of Bike Availability by StationID (Y Axis) "
   ]
  },
  {
   "cell_type": "code",
   "execution_count": 89,
   "id": "8aafb4f5",
   "metadata": {},
   "outputs": [
    {
     "data": {
      "text/plain": [
       "(1629,)"
      ]
     },
     "execution_count": 89,
     "metadata": {},
     "output_type": "execute_result"
    }
   ],
   "source": [
    "y = bikes['bike_available'].loc[bikes['station_select']]\n",
    "y.shape"
   ]
  },
  {
   "cell_type": "markdown",
   "id": "c8a586a2",
   "metadata": {},
   "source": [
    "## Prepare Linear Regression inputs - choose single feature or features"
   ]
  },
  {
   "cell_type": "code",
   "execution_count": 105,
   "id": "f737e8ef",
   "metadata": {},
   "outputs": [
    {
     "name": "stdout",
     "output_type": "stream",
     "text": [
      "\n",
      "Intercept: \n",
      " 9.022183735511028\n",
      "Features: \n",
      " ['temp_feel']\n",
      "Coeficients: \n",
      " [0.71627917]\n"
     ]
    }
   ],
   "source": [
    "weather_features = ['weather_main','clouds','temp', 'weather_id', 'wind_speed','temp_feel']\n",
    "bike_features = ['bike_stand']\n",
    "time_features = ['HOUR_x','DAY_num_x','MINUTE_x','Day_of_Week_x']\n",
    "all_features = ['weather_main','clouds','temp', 'weather_id', 'wind_speed','temp_feel','bike_stand','HOUR_x','DAY_num_x','MINUTE_x','Day_of_Week_x']\n",
    "\n",
    "feature = ['temp_feel']\n",
    "features = weather_features\n",
    "\n",
    "X = bikes[feature].loc[bikes['station_select']]\n",
    "\n",
    "linreg = LinearRegression()\n",
    "linreg.fit(X, y)\n",
    "          \n",
    "# Print the estimated linear regression coefficients.\n",
    "print(\"\\nIntercept: \\n\", linreg.intercept_)\n",
    "print(\"Features: \\n\", feature)\n",
    "print(\"Coeficients: \\n\", linreg.coef_)"
   ]
  },
  {
   "cell_type": "markdown",
   "id": "0a07fd9b",
   "metadata": {},
   "source": [
    "## Test the model - Linear Regression"
   ]
  },
  {
   "cell_type": "code",
   "execution_count": 109,
   "id": "ff0fe8f7",
   "metadata": {},
   "outputs": [
    {
     "name": "stdout",
     "output_type": "stream",
     "text": [
      "\n",
      "Prediction based on: (['temp_feel'], Bike Availability, Predicted Bike Availability): 2 , 14 , 11\n",
      "\n",
      "For MERRION SQUARE EAST: ---\n"
     ]
    },
    {
     "data": {
      "text/html": [
       "<div>\n",
       "<style scoped>\n",
       "    .dataframe tbody tr th:only-of-type {\n",
       "        vertical-align: middle;\n",
       "    }\n",
       "\n",
       "    .dataframe tbody tr th {\n",
       "        vertical-align: top;\n",
       "    }\n",
       "\n",
       "    .dataframe thead th {\n",
       "        text-align: right;\n",
       "    }\n",
       "</style>\n",
       "<table border=\"1\" class=\"dataframe\">\n",
       "  <thead>\n",
       "    <tr style=\"text-align: right;\">\n",
       "      <th></th>\n",
       "      <th>bike_available</th>\n",
       "      <th>Predicted</th>\n",
       "    </tr>\n",
       "  </thead>\n",
       "  <tbody>\n",
       "    <tr>\n",
       "      <th>1144290</th>\n",
       "      <td>14</td>\n",
       "      <td>11.0</td>\n",
       "    </tr>\n",
       "    <tr>\n",
       "      <th>558957</th>\n",
       "      <td>21</td>\n",
       "      <td>19.0</td>\n",
       "    </tr>\n",
       "    <tr>\n",
       "      <th>1044561</th>\n",
       "      <td>11</td>\n",
       "      <td>7.0</td>\n",
       "    </tr>\n",
       "    <tr>\n",
       "      <th>361011</th>\n",
       "      <td>23</td>\n",
       "      <td>18.0</td>\n",
       "    </tr>\n",
       "    <tr>\n",
       "      <th>1553341</th>\n",
       "      <td>10</td>\n",
       "      <td>16.0</td>\n",
       "    </tr>\n",
       "    <tr>\n",
       "      <th>...</th>\n",
       "      <td>...</td>\n",
       "      <td>...</td>\n",
       "    </tr>\n",
       "    <tr>\n",
       "      <th>394295</th>\n",
       "      <td>3</td>\n",
       "      <td>6.0</td>\n",
       "    </tr>\n",
       "    <tr>\n",
       "      <th>1550173</th>\n",
       "      <td>25</td>\n",
       "      <td>18.0</td>\n",
       "    </tr>\n",
       "    <tr>\n",
       "      <th>1006080</th>\n",
       "      <td>12</td>\n",
       "      <td>17.0</td>\n",
       "    </tr>\n",
       "    <tr>\n",
       "      <th>716756</th>\n",
       "      <td>5</td>\n",
       "      <td>12.0</td>\n",
       "    </tr>\n",
       "    <tr>\n",
       "      <th>1307371</th>\n",
       "      <td>9</td>\n",
       "      <td>12.0</td>\n",
       "    </tr>\n",
       "  </tbody>\n",
       "</table>\n",
       "<p>1629 rows × 2 columns</p>\n",
       "</div>"
      ],
      "text/plain": [
       "         bike_available  Predicted\n",
       "1144290              14       11.0\n",
       "558957               21       19.0\n",
       "1044561              11        7.0\n",
       "361011               23       18.0\n",
       "1553341              10       16.0\n",
       "...                 ...        ...\n",
       "394295                3        6.0\n",
       "1550173              25       18.0\n",
       "1006080              12       17.0\n",
       "716756                5       12.0\n",
       "1307371               9       12.0\n",
       "\n",
       "[1629 rows x 2 columns]"
      ]
     },
     "execution_count": 109,
     "metadata": {},
     "output_type": "execute_result"
    }
   ],
   "source": [
    "# Predicted scores \n",
    "linreg_predictions = linreg.predict(X).round(0)\n",
    "print(f\"\\nPrediction based on: ({feature}, Bike Availability, Predicted Bike Availability): {int(X.values[0])} , {y.values[0]} , {int(linreg_predictions[0])}\")\n",
    "actual_vs_predicted = pd.concat([y,pd.DataFrame(linreg_predictions, columns=['Predicted'], index=y.index)], axis=1)\n",
    "print(f\"\\nFor {stationname}: ---\")\n",
    "actual_vs_predicted"
   ]
  },
  {
   "cell_type": "code",
   "execution_count": 98,
   "id": "dfb7884d",
   "metadata": {},
   "outputs": [],
   "source": [
    "# Actual Bike Availability - Value | Frequency\n",
    "(unique, counts) = np.unique(y, return_counts=True)\n",
    "frequencies = np.asarray((unique, counts)).T\n",
    "#print(frequencies)"
   ]
  },
  {
   "cell_type": "markdown",
   "id": "a64f664a",
   "metadata": {},
   "source": [
    "## Plot Results - Linear Regression "
   ]
  },
  {
   "cell_type": "code",
   "execution_count": 115,
   "id": "0839addc",
   "metadata": {},
   "outputs": [
    {
     "data": {
      "text/plain": [
       "<matplotlib.collections.PathCollection at 0x202b6132080>"
      ]
     },
     "execution_count": 115,
     "metadata": {},
     "output_type": "execute_result"
    },
    {
     "data": {
      "image/png": "[encoded data removed]",
      "text/plain": [
       "<Figure size 640x480 with 1 Axes>"
      ]
     },
     "metadata": {},
     "output_type": "display_data"
    }
   ],
   "source": [
    "plt.title(f'Predicted Bike Availability for {stationname}\\n Using Linear Regression \\nBased on {feature}')\n",
    "plt.xlabel(\"Predicted\")\n",
    "plt.ylabel(\"Actual\")\n",
    "plt.xlim(0,40)\n",
    "plt.ylim(0,40)\n",
    "plt.scatter(linreg_predictions, y)"
   ]
  },
  {
   "cell_type": "markdown",
   "id": "d951a15a",
   "metadata": {},
   "source": [
    "plt.scatter(linreg_predictions, y, color=\"blue\")\n",
    "plt.title(f'Bike Availability for {stationname}\\n Using Linear Regression \\n feature is {feature}')\n",
    "plt.xlabel(\"Predictions\")\n",
    "plt.ylabel(\"Actual\")\n",
    "plt.xlim(0,40)\n",
    "plt.ylim(0,40)\n",
    "#plt.xticks(())\n",
    "#plt.yticks(())\n",
    "plt.show()"
   ]
  },
  {
   "cell_type": "markdown",
   "id": "b1abd83b",
   "metadata": {},
   "source": [
    "## Model based on Multiple Regression - multiple features "
   ]
  },
  {
   "cell_type": "code",
   "execution_count": 118,
   "id": "e63e0880",
   "metadata": {},
   "outputs": [
    {
     "name": "stdout",
     "output_type": "stream",
     "text": [
      "\n",
      "Intercept: \n",
      " -5.937487395072218\n",
      "Features: \n",
      " ['weather_main', 'clouds', 'temp', 'weather_id', 'wind_speed', 'temp_feel']\n",
      "Coeficients: \n",
      " [ 0.46061599  0.00893562  1.2828877   0.00957292  0.08908662 -0.18972761]\n"
     ]
    }
   ],
   "source": [
    "y = bikes['bike_available'].loc[bikes['station_select']]\n",
    "X = bikes[features].loc[bikes['station_select']]\n",
    "\n",
    "linreg_m = LinearRegression()\n",
    "linreg_m.fit(X[features], y)\n",
    "\n",
    "# Print the estimated linear regression coefficients.\n",
    "print(\"\\nIntercept: \\n\", linreg_m.intercept_)\n",
    "print(\"Features: \\n\", features)\n",
    "print(\"Coeficients: \\n\", linreg_m.coef_)"
   ]
  },
  {
   "cell_type": "markdown",
   "id": "644d83b1",
   "metadata": {},
   "source": [
    "## Test the model - Multiple Regression"
   ]
  },
  {
   "cell_type": "code",
   "execution_count": 123,
   "id": "5cc7a51c",
   "metadata": {},
   "outputs": [
    {
     "name": "stdout",
     "output_type": "stream",
     "text": [
      "\n",
      "For MERRION SQUARE EAST: ---\n"
     ]
    },
    {
     "data": {
      "text/html": [
       "<div>\n",
       "<style scoped>\n",
       "    .dataframe tbody tr th:only-of-type {\n",
       "        vertical-align: middle;\n",
       "    }\n",
       "\n",
       "    .dataframe tbody tr th {\n",
       "        vertical-align: top;\n",
       "    }\n",
       "\n",
       "    .dataframe thead th {\n",
       "        text-align: right;\n",
       "    }\n",
       "</style>\n",
       "<table border=\"1\" class=\"dataframe\">\n",
       "  <thead>\n",
       "    <tr style=\"text-align: right;\">\n",
       "      <th></th>\n",
       "      <th>bike_available</th>\n",
       "      <th>Predicted</th>\n",
       "    </tr>\n",
       "  </thead>\n",
       "  <tbody>\n",
       "    <tr>\n",
       "      <th>1144290</th>\n",
       "      <td>14</td>\n",
       "      <td>13.0</td>\n",
       "    </tr>\n",
       "    <tr>\n",
       "      <th>558957</th>\n",
       "      <td>21</td>\n",
       "      <td>20.0</td>\n",
       "    </tr>\n",
       "    <tr>\n",
       "      <th>1044561</th>\n",
       "      <td>11</td>\n",
       "      <td>7.0</td>\n",
       "    </tr>\n",
       "    <tr>\n",
       "      <th>361011</th>\n",
       "      <td>23</td>\n",
       "      <td>19.0</td>\n",
       "    </tr>\n",
       "    <tr>\n",
       "      <th>1553341</th>\n",
       "      <td>10</td>\n",
       "      <td>15.0</td>\n",
       "    </tr>\n",
       "    <tr>\n",
       "      <th>...</th>\n",
       "      <td>...</td>\n",
       "      <td>...</td>\n",
       "    </tr>\n",
       "    <tr>\n",
       "      <th>394295</th>\n",
       "      <td>3</td>\n",
       "      <td>8.0</td>\n",
       "    </tr>\n",
       "    <tr>\n",
       "      <th>1550173</th>\n",
       "      <td>25</td>\n",
       "      <td>18.0</td>\n",
       "    </tr>\n",
       "    <tr>\n",
       "      <th>1006080</th>\n",
       "      <td>12</td>\n",
       "      <td>15.0</td>\n",
       "    </tr>\n",
       "    <tr>\n",
       "      <th>716756</th>\n",
       "      <td>5</td>\n",
       "      <td>11.0</td>\n",
       "    </tr>\n",
       "    <tr>\n",
       "      <th>1307371</th>\n",
       "      <td>9</td>\n",
       "      <td>15.0</td>\n",
       "    </tr>\n",
       "  </tbody>\n",
       "</table>\n",
       "<p>1629 rows × 2 columns</p>\n",
       "</div>"
      ],
      "text/plain": [
       "         bike_available  Predicted\n",
       "1144290              14       13.0\n",
       "558957               21       20.0\n",
       "1044561              11        7.0\n",
       "361011               23       19.0\n",
       "1553341              10       15.0\n",
       "...                 ...        ...\n",
       "394295                3        8.0\n",
       "1550173              25       18.0\n",
       "1006080              12       15.0\n",
       "716756                5       11.0\n",
       "1307371               9       15.0\n",
       "\n",
       "[1629 rows x 2 columns]"
      ]
     },
     "execution_count": 123,
     "metadata": {},
     "output_type": "execute_result"
    }
   ],
   "source": [
    "# Predicted scores\n",
    "linreg_m_predictions = linreg_m.predict(X).round(0)\n",
    "\n",
    "actual_vs_predicted_m = pd.concat([y, pd.DataFrame(linreg_m_predictions, columns=['Predicted'], index=y.index)], axis=1)\n",
    "print(f\"\\nFor {stationname}: ---\")\n",
    "actual_vs_predicted_m"
   ]
  },
  {
   "cell_type": "code",
   "execution_count": 122,
   "id": "2c1d74c9",
   "metadata": {},
   "outputs": [],
   "source": [
    "# Predicted Bike Availability - Value | Frequency\n",
    "(unique, counts) = np.unique(linreg_m_predictions, return_counts=True)\n",
    "frequencies = np.asarray((unique, counts)).T\n",
    "#print(frequencies)"
   ]
  },
  {
   "cell_type": "markdown",
   "id": "7f14e656",
   "metadata": {},
   "source": [
    "## Plot Results - Multiple Regression"
   ]
  },
  {
   "cell_type": "code",
   "execution_count": 128,
   "id": "79293929",
   "metadata": {},
   "outputs": [
    {
     "data": {
      "text/plain": [
       "<matplotlib.collections.PathCollection at 0x20295f5d5a0>"
      ]
     },
     "execution_count": 128,
     "metadata": {},
     "output_type": "execute_result"
    },
    {
     "data": {
      "image/png": "[encoded data removed]",
      "text/plain": [
       "<Figure size 640x480 with 1 Axes>"
      ]
     },
     "metadata": {},
     "output_type": "display_data"
    }
   ],
   "source": [
    "plt.title(f'Predicted Bike Availability for {stationname}\\n Using Multiple Regression \\nBased on {features}')\n",
    "plt.xlabel(\"Predicted\")\n",
    "plt.ylabel(\"Actual\")\n",
    "plt.xlim(0,40)\n",
    "plt.ylim(0,40)\n",
    "plt.scatter(linreg_m_predictions, y)"
   ]
  },
  {
   "cell_type": "markdown",
   "id": "861d1826",
   "metadata": {},
   "source": [
    "plt.scatter(linreg_m_predictions, y, color=\"blue\")\n",
    "#plt.plot(X, treereg_predictions, color=\"blue\", linewidth=3)\n",
    "plt.title(f'Bike Availability \\n Multiple Regression \\n features are {features}')\n",
    "plt.xlabel(\"Predictions\")\n",
    "plt.ylabel(\"Actual\")\n",
    "#plt.xticks(())\n",
    "#plt.yticks(())\n",
    "plt.show()"
   ]
  },
  {
   "cell_type": "markdown",
   "id": "cbe18e5c",
   "metadata": {},
   "source": [
    "## Model based on Decision Tree Regressor "
   ]
  },
  {
   "cell_type": "code",
   "execution_count": 124,
   "id": "437079f7",
   "metadata": {},
   "outputs": [
    {
     "data": {
      "text/html": [
       "<style>#sk-container-id-1 {color: black;background-color: white;}#sk-container-id-1 pre{padding: 0;}#sk-container-id-1 div.sk-toggleable {background-color: white;}#sk-container-id-1 label.sk-toggleable__label {cursor: pointer;display: block;width: 100%;margin-bottom: 0;padding: 0.3em;box-sizing: border-box;text-align: center;}#sk-container-id-1 label.sk-toggleable__label-arrow:before {content: \"▸\";float: left;margin-right: 0.25em;color: #696969;}#sk-container-id-1 label.sk-toggleable__label-arrow:hover:before {color: black;}#sk-container-id-1 div.sk-estimator:hover label.sk-toggleable__label-arrow:before {color: black;}#sk-container-id-1 div.sk-toggleable__content {max-height: 0;max-width: 0;overflow: hidden;text-align: left;background-color: #f0f8ff;}#sk-container-id-1 div.sk-toggleable__content pre {margin: 0.2em;color: black;border-radius: 0.25em;background-color: #f0f8ff;}#sk-container-id-1 input.sk-toggleable__control:checked~div.sk-toggleable__content {max-height: 200px;max-width: 100%;overflow: auto;}#sk-container-id-1 input.sk-toggleable__control:checked~label.sk-toggleable__label-arrow:before {content: \"▾\";}#sk-container-id-1 div.sk-estimator input.sk-toggleable__control:checked~label.sk-toggleable__label {background-color: #d4ebff;}#sk-container-id-1 div.sk-label input.sk-toggleable__control:checked~label.sk-toggleable__label {background-color: #d4ebff;}#sk-container-id-1 input.sk-hidden--visually {border: 0;clip: rect(1px 1px 1px 1px);clip: rect(1px, 1px, 1px, 1px);height: 1px;margin: -1px;overflow: hidden;padding: 0;position: absolute;width: 1px;}#sk-container-id-1 div.sk-estimator {font-family: monospace;background-color: #f0f8ff;border: 1px dotted black;border-radius: 0.25em;box-sizing: border-box;margin-bottom: 0.5em;}#sk-container-id-1 div.sk-estimator:hover {background-color: #d4ebff;}#sk-container-id-1 div.sk-parallel-item::after {content: \"\";width: 100%;border-bottom: 1px solid gray;flex-grow: 1;}#sk-container-id-1 div.sk-label:hover label.sk-toggleable__label {background-color: #d4ebff;}#sk-container-id-1 div.sk-serial::before {content: \"\";position: absolute;border-left: 1px solid gray;box-sizing: border-box;top: 0;bottom: 0;left: 50%;z-index: 0;}#sk-container-id-1 div.sk-serial {display: flex;flex-direction: column;align-items: center;background-color: white;padding-right: 0.2em;padding-left: 0.2em;position: relative;}#sk-container-id-1 div.sk-item {position: relative;z-index: 1;}#sk-container-id-1 div.sk-parallel {display: flex;align-items: stretch;justify-content: center;background-color: white;position: relative;}#sk-container-id-1 div.sk-item::before, #sk-container-id-1 div.sk-parallel-item::before {content: \"\";position: absolute;border-left: 1px solid gray;box-sizing: border-box;top: 0;bottom: 0;left: 50%;z-index: -1;}#sk-container-id-1 div.sk-parallel-item {display: flex;flex-direction: column;z-index: 1;position: relative;background-color: white;}#sk-container-id-1 div.sk-parallel-item:first-child::after {align-self: flex-end;width: 50%;}#sk-container-id-1 div.sk-parallel-item:last-child::after {align-self: flex-start;width: 50%;}#sk-container-id-1 div.sk-parallel-item:only-child::after {width: 0;}#sk-container-id-1 div.sk-dashed-wrapped {border: 1px dashed gray;margin: 0 0.4em 0.5em 0.4em;box-sizing: border-box;padding-bottom: 0.4em;background-color: white;}#sk-container-id-1 div.sk-label label {font-family: monospace;font-weight: bold;display: inline-block;line-height: 1.2em;}#sk-container-id-1 div.sk-label-container {text-align: center;}#sk-container-id-1 div.sk-container {/* jupyter's `normalize.less` sets `[hidden] { display: none; }` but bootstrap.min.css set `[hidden] { display: none !important; }` so we also need the `!important` here to be able to override the default hidden behavior on the sphinx rendered scikit-learn.org. See: https://github.com/scikit-learn/scikit-learn/issues/21755 */display: inline-block !important;position: relative;}#sk-container-id-1 div.sk-text-repr-fallback {display: none;}</style><div id=\"sk-container-id-1\" class=\"sk-top-container\"><div class=\"sk-text-repr-fallback\"><pre>DecisionTreeRegressor()</pre><b>In a Jupyter environment, please rerun this cell to show the HTML representation or trust the notebook. <br />On GitHub, the HTML representation is unable to render, please try loading this page with nbviewer.org.</b></div><div class=\"sk-container\" hidden><div class=\"sk-item\"><div class=\"sk-estimator sk-toggleable\"><input class=\"sk-toggleable__control sk-hidden--visually\" id=\"sk-estimator-id-1\" type=\"checkbox\" checked><label for=\"sk-estimator-id-1\" class=\"sk-toggleable__label sk-toggleable__label-arrow\">DecisionTreeRegressor</label><div class=\"sk-toggleable__content\"><pre>DecisionTreeRegressor()</pre></div></div></div></div></div>"
      ],
      "text/plain": [
       "DecisionTreeRegressor()"
      ]
     },
     "execution_count": 124,
     "metadata": {},
     "output_type": "execute_result"
    }
   ],
   "source": [
    "y = bikes['bike_available'].loc[bikes['station_select']]\n",
    "X = bikes[features].loc[bikes['station_select']]\n",
    "\n",
    "#print(len(y))\n",
    "treereg = DecisionTreeRegressor()\n",
    "treereg.fit(X, y)"
   ]
  },
  {
   "cell_type": "code",
   "execution_count": 129,
   "id": "03151012",
   "metadata": {},
   "outputs": [
    {
     "name": "stdout",
     "output_type": "stream",
     "text": [
      "\n",
      "For MERRION SQUARE EAST: ---\n"
     ]
    },
    {
     "data": {
      "text/html": [
       "<div>\n",
       "<style scoped>\n",
       "    .dataframe tbody tr th:only-of-type {\n",
       "        vertical-align: middle;\n",
       "    }\n",
       "\n",
       "    .dataframe tbody tr th {\n",
       "        vertical-align: top;\n",
       "    }\n",
       "\n",
       "    .dataframe thead th {\n",
       "        text-align: right;\n",
       "    }\n",
       "</style>\n",
       "<table border=\"1\" class=\"dataframe\">\n",
       "  <thead>\n",
       "    <tr style=\"text-align: right;\">\n",
       "      <th></th>\n",
       "      <th>bike_available</th>\n",
       "      <th>Predicted</th>\n",
       "    </tr>\n",
       "  </thead>\n",
       "  <tbody>\n",
       "    <tr>\n",
       "      <th>1144290</th>\n",
       "      <td>14</td>\n",
       "      <td>14.0</td>\n",
       "    </tr>\n",
       "    <tr>\n",
       "      <th>558957</th>\n",
       "      <td>21</td>\n",
       "      <td>19.0</td>\n",
       "    </tr>\n",
       "    <tr>\n",
       "      <th>1044561</th>\n",
       "      <td>11</td>\n",
       "      <td>11.0</td>\n",
       "    </tr>\n",
       "    <tr>\n",
       "      <th>361011</th>\n",
       "      <td>23</td>\n",
       "      <td>25.0</td>\n",
       "    </tr>\n",
       "    <tr>\n",
       "      <th>1553341</th>\n",
       "      <td>10</td>\n",
       "      <td>10.0</td>\n",
       "    </tr>\n",
       "    <tr>\n",
       "      <th>...</th>\n",
       "      <td>...</td>\n",
       "      <td>...</td>\n",
       "    </tr>\n",
       "    <tr>\n",
       "      <th>394295</th>\n",
       "      <td>3</td>\n",
       "      <td>3.0</td>\n",
       "    </tr>\n",
       "    <tr>\n",
       "      <th>1550173</th>\n",
       "      <td>25</td>\n",
       "      <td>26.0</td>\n",
       "    </tr>\n",
       "    <tr>\n",
       "      <th>1006080</th>\n",
       "      <td>12</td>\n",
       "      <td>12.0</td>\n",
       "    </tr>\n",
       "    <tr>\n",
       "      <th>716756</th>\n",
       "      <td>5</td>\n",
       "      <td>4.0</td>\n",
       "    </tr>\n",
       "    <tr>\n",
       "      <th>1307371</th>\n",
       "      <td>9</td>\n",
       "      <td>9.0</td>\n",
       "    </tr>\n",
       "  </tbody>\n",
       "</table>\n",
       "<p>1629 rows × 2 columns</p>\n",
       "</div>"
      ],
      "text/plain": [
       "         bike_available  Predicted\n",
       "1144290              14       14.0\n",
       "558957               21       19.0\n",
       "1044561              11       11.0\n",
       "361011               23       25.0\n",
       "1553341              10       10.0\n",
       "...                 ...        ...\n",
       "394295                3        3.0\n",
       "1550173              25       26.0\n",
       "1006080              12       12.0\n",
       "716756                5        4.0\n",
       "1307371               9        9.0\n",
       "\n",
       "[1629 rows x 2 columns]"
      ]
     },
     "execution_count": 129,
     "metadata": {},
     "output_type": "execute_result"
    }
   ],
   "source": [
    "# Predicted scores for each example. \n",
    "treereg_predictions = treereg.predict(X).round(0)\n",
    "\n",
    "actual_vs_predicted_tree = pd.concat([y, pd.DataFrame(treereg_predictions, columns=['Predicted'], index=y.index)], axis=1)\n",
    "print(f\"\\nFor {stationname}: ---\")\n",
    "actual_vs_predicted_tree"
   ]
  },
  {
   "cell_type": "code",
   "execution_count": 130,
   "id": "0d16065a",
   "metadata": {},
   "outputs": [],
   "source": [
    "# Predicted Bike Availability - Value | Frequency\n",
    "(unique, counts) = np.unique(treereg_predictions, return_counts=True)\n",
    "frequencies = np.asarray((unique, counts)).T\n",
    "#print(frequencies)"
   ]
  },
  {
   "cell_type": "markdown",
   "id": "4f993afa",
   "metadata": {},
   "source": [
    "## Plot Results - Decision Tree Regressor "
   ]
  },
  {
   "cell_type": "code",
   "execution_count": 131,
   "id": "ad84bac8",
   "metadata": {},
   "outputs": [
    {
     "data": {
      "text/plain": [
       "<matplotlib.collections.PathCollection at 0x20295fb7d30>"
      ]
     },
     "execution_count": 131,
     "metadata": {},
     "output_type": "execute_result"
    },
    {
     "data": {
      "image/png": "[encoded data removed]",
      "text/plain": [
       "<Figure size 640x480 with 1 Axes>"
      ]
     },
     "metadata": {},
     "output_type": "display_data"
    }
   ],
   "source": [
    "plt.title(f'Predicted Bike Availability for {stationname}\\n Using Decision Tree Regressor \\nBased on {features}')\n",
    "plt.xlabel(\"Predicted\")\n",
    "plt.ylabel(\"Actual\")\n",
    "plt.xlim(0,40)\n",
    "plt.ylim(0,40)\n",
    "plt.scatter(treereg_predictions, y)"
   ]
  },
  {
   "cell_type": "markdown",
   "id": "de7099d8",
   "metadata": {},
   "source": [
    "plt.scatter(treereg_predictions, y, color=\"blue\")\n",
    "plt.title(f'Bike Availability \\n Decision Tree Regressor \\n features are {features}')\n",
    "plt.xlabel(\"Predictions\")\n",
    "plt.ylabel(\"Actual\")\n",
    "#plt.xticks(())\n",
    "#plt.yticks(())\n",
    "plt.show()"
   ]
  },
  {
   "cell_type": "markdown",
   "id": "9218e005",
   "metadata": {},
   "source": [
    "## Random Forest Model "
   ]
  },
  {
   "cell_type": "code",
   "execution_count": 132,
   "id": "4e08a312",
   "metadata": {},
   "outputs": [
    {
     "name": "stdout",
     "output_type": "stream",
     "text": [
      "\n",
      "For MERRION SQUARE EAST: ---\n"
     ]
    },
    {
     "data": {
      "text/html": [
       "<div>\n",
       "<style scoped>\n",
       "    .dataframe tbody tr th:only-of-type {\n",
       "        vertical-align: middle;\n",
       "    }\n",
       "\n",
       "    .dataframe tbody tr th {\n",
       "        vertical-align: top;\n",
       "    }\n",
       "\n",
       "    .dataframe thead th {\n",
       "        text-align: right;\n",
       "    }\n",
       "</style>\n",
       "<table border=\"1\" class=\"dataframe\">\n",
       "  <thead>\n",
       "    <tr style=\"text-align: right;\">\n",
       "      <th></th>\n",
       "      <th>bike_available</th>\n",
       "      <th>Predicted</th>\n",
       "    </tr>\n",
       "  </thead>\n",
       "  <tbody>\n",
       "    <tr>\n",
       "      <th>1144290</th>\n",
       "      <td>14</td>\n",
       "      <td>14.0</td>\n",
       "    </tr>\n",
       "    <tr>\n",
       "      <th>558957</th>\n",
       "      <td>21</td>\n",
       "      <td>19.0</td>\n",
       "    </tr>\n",
       "    <tr>\n",
       "      <th>1044561</th>\n",
       "      <td>11</td>\n",
       "      <td>11.0</td>\n",
       "    </tr>\n",
       "    <tr>\n",
       "      <th>361011</th>\n",
       "      <td>23</td>\n",
       "      <td>25.0</td>\n",
       "    </tr>\n",
       "    <tr>\n",
       "      <th>1553341</th>\n",
       "      <td>10</td>\n",
       "      <td>10.0</td>\n",
       "    </tr>\n",
       "    <tr>\n",
       "      <th>...</th>\n",
       "      <td>...</td>\n",
       "      <td>...</td>\n",
       "    </tr>\n",
       "    <tr>\n",
       "      <th>394295</th>\n",
       "      <td>3</td>\n",
       "      <td>3.0</td>\n",
       "    </tr>\n",
       "    <tr>\n",
       "      <th>1550173</th>\n",
       "      <td>25</td>\n",
       "      <td>25.0</td>\n",
       "    </tr>\n",
       "    <tr>\n",
       "      <th>1006080</th>\n",
       "      <td>12</td>\n",
       "      <td>12.0</td>\n",
       "    </tr>\n",
       "    <tr>\n",
       "      <th>716756</th>\n",
       "      <td>5</td>\n",
       "      <td>4.0</td>\n",
       "    </tr>\n",
       "    <tr>\n",
       "      <th>1307371</th>\n",
       "      <td>9</td>\n",
       "      <td>9.0</td>\n",
       "    </tr>\n",
       "  </tbody>\n",
       "</table>\n",
       "<p>1629 rows × 2 columns</p>\n",
       "</div>"
      ],
      "text/plain": [
       "         bike_available  Predicted\n",
       "1144290              14       14.0\n",
       "558957               21       19.0\n",
       "1044561              11       11.0\n",
       "361011               23       25.0\n",
       "1553341              10       10.0\n",
       "...                 ...        ...\n",
       "394295                3        3.0\n",
       "1550173              25       25.0\n",
       "1006080              12       12.0\n",
       "716756                5        4.0\n",
       "1307371               9        9.0\n",
       "\n",
       "[1629 rows x 2 columns]"
      ]
     },
     "execution_count": 132,
     "metadata": {},
     "output_type": "execute_result"
    }
   ],
   "source": [
    "y = bikes['bike_available'].loc[bikes['station_select']]\n",
    "X = bikes[features].loc[bikes['station_select']]\n",
    "\n",
    "randomforest = RandomForestRegressor()\n",
    "randomforest.fit(X, y)\n",
    "\n",
    "randomforest_predictions = randomforest.predict(X).round(0)\n",
    "\n",
    "actual_vs_predicted_randomforest = pd.concat([y,pd.DataFrame(randomforest_predictions, columns=['Predicted'], index=y.index)], axis=1)\n",
    "print(f\"\\nFor {stationname}: ---\")\n",
    "actual_vs_predicted_randomforest"
   ]
  },
  {
   "cell_type": "code",
   "execution_count": 137,
   "id": "13fdaf63",
   "metadata": {},
   "outputs": [
    {
     "data": {
      "text/plain": [
       "<matplotlib.collections.PathCollection at 0x2029648d5a0>"
      ]
     },
     "execution_count": 137,
     "metadata": {},
     "output_type": "execute_result"
    },
    {
     "data": {
      "image/png": "[encoded data removed]",
      "text/plain": [
       "<Figure size 640x480 with 1 Axes>"
      ]
     },
     "metadata": {},
     "output_type": "display_data"
    }
   ],
   "source": [
    "plt.title(f'Predicted Bike Availability for {stationname}\\n Using Random Forest \\nBased on {features}')\n",
    "plt.xlabel(\"Predicted\")\n",
    "plt.ylabel(\"Actual\")\n",
    "plt.xlim(0,40)\n",
    "plt.ylim(0,40)\n",
    "plt.scatter(randomforest_predictions, y)"
   ]
  },
  {
   "cell_type": "markdown",
   "id": "ea29e025",
   "metadata": {},
   "source": [
    "## Try Lasso Regression "
   ]
  },
  {
   "cell_type": "code",
   "execution_count": 134,
   "id": "ed99cea4",
   "metadata": {},
   "outputs": [],
   "source": [
    "y = bikes['bike_available'].loc[bikes['station_select']]\n",
    "X = bikes[features].loc[bikes['station_select']]\n",
    "\n",
    "scaler = StandardScaler().fit(X)\n",
    "X = scaler.transform(X)"
   ]
  },
  {
   "cell_type": "code",
   "execution_count": 135,
   "id": "6e604037",
   "metadata": {},
   "outputs": [
    {
     "name": "stdout",
     "output_type": "stream",
     "text": [
      "\n",
      "Intercept: \n",
      " 12.92756292203806\n",
      "Features: \n",
      " ['weather_main', 'clouds', 'temp', 'weather_id', 'wind_speed', 'temp_feel']\n",
      "Coeficients: \n",
      " [-0.         -0.          3.33860481  0.15802983  0.          0.        ]\n"
     ]
    }
   ],
   "source": [
    "lassoreg = Lasso(alpha=1)\n",
    "lassoreg.fit(X, y)\n",
    "\n",
    "# Print the estimated lasso regression coefficients.\n",
    "print(\"\\nIntercept: \\n\", lassoreg.intercept_)\n",
    "print(\"Features: \\n\", features)\n",
    "print(\"Coeficients: \\n\", lassoreg.coef_)"
   ]
  },
  {
   "cell_type": "code",
   "execution_count": 136,
   "id": "3973dbc5",
   "metadata": {},
   "outputs": [
    {
     "name": "stdout",
     "output_type": "stream",
     "text": [
      "\n",
      "For MERRION SQUARE EAST: ---\n"
     ]
    },
    {
     "data": {
      "text/html": [
       "<div>\n",
       "<style scoped>\n",
       "    .dataframe tbody tr th:only-of-type {\n",
       "        vertical-align: middle;\n",
       "    }\n",
       "\n",
       "    .dataframe tbody tr th {\n",
       "        vertical-align: top;\n",
       "    }\n",
       "\n",
       "    .dataframe thead th {\n",
       "        text-align: right;\n",
       "    }\n",
       "</style>\n",
       "<table border=\"1\" class=\"dataframe\">\n",
       "  <thead>\n",
       "    <tr style=\"text-align: right;\">\n",
       "      <th></th>\n",
       "      <th>bike_available</th>\n",
       "      <th>Predicted</th>\n",
       "    </tr>\n",
       "  </thead>\n",
       "  <tbody>\n",
       "    <tr>\n",
       "      <th>1144290</th>\n",
       "      <td>14</td>\n",
       "      <td>12.0</td>\n",
       "    </tr>\n",
       "    <tr>\n",
       "      <th>558957</th>\n",
       "      <td>21</td>\n",
       "      <td>19.0</td>\n",
       "    </tr>\n",
       "    <tr>\n",
       "      <th>1044561</th>\n",
       "      <td>11</td>\n",
       "      <td>8.0</td>\n",
       "    </tr>\n",
       "    <tr>\n",
       "      <th>361011</th>\n",
       "      <td>23</td>\n",
       "      <td>17.0</td>\n",
       "    </tr>\n",
       "    <tr>\n",
       "      <th>1553341</th>\n",
       "      <td>10</td>\n",
       "      <td>15.0</td>\n",
       "    </tr>\n",
       "    <tr>\n",
       "      <th>...</th>\n",
       "      <td>...</td>\n",
       "      <td>...</td>\n",
       "    </tr>\n",
       "    <tr>\n",
       "      <th>394295</th>\n",
       "      <td>3</td>\n",
       "      <td>8.0</td>\n",
       "    </tr>\n",
       "    <tr>\n",
       "      <th>1550173</th>\n",
       "      <td>25</td>\n",
       "      <td>17.0</td>\n",
       "    </tr>\n",
       "    <tr>\n",
       "      <th>1006080</th>\n",
       "      <td>12</td>\n",
       "      <td>15.0</td>\n",
       "    </tr>\n",
       "    <tr>\n",
       "      <th>716756</th>\n",
       "      <td>5</td>\n",
       "      <td>11.0</td>\n",
       "    </tr>\n",
       "    <tr>\n",
       "      <th>1307371</th>\n",
       "      <td>9</td>\n",
       "      <td>13.0</td>\n",
       "    </tr>\n",
       "  </tbody>\n",
       "</table>\n",
       "<p>1629 rows × 2 columns</p>\n",
       "</div>"
      ],
      "text/plain": [
       "         bike_available  Predicted\n",
       "1144290              14       12.0\n",
       "558957               21       19.0\n",
       "1044561              11        8.0\n",
       "361011               23       17.0\n",
       "1553341              10       15.0\n",
       "...                 ...        ...\n",
       "394295                3        8.0\n",
       "1550173              25       17.0\n",
       "1006080              12       15.0\n",
       "716756                5       11.0\n",
       "1307371               9       13.0\n",
       "\n",
       "[1629 rows x 2 columns]"
      ]
     },
     "execution_count": 136,
     "metadata": {},
     "output_type": "execute_result"
    }
   ],
   "source": [
    "lassoreg_predictions = lassoreg.predict(X).round(0)\n",
    "\n",
    "actual_vs_predicted_lasso = pd.concat([y, pd.DataFrame(lassoreg_predictions, columns=['Predicted'], index=y.index)], axis=1)\n",
    "print(f\"\\nFor {stationname}: ---\")\n",
    "actual_vs_predicted_lasso"
   ]
  },
  {
   "cell_type": "markdown",
   "id": "2c443a7e",
   "metadata": {},
   "source": [
    "## Plot Results - Lasso Regression "
   ]
  },
  {
   "cell_type": "code",
   "execution_count": 139,
   "id": "5490e5cd",
   "metadata": {},
   "outputs": [
    {
     "data": {
      "text/plain": [
       "<matplotlib.collections.PathCollection at 0x202968356f0>"
      ]
     },
     "execution_count": 139,
     "metadata": {},
     "output_type": "execute_result"
    },
    {
     "data": {
      "image/png": "[encoded data removed]",
      "text/plain": [
       "<Figure size 640x480 with 1 Axes>"
      ]
     },
     "metadata": {},
     "output_type": "display_data"
    }
   ],
   "source": [
    "plt.title(f'Predicted Bike Availability for {stationname}\\n Using Lasso Regression \\nBased on {features}')\n",
    "plt.xlabel(\"Predicted\")\n",
    "plt.ylabel(\"Actual\")\n",
    "plt.xlim(0,40)\n",
    "plt.ylim(0,40)\n",
    "plt.scatter(lassoreg_predictions, y)"
   ]
  },
  {
   "cell_type": "markdown",
   "id": "c5b6a6ff",
   "metadata": {},
   "source": [
    "plt.scatter(lassoreg_predictions, y, color=\"blue\")\n",
    "plt.title(f'Bike Availability \\n Lasso Regression \\n features are {features}')\n",
    "plt.xlabel(\"Predictions\")\n",
    "plt.ylabel(\"Actual\")\n",
    "#plt.xticks(())\n",
    "#plt.yticks(())\n",
    "plt.show()"
   ]
  },
  {
   "cell_type": "markdown",
   "id": "c2c0e28d",
   "metadata": {},
   "source": [
    "## Calculate R2 - Different Models"
   ]
  },
  {
   "cell_type": "code",
   "execution_count": 143,
   "id": "a35dd617",
   "metadata": {},
   "outputs": [
    {
     "name": "stdout",
     "output_type": "stream",
     "text": [
      "\n",
      "R2 Calculations for different prediction models for MERRION SQUARE EAST\n",
      "-------------------------------------------------------------------------\n",
      "Feature is ['temp_feel'] \n",
      " R2 of Linear Regression Model = 4.61 \n",
      "\n",
      "Features are ['weather_main', 'clouds', 'temp', 'weather_id', 'wind_speed', 'temp_feel'] \n",
      " R2 of Multiple Regression Model = 4.45\n",
      "\n",
      "Features are ['weather_main', 'clouds', 'temp', 'weather_id', 'wind_speed', 'temp_feel'] \n",
      " R2 of Decision Regressor Model = 0.9\n",
      "\n",
      "Feature is ['weather_main', 'clouds', 'temp', 'weather_id', 'wind_speed', 'temp_feel'] \n",
      " R2 of Random Tree Regression Model = 0.9 \n",
      "\n",
      "Features are ['weather_main', 'clouds', 'temp', 'weather_id', 'wind_speed', 'temp_feel'] \n",
      " R2 of Lasso Regression Model = 4.64\n",
      "\n"
     ]
    }
   ],
   "source": [
    "print(f\"\\nR2 Calculations for different prediction models for {stationname}\")\n",
    "print(\"-------------------------------------------------------------------------\")\n",
    "\n",
    "linreg_mse = mean_squared_error(y,linreg_predictions)\n",
    "linreg_mser = np.sqrt(linreg_mse).round(2)\n",
    "print(f'Feature is {feature} \\n R2 of Linear Regression Model = {linreg_mser} \\n')\n",
    "\n",
    "linreg_m_mse = mean_squared_error(y,linreg_m_predictions)\n",
    "linreg_m_mser = np.sqrt(linreg_m_mse).round(2)\n",
    "print(f'Features are {features} \\n R2 of Multiple Regression Model = {linreg_m_mser}\\n')\n",
    "\n",
    "treereg_mse = mean_squared_error(y,treereg_predictions)\n",
    "treereg_mser = np.sqrt(treereg_mse).round(2)\n",
    "print(f'Features are {features} \\n R2 of Decision Regressor Model = {treereg_mser}\\n')\n",
    "\n",
    "randomforest_mse = mean_squared_error(y,randomforest_predictions)\n",
    "randomforest_mser = np.sqrt(randomforest_mse).round(2)\n",
    "print(f'Feature is {features} \\n R2 of Random Tree Regression Model = {randomforest_mser} \\n')\n",
    "\n",
    "lassoreg_mse = mean_squared_error(y,lassoreg_predictions)\n",
    "lassoreg_mser = np.sqrt(lassoreg_mse).round(2)\n",
    "print(f'Features are {features} \\n R2 of Lasso Regression Model = {lassoreg_mser}\\n')"
   ]
  },
  {
   "cell_type": "code",
   "execution_count": 147,
   "id": "5fd475cf",
   "metadata": {},
   "outputs": [
    {
     "name": "stdout",
     "output_type": "stream",
     "text": [
      "randomforest25.pkl\n"
     ]
    }
   ],
   "source": [
    "# Serialize model object (in this case Random Forest) into a file on disk using pickle\n",
    "filename = 'randomforest'+f'{stationid}'+'.pkl'\n",
    "print(filename)\n",
    "with open(filename, 'wb') as handle:\n",
    "    pickle.dump(randomforest, handle, pickle.HIGHEST_PROTOCOL)"
   ]
  },
  {
   "cell_type": "code",
   "execution_count": null,
   "id": "5f747285",
   "metadata": {},
   "outputs": [],
   "source": []
  },
  {
   "cell_type": "code",
   "execution_count": null,
   "id": "259e783b",
   "metadata": {},
   "outputs": [],
   "source": []
  },
  {
   "cell_type": "code",
   "execution_count": null,
   "id": "df846cc2",
   "metadata": {},
   "outputs": [],
   "source": []
  },
  {
   "cell_type": "code",
   "execution_count": null,
   "id": "c10d4666",
   "metadata": {},
   "outputs": [],
   "source": []
  },
  {
   "cell_type": "code",
   "execution_count": null,
   "id": "3a33ee6e",
   "metadata": {},
   "outputs": [],
   "source": []
  },
  {
   "cell_type": "code",
   "execution_count": null,
   "id": "c5f94ba2",
   "metadata": {},
   "outputs": [],
   "source": []
  },
  {
   "cell_type": "code",
   "execution_count": null,
   "id": "c345d694",
   "metadata": {},
   "outputs": [],
   "source": []
  }
 ],
 "metadata": {
  "kernelspec": {
   "display_name": "Python 3 (ipykernel)",
   "language": "python",
   "name": "python3"
  },
  "language_info": {
   "codemirror_mode": {
    "name": "ipython",
    "version": 3
   },
   "file_extension": ".py",
   "mimetype": "text/x-python",
   "name": "python",
   "nbconvert_exporter": "python",
   "pygments_lexer": "ipython3",
   "version": "3.10.9"
  }
 },
 "nbformat": 4,
 "nbformat_minor": 5
}
