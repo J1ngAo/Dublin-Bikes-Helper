{
 "cells": [
  {
   "cell_type": "code",
   "execution_count": 100,
   "id": "6513b857",
   "metadata": {},
   "outputs": [],
   "source": [
    "import pandas as pd\n",
    "import numpy as np\n",
    "\n",
    "import matplotlib.pyplot as plt\n",
    "import matplotlib.dates\n",
    "\n",
    "import requests\n",
    "import json\n",
    "from pathlib import Path\n",
    "\n",
    "import time\n",
    "from datetime import datetime\n",
    "import datetime\n",
    "\n",
    "import sys\n",
    "\n",
    "from sklearn.model_selection import train_test_split\n",
    "from sklearn.linear_model import LinearRegression\n",
    "from sklearn.model_selection import train_test_split\n",
    "from sklearn import metrics\n",
    "from sklearn.model_selection import cross_validate\n",
    "from sklearn.model_selection import cross_val_score\n",
    "from sklearn.tree import DecisionTreeRegressor\n",
    "\n",
    "#from patsy import dmatrices"
   ]
  },
  {
   "cell_type": "code",
   "execution_count": 2,
   "id": "0b190e6c",
   "metadata": {},
   "outputs": [],
   "source": [
    "%matplotlib inline"
   ]
  },
  {
   "cell_type": "markdown",
   "id": "91c529fb",
   "metadata": {},
   "source": [
    "## Function to convert day number to day"
   ]
  },
  {
   "cell_type": "code",
   "execution_count": 3,
   "id": "84e917a3",
   "metadata": {},
   "outputs": [],
   "source": [
    "def convert_day(num):\n",
    "    if num == 1:\n",
    "        return 'Monday'\n",
    "    elif num == 2:\n",
    "        return 'Tuesday'\n",
    "    elif num == 3:\n",
    "        return 'Wednesday'\n",
    "    elif num == 4:\n",
    "        return 'Thursday'\n",
    "    elif num == 5:\n",
    "        return 'Friday'\n",
    "    elif num == 6:\n",
    "        return 'Saturday'\n",
    "    else:\n",
    "        return 'Sunday'"
   ]
  },
  {
   "cell_type": "markdown",
   "id": "b990ccde",
   "metadata": {},
   "source": [
    "## Function to convert Month number to Month"
   ]
  },
  {
   "cell_type": "code",
   "execution_count": 4,
   "id": "81c27577",
   "metadata": {},
   "outputs": [],
   "source": [
    "def convert_month(num):\n",
    "    if num == 1:\n",
    "        return 'January'\n",
    "    elif num == 2:\n",
    "        return 'February'\n",
    "    elif num == 3:\n",
    "        return 'March'\n",
    "    elif num == 4:\n",
    "        return 'April'\n",
    "    elif num == 5:\n",
    "        return 'May'\n",
    "    elif num == 6:\n",
    "        return 'June'\n",
    "    elif num == 7:\n",
    "        return 'July'\n",
    "    elif num == 8:\n",
    "        return 'August'\n",
    "    elif num == 9:\n",
    "        return 'September'\n",
    "    elif num == 10:\n",
    "        return 'October'\n",
    "    elif num == 11:\n",
    "        return 'November'\n",
    "    else:\n",
    "        return 'December'"
   ]
  },
  {
   "cell_type": "code",
   "execution_count": 5,
   "id": "71a2d4dd",
   "metadata": {},
   "outputs": [],
   "source": [
    "#path to files\n",
    "file_path_csv_weather = Path('C:\\\\Users\\\\corma\\\\Documents\\\\GitHub\\\\Dublin-Bikes-Helper\\\\MachineLearn_DBH\\\\weather_info.csv')\n",
    "file_path_csv_bike = Path('C:\\\\Users\\\\corma\\\\Documents\\\\GitHub\\\\Dublin-Bikes-Helper\\\\MachineLearn_DBH\\\\bike_info.csv')"
   ]
  },
  {
   "cell_type": "code",
   "execution_count": 6,
   "id": "2431df07",
   "metadata": {},
   "outputs": [],
   "source": [
    "#Read files\n",
    "df = pd.read_csv(file_path_csv_bike,index_col=False)\n",
    "dfw = pd.read_csv(file_path_csv_weather,index_col=False)"
   ]
  },
  {
   "cell_type": "code",
   "execution_count": 7,
   "id": "807581db",
   "metadata": {},
   "outputs": [
    {
     "data": {
      "text/plain": [
       "(723761, 12)"
      ]
     },
     "execution_count": 7,
     "metadata": {},
     "output_type": "execute_result"
    }
   ],
   "source": [
    "df.shape"
   ]
  },
  {
   "cell_type": "code",
   "execution_count": 8,
   "id": "a0fafa9c",
   "metadata": {},
   "outputs": [
    {
     "data": {
      "text/html": [
       "<div>\n",
       "<style scoped>\n",
       "    .dataframe tbody tr th:only-of-type {\n",
       "        vertical-align: middle;\n",
       "    }\n",
       "\n",
       "    .dataframe tbody tr th {\n",
       "        vertical-align: top;\n",
       "    }\n",
       "\n",
       "    .dataframe thead th {\n",
       "        text-align: right;\n",
       "    }\n",
       "</style>\n",
       "<table border=\"1\" class=\"dataframe\">\n",
       "  <thead>\n",
       "    <tr style=\"text-align: right;\">\n",
       "      <th></th>\n",
       "      <th>#</th>\n",
       "      <th>number</th>\n",
       "      <th>bike_stand</th>\n",
       "      <th>bike_stand_available</th>\n",
       "      <th>bike_available</th>\n",
       "      <th>delete_flag</th>\n",
       "    </tr>\n",
       "  </thead>\n",
       "  <tbody>\n",
       "    <tr>\n",
       "      <th>count</th>\n",
       "      <td>723761.000000</td>\n",
       "      <td>723761.00000</td>\n",
       "      <td>723761.000000</td>\n",
       "      <td>723761.000000</td>\n",
       "      <td>723761.000000</td>\n",
       "      <td>723761.0</td>\n",
       "    </tr>\n",
       "    <tr>\n",
       "      <th>mean</th>\n",
       "      <td>361881.000000</td>\n",
       "      <td>60.29152</td>\n",
       "      <td>31.881045</td>\n",
       "      <td>19.783879</td>\n",
       "      <td>11.726846</td>\n",
       "      <td>0.0</td>\n",
       "    </tr>\n",
       "    <tr>\n",
       "      <th>std</th>\n",
       "      <td>208931.948427</td>\n",
       "      <td>42.60704</td>\n",
       "      <td>7.652676</td>\n",
       "      <td>11.036811</td>\n",
       "      <td>9.627315</td>\n",
       "      <td>0.0</td>\n",
       "    </tr>\n",
       "    <tr>\n",
       "      <th>min</th>\n",
       "      <td>1.000000</td>\n",
       "      <td>1.00000</td>\n",
       "      <td>1.000000</td>\n",
       "      <td>0.000000</td>\n",
       "      <td>0.000000</td>\n",
       "      <td>0.0</td>\n",
       "    </tr>\n",
       "    <tr>\n",
       "      <th>25%</th>\n",
       "      <td>180941.000000</td>\n",
       "      <td>29.00000</td>\n",
       "      <td>29.000000</td>\n",
       "      <td>11.000000</td>\n",
       "      <td>4.000000</td>\n",
       "      <td>0.0</td>\n",
       "    </tr>\n",
       "    <tr>\n",
       "      <th>50%</th>\n",
       "      <td>361881.000000</td>\n",
       "      <td>59.00000</td>\n",
       "      <td>30.000000</td>\n",
       "      <td>20.000000</td>\n",
       "      <td>10.000000</td>\n",
       "      <td>0.0</td>\n",
       "    </tr>\n",
       "    <tr>\n",
       "      <th>75%</th>\n",
       "      <td>542821.000000</td>\n",
       "      <td>89.00000</td>\n",
       "      <td>40.000000</td>\n",
       "      <td>28.000000</td>\n",
       "      <td>18.000000</td>\n",
       "      <td>0.0</td>\n",
       "    </tr>\n",
       "    <tr>\n",
       "      <th>max</th>\n",
       "      <td>723761.000000</td>\n",
       "      <td>507.00000</td>\n",
       "      <td>40.000000</td>\n",
       "      <td>40.000000</td>\n",
       "      <td>40.000000</td>\n",
       "      <td>0.0</td>\n",
       "    </tr>\n",
       "  </tbody>\n",
       "</table>\n",
       "</div>"
      ],
      "text/plain": [
       "                   #        number     bike_stand  bike_stand_available  \\\n",
       "count  723761.000000  723761.00000  723761.000000         723761.000000   \n",
       "mean   361881.000000      60.29152      31.881045             19.783879   \n",
       "std    208931.948427      42.60704       7.652676             11.036811   \n",
       "min         1.000000       1.00000       1.000000              0.000000   \n",
       "25%    180941.000000      29.00000      29.000000             11.000000   \n",
       "50%    361881.000000      59.00000      30.000000             20.000000   \n",
       "75%    542821.000000      89.00000      40.000000             28.000000   \n",
       "max    723761.000000     507.00000      40.000000             40.000000   \n",
       "\n",
       "       bike_available  delete_flag  \n",
       "count   723761.000000     723761.0  \n",
       "mean        11.726846          0.0  \n",
       "std          9.627315          0.0  \n",
       "min          0.000000          0.0  \n",
       "25%          4.000000          0.0  \n",
       "50%         10.000000          0.0  \n",
       "75%         18.000000          0.0  \n",
       "max         40.000000          0.0  "
      ]
     },
     "execution_count": 8,
     "metadata": {},
     "output_type": "execute_result"
    }
   ],
   "source": [
    "df.describe()"
   ]
  },
  {
   "cell_type": "code",
   "execution_count": 9,
   "id": "c4833462",
   "metadata": {},
   "outputs": [
    {
     "data": {
      "text/plain": [
       "#                        int64\n",
       "id                      object\n",
       "number                   int64\n",
       "name                    object\n",
       "address                 object\n",
       "bike_stand               int64\n",
       "bike_stand_available     int64\n",
       "bike_available           int64\n",
       "status                  object\n",
       "last_update             object\n",
       "creat_time              object\n",
       "delete_flag              int64\n",
       "dtype: object"
      ]
     },
     "execution_count": 9,
     "metadata": {},
     "output_type": "execute_result"
    }
   ],
   "source": [
    "df.dtypes"
   ]
  },
  {
   "cell_type": "code",
   "execution_count": 10,
   "id": "bf0e03b8",
   "metadata": {},
   "outputs": [
    {
     "data": {
      "text/plain": [
       "(1061, 13)"
      ]
     },
     "execution_count": 10,
     "metadata": {},
     "output_type": "execute_result"
    }
   ],
   "source": [
    "dfw.shape"
   ]
  },
  {
   "cell_type": "code",
   "execution_count": 11,
   "id": "3bce51a6",
   "metadata": {},
   "outputs": [
    {
     "data": {
      "text/html": [
       "<div>\n",
       "<style scoped>\n",
       "    .dataframe tbody tr th:only-of-type {\n",
       "        vertical-align: middle;\n",
       "    }\n",
       "\n",
       "    .dataframe tbody tr th {\n",
       "        vertical-align: top;\n",
       "    }\n",
       "\n",
       "    .dataframe thead th {\n",
       "        text-align: right;\n",
       "    }\n",
       "</style>\n",
       "<table border=\"1\" class=\"dataframe\">\n",
       "  <thead>\n",
       "    <tr style=\"text-align: right;\">\n",
       "      <th></th>\n",
       "      <th>id</th>\n",
       "      <th>coord_lon</th>\n",
       "      <th>coord_lat</th>\n",
       "      <th>weather_id</th>\n",
       "      <th>weather_main</th>\n",
       "      <th>temp</th>\n",
       "      <th>temp_feel</th>\n",
       "      <th>wind_speed</th>\n",
       "      <th>clouds</th>\n",
       "      <th>sunrise</th>\n",
       "      <th>sunset</th>\n",
       "      <th>creat_time</th>\n",
       "      <th>delete_flag</th>\n",
       "    </tr>\n",
       "  </thead>\n",
       "  <tbody>\n",
       "    <tr>\n",
       "      <th>0</th>\n",
       "      <td>001ebb9ce45a4f1b</td>\n",
       "      <td>-6.2603</td>\n",
       "      <td>53.3498</td>\n",
       "      <td>803</td>\n",
       "      <td>Clouds</td>\n",
       "      <td>284.19</td>\n",
       "      <td>283.62</td>\n",
       "      <td>9.77</td>\n",
       "      <td>75</td>\n",
       "      <td>13/03/2023 06:45</td>\n",
       "      <td>13/03/2023 18:23</td>\n",
       "      <td>13/03/2023 08:58</td>\n",
       "      <td>0</td>\n",
       "    </tr>\n",
       "    <tr>\n",
       "      <th>1</th>\n",
       "      <td>009eee6775ff4686</td>\n",
       "      <td>-6.2603</td>\n",
       "      <td>53.3498</td>\n",
       "      <td>500</td>\n",
       "      <td>Rain</td>\n",
       "      <td>275.93</td>\n",
       "      <td>273.87</td>\n",
       "      <td>2.06</td>\n",
       "      <td>75</td>\n",
       "      <td>15/03/2023 06:40</td>\n",
       "      <td>15/03/2023 18:27</td>\n",
       "      <td>15/03/2023 06:28</td>\n",
       "      <td>0</td>\n",
       "    </tr>\n",
       "    <tr>\n",
       "      <th>2</th>\n",
       "      <td>011b142a8a724f84</td>\n",
       "      <td>-6.2603</td>\n",
       "      <td>53.3498</td>\n",
       "      <td>803</td>\n",
       "      <td>Clouds</td>\n",
       "      <td>281.86</td>\n",
       "      <td>278.37</td>\n",
       "      <td>7.20</td>\n",
       "      <td>75</td>\n",
       "      <td>12/03/2023 06:47</td>\n",
       "      <td>12/03/2023 18:22</td>\n",
       "      <td>12/03/2023 06:27</td>\n",
       "      <td>0</td>\n",
       "    </tr>\n",
       "    <tr>\n",
       "      <th>3</th>\n",
       "      <td>01bf5ed993ff4c9e</td>\n",
       "      <td>-6.2603</td>\n",
       "      <td>53.3498</td>\n",
       "      <td>803</td>\n",
       "      <td>Clouds</td>\n",
       "      <td>279.99</td>\n",
       "      <td>276.73</td>\n",
       "      <td>5.14</td>\n",
       "      <td>75</td>\n",
       "      <td>06/03/2023 07:02</td>\n",
       "      <td>06/03/2023 18:10</td>\n",
       "      <td>06/03/2023 12:26</td>\n",
       "      <td>0</td>\n",
       "    </tr>\n",
       "    <tr>\n",
       "      <th>4</th>\n",
       "      <td>01c9a739678f4098</td>\n",
       "      <td>-6.2603</td>\n",
       "      <td>53.3498</td>\n",
       "      <td>500</td>\n",
       "      <td>Rain</td>\n",
       "      <td>282.58</td>\n",
       "      <td>279.97</td>\n",
       "      <td>5.14</td>\n",
       "      <td>75</td>\n",
       "      <td>19/03/2023 06:30</td>\n",
       "      <td>19/03/2023 18:34</td>\n",
       "      <td>19/03/2023 12:59</td>\n",
       "      <td>0</td>\n",
       "    </tr>\n",
       "  </tbody>\n",
       "</table>\n",
       "</div>"
      ],
      "text/plain": [
       "                 id  coord_lon  coord_lat  weather_id weather_main    temp  \\\n",
       "0  001ebb9ce45a4f1b    -6.2603    53.3498         803       Clouds  284.19   \n",
       "1  009eee6775ff4686    -6.2603    53.3498         500         Rain  275.93   \n",
       "2  011b142a8a724f84    -6.2603    53.3498         803       Clouds  281.86   \n",
       "3  01bf5ed993ff4c9e    -6.2603    53.3498         803       Clouds  279.99   \n",
       "4  01c9a739678f4098    -6.2603    53.3498         500         Rain  282.58   \n",
       "\n",
       "   temp_feel  wind_speed  clouds           sunrise            sunset  \\\n",
       "0     283.62        9.77      75  13/03/2023 06:45  13/03/2023 18:23   \n",
       "1     273.87        2.06      75  15/03/2023 06:40  15/03/2023 18:27   \n",
       "2     278.37        7.20      75  12/03/2023 06:47  12/03/2023 18:22   \n",
       "3     276.73        5.14      75  06/03/2023 07:02  06/03/2023 18:10   \n",
       "4     279.97        5.14      75  19/03/2023 06:30  19/03/2023 18:34   \n",
       "\n",
       "         creat_time  delete_flag  \n",
       "0  13/03/2023 08:58            0  \n",
       "1  15/03/2023 06:28            0  \n",
       "2  12/03/2023 06:27            0  \n",
       "3  06/03/2023 12:26            0  \n",
       "4  19/03/2023 12:59            0  "
      ]
     },
     "execution_count": 11,
     "metadata": {},
     "output_type": "execute_result"
    }
   ],
   "source": [
    "dfw.head(5)"
   ]
  },
  {
   "cell_type": "code",
   "execution_count": 12,
   "id": "4078faba",
   "metadata": {},
   "outputs": [
    {
     "data": {
      "text/html": [
       "<div>\n",
       "<style scoped>\n",
       "    .dataframe tbody tr th:only-of-type {\n",
       "        vertical-align: middle;\n",
       "    }\n",
       "\n",
       "    .dataframe tbody tr th {\n",
       "        vertical-align: top;\n",
       "    }\n",
       "\n",
       "    .dataframe thead th {\n",
       "        text-align: right;\n",
       "    }\n",
       "</style>\n",
       "<table border=\"1\" class=\"dataframe\">\n",
       "  <thead>\n",
       "    <tr style=\"text-align: right;\">\n",
       "      <th></th>\n",
       "      <th>coord_lon</th>\n",
       "      <th>coord_lat</th>\n",
       "      <th>weather_id</th>\n",
       "      <th>temp</th>\n",
       "      <th>temp_feel</th>\n",
       "      <th>wind_speed</th>\n",
       "      <th>clouds</th>\n",
       "      <th>delete_flag</th>\n",
       "    </tr>\n",
       "  </thead>\n",
       "  <tbody>\n",
       "    <tr>\n",
       "      <th>count</th>\n",
       "      <td>1061.000000</td>\n",
       "      <td>1061.000000</td>\n",
       "      <td>1061.000000</td>\n",
       "      <td>1061.000000</td>\n",
       "      <td>1061.000000</td>\n",
       "      <td>1061.000000</td>\n",
       "      <td>1061.000000</td>\n",
       "      <td>1061.0</td>\n",
       "    </tr>\n",
       "    <tr>\n",
       "      <th>mean</th>\n",
       "      <td>-6.260217</td>\n",
       "      <td>53.349538</td>\n",
       "      <td>726.601320</td>\n",
       "      <td>280.417342</td>\n",
       "      <td>277.726899</td>\n",
       "      <td>6.124109</td>\n",
       "      <td>64.741753</td>\n",
       "      <td>0.0</td>\n",
       "    </tr>\n",
       "    <tr>\n",
       "      <th>std</th>\n",
       "      <td>0.001164</td>\n",
       "      <td>0.001256</td>\n",
       "      <td>139.169302</td>\n",
       "      <td>3.817646</td>\n",
       "      <td>5.169737</td>\n",
       "      <td>2.659865</td>\n",
       "      <td>20.545055</td>\n",
       "      <td>0.0</td>\n",
       "    </tr>\n",
       "    <tr>\n",
       "      <th>min</th>\n",
       "      <td>-6.264900</td>\n",
       "      <td>53.345300</td>\n",
       "      <td>300.000000</td>\n",
       "      <td>272.420000</td>\n",
       "      <td>267.380000</td>\n",
       "      <td>1.030000</td>\n",
       "      <td>0.000000</td>\n",
       "      <td>0.0</td>\n",
       "    </tr>\n",
       "    <tr>\n",
       "      <th>25%</th>\n",
       "      <td>-6.260300</td>\n",
       "      <td>53.349800</td>\n",
       "      <td>800.000000</td>\n",
       "      <td>277.280000</td>\n",
       "      <td>273.350000</td>\n",
       "      <td>4.120000</td>\n",
       "      <td>75.000000</td>\n",
       "      <td>0.0</td>\n",
       "    </tr>\n",
       "    <tr>\n",
       "      <th>50%</th>\n",
       "      <td>-6.260300</td>\n",
       "      <td>53.349800</td>\n",
       "      <td>803.000000</td>\n",
       "      <td>280.130000</td>\n",
       "      <td>277.010000</td>\n",
       "      <td>6.170000</td>\n",
       "      <td>75.000000</td>\n",
       "      <td>0.0</td>\n",
       "    </tr>\n",
       "    <tr>\n",
       "      <th>75%</th>\n",
       "      <td>-6.260300</td>\n",
       "      <td>53.349800</td>\n",
       "      <td>803.000000</td>\n",
       "      <td>283.770000</td>\n",
       "      <td>282.990000</td>\n",
       "      <td>8.230000</td>\n",
       "      <td>75.000000</td>\n",
       "      <td>0.0</td>\n",
       "    </tr>\n",
       "    <tr>\n",
       "      <th>max</th>\n",
       "      <td>-6.255000</td>\n",
       "      <td>53.354500</td>\n",
       "      <td>803.000000</td>\n",
       "      <td>289.070000</td>\n",
       "      <td>288.550000</td>\n",
       "      <td>13.890000</td>\n",
       "      <td>100.000000</td>\n",
       "      <td>0.0</td>\n",
       "    </tr>\n",
       "  </tbody>\n",
       "</table>\n",
       "</div>"
      ],
      "text/plain": [
       "         coord_lon    coord_lat   weather_id         temp    temp_feel  \\\n",
       "count  1061.000000  1061.000000  1061.000000  1061.000000  1061.000000   \n",
       "mean     -6.260217    53.349538   726.601320   280.417342   277.726899   \n",
       "std       0.001164     0.001256   139.169302     3.817646     5.169737   \n",
       "min      -6.264900    53.345300   300.000000   272.420000   267.380000   \n",
       "25%      -6.260300    53.349800   800.000000   277.280000   273.350000   \n",
       "50%      -6.260300    53.349800   803.000000   280.130000   277.010000   \n",
       "75%      -6.260300    53.349800   803.000000   283.770000   282.990000   \n",
       "max      -6.255000    53.354500   803.000000   289.070000   288.550000   \n",
       "\n",
       "        wind_speed       clouds  delete_flag  \n",
       "count  1061.000000  1061.000000       1061.0  \n",
       "mean      6.124109    64.741753          0.0  \n",
       "std       2.659865    20.545055          0.0  \n",
       "min       1.030000     0.000000          0.0  \n",
       "25%       4.120000    75.000000          0.0  \n",
       "50%       6.170000    75.000000          0.0  \n",
       "75%       8.230000    75.000000          0.0  \n",
       "max      13.890000   100.000000          0.0  "
      ]
     },
     "execution_count": 12,
     "metadata": {},
     "output_type": "execute_result"
    }
   ],
   "source": [
    "dfw.describe()"
   ]
  },
  {
   "cell_type": "code",
   "execution_count": 13,
   "id": "91086fc5",
   "metadata": {},
   "outputs": [
    {
     "data": {
      "text/plain": [
       "id               object\n",
       "coord_lon       float64\n",
       "coord_lat       float64\n",
       "weather_id        int64\n",
       "weather_main     object\n",
       "temp            float64\n",
       "temp_feel       float64\n",
       "wind_speed      float64\n",
       "clouds            int64\n",
       "sunrise          object\n",
       "sunset           object\n",
       "creat_time       object\n",
       "delete_flag       int64\n",
       "dtype: object"
      ]
     },
     "execution_count": 13,
     "metadata": {},
     "output_type": "execute_result"
    }
   ],
   "source": [
    "dfw.dtypes"
   ]
  },
  {
   "cell_type": "code",
   "execution_count": 14,
   "id": "9804c9f8",
   "metadata": {},
   "outputs": [
    {
     "data": {
      "text/plain": [
       "array(['Clouds', 'Rain', 'Snow', 'Clear', 'Drizzle'], dtype=object)"
      ]
     },
     "execution_count": 14,
     "metadata": {},
     "output_type": "execute_result"
    }
   ],
   "source": [
    "dfw['weather_main'].unique()"
   ]
  },
  {
   "cell_type": "markdown",
   "id": "5c8629ea",
   "metadata": {},
   "source": [
    "## Set up Time Parmeters - Bike and Weather"
   ]
  },
  {
   "cell_type": "code",
   "execution_count": 15,
   "id": "690500e6",
   "metadata": {},
   "outputs": [],
   "source": [
    "df[\"TIME\"] = pd.to_datetime(df[\"creat_time\"],format='%d/%m/%Y %H:%M')\n",
    "df[\"YEAR\"] = df[\"TIME\"].dt.year\n",
    "df[\"MONTH\"] = df[\"TIME\"].dt.month\n",
    "df['Day_of_Week'] = df['TIME'].dt.dayofweek\n",
    "df[\"DAY_num\"] = df[\"TIME\"].dt.day\n",
    "df[\"HOUR\"] = df[\"TIME\"].dt.hour\n",
    "df[\"MINUTE\"] = df[\"TIME\"].dt.minute"
   ]
  },
  {
   "cell_type": "markdown",
   "id": "2953cb8f",
   "metadata": {},
   "source": [
    "df['DAY_num_HOUR'] = df['DAY_num'] + df['HOUR']\n",
    "df['DAY_num_HOUR'].head()"
   ]
  },
  {
   "cell_type": "code",
   "execution_count": 16,
   "id": "8eaa67fe",
   "metadata": {},
   "outputs": [
    {
     "data": {
      "text/plain": [
       "#                                int64\n",
       "id                              object\n",
       "number                           int64\n",
       "name                            object\n",
       "address                         object\n",
       "bike_stand                       int64\n",
       "bike_stand_available             int64\n",
       "bike_available                   int64\n",
       "status                          object\n",
       "last_update                     object\n",
       "creat_time                      object\n",
       "delete_flag                      int64\n",
       "TIME                    datetime64[ns]\n",
       "YEAR                             int64\n",
       "MONTH                            int64\n",
       "Day_of_Week                      int64\n",
       "DAY_num                          int64\n",
       "HOUR                             int64\n",
       "MINUTE                           int64\n",
       "dtype: object"
      ]
     },
     "execution_count": 16,
     "metadata": {},
     "output_type": "execute_result"
    }
   ],
   "source": [
    "df.dtypes"
   ]
  },
  {
   "cell_type": "code",
   "execution_count": 17,
   "id": "67bb8974",
   "metadata": {},
   "outputs": [],
   "source": [
    "dfw[\"TIME\"] = pd.to_datetime(dfw[\"creat_time\"],format='%d/%m/%Y %H:%M')\n",
    "dfw[\"sunrise\"] = pd.to_datetime(dfw[\"sunrise\"],format='%d/%m/%Y %H:%M')\n",
    "dfw[\"sunset\"] = pd.to_datetime(dfw[\"sunset\"],format='%d/%m/%Y %H:%M')\n",
    "\n",
    "dfw[\"YEAR\"] = dfw[\"TIME\"].dt.year\n",
    "col =np.array(dfw[\"YEAR\"],np.int64) #Converts float to int\n",
    "dfw[\"YEAR\"] = col #Converts float to int\n",
    "\n",
    "dfw[\"MONTH\"] = dfw[\"TIME\"].dt.month\n",
    "col =np.array(dfw[\"MONTH\"] ,np.int64)\n",
    "dfw[\"MONTH\"]  = col\n",
    "\n",
    "dfw['Day_of_Week'] = dfw['TIME'].dt.dayofweek\n",
    "col =np.array(dfw['Day_of_Week'],np.int64) \n",
    "dfw['Day_of_Week'] = col \n",
    "dfw[\"DAY_num\"] = dfw[\"TIME\"].dt.day\n",
    "col =np.array(dfw[\"DAY_num\"],np.int64)\n",
    "dfw[\"DAY_num\"] = col\n",
    "\n",
    "dfw[\"HOUR\"] = dfw[\"TIME\"].dt.hour\n",
    "col =np.array(dfw[\"HOUR\"] ,np.int64)\n",
    "dfw[\"HOUR\"]  = col\n",
    "\n",
    "dfw[\"MINUTE\"] = dfw[\"TIME\"].dt.minute\n",
    "col =np.array(dfw[\"MINUTE\"] ,np.int64)\n",
    "dfw[\"MINUTE\"] = col"
   ]
  },
  {
   "cell_type": "markdown",
   "id": "f6e347cf",
   "metadata": {},
   "source": [
    "dfw['YEAR_MONTH_DAY_num_HOUR'] = df['YEAR'] + df['MONTH'] + df['DAY_num'] + df['HOUR']\n",
    "dfw['YEAR_MONTH_DAY_num_HOUR'].head()"
   ]
  },
  {
   "cell_type": "code",
   "execution_count": 18,
   "id": "982f39cc",
   "metadata": {},
   "outputs": [
    {
     "data": {
      "text/plain": [
       "id                      object\n",
       "coord_lon              float64\n",
       "coord_lat              float64\n",
       "weather_id               int64\n",
       "weather_main            object\n",
       "temp                   float64\n",
       "temp_feel              float64\n",
       "wind_speed             float64\n",
       "clouds                   int64\n",
       "sunrise         datetime64[ns]\n",
       "sunset          datetime64[ns]\n",
       "creat_time              object\n",
       "delete_flag              int64\n",
       "TIME            datetime64[ns]\n",
       "YEAR                     int64\n",
       "MONTH                    int64\n",
       "Day_of_Week              int64\n",
       "DAY_num                  int64\n",
       "HOUR                     int64\n",
       "MINUTE                   int64\n",
       "dtype: object"
      ]
     },
     "execution_count": 18,
     "metadata": {},
     "output_type": "execute_result"
    }
   ],
   "source": [
    "dfw.dtypes"
   ]
  },
  {
   "cell_type": "code",
   "execution_count": 19,
   "id": "b823182a",
   "metadata": {},
   "outputs": [
    {
     "data": {
      "text/plain": [
       "array(['Wed', 'Thu', 'Sat', 'Tue', 'Mon', 'Sun', 'Fri'], dtype=object)"
      ]
     },
     "execution_count": 19,
     "metadata": {},
     "output_type": "execute_result"
    }
   ],
   "source": [
    "df.loc[df['Day_of_Week'] == 0, 'DAY'] = 'Mon'  \n",
    "df.loc[df['Day_of_Week'] == 1, 'DAY'] = 'Tue'  \n",
    "df.loc[df['Day_of_Week'] == 2, 'DAY'] = 'Wed'  \n",
    "df.loc[df['Day_of_Week'] == 3, 'DAY'] = 'Thu'  \n",
    "df.loc[df['Day_of_Week'] == 4, 'DAY'] = 'Fri' \n",
    "df.loc[df['Day_of_Week'] == 5, 'DAY'] = 'Sat' \n",
    "df.loc[df['Day_of_Week'] == 6, 'DAY'] = 'Sun' \n",
    "df[\"DAY\"].unique()"
   ]
  },
  {
   "cell_type": "code",
   "execution_count": 20,
   "id": "c421f261",
   "metadata": {},
   "outputs": [
    {
     "data": {
      "text/plain": [
       "array(['Mon', 'Wed', 'Sun', 'Thu', 'Sat', 'Fri', 'Tue'], dtype=object)"
      ]
     },
     "execution_count": 20,
     "metadata": {},
     "output_type": "execute_result"
    }
   ],
   "source": [
    "dfw.loc[dfw['Day_of_Week'] == 0, 'DAY'] = 'Mon'  \n",
    "dfw.loc[dfw['Day_of_Week'] == 1, 'DAY'] = 'Tue'  \n",
    "dfw.loc[dfw['Day_of_Week'] == 2, 'DAY'] = 'Wed'  \n",
    "dfw.loc[dfw['Day_of_Week'] == 3, 'DAY'] = 'Thu'  \n",
    "dfw.loc[dfw['Day_of_Week'] == 4, 'DAY'] = 'Fri' \n",
    "dfw.loc[dfw['Day_of_Week'] == 5, 'DAY'] = 'Sat' \n",
    "dfw.loc[dfw['Day_of_Week'] == 6, 'DAY'] = 'Sun' \n",
    "dfw[\"DAY\"].unique()"
   ]
  },
  {
   "cell_type": "markdown",
   "id": "2815ca69",
   "metadata": {},
   "source": [
    "## Set up Search Parameters for Bike (Station ID, Day) "
   ]
  },
  {
   "cell_type": "code",
   "execution_count": 21,
   "id": "534b8e7c",
   "metadata": {},
   "outputs": [
    {
     "data": {
      "image/png": "[encoded data removed]",
      "text/plain": [
       "<Figure size 640x480 with 1 Axes>"
      ]
     },
     "metadata": {},
     "output_type": "display_data"
    }
   ],
   "source": [
    "#Check Bike availability or Bike Parking Availability\n",
    "req = 'b' #input(\"Do you want to check for Bike Availability (Type: b) or Parking Availability (Type: p): \")\n",
    "if req == 'b' or req == 'B' or req == 'p' or req == 'P' or req == 'bike' or req == 'Bike' or req == 'park' or req == 'Park':\n",
    "\n",
    "    #Month\n",
    "    month_num = 3\n",
    "\n",
    "    #Day of the week\n",
    "    day_num = 5 #int(input(\"Enter Day Number (1 = Mon, 2 = Tues, 3 = Wed etc): \"))\n",
    "    \n",
    "    #Hour\n",
    "    hour_num = 12\n",
    "    \n",
    "    #Minute pass the hour\n",
    "    #min_num = int(input(\"Enter Minute pass the hour (0 - 15 - 30 - 45): \"))\n",
    "    \n",
    "    #Station ID\n",
    "    stationid = 25 #int(input(\"Enter Station ID (1 to 117): \"))\n",
    "\n",
    "    try:\n",
    "        stationname = df.loc[(df['number']==stationid),'name'].values[0]\n",
    "        \n",
    "        #Filter data based on certain input parameters\n",
    "        df['station_select'] = (df['YEAR']==2023) & (df['MONTH']==month_num) & (df['Day_of_Week']==day_num-1) & (df['number']==stationid)\n",
    "        \n",
    "        ## Set up x- and y-axis of Plot\n",
    "        x =df['HOUR'].loc[df['station_select']]\n",
    "\n",
    "        if req == 'bike' or req == 'Bike' or req == 'b' or req == 'B':\n",
    "            y = df['bike_available'].loc[df['station_select']]\n",
    "            plt.ylabel(\"Bike Availability\")\n",
    "            plt.title(f'Likely Bike Availability \\nfor {stationname} \\non {convert_day(day_num-1)}')\n",
    "            \n",
    "        elif req == 'park' or req == 'Park' or req == 'p' or req == 'P':\n",
    "            y = df['bike_stand_available'].loc[df['station_select']]\n",
    "            plt.ylabel(\"Bike Parking Availability\")\n",
    "            plt.title(f'Likely Bike Parking Availability \\nfor {stationname} \\non {convert_day(day_num-1)}')\n",
    "            print(\"OK\")\n",
    "       \n",
    "        #Set Up Plot\n",
    "        plt.xlabel(\"Time (24 hours)\")\n",
    "        ytick = np.array([0,2,4,6,8,10,12,14,16,18,20,22,24,26,28,30,32,34,36,38,40,42,44])\n",
    "        xtick = np.array([0,4,8,12,16,20,24])\n",
    "        plt.xticks(xtick)\n",
    "        plt.yticks(ytick)\n",
    "        plt.xlim(0,24)\n",
    "        plt.bar(x,y)\n",
    "        plt.show()\n",
    "    except:\n",
    "        print (\"Station ID Does not exist\")\n",
    "    \n",
    "else:\n",
    "    print(\"Incorrect Entry\")"
   ]
  },
  {
   "cell_type": "markdown",
   "id": "a7a578c0",
   "metadata": {},
   "source": [
    "## Examine Weather Information"
   ]
  },
  {
   "cell_type": "code",
   "execution_count": 22,
   "id": "1ca28dd0",
   "metadata": {},
   "outputs": [
    {
     "data": {
      "text/plain": [
       "array(['Clouds', 'Rain', 'Snow', 'Clear', 'Drizzle'], dtype=object)"
      ]
     },
     "execution_count": 22,
     "metadata": {},
     "output_type": "execute_result"
    }
   ],
   "source": [
    "dfw[\"temp\"] = dfw[\"temp\"]-273.15\n",
    "dfw[\"temp_feel\"] = dfw[\"temp_feel\"]-273.15\n",
    "#dfw[\"wind_speed\"].unique()\n",
    "dfw[\"weather_main\"].unique()"
   ]
  },
  {
   "cell_type": "code",
   "execution_count": 23,
   "id": "ee41746f",
   "metadata": {},
   "outputs": [
    {
     "data": {
      "text/plain": [
       "array([1, 2, 3, 4, 5], dtype=int64)"
      ]
     },
     "execution_count": 23,
     "metadata": {},
     "output_type": "execute_result"
    }
   ],
   "source": [
    "#Create new column putting numerical values to weather_main\n",
    "dfw['weather_main'].replace(['Clouds', 'Rain','Snow','Clear','Drizzle'],[1, 2,3,4,5], inplace=True)\n",
    "dfw[\"weather_main\"].unique()"
   ]
  },
  {
   "cell_type": "code",
   "execution_count": 24,
   "id": "ed85b1fe",
   "metadata": {},
   "outputs": [],
   "source": [
    "dfw['time_select'] = (dfw['Day_of_Week']==day_num-1) & (dfw['MONTH']==month_num) #& (dfw[\"HOUR_w\"] == hour_num)\n"
   ]
  },
  {
   "cell_type": "code",
   "execution_count": 25,
   "id": "3878dcc6",
   "metadata": {},
   "outputs": [
    {
     "data": {
      "image/png": "[encoded data removed]",
      "text/plain": [
       "<Figure size 640x480 with 1 Axes>"
      ]
     },
     "metadata": {},
     "output_type": "display_data"
    }
   ],
   "source": [
    "#Set X and Y plot\n",
    "x =dfw['HOUR'].loc[dfw['time_select']]\n",
    "y = dfw[\"temp_feel\"].loc[dfw['time_select']]\n",
    "\n",
    "#Create Plot\n",
    "plt.title(f'Temperature Ranges \\non {convert_day(day_num-1)}s \\n in {convert_month(day_num-1)}')\n",
    "plt.xlabel(\"Time (24 hours)\")\n",
    "plt.ylabel(\"Temperatue (feels like) - Degrees Celcsius\")\n",
    "#ytick = np.array([0,2,4,6,8,10,12,14,16,18,20,22,24,26,28,30,32,34,36,38,40,42,44])\n",
    "xtick = np.array([0,4,8,12,16,20,24])\n",
    "plt.xticks(xtick)\n",
    "#plt.yticks(ytick)\n",
    "plt.bar(x,y)\n",
    "plt.show()"
   ]
  },
  {
   "cell_type": "code",
   "execution_count": 26,
   "id": "21d861cb",
   "metadata": {},
   "outputs": [
    {
     "data": {
      "image/png": "[encoded data removed]",
      "text/plain": [
       "<Figure size 640x480 with 1 Axes>"
      ]
     },
     "metadata": {},
     "output_type": "display_data"
    }
   ],
   "source": [
    "#Set X and Y plot\n",
    "x =dfw['HOUR'].loc[dfw['time_select']]\n",
    "y = dfw[\"clouds\"].loc[dfw['time_select']]\n",
    "\n",
    "#Create Plot\n",
    "plt.title(f'Cloud Coverage  \\non {convert_day(day_num-1)}\\n in {convert_month(day_num-1)}')\n",
    "plt.xlabel(\"Time (24 hours)\")\n",
    "plt.ylabel(\"Cloud Coverage - %\")\n",
    "ytick = np.array([0,10,20,30,40,50,60,70,80,90,100])\n",
    "xtick = np.array([0,4,8,12,16,20,24])\n",
    "plt.xticks(xtick)\n",
    "plt.yticks(ytick)\n",
    "#plt.xlim(0,24)\n",
    "plt.bar(x,y)\n",
    "plt.show()"
   ]
  },
  {
   "cell_type": "code",
   "execution_count": 27,
   "id": "037dbeae",
   "metadata": {},
   "outputs": [
    {
     "data": {
      "image/png": "[encoded data removed]",
      "text/plain": [
       "<Figure size 640x480 with 1 Axes>"
      ]
     },
     "metadata": {},
     "output_type": "display_data"
    }
   ],
   "source": [
    "#Set X and Y plot\n",
    "x =dfw['HOUR'].loc[dfw['time_select']]\n",
    "y = dfw[\"weather_main\"].loc[dfw['time_select']]\n",
    "\n",
    "#Create Plot\n",
    "plt.title(f'Weather \\non {convert_day(day_num-1)}s\\n in {convert_month(day_num-1)}')\n",
    "plt.xlabel(\"Time (24 hours)\")\n",
    "plt.ylabel(\"Weather\")\n",
    "#ytick = np.array([0,10,20,30,40,50,60,70,80,90,100])\n",
    "xtick = np.array([0,4,8,12,16,20,24])\n",
    "plt.xticks(xtick)\n",
    "#plt.yticks(ytick)\n",
    "#plt.xlim(0,24)\n",
    "plt.scatter(x,y,color='red')\n",
    "plt.show()"
   ]
  },
  {
   "cell_type": "markdown",
   "id": "e8681d47",
   "metadata": {},
   "source": [
    "## Combine the two dataframes"
   ]
  },
  {
   "cell_type": "code",
   "execution_count": 28,
   "id": "8490dfe5",
   "metadata": {},
   "outputs": [
    {
     "data": {
      "text/plain": [
       "(24101, 42)"
      ]
     },
     "execution_count": 28,
     "metadata": {},
     "output_type": "execute_result"
    }
   ],
   "source": [
    "dfbikeweath = df.merge(dfw, on=\"TIME\")\n",
    "dfbikeweath.shape"
   ]
  },
  {
   "cell_type": "code",
   "execution_count": 29,
   "id": "9a60747a",
   "metadata": {},
   "outputs": [
    {
     "data": {
      "text/plain": [
       "((723761, 21), (1061, 22))"
      ]
     },
     "execution_count": 29,
     "metadata": {},
     "output_type": "execute_result"
    }
   ],
   "source": [
    "df.shape,dfw.shape"
   ]
  },
  {
   "cell_type": "code",
   "execution_count": 30,
   "id": "ec2b37e0",
   "metadata": {},
   "outputs": [
    {
     "data": {
      "text/html": [
       "<div>\n",
       "<style scoped>\n",
       "    .dataframe tbody tr th:only-of-type {\n",
       "        vertical-align: middle;\n",
       "    }\n",
       "\n",
       "    .dataframe tbody tr th {\n",
       "        vertical-align: top;\n",
       "    }\n",
       "\n",
       "    .dataframe thead th {\n",
       "        text-align: right;\n",
       "    }\n",
       "</style>\n",
       "<table border=\"1\" class=\"dataframe\">\n",
       "  <thead>\n",
       "    <tr style=\"text-align: right;\">\n",
       "      <th></th>\n",
       "      <th>count</th>\n",
       "      <th>mean</th>\n",
       "      <th>std</th>\n",
       "      <th>min</th>\n",
       "      <th>25%</th>\n",
       "      <th>50%</th>\n",
       "      <th>75%</th>\n",
       "      <th>max</th>\n",
       "    </tr>\n",
       "  </thead>\n",
       "  <tbody>\n",
       "    <tr>\n",
       "      <th>#</th>\n",
       "      <td>24101.0</td>\n",
       "      <td>363190.482636</td>\n",
       "      <td>209997.101938</td>\n",
       "      <td>61.0000</td>\n",
       "      <td>182043.0000</td>\n",
       "      <td>363096.0000</td>\n",
       "      <td>546956.0000</td>\n",
       "      <td>723711.0000</td>\n",
       "    </tr>\n",
       "    <tr>\n",
       "      <th>number</th>\n",
       "      <td>24101.0</td>\n",
       "      <td>60.412638</td>\n",
       "      <td>43.290873</td>\n",
       "      <td>1.0000</td>\n",
       "      <td>29.0000</td>\n",
       "      <td>59.0000</td>\n",
       "      <td>89.0000</td>\n",
       "      <td>507.0000</td>\n",
       "    </tr>\n",
       "    <tr>\n",
       "      <th>bike_stand</th>\n",
       "      <td>24101.0</td>\n",
       "      <td>31.872287</td>\n",
       "      <td>7.666679</td>\n",
       "      <td>1.0000</td>\n",
       "      <td>29.0000</td>\n",
       "      <td>30.0000</td>\n",
       "      <td>40.0000</td>\n",
       "      <td>40.0000</td>\n",
       "    </tr>\n",
       "    <tr>\n",
       "      <th>bike_stand_available</th>\n",
       "      <td>24101.0</td>\n",
       "      <td>19.742500</td>\n",
       "      <td>11.080127</td>\n",
       "      <td>0.0000</td>\n",
       "      <td>11.0000</td>\n",
       "      <td>20.0000</td>\n",
       "      <td>28.0000</td>\n",
       "      <td>40.0000</td>\n",
       "    </tr>\n",
       "    <tr>\n",
       "      <th>bike_available</th>\n",
       "      <td>24101.0</td>\n",
       "      <td>11.739596</td>\n",
       "      <td>9.691588</td>\n",
       "      <td>0.0000</td>\n",
       "      <td>4.0000</td>\n",
       "      <td>10.0000</td>\n",
       "      <td>18.0000</td>\n",
       "      <td>40.0000</td>\n",
       "    </tr>\n",
       "    <tr>\n",
       "      <th>delete_flag_x</th>\n",
       "      <td>24101.0</td>\n",
       "      <td>0.000000</td>\n",
       "      <td>0.000000</td>\n",
       "      <td>0.0000</td>\n",
       "      <td>0.0000</td>\n",
       "      <td>0.0000</td>\n",
       "      <td>0.0000</td>\n",
       "      <td>0.0000</td>\n",
       "    </tr>\n",
       "    <tr>\n",
       "      <th>YEAR_x</th>\n",
       "      <td>24101.0</td>\n",
       "      <td>2023.000000</td>\n",
       "      <td>0.000000</td>\n",
       "      <td>2023.0000</td>\n",
       "      <td>2023.0000</td>\n",
       "      <td>2023.0000</td>\n",
       "      <td>2023.0000</td>\n",
       "      <td>2023.0000</td>\n",
       "    </tr>\n",
       "    <tr>\n",
       "      <th>MONTH_x</th>\n",
       "      <td>24101.0</td>\n",
       "      <td>3.000000</td>\n",
       "      <td>0.000000</td>\n",
       "      <td>3.0000</td>\n",
       "      <td>3.0000</td>\n",
       "      <td>3.0000</td>\n",
       "      <td>3.0000</td>\n",
       "      <td>3.0000</td>\n",
       "    </tr>\n",
       "    <tr>\n",
       "      <th>Day_of_Week_x</th>\n",
       "      <td>24101.0</td>\n",
       "      <td>2.956807</td>\n",
       "      <td>1.920819</td>\n",
       "      <td>0.0000</td>\n",
       "      <td>1.0000</td>\n",
       "      <td>3.0000</td>\n",
       "      <td>5.0000</td>\n",
       "      <td>6.0000</td>\n",
       "    </tr>\n",
       "    <tr>\n",
       "      <th>DAY_num_x</th>\n",
       "      <td>24101.0</td>\n",
       "      <td>12.481059</td>\n",
       "      <td>6.487852</td>\n",
       "      <td>2.0000</td>\n",
       "      <td>6.0000</td>\n",
       "      <td>12.0000</td>\n",
       "      <td>18.0000</td>\n",
       "      <td>24.0000</td>\n",
       "    </tr>\n",
       "    <tr>\n",
       "      <th>HOUR_x</th>\n",
       "      <td>24101.0</td>\n",
       "      <td>11.250031</td>\n",
       "      <td>7.084819</td>\n",
       "      <td>0.0000</td>\n",
       "      <td>4.0000</td>\n",
       "      <td>12.0000</td>\n",
       "      <td>17.0000</td>\n",
       "      <td>23.0000</td>\n",
       "    </tr>\n",
       "    <tr>\n",
       "      <th>MINUTE_x</th>\n",
       "      <td>24101.0</td>\n",
       "      <td>40.590764</td>\n",
       "      <td>16.276680</td>\n",
       "      <td>0.0000</td>\n",
       "      <td>27.0000</td>\n",
       "      <td>29.0000</td>\n",
       "      <td>57.0000</td>\n",
       "      <td>59.0000</td>\n",
       "    </tr>\n",
       "    <tr>\n",
       "      <th>coord_lon</th>\n",
       "      <td>24101.0</td>\n",
       "      <td>-6.260214</td>\n",
       "      <td>0.001217</td>\n",
       "      <td>-6.2649</td>\n",
       "      <td>-6.2603</td>\n",
       "      <td>-6.2603</td>\n",
       "      <td>-6.2603</td>\n",
       "      <td>-6.2550</td>\n",
       "    </tr>\n",
       "    <tr>\n",
       "      <th>coord_lat</th>\n",
       "      <td>24101.0</td>\n",
       "      <td>53.349543</td>\n",
       "      <td>0.001305</td>\n",
       "      <td>53.3455</td>\n",
       "      <td>53.3498</td>\n",
       "      <td>53.3498</td>\n",
       "      <td>53.3498</td>\n",
       "      <td>53.3545</td>\n",
       "    </tr>\n",
       "    <tr>\n",
       "      <th>weather_id</th>\n",
       "      <td>24101.0</td>\n",
       "      <td>708.449069</td>\n",
       "      <td>156.100017</td>\n",
       "      <td>300.0000</td>\n",
       "      <td>520.0000</td>\n",
       "      <td>803.0000</td>\n",
       "      <td>803.0000</td>\n",
       "      <td>803.0000</td>\n",
       "    </tr>\n",
       "    <tr>\n",
       "      <th>weather_main</th>\n",
       "      <td>24101.0</td>\n",
       "      <td>1.461267</td>\n",
       "      <td>0.956764</td>\n",
       "      <td>1.0000</td>\n",
       "      <td>1.0000</td>\n",
       "      <td>1.0000</td>\n",
       "      <td>2.0000</td>\n",
       "      <td>5.0000</td>\n",
       "    </tr>\n",
       "    <tr>\n",
       "      <th>temp</th>\n",
       "      <td>24101.0</td>\n",
       "      <td>7.465496</td>\n",
       "      <td>3.594448</td>\n",
       "      <td>1.4700</td>\n",
       "      <td>4.5800</td>\n",
       "      <td>6.5400</td>\n",
       "      <td>10.5100</td>\n",
       "      <td>15.4200</td>\n",
       "    </tr>\n",
       "    <tr>\n",
       "      <th>temp_feel</th>\n",
       "      <td>24101.0</td>\n",
       "      <td>5.029413</td>\n",
       "      <td>4.927297</td>\n",
       "      <td>-4.5500</td>\n",
       "      <td>1.5900</td>\n",
       "      <td>3.8700</td>\n",
       "      <td>9.7800</td>\n",
       "      <td>14.9200</td>\n",
       "    </tr>\n",
       "    <tr>\n",
       "      <th>wind_speed</th>\n",
       "      <td>24101.0</td>\n",
       "      <td>5.890536</td>\n",
       "      <td>2.948004</td>\n",
       "      <td>1.0300</td>\n",
       "      <td>3.0900</td>\n",
       "      <td>5.8100</td>\n",
       "      <td>8.2300</td>\n",
       "      <td>13.8900</td>\n",
       "    </tr>\n",
       "    <tr>\n",
       "      <th>clouds</th>\n",
       "      <td>24101.0</td>\n",
       "      <td>68.302353</td>\n",
       "      <td>16.982742</td>\n",
       "      <td>20.0000</td>\n",
       "      <td>75.0000</td>\n",
       "      <td>75.0000</td>\n",
       "      <td>75.0000</td>\n",
       "      <td>100.0000</td>\n",
       "    </tr>\n",
       "    <tr>\n",
       "      <th>delete_flag_y</th>\n",
       "      <td>24101.0</td>\n",
       "      <td>0.000000</td>\n",
       "      <td>0.000000</td>\n",
       "      <td>0.0000</td>\n",
       "      <td>0.0000</td>\n",
       "      <td>0.0000</td>\n",
       "      <td>0.0000</td>\n",
       "      <td>0.0000</td>\n",
       "    </tr>\n",
       "    <tr>\n",
       "      <th>YEAR_y</th>\n",
       "      <td>24101.0</td>\n",
       "      <td>2023.000000</td>\n",
       "      <td>0.000000</td>\n",
       "      <td>2023.0000</td>\n",
       "      <td>2023.0000</td>\n",
       "      <td>2023.0000</td>\n",
       "      <td>2023.0000</td>\n",
       "      <td>2023.0000</td>\n",
       "    </tr>\n",
       "    <tr>\n",
       "      <th>MONTH_y</th>\n",
       "      <td>24101.0</td>\n",
       "      <td>3.000000</td>\n",
       "      <td>0.000000</td>\n",
       "      <td>3.0000</td>\n",
       "      <td>3.0000</td>\n",
       "      <td>3.0000</td>\n",
       "      <td>3.0000</td>\n",
       "      <td>3.0000</td>\n",
       "    </tr>\n",
       "    <tr>\n",
       "      <th>Day_of_Week_y</th>\n",
       "      <td>24101.0</td>\n",
       "      <td>2.956807</td>\n",
       "      <td>1.920819</td>\n",
       "      <td>0.0000</td>\n",
       "      <td>1.0000</td>\n",
       "      <td>3.0000</td>\n",
       "      <td>5.0000</td>\n",
       "      <td>6.0000</td>\n",
       "    </tr>\n",
       "    <tr>\n",
       "      <th>DAY_num_y</th>\n",
       "      <td>24101.0</td>\n",
       "      <td>12.481059</td>\n",
       "      <td>6.487852</td>\n",
       "      <td>2.0000</td>\n",
       "      <td>6.0000</td>\n",
       "      <td>12.0000</td>\n",
       "      <td>18.0000</td>\n",
       "      <td>24.0000</td>\n",
       "    </tr>\n",
       "    <tr>\n",
       "      <th>HOUR_y</th>\n",
       "      <td>24101.0</td>\n",
       "      <td>11.250031</td>\n",
       "      <td>7.084819</td>\n",
       "      <td>0.0000</td>\n",
       "      <td>4.0000</td>\n",
       "      <td>12.0000</td>\n",
       "      <td>17.0000</td>\n",
       "      <td>23.0000</td>\n",
       "    </tr>\n",
       "    <tr>\n",
       "      <th>MINUTE_y</th>\n",
       "      <td>24101.0</td>\n",
       "      <td>40.590764</td>\n",
       "      <td>16.276680</td>\n",
       "      <td>0.0000</td>\n",
       "      <td>27.0000</td>\n",
       "      <td>29.0000</td>\n",
       "      <td>57.0000</td>\n",
       "      <td>59.0000</td>\n",
       "    </tr>\n",
       "  </tbody>\n",
       "</table>\n",
       "</div>"
      ],
      "text/plain": [
       "                        count           mean            std        min  \\\n",
       "#                     24101.0  363190.482636  209997.101938    61.0000   \n",
       "number                24101.0      60.412638      43.290873     1.0000   \n",
       "bike_stand            24101.0      31.872287       7.666679     1.0000   \n",
       "bike_stand_available  24101.0      19.742500      11.080127     0.0000   \n",
       "bike_available        24101.0      11.739596       9.691588     0.0000   \n",
       "delete_flag_x         24101.0       0.000000       0.000000     0.0000   \n",
       "YEAR_x                24101.0    2023.000000       0.000000  2023.0000   \n",
       "MONTH_x               24101.0       3.000000       0.000000     3.0000   \n",
       "Day_of_Week_x         24101.0       2.956807       1.920819     0.0000   \n",
       "DAY_num_x             24101.0      12.481059       6.487852     2.0000   \n",
       "HOUR_x                24101.0      11.250031       7.084819     0.0000   \n",
       "MINUTE_x              24101.0      40.590764      16.276680     0.0000   \n",
       "coord_lon             24101.0      -6.260214       0.001217    -6.2649   \n",
       "coord_lat             24101.0      53.349543       0.001305    53.3455   \n",
       "weather_id            24101.0     708.449069     156.100017   300.0000   \n",
       "weather_main          24101.0       1.461267       0.956764     1.0000   \n",
       "temp                  24101.0       7.465496       3.594448     1.4700   \n",
       "temp_feel             24101.0       5.029413       4.927297    -4.5500   \n",
       "wind_speed            24101.0       5.890536       2.948004     1.0300   \n",
       "clouds                24101.0      68.302353      16.982742    20.0000   \n",
       "delete_flag_y         24101.0       0.000000       0.000000     0.0000   \n",
       "YEAR_y                24101.0    2023.000000       0.000000  2023.0000   \n",
       "MONTH_y               24101.0       3.000000       0.000000     3.0000   \n",
       "Day_of_Week_y         24101.0       2.956807       1.920819     0.0000   \n",
       "DAY_num_y             24101.0      12.481059       6.487852     2.0000   \n",
       "HOUR_y                24101.0      11.250031       7.084819     0.0000   \n",
       "MINUTE_y              24101.0      40.590764      16.276680     0.0000   \n",
       "\n",
       "                              25%          50%          75%          max  \n",
       "#                     182043.0000  363096.0000  546956.0000  723711.0000  \n",
       "number                    29.0000      59.0000      89.0000     507.0000  \n",
       "bike_stand                29.0000      30.0000      40.0000      40.0000  \n",
       "bike_stand_available      11.0000      20.0000      28.0000      40.0000  \n",
       "bike_available             4.0000      10.0000      18.0000      40.0000  \n",
       "delete_flag_x              0.0000       0.0000       0.0000       0.0000  \n",
       "YEAR_x                  2023.0000    2023.0000    2023.0000    2023.0000  \n",
       "MONTH_x                    3.0000       3.0000       3.0000       3.0000  \n",
       "Day_of_Week_x              1.0000       3.0000       5.0000       6.0000  \n",
       "DAY_num_x                  6.0000      12.0000      18.0000      24.0000  \n",
       "HOUR_x                     4.0000      12.0000      17.0000      23.0000  \n",
       "MINUTE_x                  27.0000      29.0000      57.0000      59.0000  \n",
       "coord_lon                 -6.2603      -6.2603      -6.2603      -6.2550  \n",
       "coord_lat                 53.3498      53.3498      53.3498      53.3545  \n",
       "weather_id               520.0000     803.0000     803.0000     803.0000  \n",
       "weather_main               1.0000       1.0000       2.0000       5.0000  \n",
       "temp                       4.5800       6.5400      10.5100      15.4200  \n",
       "temp_feel                  1.5900       3.8700       9.7800      14.9200  \n",
       "wind_speed                 3.0900       5.8100       8.2300      13.8900  \n",
       "clouds                    75.0000      75.0000      75.0000     100.0000  \n",
       "delete_flag_y              0.0000       0.0000       0.0000       0.0000  \n",
       "YEAR_y                  2023.0000    2023.0000    2023.0000    2023.0000  \n",
       "MONTH_y                    3.0000       3.0000       3.0000       3.0000  \n",
       "Day_of_Week_y              1.0000       3.0000       5.0000       6.0000  \n",
       "DAY_num_y                  6.0000      12.0000      18.0000      24.0000  \n",
       "HOUR_y                     4.0000      12.0000      17.0000      23.0000  \n",
       "MINUTE_y                  27.0000      29.0000      57.0000      59.0000  "
      ]
     },
     "execution_count": 30,
     "metadata": {},
     "output_type": "execute_result"
    }
   ],
   "source": [
    "dfbikeweath.describe().T"
   ]
  },
  {
   "cell_type": "code",
   "execution_count": 31,
   "id": "3ae436ff",
   "metadata": {},
   "outputs": [
    {
     "data": {
      "text/html": [
       "<div>\n",
       "<style scoped>\n",
       "    .dataframe tbody tr th:only-of-type {\n",
       "        vertical-align: middle;\n",
       "    }\n",
       "\n",
       "    .dataframe tbody tr th {\n",
       "        vertical-align: top;\n",
       "    }\n",
       "\n",
       "    .dataframe thead th {\n",
       "        text-align: right;\n",
       "    }\n",
       "</style>\n",
       "<table border=\"1\" class=\"dataframe\">\n",
       "  <thead>\n",
       "    <tr style=\"text-align: right;\">\n",
       "      <th></th>\n",
       "      <th>#</th>\n",
       "      <th>id_x</th>\n",
       "      <th>number</th>\n",
       "      <th>name</th>\n",
       "      <th>address</th>\n",
       "      <th>bike_stand</th>\n",
       "      <th>bike_stand_available</th>\n",
       "      <th>bike_available</th>\n",
       "      <th>status</th>\n",
       "      <th>last_update</th>\n",
       "      <th>...</th>\n",
       "      <th>creat_time_y</th>\n",
       "      <th>delete_flag_y</th>\n",
       "      <th>YEAR_y</th>\n",
       "      <th>MONTH_y</th>\n",
       "      <th>Day_of_Week_y</th>\n",
       "      <th>DAY_num_y</th>\n",
       "      <th>HOUR_y</th>\n",
       "      <th>MINUTE_y</th>\n",
       "      <th>DAY_y</th>\n",
       "      <th>time_select</th>\n",
       "    </tr>\n",
       "  </thead>\n",
       "  <tbody>\n",
       "    <tr>\n",
       "      <th>0</th>\n",
       "      <td>61</td>\n",
       "      <td>0005a69485fd4846</td>\n",
       "      <td>20</td>\n",
       "      <td>JAMES STREET EAST</td>\n",
       "      <td>James Street East</td>\n",
       "      <td>30</td>\n",
       "      <td>30</td>\n",
       "      <td>0</td>\n",
       "      <td>OPEN</td>\n",
       "      <td>09/03/2023 19:18</td>\n",
       "      <td>...</td>\n",
       "      <td>09/03/2023 19:27</td>\n",
       "      <td>0</td>\n",
       "      <td>2023</td>\n",
       "      <td>3</td>\n",
       "      <td>3</td>\n",
       "      <td>9</td>\n",
       "      <td>19</td>\n",
       "      <td>27</td>\n",
       "      <td>Thu</td>\n",
       "      <td>False</td>\n",
       "    </tr>\n",
       "    <tr>\n",
       "      <th>1</th>\n",
       "      <td>6889</td>\n",
       "      <td>027c49405f914f96</td>\n",
       "      <td>68</td>\n",
       "      <td>HANOVER QUAY</td>\n",
       "      <td>Hanover Quay</td>\n",
       "      <td>40</td>\n",
       "      <td>40</td>\n",
       "      <td>0</td>\n",
       "      <td>OPEN</td>\n",
       "      <td>09/03/2023 19:22</td>\n",
       "      <td>...</td>\n",
       "      <td>09/03/2023 19:27</td>\n",
       "      <td>0</td>\n",
       "      <td>2023</td>\n",
       "      <td>3</td>\n",
       "      <td>3</td>\n",
       "      <td>9</td>\n",
       "      <td>19</td>\n",
       "      <td>27</td>\n",
       "      <td>Thu</td>\n",
       "      <td>False</td>\n",
       "    </tr>\n",
       "    <tr>\n",
       "      <th>2</th>\n",
       "      <td>33285</td>\n",
       "      <td>0bd9a84689594421</td>\n",
       "      <td>38</td>\n",
       "      <td>TALBOT STREET</td>\n",
       "      <td>Talbot Street</td>\n",
       "      <td>40</td>\n",
       "      <td>22</td>\n",
       "      <td>18</td>\n",
       "      <td>OPEN</td>\n",
       "      <td>09/03/2023 19:19</td>\n",
       "      <td>...</td>\n",
       "      <td>09/03/2023 19:27</td>\n",
       "      <td>0</td>\n",
       "      <td>2023</td>\n",
       "      <td>3</td>\n",
       "      <td>3</td>\n",
       "      <td>9</td>\n",
       "      <td>19</td>\n",
       "      <td>27</td>\n",
       "      <td>Thu</td>\n",
       "      <td>False</td>\n",
       "    </tr>\n",
       "    <tr>\n",
       "      <th>3</th>\n",
       "      <td>33328</td>\n",
       "      <td>0bdeaea16e64492d</td>\n",
       "      <td>51</td>\n",
       "      <td>YORK STREET WEST</td>\n",
       "      <td>York Street West</td>\n",
       "      <td>40</td>\n",
       "      <td>37</td>\n",
       "      <td>3</td>\n",
       "      <td>OPEN</td>\n",
       "      <td>09/03/2023 19:21</td>\n",
       "      <td>...</td>\n",
       "      <td>09/03/2023 19:27</td>\n",
       "      <td>0</td>\n",
       "      <td>2023</td>\n",
       "      <td>3</td>\n",
       "      <td>3</td>\n",
       "      <td>9</td>\n",
       "      <td>19</td>\n",
       "      <td>27</td>\n",
       "      <td>Thu</td>\n",
       "      <td>False</td>\n",
       "    </tr>\n",
       "    <tr>\n",
       "      <th>4</th>\n",
       "      <td>37570</td>\n",
       "      <td>0d5eb714cf404ebc</td>\n",
       "      <td>93</td>\n",
       "      <td>HEUSTON STATION (CENTRAL)</td>\n",
       "      <td>Heuston Station (Central)</td>\n",
       "      <td>40</td>\n",
       "      <td>10</td>\n",
       "      <td>30</td>\n",
       "      <td>OPEN</td>\n",
       "      <td>09/03/2023 19:19</td>\n",
       "      <td>...</td>\n",
       "      <td>09/03/2023 19:27</td>\n",
       "      <td>0</td>\n",
       "      <td>2023</td>\n",
       "      <td>3</td>\n",
       "      <td>3</td>\n",
       "      <td>9</td>\n",
       "      <td>19</td>\n",
       "      <td>27</td>\n",
       "      <td>Thu</td>\n",
       "      <td>False</td>\n",
       "    </tr>\n",
       "  </tbody>\n",
       "</table>\n",
       "<p>5 rows × 42 columns</p>\n",
       "</div>"
      ],
      "text/plain": [
       "       #              id_x  number                       name  \\\n",
       "0     61  0005a69485fd4846      20          JAMES STREET EAST   \n",
       "1   6889  027c49405f914f96      68               HANOVER QUAY   \n",
       "2  33285  0bd9a84689594421      38              TALBOT STREET   \n",
       "3  33328  0bdeaea16e64492d      51           YORK STREET WEST   \n",
       "4  37570  0d5eb714cf404ebc      93  HEUSTON STATION (CENTRAL)   \n",
       "\n",
       "                     address  bike_stand  bike_stand_available  \\\n",
       "0          James Street East          30                    30   \n",
       "1               Hanover Quay          40                    40   \n",
       "2              Talbot Street          40                    22   \n",
       "3           York Street West          40                    37   \n",
       "4  Heuston Station (Central)          40                    10   \n",
       "\n",
       "   bike_available status       last_update  ...      creat_time_y  \\\n",
       "0               0   OPEN  09/03/2023 19:18  ...  09/03/2023 19:27   \n",
       "1               0   OPEN  09/03/2023 19:22  ...  09/03/2023 19:27   \n",
       "2              18   OPEN  09/03/2023 19:19  ...  09/03/2023 19:27   \n",
       "3               3   OPEN  09/03/2023 19:21  ...  09/03/2023 19:27   \n",
       "4              30   OPEN  09/03/2023 19:19  ...  09/03/2023 19:27   \n",
       "\n",
       "   delete_flag_y YEAR_y  MONTH_y  Day_of_Week_y  DAY_num_y  HOUR_y  MINUTE_y  \\\n",
       "0              0   2023        3              3          9      19        27   \n",
       "1              0   2023        3              3          9      19        27   \n",
       "2              0   2023        3              3          9      19        27   \n",
       "3              0   2023        3              3          9      19        27   \n",
       "4              0   2023        3              3          9      19        27   \n",
       "\n",
       "   DAY_y time_select  \n",
       "0    Thu       False  \n",
       "1    Thu       False  \n",
       "2    Thu       False  \n",
       "3    Thu       False  \n",
       "4    Thu       False  \n",
       "\n",
       "[5 rows x 42 columns]"
      ]
     },
     "execution_count": 31,
     "metadata": {},
     "output_type": "execute_result"
    }
   ],
   "source": [
    "dfbikeweath.head()"
   ]
  },
  {
   "cell_type": "markdown",
   "id": "08e2c1b1",
   "metadata": {},
   "source": [
    "## Check if any missing values (NaN)"
   ]
  },
  {
   "cell_type": "code",
   "execution_count": 32,
   "id": "d0d35a28",
   "metadata": {},
   "outputs": [
    {
     "data": {
      "text/plain": [
       "0"
      ]
     },
     "execution_count": 32,
     "metadata": {},
     "output_type": "execute_result"
    }
   ],
   "source": [
    "dfbikeweath.isna().sum().sum()"
   ]
  },
  {
   "cell_type": "markdown",
   "id": "28a43073",
   "metadata": {},
   "source": [
    "## Drop some of the unwanted columns "
   ]
  },
  {
   "cell_type": "code",
   "execution_count": 33,
   "id": "5d056a4a",
   "metadata": {},
   "outputs": [],
   "source": [
    "dfbikeweath.drop(labels=['delete_flag_y','id_x','delete_flag_x','address','status','last_update','coord_lon','coord_lat','#'],axis=1,inplace=True)"
   ]
  },
  {
   "cell_type": "code",
   "execution_count": 34,
   "id": "666dd69a",
   "metadata": {},
   "outputs": [
    {
     "data": {
      "text/plain": [
       "number                           int64\n",
       "name                            object\n",
       "bike_stand                       int64\n",
       "bike_stand_available             int64\n",
       "bike_available                   int64\n",
       "creat_time_x                    object\n",
       "TIME                    datetime64[ns]\n",
       "YEAR_x                           int64\n",
       "MONTH_x                          int64\n",
       "Day_of_Week_x                    int64\n",
       "DAY_num_x                        int64\n",
       "HOUR_x                           int64\n",
       "MINUTE_x                         int64\n",
       "DAY_x                           object\n",
       "station_select                    bool\n",
       "id_y                            object\n",
       "weather_id                       int64\n",
       "weather_main                     int64\n",
       "temp                           float64\n",
       "temp_feel                      float64\n",
       "wind_speed                     float64\n",
       "clouds                           int64\n",
       "sunrise                 datetime64[ns]\n",
       "sunset                  datetime64[ns]\n",
       "creat_time_y                    object\n",
       "YEAR_y                           int64\n",
       "MONTH_y                          int64\n",
       "Day_of_Week_y                    int64\n",
       "DAY_num_y                        int64\n",
       "HOUR_y                           int64\n",
       "MINUTE_y                         int64\n",
       "DAY_y                           object\n",
       "time_select                       bool\n",
       "dtype: object"
      ]
     },
     "execution_count": 34,
     "metadata": {},
     "output_type": "execute_result"
    }
   ],
   "source": [
    "dfbikeweath.dtypes"
   ]
  },
  {
   "cell_type": "markdown",
   "id": "9aeba36f",
   "metadata": {},
   "source": [
    "## Split Data set to Train and Test"
   ]
  },
  {
   "cell_type": "code",
   "execution_count": 35,
   "id": "6c2f8360",
   "metadata": {},
   "outputs": [
    {
     "data": {
      "text/plain": [
       "((19280, 33), (4821, 33))"
      ]
     },
     "execution_count": 35,
     "metadata": {},
     "output_type": "execute_result"
    }
   ],
   "source": [
    "train_set,test_set = train_test_split(dfbikeweath,test_size=0.2,random_state=42)\n",
    "train_set.shape,test_set.shape"
   ]
  },
  {
   "cell_type": "markdown",
   "id": "48d33a4f",
   "metadata": {},
   "source": [
    "## Create a copy of Training set to carry out some preliminary analysis "
   ]
  },
  {
   "cell_type": "code",
   "execution_count": 36,
   "id": "86977655",
   "metadata": {},
   "outputs": [
    {
     "data": {
      "text/plain": [
       "number                           int64\n",
       "name                            object\n",
       "bike_stand                       int64\n",
       "bike_stand_available             int64\n",
       "bike_available                   int64\n",
       "creat_time_x                    object\n",
       "TIME                    datetime64[ns]\n",
       "YEAR_x                           int64\n",
       "MONTH_x                          int64\n",
       "Day_of_Week_x                    int64\n",
       "DAY_num_x                        int64\n",
       "HOUR_x                           int64\n",
       "MINUTE_x                         int64\n",
       "DAY_x                           object\n",
       "station_select                    bool\n",
       "id_y                            object\n",
       "weather_id                       int64\n",
       "weather_main                     int64\n",
       "temp                           float64\n",
       "temp_feel                      float64\n",
       "wind_speed                     float64\n",
       "clouds                           int64\n",
       "sunrise                 datetime64[ns]\n",
       "sunset                  datetime64[ns]\n",
       "creat_time_y                    object\n",
       "YEAR_y                           int64\n",
       "MONTH_y                          int64\n",
       "Day_of_Week_y                    int64\n",
       "DAY_num_y                        int64\n",
       "HOUR_y                           int64\n",
       "MINUTE_y                         int64\n",
       "DAY_y                           object\n",
       "time_select                       bool\n",
       "dtype: object"
      ]
     },
     "execution_count": 36,
     "metadata": {},
     "output_type": "execute_result"
    }
   ],
   "source": [
    "bikes = train_set.copy()\n",
    "bikes.dtypes"
   ]
  },
  {
   "cell_type": "code",
   "execution_count": 37,
   "id": "b1d49210",
   "metadata": {},
   "outputs": [
    {
     "name": "stderr",
     "output_type": "stream",
     "text": [
      "C:\\Users\\corma\\AppData\\Local\\Temp\\ipykernel_12296\\295380.py:1: FutureWarning: The default value of numeric_only in DataFrame.corr is deprecated. In a future version, it will default to False. Select only valid columns or specify the value of numeric_only to silence this warning.\n",
      "  corr_matrix = bikes.corr()\n"
     ]
    }
   ],
   "source": [
    "corr_matrix = bikes.corr()"
   ]
  },
  {
   "cell_type": "code",
   "execution_count": 38,
   "id": "e3f8e7ae",
   "metadata": {},
   "outputs": [
    {
     "data": {
      "text/plain": [
       "bike_available          1.000000\n",
       "bike_stand              0.228699\n",
       "number                  0.029923\n",
       "Day_of_Week_y           0.017747\n",
       "Day_of_Week_x           0.017747\n",
       "weather_main            0.016580\n",
       "clouds                  0.014740\n",
       "time_select             0.007737\n",
       "MINUTE_x               -0.004738\n",
       "MINUTE_y               -0.004738\n",
       "wind_speed             -0.007683\n",
       "HOUR_x                 -0.011705\n",
       "HOUR_y                 -0.011705\n",
       "DAY_num_x              -0.015629\n",
       "DAY_num_y              -0.015629\n",
       "weather_id             -0.015822\n",
       "temp_feel              -0.017851\n",
       "temp                   -0.018268\n",
       "station_select         -0.026008\n",
       "bike_stand_available   -0.686021\n",
       "YEAR_x                       NaN\n",
       "MONTH_x                      NaN\n",
       "YEAR_y                       NaN\n",
       "MONTH_y                      NaN\n",
       "Name: bike_available, dtype: float64"
      ]
     },
     "execution_count": 38,
     "metadata": {},
     "output_type": "execute_result"
    }
   ],
   "source": [
    "corr_matrix['bike_available'].sort_values(ascending = False)"
   ]
  },
  {
   "cell_type": "markdown",
   "id": "0b90bb86",
   "metadata": {},
   "source": [
    "## Correlation based on weather"
   ]
  },
  {
   "cell_type": "code",
   "execution_count": 39,
   "id": "ccf83480",
   "metadata": {},
   "outputs": [
    {
     "data": {
      "text/html": [
       "<div>\n",
       "<style scoped>\n",
       "    .dataframe tbody tr th:only-of-type {\n",
       "        vertical-align: middle;\n",
       "    }\n",
       "\n",
       "    .dataframe tbody tr th {\n",
       "        vertical-align: top;\n",
       "    }\n",
       "\n",
       "    .dataframe thead th {\n",
       "        text-align: right;\n",
       "    }\n",
       "</style>\n",
       "<table border=\"1\" class=\"dataframe\">\n",
       "  <thead>\n",
       "    <tr style=\"text-align: right;\">\n",
       "      <th></th>\n",
       "      <th>bike_available</th>\n",
       "      <th>weather_main</th>\n",
       "      <th>clouds</th>\n",
       "      <th>wind_speed</th>\n",
       "      <th>weather_id</th>\n",
       "      <th>temp_feel</th>\n",
       "      <th>temp</th>\n",
       "    </tr>\n",
       "  </thead>\n",
       "  <tbody>\n",
       "    <tr>\n",
       "      <th>bike_available</th>\n",
       "      <td>1.000000</td>\n",
       "      <td>0.016580</td>\n",
       "      <td>0.014740</td>\n",
       "      <td>-0.007683</td>\n",
       "      <td>-0.015822</td>\n",
       "      <td>-0.017851</td>\n",
       "      <td>-0.018268</td>\n",
       "    </tr>\n",
       "    <tr>\n",
       "      <th>weather_main</th>\n",
       "      <td>0.016580</td>\n",
       "      <td>1.000000</td>\n",
       "      <td>0.221045</td>\n",
       "      <td>0.018268</td>\n",
       "      <td>-0.893304</td>\n",
       "      <td>-0.206920</td>\n",
       "      <td>-0.198771</td>\n",
       "    </tr>\n",
       "    <tr>\n",
       "      <th>clouds</th>\n",
       "      <td>0.014740</td>\n",
       "      <td>0.221045</td>\n",
       "      <td>1.000000</td>\n",
       "      <td>0.020678</td>\n",
       "      <td>-0.253018</td>\n",
       "      <td>0.009980</td>\n",
       "      <td>-0.017001</td>\n",
       "    </tr>\n",
       "    <tr>\n",
       "      <th>wind_speed</th>\n",
       "      <td>-0.007683</td>\n",
       "      <td>0.018268</td>\n",
       "      <td>0.020678</td>\n",
       "      <td>1.000000</td>\n",
       "      <td>-0.081389</td>\n",
       "      <td>0.212743</td>\n",
       "      <td>0.400228</td>\n",
       "    </tr>\n",
       "    <tr>\n",
       "      <th>weather_id</th>\n",
       "      <td>-0.015822</td>\n",
       "      <td>-0.893304</td>\n",
       "      <td>-0.253018</td>\n",
       "      <td>-0.081389</td>\n",
       "      <td>1.000000</td>\n",
       "      <td>0.231458</td>\n",
       "      <td>0.215783</td>\n",
       "    </tr>\n",
       "    <tr>\n",
       "      <th>temp_feel</th>\n",
       "      <td>-0.017851</td>\n",
       "      <td>-0.206920</td>\n",
       "      <td>0.009980</td>\n",
       "      <td>0.212743</td>\n",
       "      <td>0.231458</td>\n",
       "      <td>1.000000</td>\n",
       "      <td>0.967575</td>\n",
       "    </tr>\n",
       "    <tr>\n",
       "      <th>temp</th>\n",
       "      <td>-0.018268</td>\n",
       "      <td>-0.198771</td>\n",
       "      <td>-0.017001</td>\n",
       "      <td>0.400228</td>\n",
       "      <td>0.215783</td>\n",
       "      <td>0.967575</td>\n",
       "      <td>1.000000</td>\n",
       "    </tr>\n",
       "  </tbody>\n",
       "</table>\n",
       "</div>"
      ],
      "text/plain": [
       "                bike_available  weather_main    clouds  wind_speed  \\\n",
       "bike_available        1.000000      0.016580  0.014740   -0.007683   \n",
       "weather_main          0.016580      1.000000  0.221045    0.018268   \n",
       "clouds                0.014740      0.221045  1.000000    0.020678   \n",
       "wind_speed           -0.007683      0.018268  0.020678    1.000000   \n",
       "weather_id           -0.015822     -0.893304 -0.253018   -0.081389   \n",
       "temp_feel            -0.017851     -0.206920  0.009980    0.212743   \n",
       "temp                 -0.018268     -0.198771 -0.017001    0.400228   \n",
       "\n",
       "                weather_id  temp_feel      temp  \n",
       "bike_available   -0.015822  -0.017851 -0.018268  \n",
       "weather_main     -0.893304  -0.206920 -0.198771  \n",
       "clouds           -0.253018   0.009980 -0.017001  \n",
       "wind_speed       -0.081389   0.212743  0.400228  \n",
       "weather_id        1.000000   0.231458  0.215783  \n",
       "temp_feel         0.231458   1.000000  0.967575  \n",
       "temp              0.215783   0.967575  1.000000  "
      ]
     },
     "execution_count": 39,
     "metadata": {},
     "output_type": "execute_result"
    }
   ],
   "source": [
    "bikes[['bike_available','weather_main','clouds','wind_speed','weather_id','temp_feel','temp']].corr()"
   ]
  },
  {
   "cell_type": "code",
   "execution_count": 40,
   "id": "acaa7880",
   "metadata": {},
   "outputs": [
    {
     "data": {
      "text/plain": [
       "<Axes: xlabel='temp', ylabel='bike_available'>"
      ]
     },
     "execution_count": 40,
     "metadata": {},
     "output_type": "execute_result"
    },
    {
     "data": {
      "image/png": "[encoded data removed]",
      "text/plain": [
       "<Figure size 1000x500 with 6 Axes>"
      ]
     },
     "metadata": {},
     "output_type": "display_data"
    }
   ],
   "source": [
    "fig, axs = plt.subplots(2, 3, sharey=True)\n",
    "bikes.plot(kind='scatter', x='weather_main', y='bike_available', label=\"%.3f\" % bikes[['weather_main', 'bike_available']].corr().to_numpy()[0,1], ax=axs[0][0], figsize=(10, 5))\n",
    "bikes.plot(kind='scatter', x='clouds', y='bike_available', label=\"%.3f\" % bikes[['clouds', 'bike_available']].corr().to_numpy()[0,1], ax=axs[0][1])\n",
    "bikes.plot(kind='scatter', x='wind_speed', y='bike_available', label=\"%.3f\" % bikes[['wind_speed', 'bike_available']].corr().to_numpy()[0,1], ax=axs[0][2])\n",
    "bikes.plot(kind='scatter', x='weather_id', y='bike_available', label=\"%.3f\" % bikes[['weather_id', 'bike_available']].corr().to_numpy()[0,1], ax=axs[1][0])\n",
    "bikes.plot(kind='scatter', x='temp_feel', y='bike_available', label=\"%.3f\" % bikes[['temp_feel', 'bike_available']].corr().to_numpy()[0,1], ax=axs[1][1])\n",
    "bikes.plot(kind='scatter', x='temp', y='bike_available', label=\"%.3f\" % bikes[['temp', 'bike_available']].corr().to_numpy()[0,1], ax=axs[1][2])"
   ]
  },
  {
   "cell_type": "markdown",
   "id": "19a10958",
   "metadata": {},
   "source": [
    "## Correlation based on time"
   ]
  },
  {
   "cell_type": "code",
   "execution_count": 41,
   "id": "c3730962",
   "metadata": {},
   "outputs": [
    {
     "data": {
      "text/html": [
       "<div>\n",
       "<style scoped>\n",
       "    .dataframe tbody tr th:only-of-type {\n",
       "        vertical-align: middle;\n",
       "    }\n",
       "\n",
       "    .dataframe tbody tr th {\n",
       "        vertical-align: top;\n",
       "    }\n",
       "\n",
       "    .dataframe thead th {\n",
       "        text-align: right;\n",
       "    }\n",
       "</style>\n",
       "<table border=\"1\" class=\"dataframe\">\n",
       "  <thead>\n",
       "    <tr style=\"text-align: right;\">\n",
       "      <th></th>\n",
       "      <th>bike_available</th>\n",
       "      <th>HOUR_x</th>\n",
       "      <th>DAY_num_x</th>\n",
       "      <th>MINUTE_x</th>\n",
       "      <th>Day_of_Week_x</th>\n",
       "    </tr>\n",
       "  </thead>\n",
       "  <tbody>\n",
       "    <tr>\n",
       "      <th>bike_available</th>\n",
       "      <td>1.000000</td>\n",
       "      <td>-0.011705</td>\n",
       "      <td>-0.015629</td>\n",
       "      <td>-0.004738</td>\n",
       "      <td>0.017747</td>\n",
       "    </tr>\n",
       "    <tr>\n",
       "      <th>HOUR_x</th>\n",
       "      <td>-0.011705</td>\n",
       "      <td>1.000000</td>\n",
       "      <td>-0.151850</td>\n",
       "      <td>0.039567</td>\n",
       "      <td>0.067695</td>\n",
       "    </tr>\n",
       "    <tr>\n",
       "      <th>DAY_num_x</th>\n",
       "      <td>-0.015629</td>\n",
       "      <td>-0.151850</td>\n",
       "      <td>1.000000</td>\n",
       "      <td>-0.120986</td>\n",
       "      <td>-0.091672</td>\n",
       "    </tr>\n",
       "    <tr>\n",
       "      <th>MINUTE_x</th>\n",
       "      <td>-0.004738</td>\n",
       "      <td>0.039567</td>\n",
       "      <td>-0.120986</td>\n",
       "      <td>1.000000</td>\n",
       "      <td>-0.020108</td>\n",
       "    </tr>\n",
       "    <tr>\n",
       "      <th>Day_of_Week_x</th>\n",
       "      <td>0.017747</td>\n",
       "      <td>0.067695</td>\n",
       "      <td>-0.091672</td>\n",
       "      <td>-0.020108</td>\n",
       "      <td>1.000000</td>\n",
       "    </tr>\n",
       "  </tbody>\n",
       "</table>\n",
       "</div>"
      ],
      "text/plain": [
       "                bike_available    HOUR_x  DAY_num_x  MINUTE_x  Day_of_Week_x\n",
       "bike_available        1.000000 -0.011705  -0.015629 -0.004738       0.017747\n",
       "HOUR_x               -0.011705  1.000000  -0.151850  0.039567       0.067695\n",
       "DAY_num_x            -0.015629 -0.151850   1.000000 -0.120986      -0.091672\n",
       "MINUTE_x             -0.004738  0.039567  -0.120986  1.000000      -0.020108\n",
       "Day_of_Week_x         0.017747  0.067695  -0.091672 -0.020108       1.000000"
      ]
     },
     "execution_count": 41,
     "metadata": {},
     "output_type": "execute_result"
    }
   ],
   "source": [
    "bikes[['bike_available','HOUR_x','DAY_num_x','MINUTE_x','Day_of_Week_x']].corr()"
   ]
  },
  {
   "cell_type": "code",
   "execution_count": 42,
   "id": "317597c9",
   "metadata": {},
   "outputs": [
    {
     "data": {
      "text/plain": [
       "<Axes: xlabel='Day_of_Week_x', ylabel='bike_available'>"
      ]
     },
     "execution_count": 42,
     "metadata": {},
     "output_type": "execute_result"
    },
    {
     "data": {
      "image/png": "[encoded data removed]",
      "text/plain": [
       "<Figure size 1000x500 with 3 Axes>"
      ]
     },
     "metadata": {},
     "output_type": "display_data"
    }
   ],
   "source": [
    "fig, axs = plt.subplots(1, 3, sharey=True)\n",
    "bikes.plot(kind='scatter', x='HOUR_x', y='bike_available', label=\"%.3f\" % bikes[['HOUR_x', 'bike_available']].corr().to_numpy()[0,1], ax=axs[0], figsize=(10, 5))\n",
    "bikes.plot(kind='scatter', x='DAY_num_x', y='bike_available', label=\"%.3f\" % bikes[['DAY_num_x', 'bike_available']].corr().to_numpy()[0,1], ax=axs[1], figsize=(10, 5))\n",
    "bikes.plot(kind='scatter', x='Day_of_Week_x', y='bike_available', label=\"%.3f\" % bikes[['Day_of_Week_x', 'bike_available']].corr().to_numpy()[0,1], ax=axs[2], figsize=(10, 5))"
   ]
  },
  {
   "cell_type": "markdown",
   "id": "ec758d08",
   "metadata": {},
   "source": [
    "## Prepare Linear Regression inputs "
   ]
  },
  {
   "cell_type": "code",
   "execution_count": 93,
   "id": "cba98a82",
   "metadata": {},
   "outputs": [
    {
     "name": "stdout",
     "output_type": "stream",
     "text": [
      "\n",
      "Intercept: \n",
      " 12.43813934335738\n",
      "Features: \n",
      " ['weather_id']\n",
      "Coeficients: \n",
      " [-0.00098358]\n"
     ]
    }
   ],
   "source": [
    "feature = 'weather_id'\n",
    "X = bikes[[feature]]\n",
    "y = bikes['bike_available']\n",
    "\n",
    "linreg = LinearRegression()\n",
    "linreg.fit(X, y)\n",
    "          \n",
    "# Print the estimated linear regression coefficients.\n",
    "print(\"\\nIntercept: \\n\", linreg.intercept_)\n",
    "print(\"Features: \\n\", features)\n",
    "print(\"Coeficients: \\n\", linreg.coef_)"
   ]
  },
  {
   "cell_type": "markdown",
   "id": "ac948b73",
   "metadata": {},
   "source": [
    "## Test the model - Linear Regression"
   ]
  },
  {
   "cell_type": "code",
   "execution_count": 94,
   "id": "3ab2acbf",
   "metadata": {},
   "outputs": [
    {
     "name": "stdout",
     "output_type": "stream",
     "text": [
      "\n",
      "Prediction: (weather_id, Bike Availability, Predicted Bike Availability): 803 , 5 , 12\n"
     ]
    },
    {
     "data": {
      "text/html": [
       "<div>\n",
       "<style scoped>\n",
       "    .dataframe tbody tr th:only-of-type {\n",
       "        vertical-align: middle;\n",
       "    }\n",
       "\n",
       "    .dataframe tbody tr th {\n",
       "        vertical-align: top;\n",
       "    }\n",
       "\n",
       "    .dataframe thead th {\n",
       "        text-align: right;\n",
       "    }\n",
       "</style>\n",
       "<table border=\"1\" class=\"dataframe\">\n",
       "  <thead>\n",
       "    <tr style=\"text-align: right;\">\n",
       "      <th></th>\n",
       "      <th>bike_available</th>\n",
       "      <th>Predicted</th>\n",
       "    </tr>\n",
       "  </thead>\n",
       "  <tbody>\n",
       "    <tr>\n",
       "      <th>23335</th>\n",
       "      <td>5</td>\n",
       "      <td>12.0</td>\n",
       "    </tr>\n",
       "    <tr>\n",
       "      <th>16352</th>\n",
       "      <td>8</td>\n",
       "      <td>12.0</td>\n",
       "    </tr>\n",
       "    <tr>\n",
       "      <th>15783</th>\n",
       "      <td>2</td>\n",
       "      <td>12.0</td>\n",
       "    </tr>\n",
       "    <tr>\n",
       "      <th>22652</th>\n",
       "      <td>3</td>\n",
       "      <td>12.0</td>\n",
       "    </tr>\n",
       "    <tr>\n",
       "      <th>5384</th>\n",
       "      <td>27</td>\n",
       "      <td>12.0</td>\n",
       "    </tr>\n",
       "    <tr>\n",
       "      <th>...</th>\n",
       "      <td>...</td>\n",
       "      <td>...</td>\n",
       "    </tr>\n",
       "    <tr>\n",
       "      <th>21575</th>\n",
       "      <td>24</td>\n",
       "      <td>12.0</td>\n",
       "    </tr>\n",
       "    <tr>\n",
       "      <th>5390</th>\n",
       "      <td>0</td>\n",
       "      <td>12.0</td>\n",
       "    </tr>\n",
       "    <tr>\n",
       "      <th>860</th>\n",
       "      <td>15</td>\n",
       "      <td>12.0</td>\n",
       "    </tr>\n",
       "    <tr>\n",
       "      <th>15795</th>\n",
       "      <td>10</td>\n",
       "      <td>12.0</td>\n",
       "    </tr>\n",
       "    <tr>\n",
       "      <th>23654</th>\n",
       "      <td>4</td>\n",
       "      <td>12.0</td>\n",
       "    </tr>\n",
       "  </tbody>\n",
       "</table>\n",
       "<p>19280 rows × 2 columns</p>\n",
       "</div>"
      ],
      "text/plain": [
       "       bike_available  Predicted\n",
       "23335               5       12.0\n",
       "16352               8       12.0\n",
       "15783               2       12.0\n",
       "22652               3       12.0\n",
       "5384               27       12.0\n",
       "...               ...        ...\n",
       "21575              24       12.0\n",
       "5390                0       12.0\n",
       "860                15       12.0\n",
       "15795              10       12.0\n",
       "23654               4       12.0\n",
       "\n",
       "[19280 rows x 2 columns]"
      ]
     },
     "execution_count": 94,
     "metadata": {},
     "output_type": "execute_result"
    }
   ],
   "source": [
    "# Predicted scores for each example. \n",
    "linreg_predictions = linreg.predict(X[[f]]).round(0)\n",
    "print(f\"\\nPrediction: ({f}, Bike Availability, Predicted Bike Availability): {int(X[f].values[0])} , {y.values[0]} , {int(linreg_predictions[0])}\")\n",
    "actual_vs_predicted = pd.concat([y, pd.DataFrame(linreg_predictions, columns=['Predicted'], index=y.index)], axis=1)\n",
    "actual_vs_predicted"
   ]
  },
  {
   "cell_type": "markdown",
   "id": "48d7f2cb",
   "metadata": {},
   "source": [
    "## Predict bike availabity for selected feature"
   ]
  },
  {
   "cell_type": "code",
   "execution_count": 73,
   "id": "da8d981f",
   "metadata": {},
   "outputs": [
    {
     "data": {
      "text/plain": [
       "array([12.43715576])"
      ]
     },
     "execution_count": 73,
     "metadata": {},
     "output_type": "execute_result"
    }
   ],
   "source": [
    "X_new = pd.DataFrame({f: [1]})\n",
    "X_new.head()\n",
    "linreg.predict(X_new)"
   ]
  },
  {
   "cell_type": "code",
   "execution_count": 74,
   "id": "c92b5495",
   "metadata": {},
   "outputs": [
    {
     "data": {
      "text/plain": [
       "<Axes: xlabel='weather_id', ylabel='bike_available'>"
      ]
     },
     "execution_count": 74,
     "metadata": {},
     "output_type": "execute_result"
    },
    {
     "data": {
      "image/png": "[encoded data removed]",
      "text/plain": [
       "<Figure size 640x480 with 1 Axes>"
      ]
     },
     "metadata": {},
     "output_type": "display_data"
    }
   ],
   "source": [
    "bikes.plot(kind='scatter', x=f, y='bike_available')"
   ]
  },
  {
   "cell_type": "markdown",
   "id": "e73a569b",
   "metadata": {},
   "source": [
    "## Multiple Regression "
   ]
  },
  {
   "cell_type": "code",
   "execution_count": 96,
   "id": "c9ee64ba",
   "metadata": {},
   "outputs": [
    {
     "name": "stdout",
     "output_type": "stream",
     "text": [
      "\n",
      "Intercept: \n",
      " 11.421996643257462\n",
      "Features: \n",
      " ['weather_main', 'clouds', 'temp', 'weather_id', 'wind_speed']\n",
      "Coeficients: \n",
      " [ 1.16141715e-01  6.88728148e-03 -4.06542801e-02  3.25628403e-05\n",
      " -6.76867620e-03]\n"
     ]
    }
   ],
   "source": [
    "features = ['weather_main','clouds','temp', 'weather_id', 'wind_speed',]\n",
    "X = bikes[features]\n",
    "y = bikes['bike_available']\n",
    "\n",
    "#X =bikes[mul_features]\n",
    "linreg_m = LinearRegression()\n",
    "linreg_m.fit(X[mul_features], y)\n",
    "\n",
    "# Print the estimated linear regression coefficients.\n",
    "print(\"\\nIntercept: \\n\", linreg_m.intercept_)\n",
    "print(\"Features: \\n\", features)\n",
    "print(\"Coeficients: \\n\", linreg_m.coef_)"
   ]
  },
  {
   "cell_type": "markdown",
   "id": "ad63ab57",
   "metadata": {},
   "source": [
    "# Test the model - Multiple Regression"
   ]
  },
  {
   "cell_type": "code",
   "execution_count": 97,
   "id": "0f5af1cc",
   "metadata": {},
   "outputs": [
    {
     "name": "stdout",
     "output_type": "stream",
     "text": [
      "\n",
      "Prediction: (Temp - Wind Speed - Clouds - Weather ID - Weather, Bike Availability, PredictedScore)\n"
     ]
    },
    {
     "data": {
      "text/html": [
       "<div>\n",
       "<style scoped>\n",
       "    .dataframe tbody tr th:only-of-type {\n",
       "        vertical-align: middle;\n",
       "    }\n",
       "\n",
       "    .dataframe tbody tr th {\n",
       "        vertical-align: top;\n",
       "    }\n",
       "\n",
       "    .dataframe thead th {\n",
       "        text-align: right;\n",
       "    }\n",
       "</style>\n",
       "<table border=\"1\" class=\"dataframe\">\n",
       "  <thead>\n",
       "    <tr style=\"text-align: right;\">\n",
       "      <th></th>\n",
       "      <th>bike_available</th>\n",
       "      <th>Predicted</th>\n",
       "    </tr>\n",
       "  </thead>\n",
       "  <tbody>\n",
       "    <tr>\n",
       "      <th>23335</th>\n",
       "      <td>5</td>\n",
       "      <td>12.0</td>\n",
       "    </tr>\n",
       "    <tr>\n",
       "      <th>16352</th>\n",
       "      <td>8</td>\n",
       "      <td>12.0</td>\n",
       "    </tr>\n",
       "    <tr>\n",
       "      <th>15783</th>\n",
       "      <td>2</td>\n",
       "      <td>11.0</td>\n",
       "    </tr>\n",
       "    <tr>\n",
       "      <th>22652</th>\n",
       "      <td>3</td>\n",
       "      <td>12.0</td>\n",
       "    </tr>\n",
       "    <tr>\n",
       "      <th>5384</th>\n",
       "      <td>27</td>\n",
       "      <td>12.0</td>\n",
       "    </tr>\n",
       "    <tr>\n",
       "      <th>...</th>\n",
       "      <td>...</td>\n",
       "      <td>...</td>\n",
       "    </tr>\n",
       "    <tr>\n",
       "      <th>21575</th>\n",
       "      <td>24</td>\n",
       "      <td>12.0</td>\n",
       "    </tr>\n",
       "    <tr>\n",
       "      <th>5390</th>\n",
       "      <td>0</td>\n",
       "      <td>12.0</td>\n",
       "    </tr>\n",
       "    <tr>\n",
       "      <th>860</th>\n",
       "      <td>15</td>\n",
       "      <td>12.0</td>\n",
       "    </tr>\n",
       "    <tr>\n",
       "      <th>15795</th>\n",
       "      <td>10</td>\n",
       "      <td>11.0</td>\n",
       "    </tr>\n",
       "    <tr>\n",
       "      <th>23654</th>\n",
       "      <td>4</td>\n",
       "      <td>12.0</td>\n",
       "    </tr>\n",
       "  </tbody>\n",
       "</table>\n",
       "<p>19280 rows × 2 columns</p>\n",
       "</div>"
      ],
      "text/plain": [
       "       bike_available  Predicted\n",
       "23335               5       12.0\n",
       "16352               8       12.0\n",
       "15783               2       11.0\n",
       "22652               3       12.0\n",
       "5384               27       12.0\n",
       "...               ...        ...\n",
       "21575              24       12.0\n",
       "5390                0       12.0\n",
       "860                15       12.0\n",
       "15795              10       11.0\n",
       "23654               4       12.0\n",
       "\n",
       "[19280 rows x 2 columns]"
      ]
     },
     "execution_count": 97,
     "metadata": {},
     "output_type": "execute_result"
    }
   ],
   "source": [
    "# Predicted scores for each example. \n",
    "linreg_m_predictions = linreg_m.predict(X[['weather_main','clouds','temp', 'weather_id', 'wind_speed']]).round(0)\n",
    "\n",
    "#print(\"Predicted scores:\", predicted_scores)\n",
    "print(\"\\nPrediction: (Temp - Wind Speed - Clouds - Weather ID - Weather, Bike Availability, PredictedScore)\")\n",
    "actual_vs_predicted_m = pd.concat([y, pd.DataFrame(linreg_m_predictions, columns=['Predicted'], index=y.index)], axis=1)\n",
    "actual_vs_predicted_m"
   ]
  },
  {
   "cell_type": "markdown",
   "id": "94c8fc3c",
   "metadata": {},
   "source": [
    "## Model based on Decision Tree Regressor "
   ]
  },
  {
   "cell_type": "code",
   "execution_count": 102,
   "id": "861b1473",
   "metadata": {},
   "outputs": [
    {
     "data": {
      "text/html": [
       "<style>#sk-container-id-2 {color: black;background-color: white;}#sk-container-id-2 pre{padding: 0;}#sk-container-id-2 div.sk-toggleable {background-color: white;}#sk-container-id-2 label.sk-toggleable__label {cursor: pointer;display: block;width: 100%;margin-bottom: 0;padding: 0.3em;box-sizing: border-box;text-align: center;}#sk-container-id-2 label.sk-toggleable__label-arrow:before {content: \"▸\";float: left;margin-right: 0.25em;color: #696969;}#sk-container-id-2 label.sk-toggleable__label-arrow:hover:before {color: black;}#sk-container-id-2 div.sk-estimator:hover label.sk-toggleable__label-arrow:before {color: black;}#sk-container-id-2 div.sk-toggleable__content {max-height: 0;max-width: 0;overflow: hidden;text-align: left;background-color: #f0f8ff;}#sk-container-id-2 div.sk-toggleable__content pre {margin: 0.2em;color: black;border-radius: 0.25em;background-color: #f0f8ff;}#sk-container-id-2 input.sk-toggleable__control:checked~div.sk-toggleable__content {max-height: 200px;max-width: 100%;overflow: auto;}#sk-container-id-2 input.sk-toggleable__control:checked~label.sk-toggleable__label-arrow:before {content: \"▾\";}#sk-container-id-2 div.sk-estimator input.sk-toggleable__control:checked~label.sk-toggleable__label {background-color: #d4ebff;}#sk-container-id-2 div.sk-label input.sk-toggleable__control:checked~label.sk-toggleable__label {background-color: #d4ebff;}#sk-container-id-2 input.sk-hidden--visually {border: 0;clip: rect(1px 1px 1px 1px);clip: rect(1px, 1px, 1px, 1px);height: 1px;margin: -1px;overflow: hidden;padding: 0;position: absolute;width: 1px;}#sk-container-id-2 div.sk-estimator {font-family: monospace;background-color: #f0f8ff;border: 1px dotted black;border-radius: 0.25em;box-sizing: border-box;margin-bottom: 0.5em;}#sk-container-id-2 div.sk-estimator:hover {background-color: #d4ebff;}#sk-container-id-2 div.sk-parallel-item::after {content: \"\";width: 100%;border-bottom: 1px solid gray;flex-grow: 1;}#sk-container-id-2 div.sk-label:hover label.sk-toggleable__label {background-color: #d4ebff;}#sk-container-id-2 div.sk-serial::before {content: \"\";position: absolute;border-left: 1px solid gray;box-sizing: border-box;top: 0;bottom: 0;left: 50%;z-index: 0;}#sk-container-id-2 div.sk-serial {display: flex;flex-direction: column;align-items: center;background-color: white;padding-right: 0.2em;padding-left: 0.2em;position: relative;}#sk-container-id-2 div.sk-item {position: relative;z-index: 1;}#sk-container-id-2 div.sk-parallel {display: flex;align-items: stretch;justify-content: center;background-color: white;position: relative;}#sk-container-id-2 div.sk-item::before, #sk-container-id-2 div.sk-parallel-item::before {content: \"\";position: absolute;border-left: 1px solid gray;box-sizing: border-box;top: 0;bottom: 0;left: 50%;z-index: -1;}#sk-container-id-2 div.sk-parallel-item {display: flex;flex-direction: column;z-index: 1;position: relative;background-color: white;}#sk-container-id-2 div.sk-parallel-item:first-child::after {align-self: flex-end;width: 50%;}#sk-container-id-2 div.sk-parallel-item:last-child::after {align-self: flex-start;width: 50%;}#sk-container-id-2 div.sk-parallel-item:only-child::after {width: 0;}#sk-container-id-2 div.sk-dashed-wrapped {border: 1px dashed gray;margin: 0 0.4em 0.5em 0.4em;box-sizing: border-box;padding-bottom: 0.4em;background-color: white;}#sk-container-id-2 div.sk-label label {font-family: monospace;font-weight: bold;display: inline-block;line-height: 1.2em;}#sk-container-id-2 div.sk-label-container {text-align: center;}#sk-container-id-2 div.sk-container {/* jupyter's `normalize.less` sets `[hidden] { display: none; }` but bootstrap.min.css set `[hidden] { display: none !important; }` so we also need the `!important` here to be able to override the default hidden behavior on the sphinx rendered scikit-learn.org. See: https://github.com/scikit-learn/scikit-learn/issues/21755 */display: inline-block !important;position: relative;}#sk-container-id-2 div.sk-text-repr-fallback {display: none;}</style><div id=\"sk-container-id-2\" class=\"sk-top-container\"><div class=\"sk-text-repr-fallback\"><pre>DecisionTreeRegressor()</pre><b>In a Jupyter environment, please rerun this cell to show the HTML representation or trust the notebook. <br />On GitHub, the HTML representation is unable to render, please try loading this page with nbviewer.org.</b></div><div class=\"sk-container\" hidden><div class=\"sk-item\"><div class=\"sk-estimator sk-toggleable\"><input class=\"sk-toggleable__control sk-hidden--visually\" id=\"sk-estimator-id-2\" type=\"checkbox\" checked><label for=\"sk-estimator-id-2\" class=\"sk-toggleable__label sk-toggleable__label-arrow\">DecisionTreeRegressor</label><div class=\"sk-toggleable__content\"><pre>DecisionTreeRegressor()</pre></div></div></div></div></div>"
      ],
      "text/plain": [
       "DecisionTreeRegressor()"
      ]
     },
     "execution_count": 102,
     "metadata": {},
     "output_type": "execute_result"
    }
   ],
   "source": [
    "features = ['weather_main','clouds','temp', 'weather_id', 'wind_speed',]\n",
    "X = bikes[features]\n",
    "y = bikes['bike_available']\n",
    "\n",
    "treereg = DecisionTreeRegressor()\n",
    "treereg.fit(X, y)\n",
    "\n",
    "# Print the estimated linear regression coefficients.\n",
    "#print(\"\\nIntercept: \\n\", treereg.intercept_)\n",
    "#print(\"Features: \\n\", features)\n",
    "#print(\"Coeficients: \\n\", treereg.coef_)"
   ]
  },
  {
   "cell_type": "code",
   "execution_count": null,
   "id": "628f8e39",
   "metadata": {},
   "outputs": [],
   "source": []
  }
 ],
 "metadata": {
  "kernelspec": {
   "display_name": "Python 3 (ipykernel)",
   "language": "python",
   "name": "python3"
  },
  "language_info": {
   "codemirror_mode": {
    "name": "ipython",
    "version": 3
   },
   "file_extension": ".py",
   "mimetype": "text/x-python",
   "name": "python",
   "nbconvert_exporter": "python",
   "pygments_lexer": "ipython3",
   "version": "3.10.9"
  }
 },
 "nbformat": 4,
 "nbformat_minor": 5
}
