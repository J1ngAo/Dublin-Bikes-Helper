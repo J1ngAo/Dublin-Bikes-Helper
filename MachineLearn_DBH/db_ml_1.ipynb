{
 "cells": [
  {
   "cell_type": "code",
   "execution_count": 1,
   "id": "07e2590b",
   "metadata": {},
   "outputs": [],
   "source": [
    "import pandas as pd\n",
    "import numpy as np\n",
    "\n",
    "import matplotlib.pyplot as plt\n",
    "import matplotlib.dates\n",
    "\n",
    "import requests\n",
    "import json\n",
    "from pathlib import Path\n",
    "import sys\n",
    "import pickle\n",
    "\n",
    "import time\n",
    "from datetime import datetime\n",
    "import datetime\n",
    "\n",
    "from sklearn.model_selection import train_test_split\n",
    "from sklearn.linear_model import LinearRegression\n",
    "from sklearn.model_selection import train_test_split\n",
    "from sklearn import metrics\n",
    "from sklearn.model_selection import cross_validate\n",
    "from sklearn.model_selection import cross_val_score\n",
    "from sklearn.tree import DecisionTreeRegressor\n",
    "from sklearn.metrics import mean_squared_error, r2_score\n",
    "from sklearn import datasets, linear_model\n",
    "\n",
    "%matplotlib inline"
   ]
  },
  {
   "cell_type": "markdown",
   "id": "91c529fb",
   "metadata": {},
   "source": [
    "## Function to convert day number to day"
   ]
  },
  {
   "cell_type": "code",
   "execution_count": 2,
   "id": "c04688f0",
   "metadata": {},
   "outputs": [],
   "source": [
    "def convert_day(num):\n",
    "    if num == 1:\n",
    "        return 'Monday'\n",
    "    elif num == 2:\n",
    "        return 'Tuesday'\n",
    "    elif num == 3:\n",
    "        return 'Wednesday'\n",
    "    elif num == 4:\n",
    "        return 'Thursday'\n",
    "    elif num == 5:\n",
    "        return 'Friday'\n",
    "    elif num == 6:\n",
    "        return 'Saturday'\n",
    "    else:\n",
    "        return 'Sunday'"
   ]
  },
  {
   "cell_type": "markdown",
   "id": "b990ccde",
   "metadata": {},
   "source": [
    "## Function to convert Month number to Month"
   ]
  },
  {
   "cell_type": "code",
   "execution_count": 3,
   "id": "c9c4352d",
   "metadata": {},
   "outputs": [],
   "source": [
    "def convert_month(num):\n",
    "    if num == 1:\n",
    "        return 'January'\n",
    "    elif num == 2:\n",
    "        return 'February'\n",
    "    elif num == 3:\n",
    "        return 'March'\n",
    "    elif num == 4:\n",
    "        return 'April'\n",
    "    elif num == 5:\n",
    "        return 'May'\n",
    "    elif num == 6:\n",
    "        return 'June'\n",
    "    elif num == 7:\n",
    "        return 'July'\n",
    "    elif num == 8:\n",
    "        return 'August'\n",
    "    elif num == 9:\n",
    "        return 'September'\n",
    "    elif num == 10:\n",
    "        return 'October'\n",
    "    elif num == 11:\n",
    "        return 'November'\n",
    "    else:\n",
    "        return 'December'"
   ]
  },
  {
   "cell_type": "code",
   "execution_count": 4,
   "id": "8b25234a",
   "metadata": {},
   "outputs": [],
   "source": [
    "#path to files\n",
    "file_path_csv_weather = Path('C:\\\\Users\\\\corma\\\\Documents\\\\GitHub\\\\Dublin-Bikes-Helper\\\\MachineLearn_DBH\\\\weather_info.csv')\n",
    "file_path_csv_bike = Path('C:\\\\Users\\\\corma\\\\Documents\\\\GitHub\\\\Dublin-Bikes-Helper\\\\MachineLearn_DBH\\\\bike_info.csv')"
   ]
  },
  {
   "cell_type": "code",
   "execution_count": 5,
   "id": "9f1c8f5c",
   "metadata": {},
   "outputs": [],
   "source": [
    "#Read files\n",
    "df = pd.read_csv(file_path_csv_bike,index_col=False)\n",
    "dfw = pd.read_csv(file_path_csv_weather,index_col=False)"
   ]
  },
  {
   "cell_type": "code",
   "execution_count": 6,
   "id": "e45ba9c6",
   "metadata": {},
   "outputs": [],
   "source": [
    "#df.shape"
   ]
  },
  {
   "cell_type": "code",
   "execution_count": 7,
   "id": "6aa924db",
   "metadata": {},
   "outputs": [],
   "source": [
    "#df.describe()"
   ]
  },
  {
   "cell_type": "code",
   "execution_count": 8,
   "id": "62a8ac30",
   "metadata": {},
   "outputs": [],
   "source": [
    "#df.dtypes"
   ]
  },
  {
   "cell_type": "code",
   "execution_count": 9,
   "id": "fc34eea6",
   "metadata": {},
   "outputs": [],
   "source": [
    "#dfw.shape"
   ]
  },
  {
   "cell_type": "code",
   "execution_count": 10,
   "id": "5828b978",
   "metadata": {},
   "outputs": [],
   "source": [
    "#dfw.describe()"
   ]
  },
  {
   "cell_type": "code",
   "execution_count": 11,
   "id": "92637f4c",
   "metadata": {},
   "outputs": [],
   "source": [
    "#dfw.dtypes"
   ]
  },
  {
   "cell_type": "code",
   "execution_count": 12,
   "id": "cde3da89",
   "metadata": {},
   "outputs": [],
   "source": [
    "#dfw.head(5)"
   ]
  },
  {
   "cell_type": "code",
   "execution_count": 13,
   "id": "8ef6d756",
   "metadata": {},
   "outputs": [],
   "source": [
    "#dfw['weather_main'].unique()"
   ]
  },
  {
   "cell_type": "markdown",
   "id": "5c8629ea",
   "metadata": {},
   "source": [
    "## Set up Time Parmeters - Bike and Weather"
   ]
  },
  {
   "cell_type": "code",
   "execution_count": 14,
   "id": "dc72a52b",
   "metadata": {},
   "outputs": [],
   "source": [
    "df[\"TIME\"] = pd.to_datetime(df[\"creat_time\"],format='%d/%m/%Y %H:%M')\n",
    "df[\"YEAR\"] = df[\"TIME\"].dt.year\n",
    "df[\"MONTH\"] = df[\"TIME\"].dt.month\n",
    "df['Day_of_Week'] = df['TIME'].dt.dayofweek\n",
    "df[\"DAY_num\"] = df[\"TIME\"].dt.day\n",
    "df[\"HOUR\"] = df[\"TIME\"].dt.hour\n",
    "df[\"MINUTE\"] = df[\"TIME\"].dt.minute"
   ]
  },
  {
   "cell_type": "code",
   "execution_count": 15,
   "id": "565c0315",
   "metadata": {},
   "outputs": [],
   "source": [
    "#df.dtypes"
   ]
  },
  {
   "cell_type": "code",
   "execution_count": 16,
   "id": "a823f109",
   "metadata": {},
   "outputs": [],
   "source": [
    "dfw[\"TIME\"] = pd.to_datetime(dfw[\"creat_time\"],format='%d/%m/%Y %H:%M')\n",
    "dfw[\"sunrise\"] = pd.to_datetime(dfw[\"sunrise\"],format='%d/%m/%Y %H:%M')\n",
    "dfw[\"sunset\"] = pd.to_datetime(dfw[\"sunset\"],format='%d/%m/%Y %H:%M')\n",
    "\n",
    "dfw[\"YEAR\"] = dfw[\"TIME\"].dt.year\n",
    "col =np.array(dfw[\"YEAR\"],np.int64) #Converts float to int\n",
    "dfw[\"YEAR\"] = col #Converts float to int\n",
    "\n",
    "dfw[\"MONTH\"] = dfw[\"TIME\"].dt.month\n",
    "col =np.array(dfw[\"MONTH\"] ,np.int64)\n",
    "dfw[\"MONTH\"]  = col\n",
    "\n",
    "dfw['Day_of_Week'] = dfw['TIME'].dt.dayofweek\n",
    "col =np.array(dfw['Day_of_Week'],np.int64) \n",
    "dfw['Day_of_Week'] = col \n",
    "dfw[\"DAY_num\"] = dfw[\"TIME\"].dt.day\n",
    "col =np.array(dfw[\"DAY_num\"],np.int64)\n",
    "dfw[\"DAY_num\"] = col\n",
    "\n",
    "dfw[\"HOUR\"] = dfw[\"TIME\"].dt.hour\n",
    "col =np.array(dfw[\"HOUR\"] ,np.int64)\n",
    "dfw[\"HOUR\"]  = col\n",
    "\n",
    "dfw[\"MINUTE\"] = dfw[\"TIME\"].dt.minute\n",
    "col =np.array(dfw[\"MINUTE\"] ,np.int64)\n",
    "dfw[\"MINUTE\"] = col"
   ]
  },
  {
   "cell_type": "code",
   "execution_count": 17,
   "id": "873f260d",
   "metadata": {},
   "outputs": [],
   "source": [
    "#dfw.dtypes"
   ]
  },
  {
   "cell_type": "code",
   "execution_count": 18,
   "id": "b823182a",
   "metadata": {},
   "outputs": [
    {
     "data": {
      "text/plain": [
       "array(['Wed', 'Thu', 'Sat', 'Tue', 'Mon', 'Sun', 'Fri'], dtype=object)"
      ]
     },
     "execution_count": 18,
     "metadata": {},
     "output_type": "execute_result"
    }
   ],
   "source": [
    "df.loc[df['Day_of_Week'] == 0, 'DAY'] = 'Mon'  \n",
    "df.loc[df['Day_of_Week'] == 1, 'DAY'] = 'Tue'  \n",
    "df.loc[df['Day_of_Week'] == 2, 'DAY'] = 'Wed'  \n",
    "df.loc[df['Day_of_Week'] == 3, 'DAY'] = 'Thu'  \n",
    "df.loc[df['Day_of_Week'] == 4, 'DAY'] = 'Fri' \n",
    "df.loc[df['Day_of_Week'] == 5, 'DAY'] = 'Sat' \n",
    "df.loc[df['Day_of_Week'] == 6, 'DAY'] = 'Sun' \n",
    "df[\"DAY\"].unique()"
   ]
  },
  {
   "cell_type": "code",
   "execution_count": 19,
   "id": "62ade5e1",
   "metadata": {},
   "outputs": [
    {
     "data": {
      "text/plain": [
       "array(['Mon', 'Wed', 'Sun', 'Thu', 'Sat', 'Fri', 'Tue'], dtype=object)"
      ]
     },
     "execution_count": 19,
     "metadata": {},
     "output_type": "execute_result"
    }
   ],
   "source": [
    "dfw.loc[dfw['Day_of_Week'] == 0, 'DAY'] = 'Mon'  \n",
    "dfw.loc[dfw['Day_of_Week'] == 1, 'DAY'] = 'Tue'  \n",
    "dfw.loc[dfw['Day_of_Week'] == 2, 'DAY'] = 'Wed'  \n",
    "dfw.loc[dfw['Day_of_Week'] == 3, 'DAY'] = 'Thu'  \n",
    "dfw.loc[dfw['Day_of_Week'] == 4, 'DAY'] = 'Fri' \n",
    "dfw.loc[dfw['Day_of_Week'] == 5, 'DAY'] = 'Sat' \n",
    "dfw.loc[dfw['Day_of_Week'] == 6, 'DAY'] = 'Sun' \n",
    "dfw[\"DAY\"].unique()"
   ]
  },
  {
   "cell_type": "markdown",
   "id": "2815ca69",
   "metadata": {},
   "source": [
    "## Set up Search Parameters for Bike (Station ID, Day) "
   ]
  },
  {
   "cell_type": "code",
   "execution_count": 20,
   "id": "2a7abbf2",
   "metadata": {},
   "outputs": [
    {
     "data": {
      "image/png": "[encoded data removed]",
      "text/plain": [
       "<Figure size 640x480 with 1 Axes>"
      ]
     },
     "metadata": {},
     "output_type": "display_data"
    }
   ],
   "source": [
    "#Check Bike availability or Bike Parking Availability\n",
    "req = 'b' #input(\"Do you want to check for Bike Availability (Type: b) or Parking Availability (Type: p): \")\n",
    "if req == 'b' or req == 'B' or req == 'p' or req == 'P' or req == 'bike' or req == 'Bike' or req == 'park' or req == 'Park':\n",
    "\n",
    "    #Month\n",
    "    month_num = 3\n",
    "\n",
    "    #Day of the week\n",
    "    day_num = 4 #int(input(\"Enter Day Number (1 = Mon, 2 = Tues, 3 = Wed etc): \"))\n",
    "    \n",
    "    #Hour\n",
    "    hour_num = 12\n",
    "    \n",
    "    #Minute pass the hour\n",
    "    #min_num = int(input(\"Enter Minute pass the hour (0 - 15 - 30 - 45): \"))\n",
    "    \n",
    "    #Station ID\n",
    "    stationid = 25 #int(input(\"Enter Station ID (1 to 117): \"))\n",
    "\n",
    "    try:\n",
    "        stationname = df.loc[(df['number']==stationid),'name'].values[0]\n",
    "        \n",
    "        #Filter data based on certain input parameters\n",
    "        df['station_select'] = (df['YEAR']==2023) & (df['MONTH']==month_num) & (df['Day_of_Week']==day_num-1) & (df['number']==stationid)\n",
    "        \n",
    "        ## Set up x- and y-axis of Plot\n",
    "        x =df['HOUR'].loc[df['station_select']]\n",
    "\n",
    "        if req == 'bike' or req == 'Bike' or req == 'b' or req == 'B':\n",
    "            y = df['bike_available'].loc[df['station_select']]\n",
    "            plt.ylabel(\"Bike Availability\")\n",
    "            plt.title(f'Likely Bike Availability \\nfor {stationname} \\non {convert_day(day_num-1)}')\n",
    "            \n",
    "        elif req == 'park' or req == 'Park' or req == 'p' or req == 'P':\n",
    "            y = df['bike_stand_available'].loc[df['station_select']]\n",
    "            plt.ylabel(\"Bike Parking Availability\")\n",
    "            plt.title(f'Likely Bike Parking Availability \\nfor {stationname} \\non {convert_day(day_num-1)}')\n",
    "            print(\"OK\")\n",
    "       \n",
    "        #Set Up Plot\n",
    "        plt.xlabel(\"Time (24 hours)\")\n",
    "        ytick = np.array([0,2,4,6,8,10,12,14,16,18,20,22,24,26,28,30,32,34,36,38,40,42,44])\n",
    "        xtick = np.array([0,4,8,12,16,20,24])\n",
    "        plt.xticks(xtick)\n",
    "        plt.yticks(ytick)\n",
    "        plt.xlim(0,24)\n",
    "        plt.bar(x,y)\n",
    "        plt.show()\n",
    "    except:\n",
    "        print (\"Station ID Does not exist\")\n",
    "    \n",
    "else:\n",
    "    print(\"Incorrect Entry\")"
   ]
  },
  {
   "cell_type": "markdown",
   "id": "1789e1a5",
   "metadata": {},
   "source": [
    "## Examine Weather Information"
   ]
  },
  {
   "cell_type": "code",
   "execution_count": 21,
   "id": "443d03cb",
   "metadata": {},
   "outputs": [
    {
     "data": {
      "text/plain": [
       "array(['Clouds', 'Rain', 'Snow', 'Clear', 'Drizzle'], dtype=object)"
      ]
     },
     "execution_count": 21,
     "metadata": {},
     "output_type": "execute_result"
    }
   ],
   "source": [
    "#Convert from Kelvin to Celcsius\n",
    "dfw[\"temp\"] = dfw[\"temp\"]-273.15\n",
    "dfw[\"temp_feel\"] = dfw[\"temp_feel\"]-273.15\n",
    "#dfw[\"wind_speed\"].unique()\n",
    "dfw[\"weather_main\"].unique()"
   ]
  },
  {
   "cell_type": "code",
   "execution_count": 22,
   "id": "1c6d0b35",
   "metadata": {},
   "outputs": [
    {
     "data": {
      "text/plain": [
       "Series([], Name: temp, dtype: float64)"
      ]
     },
     "execution_count": 22,
     "metadata": {},
     "output_type": "execute_result"
    }
   ],
   "source": [
    "dfw['temp_check'] = (dfw['temp']==0)\n",
    "dfw[\"temp\"].loc[dfw['temp_check']]"
   ]
  },
  {
   "cell_type": "code",
   "execution_count": 59,
   "id": "317e6cff",
   "metadata": {},
   "outputs": [
    {
     "data": {
      "text/plain": [
       "array([1, 2, 3, 4, 5], dtype=int64)"
      ]
     },
     "execution_count": 59,
     "metadata": {},
     "output_type": "execute_result"
    }
   ],
   "source": [
    "#Create new column putting numerical values to weather_main\n",
    "dfw['weather_main'].replace(['Clouds', 'Rain','Snow','Clear','Drizzle'],[3, 4,5,1,2], inplace=True)\n",
    "dfw[\"weather_main\"].unique()"
   ]
  },
  {
   "cell_type": "code",
   "execution_count": 60,
   "id": "41f59f8c",
   "metadata": {},
   "outputs": [],
   "source": [
    "dfw['time_select'] = (dfw['Day_of_Week']==day_num-1) & (dfw['MONTH']==month_num) #& (dfw[\"HOUR_w\"] == hour_num)"
   ]
  },
  {
   "cell_type": "code",
   "execution_count": 61,
   "id": "3878dcc6",
   "metadata": {},
   "outputs": [
    {
     "data": {
      "image/png": "[encoded data removed]",
      "text/plain": [
       "<Figure size 640x480 with 1 Axes>"
      ]
     },
     "metadata": {},
     "output_type": "display_data"
    }
   ],
   "source": [
    "#Set X and Y plot\n",
    "x =dfw['HOUR'].loc[dfw['time_select']]\n",
    "y = dfw[\"temp\"].loc[dfw['time_select']]\n",
    "\n",
    "#Create Plot\n",
    "plt.title(f'Temperature Ranges \\non {convert_day(day_num-1)}s \\n in {convert_month(day_num-1)}')\n",
    "plt.xlabel(\"Time (24 hours)\")\n",
    "plt.ylabel(\"Temperatue - Degrees Celcsius\")\n",
    "#ytick = np.array([0,2,4,6,8,10,12,14,16,18,20,22,24,26,28,30,32,34,36,38,40,42,44])\n",
    "xtick = np.array([0,4,8,12,16,20,24])\n",
    "plt.xticks(xtick)\n",
    "#plt.yticks(ytick)\n",
    "plt.bar(x,y)\n",
    "plt.show()"
   ]
  },
  {
   "cell_type": "code",
   "execution_count": 62,
   "id": "21d861cb",
   "metadata": {},
   "outputs": [
    {
     "data": {
      "image/png": "[encoded data removed]",
      "text/plain": [
       "<Figure size 640x480 with 1 Axes>"
      ]
     },
     "metadata": {},
     "output_type": "display_data"
    }
   ],
   "source": [
    "#Set X and Y plot\n",
    "x =dfw['HOUR'].loc[dfw['time_select']]\n",
    "y = dfw[\"clouds\"].loc[dfw['time_select']]\n",
    "\n",
    "#Create Plot\n",
    "plt.title(f'Cloud Coverage  \\non {convert_day(day_num-1)}\\n in {convert_month(day_num-1)}')\n",
    "plt.xlabel(\"Time (24 hours)\")\n",
    "plt.ylabel(\"Cloud Coverage - %\")\n",
    "ytick = np.array([0,10,20,30,40,50,60,70,80,90,100])\n",
    "xtick = np.array([0,4,8,12,16,20,24])\n",
    "plt.xticks(xtick)\n",
    "plt.yticks(ytick)\n",
    "#plt.xlim(0,24)\n",
    "plt.bar(x,y)\n",
    "plt.show()"
   ]
  },
  {
   "cell_type": "code",
   "execution_count": 63,
   "id": "037dbeae",
   "metadata": {},
   "outputs": [
    {
     "data": {
      "image/png": "[encoded data removed]",
      "text/plain": [
       "<Figure size 640x480 with 1 Axes>"
      ]
     },
     "metadata": {},
     "output_type": "display_data"
    }
   ],
   "source": [
    "#Set X and Y plot\n",
    "x =dfw['HOUR'].loc[dfw['time_select']]\n",
    "y = dfw[\"weather_main\"].loc[dfw['time_select']]\n",
    "\n",
    "#Create Plot\n",
    "plt.title(f'Weather \\non {convert_day(day_num-1)}s\\n in {convert_month(day_num-1)}')\n",
    "plt.xlabel(\"Time (24 hours)\")\n",
    "plt.ylabel(\"Weather\")\n",
    "#ytick = np.array([0,10,20,30,40,50,60,70,80,90,100])\n",
    "xtick = np.array([0,4,8,12,16,20,24])\n",
    "plt.xticks(xtick)\n",
    "#plt.yticks(ytick)\n",
    "#plt.xlim(0,24)\n",
    "plt.scatter(x,y,color='red')\n",
    "plt.show()"
   ]
  },
  {
   "cell_type": "markdown",
   "id": "5daa9f53",
   "metadata": {},
   "source": [
    "## Combine the two dataframes .........???"
   ]
  },
  {
   "cell_type": "code",
   "execution_count": 64,
   "id": "c8804bea",
   "metadata": {},
   "outputs": [
    {
     "data": {
      "text/plain": [
       "(24101, 43)"
      ]
     },
     "execution_count": 64,
     "metadata": {},
     "output_type": "execute_result"
    }
   ],
   "source": [
    "dfbikeweath = df.merge(dfw, on=\"TIME\")\n",
    "dfbikeweath.shape"
   ]
  },
  {
   "cell_type": "code",
   "execution_count": 77,
   "id": "a726a5ac",
   "metadata": {},
   "outputs": [
    {
     "data": {
      "text/plain": [
       "Index(['number', 'name', 'bike_stand', 'bike_stand_available',\n",
       "       'bike_available', 'creat_time_x', 'TIME', 'YEAR_x', 'MONTH_x',\n",
       "       'Day_of_Week_x', 'DAY_num_x', 'HOUR_x', 'MINUTE_x', 'DAY_x',\n",
       "       'station_select', 'id_y', 'weather_id', 'weather_main', 'temp',\n",
       "       'temp_feel', 'wind_speed', 'clouds', 'sunrise', 'sunset',\n",
       "       'creat_time_y', 'YEAR_y', 'MONTH_y', 'Day_of_Week_y', 'DAY_num_y',\n",
       "       'HOUR_y', 'MINUTE_y', 'DAY_y', 'temp_check', 'time_select'],\n",
       "      dtype='object')"
      ]
     },
     "execution_count": 77,
     "metadata": {},
     "output_type": "execute_result"
    }
   ],
   "source": [
    "dfbikeweath.columns"
   ]
  },
  {
   "cell_type": "code",
   "execution_count": 82,
   "id": "28736ef3",
   "metadata": {},
   "outputs": [
    {
     "data": {
      "text/plain": [
       "['number',\n",
       " 'name',\n",
       " 'bike_stand',\n",
       " 'bike_stand_available',\n",
       " 'bike_available',\n",
       " 'creat_time_x',\n",
       " 'TIME',\n",
       " 'weather_main',\n",
       " 'temp']"
      ]
     },
     "execution_count": 82,
     "metadata": {},
     "output_type": "execute_result"
    }
   ],
   "source": [
    "list(dfbikeweath.columns[:7]) + ['weather_main','temp']"
   ]
  },
  {
   "cell_type": "code",
   "execution_count": 84,
   "id": "b8e117c1",
   "metadata": {},
   "outputs": [
    {
     "data": {
      "text/html": [
       "<div>\n",
       "<style scoped>\n",
       "    .dataframe tbody tr th:only-of-type {\n",
       "        vertical-align: middle;\n",
       "    }\n",
       "\n",
       "    .dataframe tbody tr th {\n",
       "        vertical-align: top;\n",
       "    }\n",
       "\n",
       "    .dataframe thead th {\n",
       "        text-align: right;\n",
       "    }\n",
       "</style>\n",
       "<table border=\"1\" class=\"dataframe\">\n",
       "  <thead>\n",
       "    <tr style=\"text-align: right;\">\n",
       "      <th></th>\n",
       "      <th>number</th>\n",
       "      <th>name</th>\n",
       "      <th>bike_stand</th>\n",
       "      <th>bike_stand_available</th>\n",
       "      <th>bike_available</th>\n",
       "      <th>creat_time_x</th>\n",
       "      <th>TIME</th>\n",
       "      <th>weather_main</th>\n",
       "      <th>temp</th>\n",
       "    </tr>\n",
       "  </thead>\n",
       "  <tbody>\n",
       "    <tr>\n",
       "      <th>0</th>\n",
       "      <td>20</td>\n",
       "      <td>JAMES STREET EAST</td>\n",
       "      <td>30</td>\n",
       "      <td>30</td>\n",
       "      <td>0</td>\n",
       "      <td>09/03/2023 19:27</td>\n",
       "      <td>2023-03-09 19:27:00</td>\n",
       "      <td>2</td>\n",
       "      <td>3.09</td>\n",
       "    </tr>\n",
       "    <tr>\n",
       "      <th>1</th>\n",
       "      <td>68</td>\n",
       "      <td>HANOVER QUAY</td>\n",
       "      <td>40</td>\n",
       "      <td>40</td>\n",
       "      <td>0</td>\n",
       "      <td>09/03/2023 19:27</td>\n",
       "      <td>2023-03-09 19:27:00</td>\n",
       "      <td>2</td>\n",
       "      <td>3.09</td>\n",
       "    </tr>\n",
       "    <tr>\n",
       "      <th>2</th>\n",
       "      <td>38</td>\n",
       "      <td>TALBOT STREET</td>\n",
       "      <td>40</td>\n",
       "      <td>22</td>\n",
       "      <td>18</td>\n",
       "      <td>09/03/2023 19:27</td>\n",
       "      <td>2023-03-09 19:27:00</td>\n",
       "      <td>2</td>\n",
       "      <td>3.09</td>\n",
       "    </tr>\n",
       "    <tr>\n",
       "      <th>3</th>\n",
       "      <td>51</td>\n",
       "      <td>YORK STREET WEST</td>\n",
       "      <td>40</td>\n",
       "      <td>37</td>\n",
       "      <td>3</td>\n",
       "      <td>09/03/2023 19:27</td>\n",
       "      <td>2023-03-09 19:27:00</td>\n",
       "      <td>2</td>\n",
       "      <td>3.09</td>\n",
       "    </tr>\n",
       "    <tr>\n",
       "      <th>4</th>\n",
       "      <td>93</td>\n",
       "      <td>HEUSTON STATION (CENTRAL)</td>\n",
       "      <td>40</td>\n",
       "      <td>10</td>\n",
       "      <td>30</td>\n",
       "      <td>09/03/2023 19:27</td>\n",
       "      <td>2023-03-09 19:27:00</td>\n",
       "      <td>2</td>\n",
       "      <td>3.09</td>\n",
       "    </tr>\n",
       "    <tr>\n",
       "      <th>5</th>\n",
       "      <td>77</td>\n",
       "      <td>WOLFE TONE STREET</td>\n",
       "      <td>29</td>\n",
       "      <td>24</td>\n",
       "      <td>5</td>\n",
       "      <td>09/03/2023 19:27</td>\n",
       "      <td>2023-03-09 19:27:00</td>\n",
       "      <td>2</td>\n",
       "      <td>3.09</td>\n",
       "    </tr>\n",
       "    <tr>\n",
       "      <th>6</th>\n",
       "      <td>117</td>\n",
       "      <td>HANOVER QUAY EAST</td>\n",
       "      <td>40</td>\n",
       "      <td>39</td>\n",
       "      <td>1</td>\n",
       "      <td>09/03/2023 19:27</td>\n",
       "      <td>2023-03-09 19:27:00</td>\n",
       "      <td>2</td>\n",
       "      <td>3.09</td>\n",
       "    </tr>\n",
       "    <tr>\n",
       "      <th>7</th>\n",
       "      <td>108</td>\n",
       "      <td>AVONDALE ROAD</td>\n",
       "      <td>35</td>\n",
       "      <td>21</td>\n",
       "      <td>14</td>\n",
       "      <td>09/03/2023 19:27</td>\n",
       "      <td>2023-03-09 19:27:00</td>\n",
       "      <td>2</td>\n",
       "      <td>3.09</td>\n",
       "    </tr>\n",
       "    <tr>\n",
       "      <th>8</th>\n",
       "      <td>71</td>\n",
       "      <td>KEVIN STREET</td>\n",
       "      <td>40</td>\n",
       "      <td>36</td>\n",
       "      <td>4</td>\n",
       "      <td>09/03/2023 19:27</td>\n",
       "      <td>2023-03-09 19:27:00</td>\n",
       "      <td>2</td>\n",
       "      <td>3.09</td>\n",
       "    </tr>\n",
       "    <tr>\n",
       "      <th>9</th>\n",
       "      <td>25</td>\n",
       "      <td>MERRION SQUARE EAST</td>\n",
       "      <td>30</td>\n",
       "      <td>27</td>\n",
       "      <td>3</td>\n",
       "      <td>09/03/2023 19:27</td>\n",
       "      <td>2023-03-09 19:27:00</td>\n",
       "      <td>2</td>\n",
       "      <td>3.09</td>\n",
       "    </tr>\n",
       "  </tbody>\n",
       "</table>\n",
       "</div>"
      ],
      "text/plain": [
       "   number                       name  bike_stand  bike_stand_available  \\\n",
       "0      20          JAMES STREET EAST          30                    30   \n",
       "1      68               HANOVER QUAY          40                    40   \n",
       "2      38              TALBOT STREET          40                    22   \n",
       "3      51           YORK STREET WEST          40                    37   \n",
       "4      93  HEUSTON STATION (CENTRAL)          40                    10   \n",
       "5      77          WOLFE TONE STREET          29                    24   \n",
       "6     117          HANOVER QUAY EAST          40                    39   \n",
       "7     108              AVONDALE ROAD          35                    21   \n",
       "8      71               KEVIN STREET          40                    36   \n",
       "9      25        MERRION SQUARE EAST          30                    27   \n",
       "\n",
       "   bike_available      creat_time_x                TIME  weather_main  temp  \n",
       "0               0  09/03/2023 19:27 2023-03-09 19:27:00             2  3.09  \n",
       "1               0  09/03/2023 19:27 2023-03-09 19:27:00             2  3.09  \n",
       "2              18  09/03/2023 19:27 2023-03-09 19:27:00             2  3.09  \n",
       "3               3  09/03/2023 19:27 2023-03-09 19:27:00             2  3.09  \n",
       "4              30  09/03/2023 19:27 2023-03-09 19:27:00             2  3.09  \n",
       "5               5  09/03/2023 19:27 2023-03-09 19:27:00             2  3.09  \n",
       "6               1  09/03/2023 19:27 2023-03-09 19:27:00             2  3.09  \n",
       "7              14  09/03/2023 19:27 2023-03-09 19:27:00             2  3.09  \n",
       "8               4  09/03/2023 19:27 2023-03-09 19:27:00             2  3.09  \n",
       "9               3  09/03/2023 19:27 2023-03-09 19:27:00             2  3.09  "
      ]
     },
     "execution_count": 84,
     "metadata": {},
     "output_type": "execute_result"
    }
   ],
   "source": [
    "dfbikeweath.head(10)[list(dfbikeweath.columns[:7]) + ['weather_main','temp']]"
   ]
  },
  {
   "cell_type": "code",
   "execution_count": 65,
   "id": "7cb88348",
   "metadata": {},
   "outputs": [
    {
     "data": {
      "text/plain": [
       "((723761, 21), (1061, 23))"
      ]
     },
     "execution_count": 65,
     "metadata": {},
     "output_type": "execute_result"
    }
   ],
   "source": [
    "df.shape,dfw.shape"
   ]
  },
  {
   "cell_type": "code",
   "execution_count": 66,
   "id": "ec2b37e0",
   "metadata": {},
   "outputs": [
    {
     "data": {
      "text/html": [
       "<div>\n",
       "<style scoped>\n",
       "    .dataframe tbody tr th:only-of-type {\n",
       "        vertical-align: middle;\n",
       "    }\n",
       "\n",
       "    .dataframe tbody tr th {\n",
       "        vertical-align: top;\n",
       "    }\n",
       "\n",
       "    .dataframe thead th {\n",
       "        text-align: right;\n",
       "    }\n",
       "</style>\n",
       "<table border=\"1\" class=\"dataframe\">\n",
       "  <thead>\n",
       "    <tr style=\"text-align: right;\">\n",
       "      <th></th>\n",
       "      <th>count</th>\n",
       "      <th>mean</th>\n",
       "      <th>std</th>\n",
       "      <th>min</th>\n",
       "      <th>25%</th>\n",
       "      <th>50%</th>\n",
       "      <th>75%</th>\n",
       "      <th>max</th>\n",
       "    </tr>\n",
       "  </thead>\n",
       "  <tbody>\n",
       "    <tr>\n",
       "      <th>#</th>\n",
       "      <td>24101.0</td>\n",
       "      <td>363190.482636</td>\n",
       "      <td>209997.101938</td>\n",
       "      <td>61.0000</td>\n",
       "      <td>182043.0000</td>\n",
       "      <td>363096.0000</td>\n",
       "      <td>546956.0000</td>\n",
       "      <td>723711.0000</td>\n",
       "    </tr>\n",
       "    <tr>\n",
       "      <th>number</th>\n",
       "      <td>24101.0</td>\n",
       "      <td>60.412638</td>\n",
       "      <td>43.290873</td>\n",
       "      <td>1.0000</td>\n",
       "      <td>29.0000</td>\n",
       "      <td>59.0000</td>\n",
       "      <td>89.0000</td>\n",
       "      <td>507.0000</td>\n",
       "    </tr>\n",
       "    <tr>\n",
       "      <th>bike_stand</th>\n",
       "      <td>24101.0</td>\n",
       "      <td>31.872287</td>\n",
       "      <td>7.666679</td>\n",
       "      <td>1.0000</td>\n",
       "      <td>29.0000</td>\n",
       "      <td>30.0000</td>\n",
       "      <td>40.0000</td>\n",
       "      <td>40.0000</td>\n",
       "    </tr>\n",
       "    <tr>\n",
       "      <th>bike_stand_available</th>\n",
       "      <td>24101.0</td>\n",
       "      <td>19.742500</td>\n",
       "      <td>11.080127</td>\n",
       "      <td>0.0000</td>\n",
       "      <td>11.0000</td>\n",
       "      <td>20.0000</td>\n",
       "      <td>28.0000</td>\n",
       "      <td>40.0000</td>\n",
       "    </tr>\n",
       "    <tr>\n",
       "      <th>bike_available</th>\n",
       "      <td>24101.0</td>\n",
       "      <td>11.739596</td>\n",
       "      <td>9.691588</td>\n",
       "      <td>0.0000</td>\n",
       "      <td>4.0000</td>\n",
       "      <td>10.0000</td>\n",
       "      <td>18.0000</td>\n",
       "      <td>40.0000</td>\n",
       "    </tr>\n",
       "    <tr>\n",
       "      <th>delete_flag_x</th>\n",
       "      <td>24101.0</td>\n",
       "      <td>0.000000</td>\n",
       "      <td>0.000000</td>\n",
       "      <td>0.0000</td>\n",
       "      <td>0.0000</td>\n",
       "      <td>0.0000</td>\n",
       "      <td>0.0000</td>\n",
       "      <td>0.0000</td>\n",
       "    </tr>\n",
       "    <tr>\n",
       "      <th>YEAR_x</th>\n",
       "      <td>24101.0</td>\n",
       "      <td>2023.000000</td>\n",
       "      <td>0.000000</td>\n",
       "      <td>2023.0000</td>\n",
       "      <td>2023.0000</td>\n",
       "      <td>2023.0000</td>\n",
       "      <td>2023.0000</td>\n",
       "      <td>2023.0000</td>\n",
       "    </tr>\n",
       "    <tr>\n",
       "      <th>MONTH_x</th>\n",
       "      <td>24101.0</td>\n",
       "      <td>3.000000</td>\n",
       "      <td>0.000000</td>\n",
       "      <td>3.0000</td>\n",
       "      <td>3.0000</td>\n",
       "      <td>3.0000</td>\n",
       "      <td>3.0000</td>\n",
       "      <td>3.0000</td>\n",
       "    </tr>\n",
       "    <tr>\n",
       "      <th>Day_of_Week_x</th>\n",
       "      <td>24101.0</td>\n",
       "      <td>2.956807</td>\n",
       "      <td>1.920819</td>\n",
       "      <td>0.0000</td>\n",
       "      <td>1.0000</td>\n",
       "      <td>3.0000</td>\n",
       "      <td>5.0000</td>\n",
       "      <td>6.0000</td>\n",
       "    </tr>\n",
       "    <tr>\n",
       "      <th>DAY_num_x</th>\n",
       "      <td>24101.0</td>\n",
       "      <td>12.481059</td>\n",
       "      <td>6.487852</td>\n",
       "      <td>2.0000</td>\n",
       "      <td>6.0000</td>\n",
       "      <td>12.0000</td>\n",
       "      <td>18.0000</td>\n",
       "      <td>24.0000</td>\n",
       "    </tr>\n",
       "    <tr>\n",
       "      <th>HOUR_x</th>\n",
       "      <td>24101.0</td>\n",
       "      <td>11.250031</td>\n",
       "      <td>7.084819</td>\n",
       "      <td>0.0000</td>\n",
       "      <td>4.0000</td>\n",
       "      <td>12.0000</td>\n",
       "      <td>17.0000</td>\n",
       "      <td>23.0000</td>\n",
       "    </tr>\n",
       "    <tr>\n",
       "      <th>MINUTE_x</th>\n",
       "      <td>24101.0</td>\n",
       "      <td>40.590764</td>\n",
       "      <td>16.276680</td>\n",
       "      <td>0.0000</td>\n",
       "      <td>27.0000</td>\n",
       "      <td>29.0000</td>\n",
       "      <td>57.0000</td>\n",
       "      <td>59.0000</td>\n",
       "    </tr>\n",
       "    <tr>\n",
       "      <th>coord_lon</th>\n",
       "      <td>24101.0</td>\n",
       "      <td>-6.260214</td>\n",
       "      <td>0.001217</td>\n",
       "      <td>-6.2649</td>\n",
       "      <td>-6.2603</td>\n",
       "      <td>-6.2603</td>\n",
       "      <td>-6.2603</td>\n",
       "      <td>-6.2550</td>\n",
       "    </tr>\n",
       "    <tr>\n",
       "      <th>coord_lat</th>\n",
       "      <td>24101.0</td>\n",
       "      <td>53.349543</td>\n",
       "      <td>0.001305</td>\n",
       "      <td>53.3455</td>\n",
       "      <td>53.3498</td>\n",
       "      <td>53.3498</td>\n",
       "      <td>53.3498</td>\n",
       "      <td>53.3545</td>\n",
       "    </tr>\n",
       "    <tr>\n",
       "      <th>weather_id</th>\n",
       "      <td>24101.0</td>\n",
       "      <td>708.449069</td>\n",
       "      <td>156.100017</td>\n",
       "      <td>300.0000</td>\n",
       "      <td>520.0000</td>\n",
       "      <td>803.0000</td>\n",
       "      <td>803.0000</td>\n",
       "      <td>803.0000</td>\n",
       "    </tr>\n",
       "    <tr>\n",
       "      <th>weather_main</th>\n",
       "      <td>24101.0</td>\n",
       "      <td>1.461267</td>\n",
       "      <td>0.956764</td>\n",
       "      <td>1.0000</td>\n",
       "      <td>1.0000</td>\n",
       "      <td>1.0000</td>\n",
       "      <td>2.0000</td>\n",
       "      <td>5.0000</td>\n",
       "    </tr>\n",
       "    <tr>\n",
       "      <th>temp</th>\n",
       "      <td>24101.0</td>\n",
       "      <td>7.465496</td>\n",
       "      <td>3.594448</td>\n",
       "      <td>1.4700</td>\n",
       "      <td>4.5800</td>\n",
       "      <td>6.5400</td>\n",
       "      <td>10.5100</td>\n",
       "      <td>15.4200</td>\n",
       "    </tr>\n",
       "    <tr>\n",
       "      <th>temp_feel</th>\n",
       "      <td>24101.0</td>\n",
       "      <td>5.029413</td>\n",
       "      <td>4.927297</td>\n",
       "      <td>-4.5500</td>\n",
       "      <td>1.5900</td>\n",
       "      <td>3.8700</td>\n",
       "      <td>9.7800</td>\n",
       "      <td>14.9200</td>\n",
       "    </tr>\n",
       "    <tr>\n",
       "      <th>wind_speed</th>\n",
       "      <td>24101.0</td>\n",
       "      <td>5.890536</td>\n",
       "      <td>2.948004</td>\n",
       "      <td>1.0300</td>\n",
       "      <td>3.0900</td>\n",
       "      <td>5.8100</td>\n",
       "      <td>8.2300</td>\n",
       "      <td>13.8900</td>\n",
       "    </tr>\n",
       "    <tr>\n",
       "      <th>clouds</th>\n",
       "      <td>24101.0</td>\n",
       "      <td>68.302353</td>\n",
       "      <td>16.982742</td>\n",
       "      <td>20.0000</td>\n",
       "      <td>75.0000</td>\n",
       "      <td>75.0000</td>\n",
       "      <td>75.0000</td>\n",
       "      <td>100.0000</td>\n",
       "    </tr>\n",
       "    <tr>\n",
       "      <th>delete_flag_y</th>\n",
       "      <td>24101.0</td>\n",
       "      <td>0.000000</td>\n",
       "      <td>0.000000</td>\n",
       "      <td>0.0000</td>\n",
       "      <td>0.0000</td>\n",
       "      <td>0.0000</td>\n",
       "      <td>0.0000</td>\n",
       "      <td>0.0000</td>\n",
       "    </tr>\n",
       "    <tr>\n",
       "      <th>YEAR_y</th>\n",
       "      <td>24101.0</td>\n",
       "      <td>2023.000000</td>\n",
       "      <td>0.000000</td>\n",
       "      <td>2023.0000</td>\n",
       "      <td>2023.0000</td>\n",
       "      <td>2023.0000</td>\n",
       "      <td>2023.0000</td>\n",
       "      <td>2023.0000</td>\n",
       "    </tr>\n",
       "    <tr>\n",
       "      <th>MONTH_y</th>\n",
       "      <td>24101.0</td>\n",
       "      <td>3.000000</td>\n",
       "      <td>0.000000</td>\n",
       "      <td>3.0000</td>\n",
       "      <td>3.0000</td>\n",
       "      <td>3.0000</td>\n",
       "      <td>3.0000</td>\n",
       "      <td>3.0000</td>\n",
       "    </tr>\n",
       "    <tr>\n",
       "      <th>Day_of_Week_y</th>\n",
       "      <td>24101.0</td>\n",
       "      <td>2.956807</td>\n",
       "      <td>1.920819</td>\n",
       "      <td>0.0000</td>\n",
       "      <td>1.0000</td>\n",
       "      <td>3.0000</td>\n",
       "      <td>5.0000</td>\n",
       "      <td>6.0000</td>\n",
       "    </tr>\n",
       "    <tr>\n",
       "      <th>DAY_num_y</th>\n",
       "      <td>24101.0</td>\n",
       "      <td>12.481059</td>\n",
       "      <td>6.487852</td>\n",
       "      <td>2.0000</td>\n",
       "      <td>6.0000</td>\n",
       "      <td>12.0000</td>\n",
       "      <td>18.0000</td>\n",
       "      <td>24.0000</td>\n",
       "    </tr>\n",
       "    <tr>\n",
       "      <th>HOUR_y</th>\n",
       "      <td>24101.0</td>\n",
       "      <td>11.250031</td>\n",
       "      <td>7.084819</td>\n",
       "      <td>0.0000</td>\n",
       "      <td>4.0000</td>\n",
       "      <td>12.0000</td>\n",
       "      <td>17.0000</td>\n",
       "      <td>23.0000</td>\n",
       "    </tr>\n",
       "    <tr>\n",
       "      <th>MINUTE_y</th>\n",
       "      <td>24101.0</td>\n",
       "      <td>40.590764</td>\n",
       "      <td>16.276680</td>\n",
       "      <td>0.0000</td>\n",
       "      <td>27.0000</td>\n",
       "      <td>29.0000</td>\n",
       "      <td>57.0000</td>\n",
       "      <td>59.0000</td>\n",
       "    </tr>\n",
       "  </tbody>\n",
       "</table>\n",
       "</div>"
      ],
      "text/plain": [
       "                        count           mean            std        min  \\\n",
       "#                     24101.0  363190.482636  209997.101938    61.0000   \n",
       "number                24101.0      60.412638      43.290873     1.0000   \n",
       "bike_stand            24101.0      31.872287       7.666679     1.0000   \n",
       "bike_stand_available  24101.0      19.742500      11.080127     0.0000   \n",
       "bike_available        24101.0      11.739596       9.691588     0.0000   \n",
       "delete_flag_x         24101.0       0.000000       0.000000     0.0000   \n",
       "YEAR_x                24101.0    2023.000000       0.000000  2023.0000   \n",
       "MONTH_x               24101.0       3.000000       0.000000     3.0000   \n",
       "Day_of_Week_x         24101.0       2.956807       1.920819     0.0000   \n",
       "DAY_num_x             24101.0      12.481059       6.487852     2.0000   \n",
       "HOUR_x                24101.0      11.250031       7.084819     0.0000   \n",
       "MINUTE_x              24101.0      40.590764      16.276680     0.0000   \n",
       "coord_lon             24101.0      -6.260214       0.001217    -6.2649   \n",
       "coord_lat             24101.0      53.349543       0.001305    53.3455   \n",
       "weather_id            24101.0     708.449069     156.100017   300.0000   \n",
       "weather_main          24101.0       1.461267       0.956764     1.0000   \n",
       "temp                  24101.0       7.465496       3.594448     1.4700   \n",
       "temp_feel             24101.0       5.029413       4.927297    -4.5500   \n",
       "wind_speed            24101.0       5.890536       2.948004     1.0300   \n",
       "clouds                24101.0      68.302353      16.982742    20.0000   \n",
       "delete_flag_y         24101.0       0.000000       0.000000     0.0000   \n",
       "YEAR_y                24101.0    2023.000000       0.000000  2023.0000   \n",
       "MONTH_y               24101.0       3.000000       0.000000     3.0000   \n",
       "Day_of_Week_y         24101.0       2.956807       1.920819     0.0000   \n",
       "DAY_num_y             24101.0      12.481059       6.487852     2.0000   \n",
       "HOUR_y                24101.0      11.250031       7.084819     0.0000   \n",
       "MINUTE_y              24101.0      40.590764      16.276680     0.0000   \n",
       "\n",
       "                              25%          50%          75%          max  \n",
       "#                     182043.0000  363096.0000  546956.0000  723711.0000  \n",
       "number                    29.0000      59.0000      89.0000     507.0000  \n",
       "bike_stand                29.0000      30.0000      40.0000      40.0000  \n",
       "bike_stand_available      11.0000      20.0000      28.0000      40.0000  \n",
       "bike_available             4.0000      10.0000      18.0000      40.0000  \n",
       "delete_flag_x              0.0000       0.0000       0.0000       0.0000  \n",
       "YEAR_x                  2023.0000    2023.0000    2023.0000    2023.0000  \n",
       "MONTH_x                    3.0000       3.0000       3.0000       3.0000  \n",
       "Day_of_Week_x              1.0000       3.0000       5.0000       6.0000  \n",
       "DAY_num_x                  6.0000      12.0000      18.0000      24.0000  \n",
       "HOUR_x                     4.0000      12.0000      17.0000      23.0000  \n",
       "MINUTE_x                  27.0000      29.0000      57.0000      59.0000  \n",
       "coord_lon                 -6.2603      -6.2603      -6.2603      -6.2550  \n",
       "coord_lat                 53.3498      53.3498      53.3498      53.3545  \n",
       "weather_id               520.0000     803.0000     803.0000     803.0000  \n",
       "weather_main               1.0000       1.0000       2.0000       5.0000  \n",
       "temp                       4.5800       6.5400      10.5100      15.4200  \n",
       "temp_feel                  1.5900       3.8700       9.7800      14.9200  \n",
       "wind_speed                 3.0900       5.8100       8.2300      13.8900  \n",
       "clouds                    75.0000      75.0000      75.0000     100.0000  \n",
       "delete_flag_y              0.0000       0.0000       0.0000       0.0000  \n",
       "YEAR_y                  2023.0000    2023.0000    2023.0000    2023.0000  \n",
       "MONTH_y                    3.0000       3.0000       3.0000       3.0000  \n",
       "Day_of_Week_y              1.0000       3.0000       5.0000       6.0000  \n",
       "DAY_num_y                  6.0000      12.0000      18.0000      24.0000  \n",
       "HOUR_y                     4.0000      12.0000      17.0000      23.0000  \n",
       "MINUTE_y                  27.0000      29.0000      57.0000      59.0000  "
      ]
     },
     "execution_count": 66,
     "metadata": {},
     "output_type": "execute_result"
    }
   ],
   "source": [
    "dfbikeweath.describe().T"
   ]
  },
  {
   "cell_type": "code",
   "execution_count": 67,
   "id": "9a8aff3b",
   "metadata": {},
   "outputs": [
    {
     "data": {
      "text/html": [
       "<div>\n",
       "<style scoped>\n",
       "    .dataframe tbody tr th:only-of-type {\n",
       "        vertical-align: middle;\n",
       "    }\n",
       "\n",
       "    .dataframe tbody tr th {\n",
       "        vertical-align: top;\n",
       "    }\n",
       "\n",
       "    .dataframe thead th {\n",
       "        text-align: right;\n",
       "    }\n",
       "</style>\n",
       "<table border=\"1\" class=\"dataframe\">\n",
       "  <thead>\n",
       "    <tr style=\"text-align: right;\">\n",
       "      <th></th>\n",
       "      <th>#</th>\n",
       "      <th>id_x</th>\n",
       "      <th>number</th>\n",
       "      <th>name</th>\n",
       "      <th>address</th>\n",
       "      <th>bike_stand</th>\n",
       "      <th>bike_stand_available</th>\n",
       "      <th>bike_available</th>\n",
       "      <th>status</th>\n",
       "      <th>last_update</th>\n",
       "      <th>...</th>\n",
       "      <th>delete_flag_y</th>\n",
       "      <th>YEAR_y</th>\n",
       "      <th>MONTH_y</th>\n",
       "      <th>Day_of_Week_y</th>\n",
       "      <th>DAY_num_y</th>\n",
       "      <th>HOUR_y</th>\n",
       "      <th>MINUTE_y</th>\n",
       "      <th>DAY_y</th>\n",
       "      <th>temp_check</th>\n",
       "      <th>time_select</th>\n",
       "    </tr>\n",
       "  </thead>\n",
       "  <tbody>\n",
       "    <tr>\n",
       "      <th>0</th>\n",
       "      <td>61</td>\n",
       "      <td>0005a69485fd4846</td>\n",
       "      <td>20</td>\n",
       "      <td>JAMES STREET EAST</td>\n",
       "      <td>James Street East</td>\n",
       "      <td>30</td>\n",
       "      <td>30</td>\n",
       "      <td>0</td>\n",
       "      <td>OPEN</td>\n",
       "      <td>09/03/2023 19:18</td>\n",
       "      <td>...</td>\n",
       "      <td>0</td>\n",
       "      <td>2023</td>\n",
       "      <td>3</td>\n",
       "      <td>3</td>\n",
       "      <td>9</td>\n",
       "      <td>19</td>\n",
       "      <td>27</td>\n",
       "      <td>Thu</td>\n",
       "      <td>False</td>\n",
       "      <td>True</td>\n",
       "    </tr>\n",
       "    <tr>\n",
       "      <th>1</th>\n",
       "      <td>6889</td>\n",
       "      <td>027c49405f914f96</td>\n",
       "      <td>68</td>\n",
       "      <td>HANOVER QUAY</td>\n",
       "      <td>Hanover Quay</td>\n",
       "      <td>40</td>\n",
       "      <td>40</td>\n",
       "      <td>0</td>\n",
       "      <td>OPEN</td>\n",
       "      <td>09/03/2023 19:22</td>\n",
       "      <td>...</td>\n",
       "      <td>0</td>\n",
       "      <td>2023</td>\n",
       "      <td>3</td>\n",
       "      <td>3</td>\n",
       "      <td>9</td>\n",
       "      <td>19</td>\n",
       "      <td>27</td>\n",
       "      <td>Thu</td>\n",
       "      <td>False</td>\n",
       "      <td>True</td>\n",
       "    </tr>\n",
       "    <tr>\n",
       "      <th>2</th>\n",
       "      <td>33285</td>\n",
       "      <td>0bd9a84689594421</td>\n",
       "      <td>38</td>\n",
       "      <td>TALBOT STREET</td>\n",
       "      <td>Talbot Street</td>\n",
       "      <td>40</td>\n",
       "      <td>22</td>\n",
       "      <td>18</td>\n",
       "      <td>OPEN</td>\n",
       "      <td>09/03/2023 19:19</td>\n",
       "      <td>...</td>\n",
       "      <td>0</td>\n",
       "      <td>2023</td>\n",
       "      <td>3</td>\n",
       "      <td>3</td>\n",
       "      <td>9</td>\n",
       "      <td>19</td>\n",
       "      <td>27</td>\n",
       "      <td>Thu</td>\n",
       "      <td>False</td>\n",
       "      <td>True</td>\n",
       "    </tr>\n",
       "    <tr>\n",
       "      <th>3</th>\n",
       "      <td>33328</td>\n",
       "      <td>0bdeaea16e64492d</td>\n",
       "      <td>51</td>\n",
       "      <td>YORK STREET WEST</td>\n",
       "      <td>York Street West</td>\n",
       "      <td>40</td>\n",
       "      <td>37</td>\n",
       "      <td>3</td>\n",
       "      <td>OPEN</td>\n",
       "      <td>09/03/2023 19:21</td>\n",
       "      <td>...</td>\n",
       "      <td>0</td>\n",
       "      <td>2023</td>\n",
       "      <td>3</td>\n",
       "      <td>3</td>\n",
       "      <td>9</td>\n",
       "      <td>19</td>\n",
       "      <td>27</td>\n",
       "      <td>Thu</td>\n",
       "      <td>False</td>\n",
       "      <td>True</td>\n",
       "    </tr>\n",
       "    <tr>\n",
       "      <th>4</th>\n",
       "      <td>37570</td>\n",
       "      <td>0d5eb714cf404ebc</td>\n",
       "      <td>93</td>\n",
       "      <td>HEUSTON STATION (CENTRAL)</td>\n",
       "      <td>Heuston Station (Central)</td>\n",
       "      <td>40</td>\n",
       "      <td>10</td>\n",
       "      <td>30</td>\n",
       "      <td>OPEN</td>\n",
       "      <td>09/03/2023 19:19</td>\n",
       "      <td>...</td>\n",
       "      <td>0</td>\n",
       "      <td>2023</td>\n",
       "      <td>3</td>\n",
       "      <td>3</td>\n",
       "      <td>9</td>\n",
       "      <td>19</td>\n",
       "      <td>27</td>\n",
       "      <td>Thu</td>\n",
       "      <td>False</td>\n",
       "      <td>True</td>\n",
       "    </tr>\n",
       "  </tbody>\n",
       "</table>\n",
       "<p>5 rows × 43 columns</p>\n",
       "</div>"
      ],
      "text/plain": [
       "       #              id_x  number                       name  \\\n",
       "0     61  0005a69485fd4846      20          JAMES STREET EAST   \n",
       "1   6889  027c49405f914f96      68               HANOVER QUAY   \n",
       "2  33285  0bd9a84689594421      38              TALBOT STREET   \n",
       "3  33328  0bdeaea16e64492d      51           YORK STREET WEST   \n",
       "4  37570  0d5eb714cf404ebc      93  HEUSTON STATION (CENTRAL)   \n",
       "\n",
       "                     address  bike_stand  bike_stand_available  \\\n",
       "0          James Street East          30                    30   \n",
       "1               Hanover Quay          40                    40   \n",
       "2              Talbot Street          40                    22   \n",
       "3           York Street West          40                    37   \n",
       "4  Heuston Station (Central)          40                    10   \n",
       "\n",
       "   bike_available status       last_update  ... delete_flag_y  YEAR_y MONTH_y  \\\n",
       "0               0   OPEN  09/03/2023 19:18  ...             0    2023       3   \n",
       "1               0   OPEN  09/03/2023 19:22  ...             0    2023       3   \n",
       "2              18   OPEN  09/03/2023 19:19  ...             0    2023       3   \n",
       "3               3   OPEN  09/03/2023 19:21  ...             0    2023       3   \n",
       "4              30   OPEN  09/03/2023 19:19  ...             0    2023       3   \n",
       "\n",
       "   Day_of_Week_y  DAY_num_y  HOUR_y  MINUTE_y  DAY_y  temp_check time_select  \n",
       "0              3          9      19        27    Thu       False        True  \n",
       "1              3          9      19        27    Thu       False        True  \n",
       "2              3          9      19        27    Thu       False        True  \n",
       "3              3          9      19        27    Thu       False        True  \n",
       "4              3          9      19        27    Thu       False        True  \n",
       "\n",
       "[5 rows x 43 columns]"
      ]
     },
     "execution_count": 67,
     "metadata": {},
     "output_type": "execute_result"
    }
   ],
   "source": [
    "dfbikeweath.head()"
   ]
  },
  {
   "cell_type": "markdown",
   "id": "7ede8867",
   "metadata": {},
   "source": [
    "## Check if any missing values (NaN)"
   ]
  },
  {
   "cell_type": "code",
   "execution_count": 68,
   "id": "d0d35a28",
   "metadata": {},
   "outputs": [
    {
     "data": {
      "text/plain": [
       "0"
      ]
     },
     "execution_count": 68,
     "metadata": {},
     "output_type": "execute_result"
    }
   ],
   "source": [
    "dfbikeweath.isna().sum().sum()"
   ]
  },
  {
   "cell_type": "markdown",
   "id": "47d9f068",
   "metadata": {},
   "source": [
    "## Drop some of the unwanted columns "
   ]
  },
  {
   "cell_type": "code",
   "execution_count": 69,
   "id": "5d056a4a",
   "metadata": {},
   "outputs": [],
   "source": [
    "dfbikeweath.drop(labels=['delete_flag_y','id_x','delete_flag_x','address','status','last_update','coord_lon','coord_lat','#'],axis=1,inplace=True)"
   ]
  },
  {
   "cell_type": "code",
   "execution_count": 70,
   "id": "1ba2e6a4",
   "metadata": {},
   "outputs": [],
   "source": [
    "#dfbikeweath.dtypes"
   ]
  },
  {
   "cell_type": "markdown",
   "id": "972b99ef",
   "metadata": {},
   "source": [
    "## Split Data set to Train and Test"
   ]
  },
  {
   "cell_type": "code",
   "execution_count": 71,
   "id": "6c2f8360",
   "metadata": {},
   "outputs": [
    {
     "data": {
      "text/plain": [
       "((19280, 34), (4821, 34))"
      ]
     },
     "execution_count": 71,
     "metadata": {},
     "output_type": "execute_result"
    }
   ],
   "source": [
    "train_set,test_set = train_test_split(dfbikeweath,test_size=0.2,random_state=42)\n",
    "train_set.shape,test_set.shape"
   ]
  },
  {
   "cell_type": "markdown",
   "id": "2e7f4e02",
   "metadata": {},
   "source": [
    "## Create a copy of Training set to carry out some preliminary analysis "
   ]
  },
  {
   "cell_type": "code",
   "execution_count": 72,
   "id": "86977655",
   "metadata": {},
   "outputs": [],
   "source": [
    "bikes = train_set.copy()\n",
    "#bikes.dtypes"
   ]
  },
  {
   "cell_type": "code",
   "execution_count": 73,
   "id": "b1d49210",
   "metadata": {},
   "outputs": [
    {
     "name": "stderr",
     "output_type": "stream",
     "text": [
      "C:\\Users\\corma\\AppData\\Local\\Temp\\ipykernel_1872\\295380.py:1: FutureWarning: The default value of numeric_only in DataFrame.corr is deprecated. In a future version, it will default to False. Select only valid columns or specify the value of numeric_only to silence this warning.\n",
      "  corr_matrix = bikes.corr()\n"
     ]
    }
   ],
   "source": [
    "corr_matrix = bikes.corr()"
   ]
  },
  {
   "cell_type": "code",
   "execution_count": 74,
   "id": "e3f8e7ae",
   "metadata": {},
   "outputs": [
    {
     "data": {
      "text/plain": [
       "bike_available          1.000000\n",
       "bike_stand              0.228699\n",
       "number                  0.029923\n",
       "Day_of_Week_y           0.017747\n",
       "Day_of_Week_x           0.017747\n",
       "weather_main            0.016580\n",
       "clouds                  0.014740\n",
       "time_select             0.000615\n",
       "MINUTE_x               -0.004738\n",
       "MINUTE_y               -0.004738\n",
       "station_select         -0.007265\n",
       "wind_speed             -0.007683\n",
       "HOUR_x                 -0.011705\n",
       "HOUR_y                 -0.011705\n",
       "DAY_num_x              -0.015629\n",
       "DAY_num_y              -0.015629\n",
       "weather_id             -0.015822\n",
       "temp_feel              -0.017851\n",
       "temp                   -0.018268\n",
       "bike_stand_available   -0.686021\n",
       "YEAR_x                       NaN\n",
       "MONTH_x                      NaN\n",
       "YEAR_y                       NaN\n",
       "MONTH_y                      NaN\n",
       "temp_check                   NaN\n",
       "Name: bike_available, dtype: float64"
      ]
     },
     "execution_count": 74,
     "metadata": {},
     "output_type": "execute_result"
    }
   ],
   "source": [
    "corr_matrix['bike_available'].sort_values(ascending = False)"
   ]
  },
  {
   "cell_type": "markdown",
   "id": "b5f8f3e6",
   "metadata": {},
   "source": [
    "## Correlation based on weather"
   ]
  },
  {
   "cell_type": "code",
   "execution_count": 75,
   "id": "ccf83480",
   "metadata": {},
   "outputs": [
    {
     "data": {
      "text/html": [
       "<div>\n",
       "<style scoped>\n",
       "    .dataframe tbody tr th:only-of-type {\n",
       "        vertical-align: middle;\n",
       "    }\n",
       "\n",
       "    .dataframe tbody tr th {\n",
       "        vertical-align: top;\n",
       "    }\n",
       "\n",
       "    .dataframe thead th {\n",
       "        text-align: right;\n",
       "    }\n",
       "</style>\n",
       "<table border=\"1\" class=\"dataframe\">\n",
       "  <thead>\n",
       "    <tr style=\"text-align: right;\">\n",
       "      <th></th>\n",
       "      <th>bike_available</th>\n",
       "      <th>weather_main</th>\n",
       "      <th>clouds</th>\n",
       "      <th>wind_speed</th>\n",
       "      <th>weather_id</th>\n",
       "      <th>temp_feel</th>\n",
       "      <th>temp</th>\n",
       "    </tr>\n",
       "  </thead>\n",
       "  <tbody>\n",
       "    <tr>\n",
       "      <th>bike_available</th>\n",
       "      <td>1.000000</td>\n",
       "      <td>0.016580</td>\n",
       "      <td>0.014740</td>\n",
       "      <td>-0.007683</td>\n",
       "      <td>-0.015822</td>\n",
       "      <td>-0.017851</td>\n",
       "      <td>-0.018268</td>\n",
       "    </tr>\n",
       "    <tr>\n",
       "      <th>weather_main</th>\n",
       "      <td>0.016580</td>\n",
       "      <td>1.000000</td>\n",
       "      <td>0.221045</td>\n",
       "      <td>0.018268</td>\n",
       "      <td>-0.893304</td>\n",
       "      <td>-0.206920</td>\n",
       "      <td>-0.198771</td>\n",
       "    </tr>\n",
       "    <tr>\n",
       "      <th>clouds</th>\n",
       "      <td>0.014740</td>\n",
       "      <td>0.221045</td>\n",
       "      <td>1.000000</td>\n",
       "      <td>0.020678</td>\n",
       "      <td>-0.253018</td>\n",
       "      <td>0.009980</td>\n",
       "      <td>-0.017001</td>\n",
       "    </tr>\n",
       "    <tr>\n",
       "      <th>wind_speed</th>\n",
       "      <td>-0.007683</td>\n",
       "      <td>0.018268</td>\n",
       "      <td>0.020678</td>\n",
       "      <td>1.000000</td>\n",
       "      <td>-0.081389</td>\n",
       "      <td>0.212743</td>\n",
       "      <td>0.400228</td>\n",
       "    </tr>\n",
       "    <tr>\n",
       "      <th>weather_id</th>\n",
       "      <td>-0.015822</td>\n",
       "      <td>-0.893304</td>\n",
       "      <td>-0.253018</td>\n",
       "      <td>-0.081389</td>\n",
       "      <td>1.000000</td>\n",
       "      <td>0.231458</td>\n",
       "      <td>0.215783</td>\n",
       "    </tr>\n",
       "    <tr>\n",
       "      <th>temp_feel</th>\n",
       "      <td>-0.017851</td>\n",
       "      <td>-0.206920</td>\n",
       "      <td>0.009980</td>\n",
       "      <td>0.212743</td>\n",
       "      <td>0.231458</td>\n",
       "      <td>1.000000</td>\n",
       "      <td>0.967575</td>\n",
       "    </tr>\n",
       "    <tr>\n",
       "      <th>temp</th>\n",
       "      <td>-0.018268</td>\n",
       "      <td>-0.198771</td>\n",
       "      <td>-0.017001</td>\n",
       "      <td>0.400228</td>\n",
       "      <td>0.215783</td>\n",
       "      <td>0.967575</td>\n",
       "      <td>1.000000</td>\n",
       "    </tr>\n",
       "  </tbody>\n",
       "</table>\n",
       "</div>"
      ],
      "text/plain": [
       "                bike_available  weather_main    clouds  wind_speed  \\\n",
       "bike_available        1.000000      0.016580  0.014740   -0.007683   \n",
       "weather_main          0.016580      1.000000  0.221045    0.018268   \n",
       "clouds                0.014740      0.221045  1.000000    0.020678   \n",
       "wind_speed           -0.007683      0.018268  0.020678    1.000000   \n",
       "weather_id           -0.015822     -0.893304 -0.253018   -0.081389   \n",
       "temp_feel            -0.017851     -0.206920  0.009980    0.212743   \n",
       "temp                 -0.018268     -0.198771 -0.017001    0.400228   \n",
       "\n",
       "                weather_id  temp_feel      temp  \n",
       "bike_available   -0.015822  -0.017851 -0.018268  \n",
       "weather_main     -0.893304  -0.206920 -0.198771  \n",
       "clouds           -0.253018   0.009980 -0.017001  \n",
       "wind_speed       -0.081389   0.212743  0.400228  \n",
       "weather_id        1.000000   0.231458  0.215783  \n",
       "temp_feel         0.231458   1.000000  0.967575  \n",
       "temp              0.215783   0.967575  1.000000  "
      ]
     },
     "execution_count": 75,
     "metadata": {},
     "output_type": "execute_result"
    }
   ],
   "source": [
    "bikes[['bike_available','weather_main','clouds','wind_speed','weather_id','temp_feel','temp']].corr()"
   ]
  },
  {
   "cell_type": "code",
   "execution_count": 40,
   "id": "b1d373a2",
   "metadata": {},
   "outputs": [
    {
     "data": {
      "text/plain": [
       "<Axes: xlabel='temp', ylabel='bike_available'>"
      ]
     },
     "execution_count": 40,
     "metadata": {},
     "output_type": "execute_result"
    },
    {
     "data": {
      "image/png": "[encoded data removed]",
      "text/plain": [
       "<Figure size 1000x500 with 6 Axes>"
      ]
     },
     "metadata": {},
     "output_type": "display_data"
    }
   ],
   "source": [
    "fig, axs = plt.subplots(2, 3, sharey=True)\n",
    "bikes.plot(kind='scatter', x='weather_main', y='bike_available', label=\"%.3f\" % bikes[['weather_main', 'bike_available']].corr().to_numpy()[0,1], ax=axs[0][0], figsize=(10, 5))\n",
    "bikes.plot(kind='scatter', x='clouds', y='bike_available', label=\"%.3f\" % bikes[['clouds', 'bike_available']].corr().to_numpy()[0,1], ax=axs[0][1])\n",
    "bikes.plot(kind='scatter', x='wind_speed', y='bike_available', label=\"%.3f\" % bikes[['wind_speed', 'bike_available']].corr().to_numpy()[0,1], ax=axs[0][2])\n",
    "bikes.plot(kind='scatter', x='weather_id', y='bike_available', label=\"%.3f\" % bikes[['weather_id', 'bike_available']].corr().to_numpy()[0,1], ax=axs[1][0])\n",
    "bikes.plot(kind='scatter', x='temp_feel', y='bike_available', label=\"%.3f\" % bikes[['temp_feel', 'bike_available']].corr().to_numpy()[0,1], ax=axs[1][1])\n",
    "bikes.plot(kind='scatter', x='temp', y='bike_available', label=\"%.3f\" % bikes[['temp', 'bike_available']].corr().to_numpy()[0,1], ax=axs[1][2])"
   ]
  },
  {
   "cell_type": "markdown",
   "id": "c4712f30",
   "metadata": {},
   "source": [
    "## Correlation based on time"
   ]
  },
  {
   "cell_type": "code",
   "execution_count": 41,
   "id": "814d0870",
   "metadata": {},
   "outputs": [
    {
     "data": {
      "text/html": [
       "<div>\n",
       "<style scoped>\n",
       "    .dataframe tbody tr th:only-of-type {\n",
       "        vertical-align: middle;\n",
       "    }\n",
       "\n",
       "    .dataframe tbody tr th {\n",
       "        vertical-align: top;\n",
       "    }\n",
       "\n",
       "    .dataframe thead th {\n",
       "        text-align: right;\n",
       "    }\n",
       "</style>\n",
       "<table border=\"1\" class=\"dataframe\">\n",
       "  <thead>\n",
       "    <tr style=\"text-align: right;\">\n",
       "      <th></th>\n",
       "      <th>bike_available</th>\n",
       "      <th>HOUR_x</th>\n",
       "      <th>DAY_num_x</th>\n",
       "      <th>MINUTE_x</th>\n",
       "      <th>Day_of_Week_x</th>\n",
       "    </tr>\n",
       "  </thead>\n",
       "  <tbody>\n",
       "    <tr>\n",
       "      <th>bike_available</th>\n",
       "      <td>1.000000</td>\n",
       "      <td>-0.011705</td>\n",
       "      <td>-0.015629</td>\n",
       "      <td>-0.004738</td>\n",
       "      <td>0.017747</td>\n",
       "    </tr>\n",
       "    <tr>\n",
       "      <th>HOUR_x</th>\n",
       "      <td>-0.011705</td>\n",
       "      <td>1.000000</td>\n",
       "      <td>-0.151850</td>\n",
       "      <td>0.039567</td>\n",
       "      <td>0.067695</td>\n",
       "    </tr>\n",
       "    <tr>\n",
       "      <th>DAY_num_x</th>\n",
       "      <td>-0.015629</td>\n",
       "      <td>-0.151850</td>\n",
       "      <td>1.000000</td>\n",
       "      <td>-0.120986</td>\n",
       "      <td>-0.091672</td>\n",
       "    </tr>\n",
       "    <tr>\n",
       "      <th>MINUTE_x</th>\n",
       "      <td>-0.004738</td>\n",
       "      <td>0.039567</td>\n",
       "      <td>-0.120986</td>\n",
       "      <td>1.000000</td>\n",
       "      <td>-0.020108</td>\n",
       "    </tr>\n",
       "    <tr>\n",
       "      <th>Day_of_Week_x</th>\n",
       "      <td>0.017747</td>\n",
       "      <td>0.067695</td>\n",
       "      <td>-0.091672</td>\n",
       "      <td>-0.020108</td>\n",
       "      <td>1.000000</td>\n",
       "    </tr>\n",
       "  </tbody>\n",
       "</table>\n",
       "</div>"
      ],
      "text/plain": [
       "                bike_available    HOUR_x  DAY_num_x  MINUTE_x  Day_of_Week_x\n",
       "bike_available        1.000000 -0.011705  -0.015629 -0.004738       0.017747\n",
       "HOUR_x               -0.011705  1.000000  -0.151850  0.039567       0.067695\n",
       "DAY_num_x            -0.015629 -0.151850   1.000000 -0.120986      -0.091672\n",
       "MINUTE_x             -0.004738  0.039567  -0.120986  1.000000      -0.020108\n",
       "Day_of_Week_x         0.017747  0.067695  -0.091672 -0.020108       1.000000"
      ]
     },
     "execution_count": 41,
     "metadata": {},
     "output_type": "execute_result"
    }
   ],
   "source": [
    "bikes[['bike_available','HOUR_x','DAY_num_x','MINUTE_x','Day_of_Week_x']].corr()"
   ]
  },
  {
   "cell_type": "code",
   "execution_count": 42,
   "id": "2d260e4e",
   "metadata": {},
   "outputs": [
    {
     "data": {
      "text/plain": [
       "<Axes: xlabel='Day_of_Week_x', ylabel='bike_available'>"
      ]
     },
     "execution_count": 42,
     "metadata": {},
     "output_type": "execute_result"
    },
    {
     "data": {
      "image/png": "[encoded data removed]",
      "text/plain": [
       "<Figure size 1000x500 with 3 Axes>"
      ]
     },
     "metadata": {},
     "output_type": "display_data"
    }
   ],
   "source": [
    "fig, axs = plt.subplots(1, 3, sharey=True)\n",
    "bikes.plot(kind='scatter', x='HOUR_x', y='bike_available', label=\"%.3f\" % bikes[['HOUR_x', 'bike_available']].corr().to_numpy()[0,1], ax=axs[0], figsize=(10, 5))\n",
    "bikes.plot(kind='scatter', x='DAY_num_x', y='bike_available', label=\"%.3f\" % bikes[['DAY_num_x', 'bike_available']].corr().to_numpy()[0,1], ax=axs[1], figsize=(10, 5))\n",
    "bikes.plot(kind='scatter', x='Day_of_Week_x', y='bike_available', label=\"%.3f\" % bikes[['Day_of_Week_x', 'bike_available']].corr().to_numpy()[0,1], ax=axs[2], figsize=(10, 5))"
   ]
  },
  {
   "cell_type": "markdown",
   "id": "c8a586a2",
   "metadata": {},
   "source": [
    "## Prepare Linear Regression inputs - choose single feature"
   ]
  },
  {
   "cell_type": "code",
   "execution_count": 43,
   "id": "f737e8ef",
   "metadata": {},
   "outputs": [
    {
     "name": "stdout",
     "output_type": "stream",
     "text": [
      "\n",
      "Intercept: \n",
      " 11.917916176130502\n",
      "Features: \n",
      " temp_feel\n",
      "Coeficients: \n",
      " [-0.03509498]\n"
     ]
    }
   ],
   "source": [
    "features = ['weather_main','clouds','temp', 'weather_id', 'wind_speed','temp_feel']\n",
    "feature = 'temp_feel'\n",
    "X = bikes[[feature]]\n",
    "y = bikes['bike_available']\n",
    "\n",
    "linreg = LinearRegression()\n",
    "linreg.fit(X, y)\n",
    "          \n",
    "# Print the estimated linear regression coefficients.\n",
    "print(\"\\nIntercept: \\n\", linreg.intercept_)\n",
    "print(\"Features: \\n\", feature)\n",
    "print(\"Coeficients: \\n\", linreg.coef_)"
   ]
  },
  {
   "cell_type": "markdown",
   "id": "0a07fd9b",
   "metadata": {},
   "source": [
    "## Test the model - Linear Regression"
   ]
  },
  {
   "cell_type": "code",
   "execution_count": 44,
   "id": "ff0fe8f7",
   "metadata": {},
   "outputs": [
    {
     "name": "stdout",
     "output_type": "stream",
     "text": [
      "\n",
      "Prediction: (temp_feel, Bike Availability, Predicted Bike Availability): 8 , 5 , 11\n"
     ]
    },
    {
     "data": {
      "text/html": [
       "<div>\n",
       "<style scoped>\n",
       "    .dataframe tbody tr th:only-of-type {\n",
       "        vertical-align: middle;\n",
       "    }\n",
       "\n",
       "    .dataframe tbody tr th {\n",
       "        vertical-align: top;\n",
       "    }\n",
       "\n",
       "    .dataframe thead th {\n",
       "        text-align: right;\n",
       "    }\n",
       "</style>\n",
       "<table border=\"1\" class=\"dataframe\">\n",
       "  <thead>\n",
       "    <tr style=\"text-align: right;\">\n",
       "      <th></th>\n",
       "      <th>bike_available</th>\n",
       "      <th>Predicted</th>\n",
       "    </tr>\n",
       "  </thead>\n",
       "  <tbody>\n",
       "    <tr>\n",
       "      <th>23335</th>\n",
       "      <td>5</td>\n",
       "      <td>11.6291</td>\n",
       "    </tr>\n",
       "    <tr>\n",
       "      <th>16352</th>\n",
       "      <td>8</td>\n",
       "      <td>11.5845</td>\n",
       "    </tr>\n",
       "    <tr>\n",
       "      <th>15783</th>\n",
       "      <td>2</td>\n",
       "      <td>11.4234</td>\n",
       "    </tr>\n",
       "    <tr>\n",
       "      <th>22652</th>\n",
       "      <td>3</td>\n",
       "      <td>11.7635</td>\n",
       "    </tr>\n",
       "    <tr>\n",
       "      <th>5384</th>\n",
       "      <td>27</td>\n",
       "      <td>11.7045</td>\n",
       "    </tr>\n",
       "    <tr>\n",
       "      <th>...</th>\n",
       "      <td>...</td>\n",
       "      <td>...</td>\n",
       "    </tr>\n",
       "    <tr>\n",
       "      <th>21575</th>\n",
       "      <td>24</td>\n",
       "      <td>11.5357</td>\n",
       "    </tr>\n",
       "    <tr>\n",
       "      <th>5390</th>\n",
       "      <td>0</td>\n",
       "      <td>11.7045</td>\n",
       "    </tr>\n",
       "    <tr>\n",
       "      <th>860</th>\n",
       "      <td>15</td>\n",
       "      <td>11.4999</td>\n",
       "    </tr>\n",
       "    <tr>\n",
       "      <th>15795</th>\n",
       "      <td>10</td>\n",
       "      <td>11.4234</td>\n",
       "    </tr>\n",
       "    <tr>\n",
       "      <th>23654</th>\n",
       "      <td>4</td>\n",
       "      <td>11.6077</td>\n",
       "    </tr>\n",
       "  </tbody>\n",
       "</table>\n",
       "<p>19280 rows × 2 columns</p>\n",
       "</div>"
      ],
      "text/plain": [
       "       bike_available  Predicted\n",
       "23335               5    11.6291\n",
       "16352               8    11.5845\n",
       "15783               2    11.4234\n",
       "22652               3    11.7635\n",
       "5384               27    11.7045\n",
       "...               ...        ...\n",
       "21575              24    11.5357\n",
       "5390                0    11.7045\n",
       "860                15    11.4999\n",
       "15795              10    11.4234\n",
       "23654               4    11.6077\n",
       "\n",
       "[19280 rows x 2 columns]"
      ]
     },
     "execution_count": 44,
     "metadata": {},
     "output_type": "execute_result"
    }
   ],
   "source": [
    "# Predicted scores \n",
    "linreg_predictions = linreg.predict(X).round(4)\n",
    "print(f\"\\nPrediction: ({feature}, Bike Availability, Predicted Bike Availability): {int(X.values[0])} , {y.values[0]} , {int(linreg_predictions[0])}\")\n",
    "actual_vs_predicted = pd.concat([y, pd.DataFrame(linreg_predictions, columns=['Predicted'], index=y.index)], axis=1)\n",
    "actual_vs_predicted"
   ]
  },
  {
   "cell_type": "code",
   "execution_count": 45,
   "id": "dfb7884d",
   "metadata": {},
   "outputs": [
    {
     "name": "stdout",
     "output_type": "stream",
     "text": [
      "[[   0 1682]\n",
      " [   1 1183]\n",
      " [   2 1075]\n",
      " [   3  842]\n",
      " [   4  779]\n",
      " [   5  768]\n",
      " [   6  802]\n",
      " [   7  763]\n",
      " [   8  782]\n",
      " [   9  739]\n",
      " [  10  683]\n",
      " [  11  678]\n",
      " [  12  639]\n",
      " [  13  650]\n",
      " [  14  597]\n",
      " [  15  670]\n",
      " [  16  551]\n",
      " [  17  507]\n",
      " [  18  498]\n",
      " [  19  405]\n",
      " [  20  418]\n",
      " [  21  323]\n",
      " [  22  264]\n",
      " [  23  330]\n",
      " [  24  250]\n",
      " [  25  283]\n",
      " [  26  236]\n",
      " [  27  207]\n",
      " [  28  294]\n",
      " [  29  264]\n",
      " [  30  281]\n",
      " [  31  103]\n",
      " [  32   82]\n",
      " [  33   70]\n",
      " [  34   53]\n",
      " [  35   74]\n",
      " [  36   68]\n",
      " [  37   80]\n",
      " [  38   98]\n",
      " [  39   83]\n",
      " [  40  126]]\n"
     ]
    }
   ],
   "source": [
    "# Actual Bike Availability - Value | Frequency\n",
    "(unique, counts) = np.unique(y, return_counts=True)\n",
    "frequencies = np.asarray((unique, counts)).T\n",
    "print(frequencies)"
   ]
  },
  {
   "cell_type": "code",
   "execution_count": 46,
   "id": "6dcd326b",
   "metadata": {},
   "outputs": [
    {
     "name": "stdout",
     "output_type": "stream",
     "text": [
      "[[ 11.3943  91.    ]\n",
      " [ 11.4097  87.    ]\n",
      " [ 11.4234  94.    ]\n",
      " [ 11.4343  87.    ]\n",
      " [ 11.435   87.    ]\n",
      " [ 11.4497  92.    ]\n",
      " [ 11.4508  92.    ]\n",
      " [ 11.4564  89.    ]\n",
      " [ 11.4599  90.    ]\n",
      " [ 11.4655  83.    ]\n",
      " [ 11.4785 184.    ]\n",
      " [ 11.4799  89.    ]\n",
      " [ 11.4824  84.    ]\n",
      " [ 11.4859  91.    ]\n",
      " [ 11.4908  94.    ]\n",
      " [ 11.4943  85.    ]\n",
      " [ 11.4964  92.    ]\n",
      " [ 11.4971  94.    ]\n",
      " [ 11.4999  93.    ]\n",
      " [ 11.5003  94.    ]\n",
      " [ 11.5041  92.    ]\n",
      " [ 11.5045  92.    ]\n",
      " [ 11.5048  93.    ]\n",
      " [ 11.5052  88.    ]\n",
      " [ 11.5101 273.    ]\n",
      " [ 11.5105  94.    ]\n",
      " [ 11.5147  94.    ]\n",
      " [ 11.5168  83.    ]\n",
      " [ 11.5185  96.    ]\n",
      " [ 11.5206  95.    ]\n",
      " [ 11.5213  81.    ]\n",
      " [ 11.5224  97.    ]\n",
      " [ 11.527  102.    ]\n",
      " [ 11.5301 187.    ]\n",
      " [ 11.5308  89.    ]\n",
      " [ 11.5315   1.    ]\n",
      " [ 11.5336  94.    ]\n",
      " [ 11.5354  10.    ]\n",
      " [ 11.5357  89.    ]\n",
      " [ 11.5375  90.    ]\n",
      " [ 11.5382  83.    ]\n",
      " [ 11.5385  97.    ]\n",
      " [ 11.5435  91.    ]\n",
      " [ 11.5445  89.    ]\n",
      " [ 11.5449  97.    ]\n",
      " [ 11.5477  93.    ]\n",
      " [ 11.5589  94.    ]\n",
      " [ 11.5614 188.    ]\n",
      " [ 11.5726  87.    ]\n",
      " [ 11.5747  92.    ]\n",
      " [ 11.575   92.    ]\n",
      " [ 11.5764  93.    ]\n",
      " [ 11.5771 193.    ]\n",
      " [ 11.5817 186.    ]\n",
      " [ 11.5845 193.    ]\n",
      " [ 11.5852  89.    ]\n",
      " [ 11.5891  85.    ]\n",
      " [ 11.595   94.    ]\n",
      " [ 11.6077  89.    ]\n",
      " [ 11.621   86.    ]\n",
      " [ 11.6214  95.    ]\n",
      " [ 11.6291  91.    ]\n",
      " [ 11.6343 183.    ]\n",
      " [ 11.6554  86.    ]\n",
      " [ 11.6687  91.    ]\n",
      " [ 11.6719  86.    ]\n",
      " [ 11.681   95.    ]\n",
      " [ 11.6873  88.    ]\n",
      " [ 11.6989  95.    ]\n",
      " [ 11.6996 179.    ]\n",
      " [ 11.7045  97.    ]\n",
      " [ 11.7154  28.    ]\n",
      " [ 11.7158  83.    ]\n",
      " [ 11.7165  96.    ]\n",
      " [ 11.7193  63.    ]\n",
      " [ 11.7207 185.    ]\n",
      " [ 11.7217  92.    ]\n",
      " [ 11.7224  94.    ]\n",
      " [ 11.7379  90.    ]\n",
      " [ 11.7389  99.    ]\n",
      " [ 11.7417  89.    ]\n",
      " [ 11.7438  92.    ]\n",
      " [ 11.7445  95.    ]\n",
      " [ 11.7456 104.    ]\n",
      " [ 11.7558  95.    ]\n",
      " [ 11.7582  96.    ]\n",
      " [ 11.7614 182.    ]\n",
      " [ 11.7617  98.    ]\n",
      " [ 11.7635  93.    ]\n",
      " [ 11.7653 191.    ]\n",
      " [ 11.7656  88.    ]\n",
      " [ 11.7667 100.    ]\n",
      " [ 11.7677  95.    ]\n",
      " [ 11.7723  91.    ]\n",
      " [ 11.7782  97.    ]\n",
      " [ 11.7821  84.    ]\n",
      " [ 11.7846  89.    ]\n",
      " [ 11.787   92.    ]\n",
      " [ 11.7891  94.    ]\n",
      " [ 11.7895  93.    ]\n",
      " [ 11.7905  94.    ]\n",
      " [ 11.7912  90.    ]\n",
      " [ 11.7926  86.    ]\n",
      " [ 11.7937 181.    ]\n",
      " [ 11.7979  92.    ]\n",
      " [ 11.7986  93.    ]\n",
      " [ 11.8007 182.    ]\n",
      " [ 11.8032  90.    ]\n",
      " [ 11.8056  96.    ]\n",
      " [ 11.8067  89.    ]\n",
      " [ 11.8084 182.    ]\n",
      " [ 11.8126  86.    ]\n",
      " [ 11.8137  79.    ]\n",
      " [ 11.8144  92.    ]\n",
      " [ 11.8147  91.    ]\n",
      " [ 11.8193  95.    ]\n",
      " [ 11.8204  91.    ]\n",
      " [ 11.8207  95.    ]\n",
      " [ 11.8214  43.    ]\n",
      " [ 11.8221  92.    ]\n",
      " [ 11.8235  93.    ]\n",
      " [ 11.8267  87.    ]\n",
      " [ 11.8302  80.    ]\n",
      " [ 11.8305  88.    ]\n",
      " [ 11.8323  89.    ]\n",
      " [ 11.8358  92.    ]\n",
      " [ 11.8383  89.    ]\n",
      " [ 11.8386  92.    ]\n",
      " [ 11.839   95.    ]\n",
      " [ 11.84    96.    ]\n",
      " [ 11.8432  90.    ]\n",
      " [ 11.8435  92.    ]\n",
      " [ 11.8453 174.    ]\n",
      " [ 11.8463  95.    ]\n",
      " [ 11.8474 189.    ]\n",
      " [ 11.8495  95.    ]\n",
      " [ 11.8505  89.    ]\n",
      " [ 11.8526  94.    ]\n",
      " [ 11.8551  98.    ]\n",
      " [ 11.8558  94.    ]\n",
      " [ 11.8604  90.    ]\n",
      " [ 11.8607  86.    ]\n",
      " [ 11.8621 192.    ]\n",
      " [ 11.8639  85.    ]\n",
      " [ 11.8642  86.    ]\n",
      " [ 11.8716  93.    ]\n",
      " [ 11.8762  93.    ]\n",
      " [ 11.8786  95.    ]\n",
      " [ 11.8793  93.    ]\n",
      " [ 11.8877  88.    ]\n",
      " [ 11.8891  82.    ]\n",
      " [ 11.8902  84.    ]\n",
      " [ 11.8933 189.    ]\n",
      " [ 11.8983  95.    ]\n",
      " [ 11.9053  92.    ]\n",
      " [ 11.9116  93.    ]\n",
      " [ 11.9134  91.    ]\n",
      " [ 11.9225  85.    ]\n",
      " [ 11.9228  96.    ]\n",
      " [ 11.9239 164.    ]\n",
      " [ 11.9379  93.    ]\n",
      " [ 11.9383  95.    ]\n",
      " [ 11.9397  99.    ]\n",
      " [ 11.9425  94.    ]\n",
      " [ 11.9456  87.    ]\n",
      " [ 11.9484  86.    ]\n",
      " [ 11.9499 183.    ]\n",
      " [ 11.9576 188.    ]\n",
      " [ 11.9618 181.    ]\n",
      " [ 11.9635  90.    ]\n",
      " [ 11.9663  96.    ]\n",
      " [ 11.9678  89.    ]\n",
      " [ 11.9688  89.    ]\n",
      " [ 11.9692  98.    ]\n",
      " [ 11.9699  94.    ]\n",
      " [ 11.9702  86.    ]\n",
      " [ 11.9706  94.    ]\n",
      " [ 11.9734  91.    ]\n",
      " [ 11.9758  94.    ]\n",
      " [ 11.9818  90.    ]\n",
      " [ 11.9839  93.    ]\n",
      " [ 11.9902  96.    ]\n",
      " [ 12.0081  93.    ]\n",
      " [ 12.0429  97.    ]\n",
      " [ 12.0513  94.    ]\n",
      " [ 12.0569  90.    ]\n",
      " [ 12.059   91.    ]\n",
      " [ 12.0611 189.    ]\n",
      " [ 12.0776  81.    ]]\n"
     ]
    }
   ],
   "source": [
    "# Predicted Bike Availability - Value | Frequency\n",
    "(unique, counts) = np.unique(linreg_predictions, return_counts=True)\n",
    "frequencies = np.asarray((unique, counts)).T\n",
    "print(frequencies)"
   ]
  },
  {
   "cell_type": "markdown",
   "id": "fb2e2382",
   "metadata": {},
   "source": [
    "## Predict bike availabity for selected feature using Linear Regression Model"
   ]
  },
  {
   "cell_type": "code",
   "execution_count": 47,
   "id": "6f350ddd",
   "metadata": {},
   "outputs": [
    {
     "name": "stdout",
     "output_type": "stream",
     "text": [
      "[11.88]\n"
     ]
    }
   ],
   "source": [
    "X_new = pd.DataFrame({feature:[1]})\n",
    "X_new.head()\n",
    "print(linreg.predict(X_new).round(2))"
   ]
  },
  {
   "cell_type": "code",
   "execution_count": 48,
   "id": "0839addc",
   "metadata": {},
   "outputs": [],
   "source": [
    "#bikes.plot(kind='scatter', x=feature, y='bike_available')"
   ]
  },
  {
   "cell_type": "markdown",
   "id": "a64f664a",
   "metadata": {},
   "source": [
    "## Plot Results - Linear Regression "
   ]
  },
  {
   "cell_type": "code",
   "execution_count": 49,
   "id": "708fc313",
   "metadata": {},
   "outputs": [
    {
     "data": {
      "image/png": "[encoded data removed]",
      "text/plain": [
       "<Figure size 640x480 with 1 Axes>"
      ]
     },
     "metadata": {},
     "output_type": "display_data"
    }
   ],
   "source": [
    "plt.scatter(linreg_predictions, y, color=\"blue\")\n",
    "#plt.plot(X, treereg_predictions, color=\"blue\", linewidth=3)\n",
    "plt.title('Bike Availability \\n Linear Regression')\n",
    "plt.xlabel(\"Predictions\")\n",
    "plt.ylabel(\"Actual\")\n",
    "plt.xlim(0,25)\n",
    "plt.ylim(0,40)\n",
    "plt.xticks(())\n",
    "plt.yticks(())\n",
    "plt.show()"
   ]
  },
  {
   "cell_type": "markdown",
   "id": "b1abd83b",
   "metadata": {},
   "source": [
    "## Model based on Multiple Regression - multiple features "
   ]
  },
  {
   "cell_type": "code",
   "execution_count": 50,
   "id": "e63e0880",
   "metadata": {},
   "outputs": [
    {
     "name": "stdout",
     "output_type": "stream",
     "text": [
      "\n",
      "Intercept: \n",
      " 11.241228268642733\n",
      "Features: \n",
      " ['weather_main', 'clouds', 'temp', 'weather_id', 'wind_speed', 'temp_feel']\n",
      "Coeficients: \n",
      " [ 1.09189885e-01  7.35229556e-03  3.49479854e-02 -1.41807629e-05\n",
      " -2.52281711e-02 -5.23289803e-02]\n"
     ]
    }
   ],
   "source": [
    "X = bikes[features]\n",
    "y = bikes['bike_available']\n",
    "\n",
    "#X =bikes[mul_features]\n",
    "linreg_m = LinearRegression()\n",
    "linreg_m.fit(X[features], y)\n",
    "\n",
    "# Print the estimated linear regression coefficients.\n",
    "print(\"\\nIntercept: \\n\", linreg_m.intercept_)\n",
    "print(\"Features: \\n\", features)\n",
    "print(\"Coeficients: \\n\", linreg_m.coef_)"
   ]
  },
  {
   "cell_type": "markdown",
   "id": "644d83b1",
   "metadata": {},
   "source": [
    "## Test the model - Multiple Regression"
   ]
  },
  {
   "cell_type": "code",
   "execution_count": 51,
   "id": "5cc7a51c",
   "metadata": {},
   "outputs": [
    {
     "data": {
      "text/html": [
       "<div>\n",
       "<style scoped>\n",
       "    .dataframe tbody tr th:only-of-type {\n",
       "        vertical-align: middle;\n",
       "    }\n",
       "\n",
       "    .dataframe tbody tr th {\n",
       "        vertical-align: top;\n",
       "    }\n",
       "\n",
       "    .dataframe thead th {\n",
       "        text-align: right;\n",
       "    }\n",
       "</style>\n",
       "<table border=\"1\" class=\"dataframe\">\n",
       "  <thead>\n",
       "    <tr style=\"text-align: right;\">\n",
       "      <th></th>\n",
       "      <th>bike_available</th>\n",
       "      <th>Predicted</th>\n",
       "    </tr>\n",
       "  </thead>\n",
       "  <tbody>\n",
       "    <tr>\n",
       "      <th>23335</th>\n",
       "      <td>5</td>\n",
       "      <td>12.0</td>\n",
       "    </tr>\n",
       "    <tr>\n",
       "      <th>16352</th>\n",
       "      <td>8</td>\n",
       "      <td>12.0</td>\n",
       "    </tr>\n",
       "    <tr>\n",
       "      <th>15783</th>\n",
       "      <td>2</td>\n",
       "      <td>11.0</td>\n",
       "    </tr>\n",
       "    <tr>\n",
       "      <th>22652</th>\n",
       "      <td>3</td>\n",
       "      <td>12.0</td>\n",
       "    </tr>\n",
       "    <tr>\n",
       "      <th>5384</th>\n",
       "      <td>27</td>\n",
       "      <td>12.0</td>\n",
       "    </tr>\n",
       "    <tr>\n",
       "      <th>...</th>\n",
       "      <td>...</td>\n",
       "      <td>...</td>\n",
       "    </tr>\n",
       "    <tr>\n",
       "      <th>21575</th>\n",
       "      <td>24</td>\n",
       "      <td>12.0</td>\n",
       "    </tr>\n",
       "    <tr>\n",
       "      <th>5390</th>\n",
       "      <td>0</td>\n",
       "      <td>12.0</td>\n",
       "    </tr>\n",
       "    <tr>\n",
       "      <th>860</th>\n",
       "      <td>15</td>\n",
       "      <td>11.0</td>\n",
       "    </tr>\n",
       "    <tr>\n",
       "      <th>15795</th>\n",
       "      <td>10</td>\n",
       "      <td>11.0</td>\n",
       "    </tr>\n",
       "    <tr>\n",
       "      <th>23654</th>\n",
       "      <td>4</td>\n",
       "      <td>12.0</td>\n",
       "    </tr>\n",
       "  </tbody>\n",
       "</table>\n",
       "<p>19280 rows × 2 columns</p>\n",
       "</div>"
      ],
      "text/plain": [
       "       bike_available  Predicted\n",
       "23335               5       12.0\n",
       "16352               8       12.0\n",
       "15783               2       11.0\n",
       "22652               3       12.0\n",
       "5384               27       12.0\n",
       "...               ...        ...\n",
       "21575              24       12.0\n",
       "5390                0       12.0\n",
       "860                15       11.0\n",
       "15795              10       11.0\n",
       "23654               4       12.0\n",
       "\n",
       "[19280 rows x 2 columns]"
      ]
     },
     "execution_count": 51,
     "metadata": {},
     "output_type": "execute_result"
    }
   ],
   "source": [
    "# Predicted scores\n",
    "linreg_m_predictions = linreg_m.predict(X).round(0)\n",
    "\n",
    "actual_vs_predicted_m = pd.concat([y, pd.DataFrame(linreg_m_predictions, columns=['Predicted'], index=y.index)], axis=1)\n",
    "actual_vs_predicted_m"
   ]
  },
  {
   "cell_type": "code",
   "execution_count": 52,
   "id": "2c1d74c9",
   "metadata": {},
   "outputs": [
    {
     "name": "stdout",
     "output_type": "stream",
     "text": [
      "[[1.1000e+01 3.4230e+03]\n",
      " [1.2000e+01 1.5857e+04]]\n"
     ]
    }
   ],
   "source": [
    "# Predicted Bike Availability - Value | Frequency\n",
    "(unique, counts) = np.unique(linreg_m_predictions, return_counts=True)\n",
    "frequencies = np.asarray((unique, counts)).T\n",
    "print(frequencies)"
   ]
  },
  {
   "cell_type": "markdown",
   "id": "7f14e656",
   "metadata": {},
   "source": [
    "## Plot Results - Multiple Regression"
   ]
  },
  {
   "cell_type": "code",
   "execution_count": 53,
   "id": "79293929",
   "metadata": {},
   "outputs": [
    {
     "data": {
      "image/png": "[encoded data removed]",
      "text/plain": [
       "<Figure size 640x480 with 1 Axes>"
      ]
     },
     "metadata": {},
     "output_type": "display_data"
    }
   ],
   "source": [
    "plt.scatter(linreg_m_predictions, y, color=\"blue\")\n",
    "#plt.plot(X, treereg_predictions, color=\"blue\", linewidth=3)\n",
    "plt.title('Bike Availability \\n Multiple Regression')\n",
    "plt.xlabel(\"Predictions\")\n",
    "plt.ylabel(\"Actual\")\n",
    "plt.xticks(())\n",
    "plt.yticks(())\n",
    "plt.show()"
   ]
  },
  {
   "cell_type": "markdown",
   "id": "cbe18e5c",
   "metadata": {},
   "source": [
    "## Model based on Decision Tree Regressor "
   ]
  },
  {
   "cell_type": "code",
   "execution_count": 54,
   "id": "437079f7",
   "metadata": {},
   "outputs": [
    {
     "name": "stdout",
     "output_type": "stream",
     "text": [
      "19280\n"
     ]
    },
    {
     "data": {
      "text/html": [
       "<style>#sk-container-id-1 {color: black;background-color: white;}#sk-container-id-1 pre{padding: 0;}#sk-container-id-1 div.sk-toggleable {background-color: white;}#sk-container-id-1 label.sk-toggleable__label {cursor: pointer;display: block;width: 100%;margin-bottom: 0;padding: 0.3em;box-sizing: border-box;text-align: center;}#sk-container-id-1 label.sk-toggleable__label-arrow:before {content: \"▸\";float: left;margin-right: 0.25em;color: #696969;}#sk-container-id-1 label.sk-toggleable__label-arrow:hover:before {color: black;}#sk-container-id-1 div.sk-estimator:hover label.sk-toggleable__label-arrow:before {color: black;}#sk-container-id-1 div.sk-toggleable__content {max-height: 0;max-width: 0;overflow: hidden;text-align: left;background-color: #f0f8ff;}#sk-container-id-1 div.sk-toggleable__content pre {margin: 0.2em;color: black;border-radius: 0.25em;background-color: #f0f8ff;}#sk-container-id-1 input.sk-toggleable__control:checked~div.sk-toggleable__content {max-height: 200px;max-width: 100%;overflow: auto;}#sk-container-id-1 input.sk-toggleable__control:checked~label.sk-toggleable__label-arrow:before {content: \"▾\";}#sk-container-id-1 div.sk-estimator input.sk-toggleable__control:checked~label.sk-toggleable__label {background-color: #d4ebff;}#sk-container-id-1 div.sk-label input.sk-toggleable__control:checked~label.sk-toggleable__label {background-color: #d4ebff;}#sk-container-id-1 input.sk-hidden--visually {border: 0;clip: rect(1px 1px 1px 1px);clip: rect(1px, 1px, 1px, 1px);height: 1px;margin: -1px;overflow: hidden;padding: 0;position: absolute;width: 1px;}#sk-container-id-1 div.sk-estimator {font-family: monospace;background-color: #f0f8ff;border: 1px dotted black;border-radius: 0.25em;box-sizing: border-box;margin-bottom: 0.5em;}#sk-container-id-1 div.sk-estimator:hover {background-color: #d4ebff;}#sk-container-id-1 div.sk-parallel-item::after {content: \"\";width: 100%;border-bottom: 1px solid gray;flex-grow: 1;}#sk-container-id-1 div.sk-label:hover label.sk-toggleable__label {background-color: #d4ebff;}#sk-container-id-1 div.sk-serial::before {content: \"\";position: absolute;border-left: 1px solid gray;box-sizing: border-box;top: 0;bottom: 0;left: 50%;z-index: 0;}#sk-container-id-1 div.sk-serial {display: flex;flex-direction: column;align-items: center;background-color: white;padding-right: 0.2em;padding-left: 0.2em;position: relative;}#sk-container-id-1 div.sk-item {position: relative;z-index: 1;}#sk-container-id-1 div.sk-parallel {display: flex;align-items: stretch;justify-content: center;background-color: white;position: relative;}#sk-container-id-1 div.sk-item::before, #sk-container-id-1 div.sk-parallel-item::before {content: \"\";position: absolute;border-left: 1px solid gray;box-sizing: border-box;top: 0;bottom: 0;left: 50%;z-index: -1;}#sk-container-id-1 div.sk-parallel-item {display: flex;flex-direction: column;z-index: 1;position: relative;background-color: white;}#sk-container-id-1 div.sk-parallel-item:first-child::after {align-self: flex-end;width: 50%;}#sk-container-id-1 div.sk-parallel-item:last-child::after {align-self: flex-start;width: 50%;}#sk-container-id-1 div.sk-parallel-item:only-child::after {width: 0;}#sk-container-id-1 div.sk-dashed-wrapped {border: 1px dashed gray;margin: 0 0.4em 0.5em 0.4em;box-sizing: border-box;padding-bottom: 0.4em;background-color: white;}#sk-container-id-1 div.sk-label label {font-family: monospace;font-weight: bold;display: inline-block;line-height: 1.2em;}#sk-container-id-1 div.sk-label-container {text-align: center;}#sk-container-id-1 div.sk-container {/* jupyter's `normalize.less` sets `[hidden] { display: none; }` but bootstrap.min.css set `[hidden] { display: none !important; }` so we also need the `!important` here to be able to override the default hidden behavior on the sphinx rendered scikit-learn.org. See: https://github.com/scikit-learn/scikit-learn/issues/21755 */display: inline-block !important;position: relative;}#sk-container-id-1 div.sk-text-repr-fallback {display: none;}</style><div id=\"sk-container-id-1\" class=\"sk-top-container\"><div class=\"sk-text-repr-fallback\"><pre>DecisionTreeRegressor()</pre><b>In a Jupyter environment, please rerun this cell to show the HTML representation or trust the notebook. <br />On GitHub, the HTML representation is unable to render, please try loading this page with nbviewer.org.</b></div><div class=\"sk-container\" hidden><div class=\"sk-item\"><div class=\"sk-estimator sk-toggleable\"><input class=\"sk-toggleable__control sk-hidden--visually\" id=\"sk-estimator-id-1\" type=\"checkbox\" checked><label for=\"sk-estimator-id-1\" class=\"sk-toggleable__label sk-toggleable__label-arrow\">DecisionTreeRegressor</label><div class=\"sk-toggleable__content\"><pre>DecisionTreeRegressor()</pre></div></div></div></div></div>"
      ],
      "text/plain": [
       "DecisionTreeRegressor()"
      ]
     },
     "execution_count": 54,
     "metadata": {},
     "output_type": "execute_result"
    }
   ],
   "source": [
    "X = bikes[features]\n",
    "y = bikes['bike_available']\n",
    "print(len(y))\n",
    "treereg = DecisionTreeRegressor()\n",
    "treereg.fit(X, y)\n",
    "\n",
    "# Print the estimated linear regression coefficients.\n",
    "#print(\"\\nIntercept: \\n\", treereg.intercept_)\n",
    "#print(\"Features: \\n\", features)\n",
    "#print(\"Coeficients: \\n\", treereg.coef_)"
   ]
  },
  {
   "cell_type": "code",
   "execution_count": 55,
   "id": "03151012",
   "metadata": {},
   "outputs": [
    {
     "data": {
      "text/html": [
       "<div>\n",
       "<style scoped>\n",
       "    .dataframe tbody tr th:only-of-type {\n",
       "        vertical-align: middle;\n",
       "    }\n",
       "\n",
       "    .dataframe tbody tr th {\n",
       "        vertical-align: top;\n",
       "    }\n",
       "\n",
       "    .dataframe thead th {\n",
       "        text-align: right;\n",
       "    }\n",
       "</style>\n",
       "<table border=\"1\" class=\"dataframe\">\n",
       "  <thead>\n",
       "    <tr style=\"text-align: right;\">\n",
       "      <th></th>\n",
       "      <th>bike_available</th>\n",
       "      <th>Predicted</th>\n",
       "    </tr>\n",
       "  </thead>\n",
       "  <tbody>\n",
       "    <tr>\n",
       "      <th>23335</th>\n",
       "      <td>5</td>\n",
       "      <td>12.0</td>\n",
       "    </tr>\n",
       "    <tr>\n",
       "      <th>16352</th>\n",
       "      <td>8</td>\n",
       "      <td>12.0</td>\n",
       "    </tr>\n",
       "    <tr>\n",
       "      <th>15783</th>\n",
       "      <td>2</td>\n",
       "      <td>11.0</td>\n",
       "    </tr>\n",
       "    <tr>\n",
       "      <th>22652</th>\n",
       "      <td>3</td>\n",
       "      <td>13.0</td>\n",
       "    </tr>\n",
       "    <tr>\n",
       "      <th>5384</th>\n",
       "      <td>27</td>\n",
       "      <td>12.0</td>\n",
       "    </tr>\n",
       "    <tr>\n",
       "      <th>...</th>\n",
       "      <td>...</td>\n",
       "      <td>...</td>\n",
       "    </tr>\n",
       "    <tr>\n",
       "      <th>21575</th>\n",
       "      <td>24</td>\n",
       "      <td>12.0</td>\n",
       "    </tr>\n",
       "    <tr>\n",
       "      <th>5390</th>\n",
       "      <td>0</td>\n",
       "      <td>12.0</td>\n",
       "    </tr>\n",
       "    <tr>\n",
       "      <th>860</th>\n",
       "      <td>15</td>\n",
       "      <td>12.0</td>\n",
       "    </tr>\n",
       "    <tr>\n",
       "      <th>15795</th>\n",
       "      <td>10</td>\n",
       "      <td>11.0</td>\n",
       "    </tr>\n",
       "    <tr>\n",
       "      <th>23654</th>\n",
       "      <td>4</td>\n",
       "      <td>13.0</td>\n",
       "    </tr>\n",
       "  </tbody>\n",
       "</table>\n",
       "<p>19280 rows × 2 columns</p>\n",
       "</div>"
      ],
      "text/plain": [
       "       bike_available  Predicted\n",
       "23335               5       12.0\n",
       "16352               8       12.0\n",
       "15783               2       11.0\n",
       "22652               3       13.0\n",
       "5384               27       12.0\n",
       "...               ...        ...\n",
       "21575              24       12.0\n",
       "5390                0       12.0\n",
       "860                15       12.0\n",
       "15795              10       11.0\n",
       "23654               4       13.0\n",
       "\n",
       "[19280 rows x 2 columns]"
      ]
     },
     "execution_count": 55,
     "metadata": {},
     "output_type": "execute_result"
    }
   ],
   "source": [
    "# Predicted scores for each example. \n",
    "treereg_predictions = treereg.predict(X).round(0)\n",
    "\n",
    "actual_vs_predicted_tree = pd.concat([y, pd.DataFrame(treereg_predictions, columns=['Predicted'], index=y.index)], axis=1)\n",
    "actual_vs_predicted_tree"
   ]
  },
  {
   "cell_type": "code",
   "execution_count": 56,
   "id": "0d16065a",
   "metadata": {},
   "outputs": [
    {
     "name": "stdout",
     "output_type": "stream",
     "text": [
      "[[9.0000e+00 9.3000e+01]\n",
      " [1.0000e+01 9.4300e+02]\n",
      " [1.1000e+01 5.5460e+03]\n",
      " [1.2000e+01 1.0436e+04]\n",
      " [1.3000e+01 2.1650e+03]\n",
      " [1.4000e+01 9.6000e+01]\n",
      " [2.8000e+01 1.0000e+00]]\n"
     ]
    }
   ],
   "source": [
    "# Predicted Bike Availability - Value | Frequency\n",
    "(unique, counts) = np.unique(treereg_predictions, return_counts=True)\n",
    "frequencies = np.asarray((unique, counts)).T\n",
    "print(frequencies)"
   ]
  },
  {
   "cell_type": "markdown",
   "id": "4f993afa",
   "metadata": {},
   "source": [
    "## Plot Results - Decision Tree Regressor "
   ]
  },
  {
   "cell_type": "code",
   "execution_count": 57,
   "id": "372c2bcf",
   "metadata": {},
   "outputs": [
    {
     "data": {
      "image/png": "[encoded data removed]",
      "text/plain": [
       "<Figure size 640x480 with 1 Axes>"
      ]
     },
     "metadata": {},
     "output_type": "display_data"
    }
   ],
   "source": [
    "plt.scatter(treereg_predictions, y, color=\"blue\")\n",
    "#plt.plot(X, treereg_predictions, color=\"blue\", linewidth=3)\n",
    "plt.title('Bike Availability \\n Decision Tree Regressor')\n",
    "plt.xlabel(\"Predictions\")\n",
    "plt.ylabel(\"Actual\")\n",
    "plt.xticks(())\n",
    "plt.yticks(())\n",
    "plt.show()"
   ]
  },
  {
   "cell_type": "markdown",
   "id": "d765bb28",
   "metadata": {},
   "source": [
    "## Calculate R2 - Different Models"
   ]
  },
  {
   "cell_type": "code",
   "execution_count": 58,
   "id": "a35dd617",
   "metadata": {},
   "outputs": [
    {
     "name": "stdout",
     "output_type": "stream",
     "text": [
      "R2 of Linear Regression Model = 9.67\n",
      "R2 of Multiple Regression Model = 9.68\n",
      "R2 of Decision Regressor Model = 9.65\n"
     ]
    }
   ],
   "source": [
    "linreg_mse = mean_squared_error(y,linreg_predictions)\n",
    "linreg_mser = np.sqrt(linreg_mse).round(2)\n",
    "print(f'R2 of Linear Regression Model = {linreg_mser}')\n",
    "\n",
    "linreg_m_mse = mean_squared_error(y,linreg_m_predictions)\n",
    "linreg_m_mser = np.sqrt(linreg_m_mse).round(2)\n",
    "print(f'R2 of Multiple Regression Model = {linreg_m_mser}')\n",
    "\n",
    "treereg_mse = mean_squared_error(y,treereg_predictions)\n",
    "treereg_mser = np.sqrt(treereg_mse).round(2)\n",
    "print(f'R2 of Decision Regressor Model = {treereg_mser}')"
   ]
  },
  {
   "cell_type": "code",
   "execution_count": null,
   "id": "75497a39",
   "metadata": {},
   "outputs": [],
   "source": []
  }
 ],
 "metadata": {
  "kernelspec": {
   "display_name": "Python 3 (ipykernel)",
   "language": "python",
   "name": "python3"
  },
  "language_info": {
   "codemirror_mode": {
    "name": "ipython",
    "version": 3
   },
   "file_extension": ".py",
   "mimetype": "text/x-python",
   "name": "python",
   "nbconvert_exporter": "python",
   "pygments_lexer": "ipython3",
   "version": "3.10.9"
  }
 },
 "nbformat": 4,
 "nbformat_minor": 5
}
