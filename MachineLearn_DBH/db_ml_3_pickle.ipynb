{
 "cells": [
  {
   "cell_type": "code",
   "execution_count": 1,
   "id": "07e2590b",
   "metadata": {},
   "outputs": [],
   "source": [
    "import pandas as pd\n",
    "import numpy as np\n",
    "\n",
    "import matplotlib.pyplot as plt\n",
    "import matplotlib.dates\n",
    "\n",
    "#import requests\n",
    "#import json\n",
    "from pathlib import Path\n",
    "import sys\n",
    "import pickle\n",
    "\n",
    "import time\n",
    "from datetime import datetime\n",
    "import datetime\n",
    "\n",
    "from sklearn.linear_model import LinearRegression\n",
    "from sklearn import metrics\n",
    "from sklearn.model_selection import train_test_split, cross_validate, cross_val_score, RandomizedSearchCV\n",
    "from sklearn.tree import DecisionTreeRegressor\n",
    "from sklearn.metrics import mean_squared_error, r2_score\n",
    "from sklearn import datasets, linear_model\n",
    "from sklearn.preprocessing import StandardScaler\n",
    "from sklearn.linear_model import Lasso\n",
    "from sklearn.tree import export_graphviz\n",
    "from sklearn.ensemble import RandomForestClassifier\n",
    "from sklearn.metrics import accuracy_score, confusion_matrix, precision_score, recall_score, ConfusionMatrixDisplay\n",
    "from sklearn.ensemble import RandomForestRegressor\n",
    "from sklearn import tree\n",
    "\n",
    "from scipy.stats import randint\n",
    "\n",
    "%matplotlib inline"
   ]
  },
  {
   "cell_type": "markdown",
   "id": "91c529fb",
   "metadata": {},
   "source": [
    "## Function to convert day number to day"
   ]
  },
  {
   "cell_type": "code",
   "execution_count": 2,
   "id": "c04688f0",
   "metadata": {},
   "outputs": [],
   "source": [
    "def convert_day(num):\n",
    "    if num == 1:\n",
    "        return 'Monday'\n",
    "    elif num == 2:\n",
    "        return 'Tuesday'\n",
    "    elif num == 3:\n",
    "        return 'Wednesday'\n",
    "    elif num == 4:\n",
    "        return 'Thursday'\n",
    "    elif num == 5:\n",
    "        return 'Friday'\n",
    "    elif num == 6:\n",
    "        return 'Saturday'\n",
    "    else:\n",
    "        return 'Sunday'"
   ]
  },
  {
   "cell_type": "markdown",
   "id": "b990ccde",
   "metadata": {},
   "source": [
    "## Function to convert Month number to Month"
   ]
  },
  {
   "cell_type": "code",
   "execution_count": 3,
   "id": "c9c4352d",
   "metadata": {},
   "outputs": [],
   "source": [
    "def convert_month(num):\n",
    "    if num == 1:\n",
    "        return 'January'\n",
    "    elif num == 2:\n",
    "        return 'February'\n",
    "    elif num == 3:\n",
    "        return 'March'\n",
    "    elif num == 4:\n",
    "        return 'April'\n",
    "    elif num == 5:\n",
    "        return 'May'\n",
    "    elif num == 6:\n",
    "        return 'June'\n",
    "    elif num == 7:\n",
    "        return 'July'\n",
    "    elif num == 8:\n",
    "        return 'August'\n",
    "    elif num == 9:\n",
    "        return 'September'\n",
    "    elif num == 10:\n",
    "        return 'October'\n",
    "    elif num == 11:\n",
    "        return 'November'\n",
    "    else:\n",
    "        return 'December'"
   ]
  },
  {
   "cell_type": "code",
   "execution_count": 4,
   "id": "8b25234a",
   "metadata": {},
   "outputs": [],
   "source": [
    "#path to files\n",
    "file_path_csv_weather = Path('C:\\\\Users\\\\corma\\\\Documents\\\\GitHub\\\\Dublin-Bikes-Helper\\\\MachineLearn_DBH\\\\weather_info_final.csv')\n",
    "file_path_csv_bike = Path('C:\\\\Users\\\\corma\\\\Documents\\\\GitHub\\\\Dublin-Bikes-Helper\\\\MachineLearn_DBH\\\\bike_info_final.csv')\n",
    "file_path_pickle = Path('C:\\\\Users\\\\corma\\\\Documents\\\\GitHub\\\\Dublin-Bikes-Helper\\\\MachineLearn_DBH\\\\Pickle Files\\\\')"
   ]
  },
  {
   "cell_type": "code",
   "execution_count": 5,
   "id": "9f1c8f5c",
   "metadata": {},
   "outputs": [],
   "source": [
    "#Read files\n",
    "df = pd.read_csv(file_path_csv_bike,index_col=False)\n",
    "dfw = pd.read_csv(file_path_csv_weather,index_col=False)"
   ]
  },
  {
   "cell_type": "markdown",
   "id": "5c8629ea",
   "metadata": {},
   "source": [
    "## Set up Time Parmeters - Bike and Weather"
   ]
  },
  {
   "cell_type": "code",
   "execution_count": 6,
   "id": "dc72a52b",
   "metadata": {},
   "outputs": [],
   "source": [
    "df[\"TIME\"] = pd.to_datetime(df[\"creat_time\"],format='%Y-%m-%d %H:%M:%S')\n",
    "df[\"YEAR\"] = df[\"TIME\"].dt.year\n",
    "df[\"MONTH\"] = df[\"TIME\"].dt.month\n",
    "df[\"DAY\"] = df['TIME'].dt.dayofweek\n",
    "df[\"DAY_num\"] = df[\"TIME\"].dt.day\n",
    "df[\"HOUR\"] = df[\"TIME\"].dt.hour\n",
    "df[\"MINUTE\"] = df[\"TIME\"].dt.minute"
   ]
  },
  {
   "cell_type": "code",
   "execution_count": 7,
   "id": "a6b393db",
   "metadata": {},
   "outputs": [],
   "source": [
    "df['TIME'] = df['TIME'].dt.round('H')"
   ]
  },
  {
   "cell_type": "code",
   "execution_count": 8,
   "id": "a823f109",
   "metadata": {},
   "outputs": [],
   "source": [
    "dfw[\"TIME\"] = pd.to_datetime(dfw[\"creat_time\"],format='%Y-%m-%d %H:%M:%S')\n",
    "dfw[\"sunrise\"] = pd.to_datetime(dfw[\"sunrise\"],format='%Y-%m-%d %H:%M:%S')\n",
    "dfw[\"sunset\"] = pd.to_datetime(dfw[\"sunset\"],format='%Y-%m-%d %H:%M:%S')\n",
    "\n",
    "dfw[\"YEAR\"] = dfw[\"TIME\"].dt.year\n",
    "col =np.array(dfw[\"YEAR\"],np.int64) #Converts float to int\n",
    "dfw[\"YEAR\"] = col #Converts float to int\n",
    "\n",
    "dfw[\"MONTH\"] = dfw[\"TIME\"].dt.month\n",
    "col =np.array(dfw[\"MONTH\"] ,np.int64)\n",
    "dfw[\"MONTH\"]  = col\n",
    "\n",
    "dfw['DAY'] = dfw['TIME'].dt.dayofweek\n",
    "col =np.array(dfw['DAY'],np.int64) \n",
    "dfw['DAY'] = col \n",
    "dfw[\"DAY_num\"] = dfw[\"TIME\"].dt.day\n",
    "col =np.array(dfw[\"DAY_num\"],np.int64)\n",
    "dfw[\"DAY_num\"] = col\n",
    "\n",
    "dfw[\"HOUR\"] = dfw[\"TIME\"].dt.hour\n",
    "col =np.array(dfw[\"HOUR\"] ,np.int64)\n",
    "dfw[\"HOUR\"]  = col\n",
    "\n",
    "dfw[\"MINUTE\"] = dfw[\"TIME\"].dt.minute\n",
    "col =np.array(dfw[\"MINUTE\"] ,np.int64)\n",
    "dfw[\"MINUTE\"] = col"
   ]
  },
  {
   "cell_type": "code",
   "execution_count": 9,
   "id": "873f260d",
   "metadata": {},
   "outputs": [],
   "source": [
    "dfw['TIME'] = dfw['TIME'].dt.round('H')\n",
    "#dfw['TIME'] .head()"
   ]
  },
  {
   "cell_type": "code",
   "execution_count": 10,
   "id": "b823182a",
   "metadata": {},
   "outputs": [],
   "source": [
    "df.loc[df['DAY'] == 0, 'DAY_name'] = 'Mon'  \n",
    "df.loc[df['DAY'] == 1, 'DAY_name'] = 'Tue'  \n",
    "df.loc[df['DAY'] == 2, 'DAY_name'] = 'Wed'  \n",
    "df.loc[df['DAY'] == 3, 'DAY_name'] = 'Thu'  \n",
    "df.loc[df['DAY'] == 4, 'DAY_name'] = 'Fri' \n",
    "df.loc[df['DAY'] == 5, 'DAY_name'] = 'Sat' \n",
    "df.loc[df['DAY'] == 6, 'DAY_name'] = 'Sun' \n",
    "#df[\"DAY_name\"].unique()"
   ]
  },
  {
   "cell_type": "code",
   "execution_count": 11,
   "id": "62ade5e1",
   "metadata": {},
   "outputs": [],
   "source": [
    "dfw.loc[df['DAY'] == 0, 'DAY_name'] = 'Mon'  \n",
    "dfw.loc[df['DAY'] == 1, 'DAY_name'] = 'Tue'  \n",
    "dfw.loc[df['DAY'] == 2, 'DAY_name'] = 'Wed'  \n",
    "dfw.loc[df['DAY'] == 3, 'DAY_name'] = 'Thu'  \n",
    "dfw.loc[df['DAY'] == 4, 'DAY_name'] = 'Fri' \n",
    "dfw.loc[df['DAY'] == 5, 'DAY_name'] = 'Sat' \n",
    "dfw.loc[df['DAY'] == 6, 'DAY_name'] = 'Sun' \n",
    "#dfw[\"DAY_name\"].unique()"
   ]
  },
  {
   "cell_type": "markdown",
   "id": "345c8d8c",
   "metadata": {},
   "source": [
    "## Create New Bike parameters "
   ]
  },
  {
   "cell_type": "code",
   "execution_count": 12,
   "id": "b2a2997f",
   "metadata": {},
   "outputs": [],
   "source": [
    "df['utilisation'] = df['bike_stand_available'] / df['bike_stand']\n",
    "#df['utilisation'].head()"
   ]
  },
  {
   "cell_type": "markdown",
   "id": "15b9b63f",
   "metadata": {},
   "source": [
    "## Set Up 3 lists to hold the R2 values of Training and Test Random Forest Models + StationID"
   ]
  },
  {
   "cell_type": "code",
   "execution_count": 13,
   "id": "37cea43a",
   "metadata": {},
   "outputs": [],
   "source": [
    "randommodel_mser_train_list = []\n",
    "randommodel_mser_test_list = []\n",
    "randommodel_stationid = []\n"
   ]
  },
  {
   "cell_type": "code",
   "execution_count": 14,
   "id": "267989ba",
   "metadata": {},
   "outputs": [],
   "source": [
    "month_num = 3 #Month\n",
    "day_num = 4 #Day of the week\n",
    "hour_num = 12 #Hour\n",
    "min_num = 15 #Minute pass the hour"
   ]
  },
  {
   "cell_type": "markdown",
   "id": "1789e1a5",
   "metadata": {},
   "source": [
    "## Convert Temperature to Celcius"
   ]
  },
  {
   "cell_type": "code",
   "execution_count": 15,
   "id": "443d03cb",
   "metadata": {},
   "outputs": [],
   "source": [
    "#Convert from Kelvin to Celcius\n",
    "dfw[\"tempcel\"] = dfw[\"temp\"]-273.15\n",
    "dfw[\"tempcel_feel\"] = dfw[\"temp_feel\"]-273.15"
   ]
  },
  {
   "cell_type": "markdown",
   "id": "dbac638e",
   "metadata": {},
   "source": [
    "## Create new column putting numerical values to weather_main"
   ]
  },
  {
   "cell_type": "code",
   "execution_count": 16,
   "id": "317e6cff",
   "metadata": {},
   "outputs": [
    {
     "data": {
      "text/plain": [
       "array([2, 4, 3, 5, 1, 6, 7], dtype=int64)"
      ]
     },
     "execution_count": 16,
     "metadata": {},
     "output_type": "execute_result"
    }
   ],
   "source": [
    "dfw['weather_main'].replace(['Clouds', 'Rain','Snow','Clear','Drizzle','Mist','Fog'],[2, 4,5,1,3,6,7], inplace=True)\n",
    "dfw[\"weather_main\"].unique()"
   ]
  },
  {
   "cell_type": "code",
   "execution_count": 17,
   "id": "2241e5e7",
   "metadata": {},
   "outputs": [
    {
     "data": {
      "text/plain": [
       "array([ 75,  20,  40, 100,   0,  79,  51,  83], dtype=int64)"
      ]
     },
     "execution_count": 17,
     "metadata": {},
     "output_type": "execute_result"
    }
   ],
   "source": [
    "dfw[\"clouds\"].unique()"
   ]
  },
  {
   "cell_type": "code",
   "execution_count": 18,
   "id": "724b2977",
   "metadata": {},
   "outputs": [
    {
     "data": {
      "text/plain": [
       "array([803, 500, 300, 801, 802, 501, 611, 601, 800, 520, 701, 521, 310,\n",
       "       600, 741, 502, 804], dtype=int64)"
      ]
     },
     "execution_count": 18,
     "metadata": {},
     "output_type": "execute_result"
    }
   ],
   "source": [
    "dfw[\"weather_id\"].unique()"
   ]
  },
  {
   "cell_type": "code",
   "execution_count": 19,
   "id": "fc191ae5",
   "metadata": {},
   "outputs": [
    {
     "data": {
      "text/plain": [
       "array([ 9.77, 10.8 ,  7.2 ,  2.06,  8.23,  2.57,  5.14,  6.69,  4.63,\n",
       "        5.66,  6.17, 11.32,  9.26,  8.75,  7.72,  4.12, 12.86,  3.09,\n",
       "        3.6 , 10.29,  1.54,  3.58,  5.81,  8.49,  2.68,  8.05,  7.6 ,\n",
       "        6.71,  8.94, 11.83,  4.92,  5.36,  4.02,  1.79, 13.38,  1.03,\n",
       "       10.28, 12.35,  7.15,  2.24,  6.26,  1.34,  4.47, 13.89,  3.13])"
      ]
     },
     "execution_count": 19,
     "metadata": {},
     "output_type": "execute_result"
    }
   ],
   "source": [
    "dfw[\"wind_speed\"].unique()"
   ]
  },
  {
   "cell_type": "code",
   "execution_count": 20,
   "id": "48191135",
   "metadata": {},
   "outputs": [
    {
     "data": {
      "text/plain": [
       "array([ 1.104e+01,  1.074e+01,  9.450e+00,  2.780e+00,  9.330e+00,\n",
       "        8.710e+00,  7.580e+00,  6.840e+00,  9.430e+00,  1.045e+01,\n",
       "        1.225e+01,  8.160e+00,  3.190e+00,  9.970e+00,  6.820e+00,\n",
       "        4.970e+00,  9.880e+00,  1.217e+01,  3.210e+00,  1.211e+01,\n",
       "        7.920e+00,  1.338e+01,  7.750e+00,  6.170e+00,  9.140e+00,\n",
       "        6.360e+00,  3.710e+00,  2.450e+00,  8.020e+00,  1.008e+01,\n",
       "        2.610e+00,  9.590e+00,  1.325e+01,  8.610e+00,  8.960e+00,\n",
       "        5.600e-01,  8.470e+00,  3.820e+00,  1.321e+01,  3.100e+00,\n",
       "        2.770e+00,  7.130e+00,  6.610e+00,  1.680e+00,  8.270e+00,\n",
       "        8.070e+00,  5.710e+00,  3.510e+00,  4.520e+00,  1.167e+01,\n",
       "        6.590e+00,  1.498e+01,  6.270e+00,  7.280e+00,  1.657e+01,\n",
       "        8.830e+00,  4.050e+00,  1.418e+01,  5.480e+00,  1.036e+01,\n",
       "        3.910e+00,  3.330e+00,  7.900e+00,  6.870e+00,  7.550e+00,\n",
       "        1.308e+01,  1.075e+01,  6.860e+00,  9.160e+00,  1.270e+01,\n",
       "        1.170e+01,  3.470e+00,  8.790e+00,  1.127e+01,  5.530e+00,\n",
       "        7.350e+00,  1.543e+01,  7.680e+00,  8.060e+00,  6.790e+00,\n",
       "        6.580e+00,  3.370e+00,  7.210e+00,  1.277e+01,  1.350e+00,\n",
       "        4.280e+00,  7.080e+00,  8.730e+00,  3.490e+00,  4.930e+00,\n",
       "        1.154e+01,  6.210e+00,  1.624e+01,  1.000e+00,  5.360e+00,\n",
       "        1.157e+01,  1.077e+01,  1.163e+01,  3.320e+00,  1.206e+01,\n",
       "        1.281e+01,  2.490e+00,  7.990e+00,  7.830e+00,  1.670e+00,\n",
       "        9.630e+00,  4.160e+00,  4.340e+00,  5.420e+00,  1.178e+01,\n",
       "        1.300e+01,  1.197e+01,  6.250e+00,  4.580e+00,  1.349e+01,\n",
       "        1.079e+01,  1.117e+01,  9.410e+00,  3.080e+00,  8.000e-01,\n",
       "        8.410e+00,  1.131e+01,  3.760e+00,  9.420e+00,  1.034e+01,\n",
       "        4.480e+00,  4.880e+00,  8.240e+00,  1.710e+00,  8.620e+00,\n",
       "        5.150e+00,  1.173e+01,  4.660e+00,  9.790e+00,  2.060e+00,\n",
       "        7.700e+00,  1.208e+01,  1.011e+01,  1.144e+01,  8.150e+00,\n",
       "        7.640e+00,  1.259e+01,  4.310e+00,  5.840e+00,  1.284e+01,\n",
       "        4.710e+00,  9.700e+00,  9.620e+00,  5.830e+00,  3.670e+00,\n",
       "        9.070e+00,  1.570e+00,  8.680e+00,  5.320e+00,  1.370e+00,\n",
       "        2.760e+00,  9.810e+00,  1.201e+01,  3.280e+00,  1.129e+01,\n",
       "        1.556e+01,  2.500e+00,  5.700e+00,  4.400e-01,  7.360e+00,\n",
       "        1.102e+01,  1.140e+01,  1.054e+01,  1.389e+01,  3.620e+00,\n",
       "        1.425e+01,  1.037e+01,  5.680e+00,  7.500e+00,  9.350e+00,\n",
       "        1.493e+01,  9.710e+00,  3.660e+00,  1.598e+01,  7.840e+00,\n",
       "        1.183e+01,  1.103e+01,  1.155e+01,  1.254e+01,  1.009e+01,\n",
       "        2.270e+00,  1.235e+01,  5.310e+00,  7.370e+00,  2.530e+00,\n",
       "        9.280e+00,  5.260e+00,  9.570e+00,  5.820e+00,  8.430e+00,\n",
       "        1.086e+01,  7.800e-01,  1.186e+01,  9.960e+00,  1.880e+00,\n",
       "        1.341e+01,  8.640e+00,  2.720e+00,  1.438e+01,  4.170e+00,\n",
       "        1.149e+01,  4.380e+00,  7.200e-01,  1.023e+01,  9.090e+00,\n",
       "        1.035e+01,  1.202e+01,  2.630e+00,  2.090e+00,  2.170e+00,\n",
       "        1.014e+01,  1.033e+01,  5.380e+00,  1.250e+00,  6.380e+00,\n",
       "        7.110e+00,  3.530e+00,  8.500e+00,  7.180e+00,  2.680e+00,\n",
       "        1.400e+00,  2.360e+00,  1.215e+01,  1.312e+01,  9.660e+00,\n",
       "        1.016e+01,  1.099e+01,  6.330e+00,  9.310e+00,  1.000e+01,\n",
       "        7.770e+00,  4.320e+00,  5.640e+00,  5.570e+00,  1.191e+01,\n",
       "        5.660e+00,  1.459e+01,  5.720e+00,  1.297e+01,  5.430e+00,\n",
       "        7.560e+00,  5.600e+00,  1.125e+01,  1.145e+01,  1.249e+01,\n",
       "        7.530e+00,  7.630e+00,  8.330e+00,  9.800e+00,  1.590e+01,\n",
       "        1.592e+01,  1.164e+01,  1.310e+01,  6.900e-01,  9.300e+00,\n",
       "        1.172e+01,  6.740e+00,  8.810e+00,  7.810e+00,  1.088e+01,\n",
       "        1.067e+01,  1.043e+01,  8.300e+00,  1.253e+01,  7.540e+00,\n",
       "        9.550e+00,  1.180e+01,  1.248e+01,  1.141e+01, -5.200e-01,\n",
       "        6.160e+00,  1.451e+01,  6.340e+00,  1.073e+01,  6.100e+00,\n",
       "        1.580e+01,  5.090e+00,  1.048e+01,  1.286e+01,  3.360e+00,\n",
       "        9.690e+00,  1.161e+01,  7.270e+00,  1.179e+01, -2.300e-01,\n",
       "        3.250e+00,  9.750e+00,  2.860e+00,  1.339e+01,  5.630e+00,\n",
       "        7.000e-01,  1.038e+01,  6.650e+00,  3.170e+00,  3.990e+00,\n",
       "        9.500e+00,  1.084e+01,  8.930e+00,  2.870e+00,  5.080e+00,\n",
       "        8.630e+00,  1.107e+01,  1.337e+01,  5.000e+00,  1.152e+01,\n",
       "        1.007e+01,  1.130e+01,  7.380e+00,  2.100e-01,  1.137e+01,\n",
       "        1.192e+01,  1.078e+01,  1.770e+00,  1.160e+01,  8.050e+00,\n",
       "        1.026e+01,  1.272e+01,  9.230e+00,  8.350e+00,  9.850e+00,\n",
       "        1.288e+01,  5.450e+00,  8.400e+00,  3.890e+00,  3.750e+00,\n",
       "        5.370e+00,  9.390e+00,  8.110e+00,  2.000e-01,  5.290e+00,\n",
       "        2.510e+00,  1.480e+00,  4.560e+00,  1.180e+00,  1.176e+01,\n",
       "        8.800e+00,  8.550e+00,  7.300e+00,  1.121e+01,  1.205e+01,\n",
       "        2.280e+00,  7.120e+00,  1.240e+00,  1.189e+01,  1.441e+01,\n",
       "        7.690e+00,  1.004e+01,  3.410e+00,  1.625e+01,  1.357e+01,\n",
       "        8.040e+00,  2.810e+00,  5.220e+00,  6.200e+00,  8.500e-01,\n",
       "        1.018e+01,  5.470e+00,  4.370e+00, -1.900e-01,  1.508e+01,\n",
       "        4.350e+00,  8.450e+00,  4.260e+00,  9.930e+00,  1.407e+01,\n",
       "        8.380e+00,  1.264e+01,  7.230e+00,  7.960e+00,  6.320e+00,\n",
       "        7.910e+00,  1.108e+01,  1.233e+01,  5.460e+00,  1.053e+01,\n",
       "        8.520e+00,  6.550e+00,  3.690e+00,  1.128e+01,  5.750e+00,\n",
       "        1.199e+01,  1.649e+01,  1.015e+01,  7.720e+00,  1.184e+01,\n",
       "        7.790e+00,  1.060e+01,  5.300e+00,  9.560e+00,  7.670e+00,\n",
       "        1.194e+01,  6.460e+00,  1.525e+01,  3.790e+00,  1.529e+01,\n",
       "        8.750e+00,  8.000e+00,  1.200e+01,  1.436e+01,  1.319e+01,\n",
       "        1.039e+01,  7.940e+00,  5.340e+00,  4.070e+00,  6.730e+00,\n",
       "        1.187e+01,  1.106e+01,  3.300e+00,  1.368e+01,  1.051e+01,\n",
       "        2.400e+00,  7.490e+00,  9.190e+00,  1.296e+01,  1.091e+01,\n",
       "        4.670e+00,  1.072e+01,  2.380e+00,  8.770e+00,  5.100e-01,\n",
       "        5.400e-01,  9.030e+00,  6.470e+00,  2.320e+00,  5.540e+00,\n",
       "        1.509e+01,  5.950e+00,  9.370e+00,  1.012e+01,  4.940e+00,\n",
       "        7.850e+00,  7.100e+00,  7.870e+00,  1.335e+01,  4.470e+00,\n",
       "        8.180e+00,  4.900e+00,  1.456e+01,  7.250e+00,  1.243e+01,\n",
       "        8.460e+00,  3.290e+00,  8.590e+00,  3.130e+00,  1.021e+01,\n",
       "        1.760e+00,  7.000e-02,  6.400e-01,  1.171e+01,  1.003e+01,\n",
       "        6.800e+00,  1.460e+01,  5.780e+00,  2.550e+00,  4.740e+00,\n",
       "        1.900e+00,  4.900e-01,  9.540e+00, -2.900e-01,  2.960e+00,\n",
       "        6.530e+00,  1.100e+01,  8.920e+00,  4.000e-01,  6.410e+00,\n",
       "        1.223e+01,  6.400e+00,  8.880e+00,  1.123e+01,  5.870e+00,\n",
       "        3.630e+00,  5.350e+00,  9.080e+00,  1.220e+01,  6.980e+00,\n",
       "        8.720e+00,  8.290e+00,  3.350e+00,  9.900e+00,  1.083e+01,\n",
       "        9.520e+00,  1.475e+01,  1.580e+00,  8.390e+00,  8.100e+00,\n",
       "        9.380e+00,  9.610e+00,  4.570e+00,  5.030e+00,  3.020e+00,\n",
       "        1.258e+01,  1.110e+01,  1.566e+01,  3.200e+00,  1.228e+01,\n",
       "        6.800e-01,  6.810e+00,  1.549e+01,  7.620e+00,  1.098e+01,\n",
       "        1.244e+01,  8.990e+00,  5.620e+00,  9.180e+00,  6.440e+00,\n",
       "        9.920e+00,  7.290e+00,  9.990e+00,  5.860e+00,  1.032e+01,\n",
       "        1.530e+00,  4.680e+00,  5.280e+00,  1.166e+01,  9.490e+00,\n",
       "        2.420e+00,  5.390e+00,  1.623e+01,  1.234e+01,  1.227e+01,\n",
       "        5.500e+00,  1.431e+01,  1.159e+01,  1.306e+01,  1.487e+01,\n",
       "        1.492e+01,  3.430e+00,  1.089e+01,  3.960e+00,  1.230e+01,\n",
       "        9.510e+00,  1.024e+01,  4.240e+00,  1.119e+01,  3.050e+00,\n",
       "        1.635e+01,  6.950e+00,  1.148e+01,  1.193e+01,  7.050e+00,\n",
       "        9.270e+00,  5.120e+00,  1.342e+01,  1.660e+00,  3.440e+00,\n",
       "        8.850e+00,  4.620e+00,  5.000e-01,  1.239e+01,  1.488e+01,\n",
       "        1.122e+01,  5.880e+00,  7.460e+00,  6.140e+00,  5.890e+00,\n",
       "        5.670e+00,  9.780e+00,  1.527e+01,  6.000e+00,  7.150e+00,\n",
       "        4.800e+00,  3.420e+00, -3.600e-01,  1.219e+01,  1.177e+01,\n",
       "        9.120e+00,  4.600e+00,  9.770e+00,  1.066e+01,  1.501e+01,\n",
       "        6.540e+00,  1.207e+01,  9.640e+00,  5.590e+00,  1.280e+00,\n",
       "        2.700e+00,  3.780e+00,  7.470e+00,  5.440e+00,  1.046e+01,\n",
       "        1.126e+01,  1.120e+01,  1.138e+01,  4.800e-01,  1.115e+01,\n",
       "        1.439e+01,  7.300e-01,  1.218e+01,  5.490e+00,  3.340e+00,\n",
       "        9.670e+00,  9.580e+00,  9.940e+00,  8.870e+00,  1.094e+01,\n",
       "        8.740e+00,  1.212e+01,  1.114e+01,  1.383e+01,  5.980e+00,\n",
       "        1.257e+01,  1.393e+01,  1.344e+01,  4.290e+00,  8.660e+00,\n",
       "        1.158e+01,  8.440e+00,  1.120e+00,  7.390e+00,  1.010e+00,\n",
       "        1.076e+01,  1.860e+00,  9.040e+00,  2.260e+00,  1.251e+01,\n",
       "        4.850e+00,  1.142e+01,  1.381e+01,  6.450e+00,  1.162e+01,\n",
       "        9.740e+00,  1.265e+01,  4.540e+00,  3.270e+00,  4.500e+00,\n",
       "        7.590e+00,  5.610e+00,  1.055e+01,  7.320e+00,  1.630e+00,\n",
       "        1.093e+01,  8.120e+00,  1.010e+01,  9.340e+00,  7.440e+00,\n",
       "        8.530e+00,  2.000e+00,  1.276e+01,  1.188e+01,  7.010e+00,\n",
       "        7.260e+00,  1.175e+01,  8.650e+00,  1.502e+01,  3.500e+00,\n",
       "        5.850e+00,  7.950e+00,  7.880e+00,  1.396e+01,  1.165e+01,\n",
       "        1.005e+01,  8.670e+00,  4.600e-01,  8.080e+00,  9.010e+00,\n",
       "        2.740e+00,  9.820e+00,  1.355e+01,  6.960e+00,  1.541e+01,\n",
       "        3.400e+00,  1.081e+01,  2.800e-01,  5.700e-01,  9.110e+00,\n",
       "        3.810e+00,  6.180e+00,  1.111e+01,  6.700e+00,  1.494e+01,\n",
       "        6.430e+00,  1.280e+01,  9.440e+00,  1.044e+01,  3.870e+00,\n",
       "        2.690e+00,  8.310e+00,  1.470e+00,  1.423e+01,  4.590e+00,\n",
       "        1.213e+01,  1.429e+01,  1.360e+01,  4.990e+00,  3.640e+00,\n",
       "        2.430e+00,  1.200e+00,  8.190e+00,  3.590e+00,  1.209e+01,\n",
       "        1.185e+01,  8.280e+00,  6.690e+00,  1.506e+01,  1.474e+01,\n",
       "        1.237e+01,  4.650e+00,  7.930e+00,  3.180e+00,  9.100e+00,\n",
       "        7.570e+00,  4.980e+00,  8.940e+00,  1.174e+01,  1.109e+01,\n",
       "        4.630e+00,  9.730e+00,  1.413e+01,  1.116e+01,  1.358e+01,\n",
       "        8.360e+00,  1.279e+01,  7.430e+00,  1.124e+01,  6.110e+00,\n",
       "        5.520e+00,  8.370e+00,  1.041e+01,  5.010e+00,  1.700e-01,\n",
       "        1.340e+01,  6.420e+00,  9.360e+00,  2.100e+00,  5.990e+00,\n",
       "        1.101e+01,  1.542e+01,  1.150e+01,  3.570e+00,  6.970e+00,\n",
       "        7.100e-01,  6.850e+00,  1.096e+01,  1.182e+01,  7.160e+00,\n",
       "        1.061e+01,  6.920e+00, -7.300e-01,  6.220e+00,  1.133e+01,\n",
       "        1.069e+01,  8.820e+00,  1.049e+01,  1.531e+01,  6.780e+00,\n",
       "        1.528e+01,  9.910e+00,  1.025e+01,  1.295e+01,  9.830e+00,\n",
       "        1.323e+01,  4.730e+00,  4.300e-01,  5.560e+00,  3.240e+00,\n",
       "        4.190e+00,  1.132e+01,  1.062e+01,  7.040e+00, -1.600e-01,\n",
       "        4.830e+00,  6.900e+00,  1.169e+01,  1.139e+01,  7.760e+00,\n",
       "        4.550e+00,  4.210e+00,  2.440e+00,  7.420e+00,  7.090e+00,\n",
       "        1.247e+01,  2.880e+00,  2.940e+00,  7.190e+00,  1.087e+01,\n",
       "        1.366e+01,  2.050e+00,  1.063e+01,  7.800e+00,  5.060e+00,\n",
       "        5.250e+00,  4.110e+00,  7.030e+00,  2.020e+00,  7.480e+00,\n",
       "        8.950e+00,  4.790e+00,  1.210e+00,  1.268e+01,  1.057e+01,\n",
       "        4.020e+00,  8.570e+00,  7.970e+00,  1.263e+01,  1.340e+00,\n",
       "        4.430e+00,  6.680e+00, -2.800e-01,  1.440e+01,  8.220e+00,\n",
       "        1.050e+01,  8.200e-01,  8.800e-01,  4.700e+00,  9.680e+00,\n",
       "        3.150e+00,  1.950e+00,  1.468e+01,  3.880e+00,  1.260e+00,\n",
       "        1.466e+01,  2.000e-02,  1.017e+01,  1.222e+01,  1.221e+01,\n",
       "        8.580e+00,  9.260e+00,  5.400e+00,  1.135e+01,  1.910e+00,\n",
       "        1.300e+00,  8.200e+00,  1.472e+01,  1.029e+01,  1.147e+01,\n",
       "        3.480e+00,  3.900e+00,  1.365e+01,  7.900e-01,  1.920e+00,\n",
       "        1.840e+00,  1.275e+01,  1.204e+01,  8.490e+00,  1.597e+01,\n",
       "        1.477e+01,  1.146e+01,  6.990e+00,  6.940e+00, -5.100e-01,\n",
       "        5.230e+00,  1.273e+01,  9.130e+00,  4.860e+00,  6.660e+00,\n",
       "        7.200e+00,  1.269e+01,  6.310e+00,  6.600e-01,  6.500e-01,\n",
       "        3.310e+00,  4.460e+00,  1.289e+01, -1.200e-01,  4.960e+00,\n",
       "        1.082e+01,  5.940e+00,  6.670e+00,  1.790e+00,  1.348e+01,\n",
       "        1.190e+01,  4.130e+00,  6.520e+00,  4.870e+00,  9.460e+00,\n",
       "        1.266e+01,  6.510e+00,  7.310e+00,  6.040e+00,  9.720e+00,\n",
       "        8.900e+00,  3.040e+00,  1.006e+01,  4.150e+00,  1.002e+01,\n",
       "        5.500e-01,  4.450e+00,  6.890e+00,  6.620e+00,  1.271e+01,\n",
       "        5.200e+00,  1.473e+01,  1.022e+01,  1.097e+01,  1.317e+01,\n",
       "        9.000e-02,  6.630e+00, -3.900e-01,  1.290e+01,  1.420e+00,\n",
       "       -1.000e-02,  5.800e+00,  3.730e+00,  9.470e+00,  1.730e+00,\n",
       "        1.363e+01,  1.375e+01,  9.050e+00,  1.563e+01,  1.471e+01,\n",
       "        3.260e+00,  1.430e+01,  1.442e+01,  1.220e+00,  1.367e+01,\n",
       "        1.437e+01,  3.090e+00,  5.650e+00,  7.000e+00,  7.330e+00,\n",
       "        3.830e+00,  6.240e+00,  2.010e+00,  9.980e+00,  7.170e+00,\n",
       "        1.485e+01,  6.280e+00,  1.291e+01,  1.224e+01])"
      ]
     },
     "execution_count": 20,
     "metadata": {},
     "output_type": "execute_result"
    }
   ],
   "source": [
    "dfw[\"tempcel\"].unique()"
   ]
  },
  {
   "cell_type": "code",
   "execution_count": 21,
   "id": "6539441f",
   "metadata": {},
   "outputs": [
    {
     "data": {
      "text/plain": [
       "array([10.47,  9.96,  6.17, ..., 10.45, 11.93,  2.49])"
      ]
     },
     "execution_count": 21,
     "metadata": {},
     "output_type": "execute_result"
    }
   ],
   "source": [
    "dfw[\"tempcel_feel\"].unique()"
   ]
  },
  {
   "cell_type": "markdown",
   "id": "2815ca69",
   "metadata": {},
   "source": [
    "## Set up Search Parameters for Bike (Station ID, Month, Day, Hour, Bike Avail., Bike Park.) "
   ]
  },
  {
   "cell_type": "code",
   "execution_count": 22,
   "id": "2a7abbf2",
   "metadata": {},
   "outputs": [
    {
     "data": {
      "image/png": "[encoded data removed]",
      "text/plain": [
       "<Figure size 640x480 with 1 Axes>"
      ]
     },
     "metadata": {},
     "output_type": "display_data"
    }
   ],
   "source": [
    "req = 'b'\n",
    "\n",
    "#Station ID\n",
    "stationid = 23 #int(input(\"Enter Station ID (1 to 117): \"))\n",
    "stationname = df.loc[(df['number']==stationid),'name'].values[0]\n",
    "\n",
    "#Filter data based on certain input parameters\n",
    "df['station_select'] = (df['YEAR']==2023) & (df['MONTH']==month_num) & (df['DAY']==day_num-1) & (df['number']==stationid)\n",
    "\n",
    "## Set up x- and y-axis of Plot\n",
    "x =df['HOUR'].loc[df['station_select']]\n",
    "\n",
    "if req == 'b':\n",
    "    y = df['bike_available'].loc[df['station_select']]\n",
    "    #y_min = df['bike_available'].loc[df['station_select']].min()\n",
    "    #y_max = df['bike_available'].loc[df['station_select']].max()\n",
    "    \n",
    "    plt.ylabel(\"Bike Availability\")\n",
    "    plt.title(f'Likely Bike Availability \\nfor {stationname} \\non {convert_day(day_num-1)}')\n",
    "\n",
    "elif req == 'p':\n",
    "    y = df['bike_stand_available'].loc[df['station_select']]\n",
    "    plt.ylabel(\"Bike Parking Availability\")\n",
    "    plt.title(f'Likely Bike Parking Availability \\nfor {stationname} \\non {convert_day(day_num-1)}')\n",
    "\n",
    "#Set Up Plot\n",
    "plt.xlabel(\"Time (24 hours)\")\n",
    "ytick = np.array([0,2,4,6,8,10,12,14,16,18,20,22,24,26,28,30,32,34,36,38,40,42,44])\n",
    "xtick = np.array([0,4,8,12,16,20,24])\n",
    "plt.xticks(xtick)\n",
    "plt.yticks(ytick)\n",
    "plt.xlim(0,24)\n",
    "plt.bar(x,y)\n",
    "plt.scatter(x,y)\n",
    "plt.show()"
   ]
  },
  {
   "cell_type": "code",
   "execution_count": 23,
   "id": "75b44c5f",
   "metadata": {},
   "outputs": [],
   "source": [
    "#y_min.shape,x.shape,y.shape"
   ]
  },
  {
   "cell_type": "code",
   "execution_count": null,
   "id": "9506712d",
   "metadata": {},
   "outputs": [],
   "source": []
  },
  {
   "cell_type": "markdown",
   "id": "5daa9f53",
   "metadata": {},
   "source": [
    "## Combine the two dataframes - Bike & Weather"
   ]
  },
  {
   "cell_type": "code",
   "execution_count": 24,
   "id": "7cb88348",
   "metadata": {},
   "outputs": [
    {
     "data": {
      "text/plain": [
       "((821117, 21), (1678, 23))"
      ]
     },
     "execution_count": 24,
     "metadata": {},
     "output_type": "execute_result"
    }
   ],
   "source": [
    "df.shape,dfw.shape"
   ]
  },
  {
   "cell_type": "code",
   "execution_count": 25,
   "id": "c8804bea",
   "metadata": {},
   "outputs": [],
   "source": [
    "dfbikeweath = pd.merge(df, dfw, on='TIME', how='inner')\n",
    "\n",
    "#dfbikeweath = df.merge(dfw, on=\"TIME\")\n",
    "#dfbikeweath.shape"
   ]
  },
  {
   "cell_type": "markdown",
   "id": "972b99ef",
   "metadata": {},
   "source": [
    "## Split Data set to Train and Test sets"
   ]
  },
  {
   "cell_type": "code",
   "execution_count": 26,
   "id": "6c2f8360",
   "metadata": {},
   "outputs": [
    {
     "data": {
      "text/plain": [
       "((1312692, 43), (328174, 43))"
      ]
     },
     "execution_count": 26,
     "metadata": {},
     "output_type": "execute_result"
    }
   ],
   "source": [
    "train_set,test_set = train_test_split(dfbikeweath,test_size=0.2,random_state=42)\n",
    "train_set.shape,test_set.shape\n",
    "#train_set.describe()"
   ]
  },
  {
   "cell_type": "markdown",
   "id": "28507a81",
   "metadata": {},
   "source": [
    "## Create Model of Bike Availability by StationID (Y Axis) "
   ]
  },
  {
   "cell_type": "code",
   "execution_count": 27,
   "id": "d694e5ff",
   "metadata": {},
   "outputs": [
    {
     "data": {
      "text/plain": [
       "(11482,)"
      ]
     },
     "execution_count": 27,
     "metadata": {},
     "output_type": "execute_result"
    }
   ],
   "source": [
    "#stationid = 15\n",
    "#train_set['station_select'] = (train_set['YEAR_y']==2023) & (train_set['MONTH_y']==3) & (train_set['DAY_y']==3) & (train_set['number']==stationid)\n",
    "train_set['station_select'] = (train_set['YEAR_y']==2023) & (train_set['MONTH_y']==3) & (train_set['number']==stationid)\n",
    "y = train_set['bike_available'].loc[train_set['station_select']]\n",
    "y.shape"
   ]
  },
  {
   "cell_type": "markdown",
   "id": "b1dc7703",
   "metadata": {},
   "source": [
    "## Prepare Features "
   ]
  },
  {
   "cell_type": "code",
   "execution_count": 28,
   "id": "af89f3bd",
   "metadata": {},
   "outputs": [],
   "source": [
    "weather_features = ['weather_main','clouds','tempcel', 'weather_id', 'wind_speed','tempcel_feel']\n",
    "#bike_features = ['bike_stand']\n",
    "#time_features = ['HOUR_x','DAY_num_x','MINUTE_x','Day_of_Week_x']\n",
    "#all_features = ['weather_main','clouds','tempcel', 'weather_id', 'wind_speed','tempcel_feel','bike_stand','HOUR_x','DAY_num_x','MINUTE_x','Day_of_Week_x']\n",
    "\n",
    "features = weather_features"
   ]
  },
  {
   "cell_type": "markdown",
   "id": "9218e005",
   "metadata": {},
   "source": [
    "## Random Forest Model "
   ]
  },
  {
   "cell_type": "code",
   "execution_count": 29,
   "id": "f1548330",
   "metadata": {},
   "outputs": [],
   "source": [
    "y = train_set['bike_available'].loc[train_set['station_select']]\n",
    "X = train_set[features].loc[train_set['station_select']]\n",
    "randomforest = RandomForestRegressor()\n",
    "randomforest.fit(X, y)\n",
    "randomforest_predictions = randomforest.predict(X).round(0)\n",
    "\n",
    "#actual_vs_predicted_randomforest = pd.concat([y,pd.DataFrame(randomforest_predictions, columns=['Predicted'], index=y.index)], axis=1)\n",
    "#print(f\"\\nFor {stationname}: ---\")\n",
    "#actual_vs_predicted_randomforest"
   ]
  },
  {
   "cell_type": "markdown",
   "id": "3187c484",
   "metadata": {},
   "source": [
    "## Test the Models on the Test Data Set "
   ]
  },
  {
   "cell_type": "code",
   "execution_count": 30,
   "id": "e7988972",
   "metadata": {},
   "outputs": [
    {
     "name": "stdout",
     "output_type": "stream",
     "text": [
      "\n",
      "For CUSTOM HOUSE: ---\n"
     ]
    },
    {
     "data": {
      "text/html": [
       "<div>\n",
       "<style scoped>\n",
       "    .dataframe tbody tr th:only-of-type {\n",
       "        vertical-align: middle;\n",
       "    }\n",
       "\n",
       "    .dataframe tbody tr th {\n",
       "        vertical-align: top;\n",
       "    }\n",
       "\n",
       "    .dataframe thead th {\n",
       "        text-align: right;\n",
       "    }\n",
       "</style>\n",
       "<table border=\"1\" class=\"dataframe\">\n",
       "  <thead>\n",
       "    <tr style=\"text-align: right;\">\n",
       "      <th></th>\n",
       "      <th>bike_available</th>\n",
       "      <th>Model Predicted</th>\n",
       "    </tr>\n",
       "  </thead>\n",
       "  <tbody>\n",
       "    <tr>\n",
       "      <th>38849</th>\n",
       "      <td>13</td>\n",
       "      <td>14.0</td>\n",
       "    </tr>\n",
       "    <tr>\n",
       "      <th>772373</th>\n",
       "      <td>9</td>\n",
       "      <td>9.0</td>\n",
       "    </tr>\n",
       "    <tr>\n",
       "      <th>955688</th>\n",
       "      <td>21</td>\n",
       "      <td>21.0</td>\n",
       "    </tr>\n",
       "    <tr>\n",
       "      <th>1107521</th>\n",
       "      <td>20</td>\n",
       "      <td>20.0</td>\n",
       "    </tr>\n",
       "    <tr>\n",
       "      <th>274999</th>\n",
       "      <td>13</td>\n",
       "      <td>14.0</td>\n",
       "    </tr>\n",
       "    <tr>\n",
       "      <th>...</th>\n",
       "      <td>...</td>\n",
       "      <td>...</td>\n",
       "    </tr>\n",
       "    <tr>\n",
       "      <th>647997</th>\n",
       "      <td>17</td>\n",
       "      <td>16.0</td>\n",
       "    </tr>\n",
       "    <tr>\n",
       "      <th>1152700</th>\n",
       "      <td>10</td>\n",
       "      <td>11.0</td>\n",
       "    </tr>\n",
       "    <tr>\n",
       "      <th>1337575</th>\n",
       "      <td>14</td>\n",
       "      <td>13.0</td>\n",
       "    </tr>\n",
       "    <tr>\n",
       "      <th>500311</th>\n",
       "      <td>25</td>\n",
       "      <td>24.0</td>\n",
       "    </tr>\n",
       "    <tr>\n",
       "      <th>1137821</th>\n",
       "      <td>5</td>\n",
       "      <td>7.0</td>\n",
       "    </tr>\n",
       "  </tbody>\n",
       "</table>\n",
       "<p>2870 rows × 2 columns</p>\n",
       "</div>"
      ],
      "text/plain": [
       "         bike_available  Model Predicted\n",
       "38849                13             14.0\n",
       "772373                9              9.0\n",
       "955688               21             21.0\n",
       "1107521              20             20.0\n",
       "274999               13             14.0\n",
       "...                 ...              ...\n",
       "647997               17             16.0\n",
       "1152700              10             11.0\n",
       "1337575              14             13.0\n",
       "500311               25             24.0\n",
       "1137821               5              7.0\n",
       "\n",
       "[2870 rows x 2 columns]"
      ]
     },
     "execution_count": 30,
     "metadata": {},
     "output_type": "execute_result"
    }
   ],
   "source": [
    "test_set['station_select'] = (test_set['YEAR_y']==2023) & (test_set['MONTH_y']==3) & (test_set['number']==stationid)\n",
    "y_test = test_set['bike_available'].loc[test_set['station_select']]\n",
    "X_test = test_set[features].loc[test_set['station_select']]\n",
    "\n",
    "randomforest_predictions_test = randomforest.predict(X_test).round(0)\n",
    "actual_vs_predicted_randomforest_test = pd.concat([y_test,pd.DataFrame(randomforest_predictions_test, columns=['Model Predicted'], index=y_test.index)], axis=1)\n",
    "print(f\"\\nFor {stationname}: ---\")\n",
    "actual_vs_predicted_randomforest_test"
   ]
  },
  {
   "cell_type": "code",
   "execution_count": 31,
   "id": "4f45f188",
   "metadata": {},
   "outputs": [
    {
     "name": "stdout",
     "output_type": "stream",
     "text": [
      "Feature(s) are ['weather_main', 'clouds', 'tempcel', 'weather_id', 'wind_speed', 'tempcel_feel'] \n",
      "\n",
      "R2 of Random Tree Regression Model (for Training Data Set) = 1.68 \n",
      "                         versus:--- \n",
      "R2 of Random Tree Regression Model (for Test Data Set) = 1.88 \n",
      "\n"
     ]
    }
   ],
   "source": [
    "#R2 for Training Set Data\n",
    "randomforest_mse = mean_squared_error(y,randomforest_predictions)\n",
    "randomforest_mser = np.sqrt(randomforest_mse).round(2)\n",
    "\n",
    "#R2 for Test Set Data\n",
    "randomforest_mse_test = mean_squared_error(y_test,randomforest_predictions_test)\n",
    "randomforest_mser_test = np.sqrt(randomforest_mse_test).round(2)\n",
    "print(f'Feature(s) are {features} \\n\\nR2 of Random Tree Regression Model (for Training Data Set) = {randomforest_mser} ')\n",
    "print(f'                         versus:--- \\nR2 of Random Tree Regression Model (for Test Data Set) = {randomforest_mser_test} \\n')\n",
    "\n",
    "randommodel_mser_test_list.append(randomforest_mser_test)\n",
    "randommodel_mser_train_list.append(randomforest_mser)\n",
    "randommodel_stationid.append(stationid)"
   ]
  },
  {
   "cell_type": "code",
   "execution_count": 32,
   "id": "fb14068d",
   "metadata": {},
   "outputs": [
    {
     "name": "stdout",
     "output_type": "stream",
     "text": [
      "For station: 23 | R2 (Training) = 1.68 -- R2 (Test) = 1.88\n"
     ]
    }
   ],
   "source": [
    "for i in range(len(randommodel_stationid)):\n",
    "    print(f'For station: {randommodel_stationid[i]} | R2 (Training) = {randommodel_mser_train_list[i]} -- R2 (Test) = {randommodel_mser_test_list[i]}')"
   ]
  },
  {
   "cell_type": "markdown",
   "id": "20f865c3",
   "metadata": {},
   "source": [
    "## Write the model to a pickle file "
   ]
  },
  {
   "cell_type": "code",
   "execution_count": 33,
   "id": "5fd475cf",
   "metadata": {},
   "outputs": [
    {
     "name": "stdout",
     "output_type": "stream",
     "text": [
      "C:\\Users\\corma\\Documents\\GitHub\\Dublin-Bikes-Helper\\MachineLearn_DBH\\Pickle Files\\randomforest23_test.pkl\n"
     ]
    }
   ],
   "source": [
    "# Serialize model object (in this case Random Forest) into a file on disk using pickle\n",
    "filename = f'{file_path_pickle}\\\\randomforest{stationid}_test.pkl'\n",
    "print(filename)\n",
    "with open(filename, 'wb') as handle:\n",
    "    pickle.dump(randomforest, handle, pickle.HIGHEST_PROTOCOL)"
   ]
  },
  {
   "cell_type": "markdown",
   "id": "d1f71096",
   "metadata": {},
   "source": [
    "## Open Pickle File "
   ]
  },
  {
   "cell_type": "code",
   "execution_count": 34,
   "id": "5f747285",
   "metadata": {},
   "outputs": [
    {
     "data": {
      "text/plain": [
       "sklearn.ensemble._forest.RandomForestRegressor"
      ]
     },
     "execution_count": 34,
     "metadata": {},
     "output_type": "execute_result"
    }
   ],
   "source": [
    "model_results = pickle.load(open(filename,\"rb\"))\n",
    "type(model_results)"
   ]
  },
  {
   "cell_type": "markdown",
   "id": "ba682426",
   "metadata": {},
   "source": [
    "## Use Pickle File to make a prediction "
   ]
  },
  {
   "cell_type": "code",
   "execution_count": 35,
   "id": "3a33ee6e",
   "metadata": {},
   "outputs": [
    {
     "name": "stdout",
     "output_type": "stream",
     "text": [
      "\n",
      "For CUSTOM HOUSE: ---\n"
     ]
    },
    {
     "data": {
      "text/html": [
       "<div>\n",
       "<style scoped>\n",
       "    .dataframe tbody tr th:only-of-type {\n",
       "        vertical-align: middle;\n",
       "    }\n",
       "\n",
       "    .dataframe tbody tr th {\n",
       "        vertical-align: top;\n",
       "    }\n",
       "\n",
       "    .dataframe thead th {\n",
       "        text-align: right;\n",
       "    }\n",
       "</style>\n",
       "<table border=\"1\" class=\"dataframe\">\n",
       "  <thead>\n",
       "    <tr style=\"text-align: right;\">\n",
       "      <th></th>\n",
       "      <th>bike_available</th>\n",
       "      <th>Model Predicted</th>\n",
       "      <th>Pickle Predicted</th>\n",
       "    </tr>\n",
       "  </thead>\n",
       "  <tbody>\n",
       "    <tr>\n",
       "      <th>38849</th>\n",
       "      <td>13</td>\n",
       "      <td>14.0</td>\n",
       "      <td>14.0</td>\n",
       "    </tr>\n",
       "    <tr>\n",
       "      <th>772373</th>\n",
       "      <td>9</td>\n",
       "      <td>9.0</td>\n",
       "      <td>9.0</td>\n",
       "    </tr>\n",
       "    <tr>\n",
       "      <th>955688</th>\n",
       "      <td>21</td>\n",
       "      <td>21.0</td>\n",
       "      <td>21.0</td>\n",
       "    </tr>\n",
       "    <tr>\n",
       "      <th>1107521</th>\n",
       "      <td>20</td>\n",
       "      <td>20.0</td>\n",
       "      <td>20.0</td>\n",
       "    </tr>\n",
       "    <tr>\n",
       "      <th>274999</th>\n",
       "      <td>13</td>\n",
       "      <td>14.0</td>\n",
       "      <td>14.0</td>\n",
       "    </tr>\n",
       "    <tr>\n",
       "      <th>...</th>\n",
       "      <td>...</td>\n",
       "      <td>...</td>\n",
       "      <td>...</td>\n",
       "    </tr>\n",
       "    <tr>\n",
       "      <th>647997</th>\n",
       "      <td>17</td>\n",
       "      <td>16.0</td>\n",
       "      <td>16.0</td>\n",
       "    </tr>\n",
       "    <tr>\n",
       "      <th>1152700</th>\n",
       "      <td>10</td>\n",
       "      <td>11.0</td>\n",
       "      <td>11.0</td>\n",
       "    </tr>\n",
       "    <tr>\n",
       "      <th>1337575</th>\n",
       "      <td>14</td>\n",
       "      <td>13.0</td>\n",
       "      <td>13.0</td>\n",
       "    </tr>\n",
       "    <tr>\n",
       "      <th>500311</th>\n",
       "      <td>25</td>\n",
       "      <td>24.0</td>\n",
       "      <td>24.0</td>\n",
       "    </tr>\n",
       "    <tr>\n",
       "      <th>1137821</th>\n",
       "      <td>5</td>\n",
       "      <td>7.0</td>\n",
       "      <td>7.0</td>\n",
       "    </tr>\n",
       "  </tbody>\n",
       "</table>\n",
       "<p>2870 rows × 3 columns</p>\n",
       "</div>"
      ],
      "text/plain": [
       "         bike_available  Model Predicted  Pickle Predicted\n",
       "38849                13             14.0              14.0\n",
       "772373                9              9.0               9.0\n",
       "955688               21             21.0              21.0\n",
       "1107521              20             20.0              20.0\n",
       "274999               13             14.0              14.0\n",
       "...                 ...              ...               ...\n",
       "647997               17             16.0              16.0\n",
       "1152700              10             11.0              11.0\n",
       "1337575              14             13.0              13.0\n",
       "500311               25             24.0              24.0\n",
       "1137821               5              7.0               7.0\n",
       "\n",
       "[2870 rows x 3 columns]"
      ]
     },
     "execution_count": 35,
     "metadata": {},
     "output_type": "execute_result"
    }
   ],
   "source": [
    "test_set['station_select'] = (test_set['YEAR_y']==2023) & (test_set['MONTH_y']==3) & (test_set['number']==stationid)\n",
    "y_test = test_set['bike_available'].loc[test_set['station_select']]\n",
    "X_test = test_set[features].loc[test_set['station_select']]\n",
    "\n",
    "randomforest_pickle_predictions = model_results.predict(X_test).round(0)\n",
    "\n",
    "actual_vs_randomforest_vs_pickle_predictions = pd.concat([y_test,pd.DataFrame(randomforest_predictions_test, columns=['Model Predicted'], index=y_test.index),pd.DataFrame(randomforest_pickle_predictions, columns=['Pickle Predicted'], index=y_test.index)], axis=1)\n",
    "print(f\"\\nFor {stationname}: ---\")\n",
    "actual_vs_randomforest_vs_pickle_predictions"
   ]
  },
  {
   "cell_type": "code",
   "execution_count": 36,
   "id": "f6df277c",
   "metadata": {},
   "outputs": [
    {
     "name": "stdout",
     "output_type": "stream",
     "text": [
      "bike_available ['weather_id', 'weather_main'] ['wind_speed', 'clouds'] ['tempcel', 'tempcel_feel']\n"
     ]
    }
   ],
   "source": [
    "column_names = test_set.columns.values.tolist()\n",
    "print(column_names[6],column_names[24:26],column_names[28:30],column_names[-2:])\n",
    "#6,24,25,28,29,-2,-1"
   ]
  },
  {
   "cell_type": "code",
   "execution_count": 37,
   "id": "bca5f954",
   "metadata": {},
   "outputs": [
    {
     "name": "stdout",
     "output_type": "stream",
     "text": [
      "25 [500, 4] [5.14, 75] [3.2600000000000477, -0.9099999999999682]\n"
     ]
    }
   ],
   "source": [
    "#Input the Index number form Table above to check if gives the same predicted value\n",
    "row_list = test_set.loc[500311, :].values.flatten().tolist()\n",
    "print(row_list[6],row_list[24:26],row_list[28:30],row_list[-2:])"
   ]
  },
  {
   "cell_type": "code",
   "execution_count": 38,
   "id": "9c9a9419",
   "metadata": {},
   "outputs": [],
   "source": [
    "#StationID\n",
    "#web_stationid = 15\n",
    "\n",
    "#Day of the Week\n",
    "#web_day = 3\n",
    "\n",
    "#Hour of the Day\n",
    "#web_hour = 13\n",
    "  \n",
    "#Weather Data from the particular row selected above\n",
    "web_weather_main = row_list[25]\n",
    "web_clouds = row_list[29]\n",
    "web_tempcel = row_list[-2]\n",
    "weather_id = row_list[24]\n",
    "wind_speed = row_list[28]\n",
    "tempcel_feel = row_list[-1]"
   ]
  },
  {
   "cell_type": "code",
   "execution_count": 39,
   "id": "23bdf0ef",
   "metadata": {},
   "outputs": [],
   "source": [
    "X_web = [[web_weather_main,web_clouds,web_tempcel, weather_id, wind_speed,tempcel_feel]]"
   ]
  },
  {
   "cell_type": "code",
   "execution_count": 40,
   "id": "5a34e89d",
   "metadata": {},
   "outputs": [
    {
     "name": "stderr",
     "output_type": "stream",
     "text": [
      "C:\\Users\\corma\\anaconda3\\envs\\comp30830\\lib\\site-packages\\sklearn\\base.py:409: UserWarning: X does not have valid feature names, but RandomForestRegressor was fitted with feature names\n",
      "  warnings.warn(\n"
     ]
    }
   ],
   "source": [
    "y_web = model_results.predict(X_web)"
   ]
  },
  {
   "cell_type": "code",
   "execution_count": 41,
   "id": "bc08f027",
   "metadata": {},
   "outputs": [
    {
     "name": "stdout",
     "output_type": "stream",
     "text": [
      "24\n"
     ]
    }
   ],
   "source": [
    "print(int(y_web.round(0)))"
   ]
  },
  {
   "cell_type": "markdown",
   "id": "6b14dd5c",
   "metadata": {},
   "source": [
    "## Plot the Pickle File Predictions "
   ]
  },
  {
   "cell_type": "markdown",
   "id": "8dcac7f7",
   "metadata": {},
   "source": [
    "#Filter data based on certain input parameters\n",
    "df['station_select'] = (df['YEAR']==2023) & (df['MONTH']==month_num) & (df['DAY']==day_num-1) & (df['number']==stationid)\n",
    "\n",
    "## Set up x- and y-axis of Plot\n",
    "x =df['HOUR'].loc[df['station_select']]\n",
    "\n",
    "if req == 'b':\n",
    "    y = df['bike_available'].loc[df['station_select']]\n",
    "    plt.ylabel(\"Bike Availability\")\n",
    "    plt.title(f'Likely Bike Availability \\nfor {stationname} \\non {convert_day(day_num-1)}')\n",
    "\n",
    "elif req == 'p':\n",
    "    y = df['bike_stand_available'].loc[df['station_select']]\n",
    "    plt.ylabel(\"Bike Parking Availability\")\n",
    "    plt.title(f'Likely Bike Parking Availability \\nfor {stationname} \\non {convert_day(day_num-1)}')\n",
    "\n",
    "#Set Up Plot\n",
    "plt.xlabel(\"Time (24 hours)\")\n",
    "ytick = np.array([0,2,4,6,8,10,12,14,16,18,20,22,24,26,28,30,32,34,36,38,40,42,44])\n",
    "xtick = np.array([0,4,8,12,16,20,24])\n",
    "plt.xticks(xtick)\n",
    "plt.yticks(ytick)\n",
    "plt.xlim(0,24)\n",
    "plt.bar(x,y)\n",
    "plt.scatter(x,y)\n",
    "plt.show()"
   ]
  },
  {
   "cell_type": "code",
   "execution_count": null,
   "id": "7ea3f498",
   "metadata": {},
   "outputs": [],
   "source": []
  },
  {
   "cell_type": "code",
   "execution_count": null,
   "id": "b03cc314",
   "metadata": {},
   "outputs": [],
   "source": [
    "#stationid = 15\n",
    "#train_set['station_select'] = (train_set['YEAR_y']==2023) & (train_set['MONTH_y']==3) & (train_set['DAY_y']==3) & (train_set['number']==stationid)\n",
    "train_set['station_select'] = (train_set['YEAR_y']==2023) & (train_set['MONTH_y']==3) & (train_set['DAY_y']==3) & (train_set['number']==stationid)\n",
    "y = train_set['bike_available'].loc[train_set['station_select']]\n",
    "y.shape"
   ]
  },
  {
   "cell_type": "code",
   "execution_count": null,
   "id": "ff4aaae1",
   "metadata": {},
   "outputs": [],
   "source": []
  },
  {
   "cell_type": "code",
   "execution_count": null,
   "id": "1181924e",
   "metadata": {},
   "outputs": [],
   "source": []
  },
  {
   "cell_type": "code",
   "execution_count": null,
   "id": "8b94633c",
   "metadata": {},
   "outputs": [],
   "source": [
    "#Weather Data from the particular row selected above\n",
    "web_weather_main = row_list[25]\n",
    "web_clouds = row_list[29]\n",
    "web_tempcel = row_list[-2]\n",
    "weather_id = row_list[24]\n",
    "wind_speed = row_list[28]\n",
    "tempcel_feel = row_list[-1]"
   ]
  }
 ],
 "metadata": {
  "kernelspec": {
   "display_name": "Python 3 (ipykernel)",
   "language": "python",
   "name": "python3"
  },
  "language_info": {
   "codemirror_mode": {
    "name": "ipython",
    "version": 3
   },
   "file_extension": ".py",
   "mimetype": "text/x-python",
   "name": "python",
   "nbconvert_exporter": "python",
   "pygments_lexer": "ipython3",
   "version": "3.10.9"
  }
 },
 "nbformat": 4,
 "nbformat_minor": 5
}
