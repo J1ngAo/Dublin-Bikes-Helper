{
 "cells": [
  {
   "cell_type": "code",
   "execution_count": 4,
   "id": "0d4a5ae4",
   "metadata": {},
   "outputs": [],
   "source": [
    "import pickle\n",
    "import pandas as pd\n",
    "import numpy as np\n",
    "from sklearn.linear_model import LinearRegression\n",
    "from sklearn import datasets, linear_model\n",
    "from sklearn.metrics import mean_squared_error, r2_score\n",
    "\n",
    "\n",
    "#from joblib import dump, load dump(clf, 'filename.joblib') "
   ]
  },
  {
   "cell_type": "code",
   "execution_count": null,
   "id": "5ca8f49d",
   "metadata": {},
   "outputs": [],
   "source": [
    "X = get_features(station=station_id)\n",
    "y = get_availability(station=station_id)\n",
    "X_train, X_test, y_train, y_test = train_test_split(X, y)"
   ]
  },
  {
   "cell_type": "code",
   "execution_count": null,
   "id": "91dc7b6e",
   "metadata": {},
   "outputs": [],
   "source": [
    "# fit final model\n",
    "model[station_id] = LogisticRegression() # choose your own model here...\n",
    "model[station_id].fit(X_train, y_train)"
   ]
  },
  {
   "cell_type": "code",
   "execution_count": null,
   "id": "5e3c1f6a",
   "metadata": {},
   "outputs": [],
   "source": [
    "# evaluate..."
   ]
  },
  {
   "cell_type": "code",
   "execution_count": null,
   "id": "f8bc43a7",
   "metadata": {},
   "outputs": [],
   "source": [
    "# define one new instance\n",
    "xnew = [[date, time, wind, temp, ...]] # query features"
   ]
  },
  {
   "cell_type": "code",
   "execution_count": null,
   "id": "a987672f",
   "metadata": {},
   "outputs": [],
   "source": [
    "# make a prediction\n",
    "ynew = model[station_id].predict(xnew)\n",
    "print(\"X=%s, Predicted=%s\" % (xnew[0], ynew[0]))"
   ]
  },
  {
   "cell_type": "code",
   "execution_count": null,
   "id": "ffa40288",
   "metadata": {},
   "outputs": [],
   "source": [
    "# X_train and y_train are the training data\n",
    "model = LinearRegression()\n",
    "model.fit(x_train, y_train)\n",
    "\n",
    "# Serialize model object into a file called model.pkl on disk using pickle\n",
    "with open('model.pkl', 'wb') as handle:\n",
    "    pickle.dump(model, handle, pickle.HIGHEST_PROTOCOL)\n",
    "    \n",
    "# pickle.HIGHEST_PROTOCOL using the highest available protocol\n",
    "# (we used wb to open file as binary and use a higher pickling protocol)"
   ]
  },
  {
   "cell_type": "code",
   "execution_count": null,
   "id": "5bf41e99",
   "metadata": {},
   "outputs": [],
   "source": []
  },
  {
   "cell_type": "code",
   "execution_count": null,
   "id": "03f12d4a",
   "metadata": {},
   "outputs": [],
   "source": []
  }
 ],
 "metadata": {
  "kernelspec": {
   "display_name": "Python 3 (ipykernel)",
   "language": "python",
   "name": "python3"
  },
  "language_info": {
   "codemirror_mode": {
    "name": "ipython",
    "version": 3
   },
   "file_extension": ".py",
   "mimetype": "text/x-python",
   "name": "python",
   "nbconvert_exporter": "python",
   "pygments_lexer": "ipython3",
   "version": "3.10.9"
  }
 },
 "nbformat": 4,
 "nbformat_minor": 5
}
