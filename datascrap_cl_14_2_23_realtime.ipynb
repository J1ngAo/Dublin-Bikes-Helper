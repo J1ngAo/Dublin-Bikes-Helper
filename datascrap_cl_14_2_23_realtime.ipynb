{
 "cells": [
  {
   "cell_type": "markdown",
   "id": "5e90d7ad",
   "metadata": {},
   "source": [
    "# Data Scrapping - Reatime Data"
   ]
  },
  {
   "cell_type": "markdown",
   "id": "9b034b0a",
   "metadata": {},
   "source": [
    "GET https://api.jcdecaux.com/vls/v1/stations?contract={contract_name}&apiKey={api_key}"
   ]
  },
  {
   "cell_type": "code",
   "execution_count": 3,
   "id": "1a4af466",
   "metadata": {},
   "outputs": [
    {
     "name": "stdout",
     "output_type": "stream",
     "text": [
      "1.  403\n",
      "2.  403\n",
      "3.  403\n",
      "4.  403\n",
      "5.  403\n",
      "6.  400\n"
     ]
    }
   ],
   "source": [
    "import requests\n",
    "import json\n",
    "\n",
    "#apiK = '004cf9dced9bc8d383db556938be65d9449aeae2'\n",
    "apiK = 'fe03402bc0668202ca98a2dba4127a9af87048f9'\n",
    "\n",
    "parameters = {'contract':'team_16','api_key':apiK}\n",
    "#parameters = {'contract':'contract_name','api_key':apiK}\n",
    "#parameters = {'contract':'team_16','api_key':'fe03402bc0668202ca98a2dba4127a9af87048f9}\n",
    "#parameters = {'contract':'contract_name','api_key':'fe03402bc0668202ca98a2dba4127a9af87048f9'}\n",
    "\n",
    "dub_bike_response = requests.get('https://api.jcdecaux.com/vls/v1/stations?contract={team_16}&apiKey={apiK}')\n",
    "print(\"1. \",dub_bike_response.status_code)\n",
    "\n",
    "dub_bike_response = requests.get('https://api.jcdecaux.com/vls/v1/stations?contract={team_16}&apiKey={fe03402bc0668202ca98a2dba4127a9af87048f9}')\n",
    "print(\"2. \",dub_bike_response.status_code)\n",
    "\n",
    "dub_bike_response = requests.get('https://api.jcdecaux.com/vls/v1/stations?contract={contract_name}&apiKey={fe03402bc0668202ca98a2dba4127a9af87048f9}')\n",
    "print(\"3. \",dub_bike_response.status_code)\n",
    "\n",
    "dub_bike_response = requests.get('https://api.jcdecaux.com/vls/v1/stations', params=parameters)\n",
    "print(\"4. \",dub_bike_response.status_code)\n",
    "\n",
    "dub_bike_response = requests.get('https://api.jcdecaux.com/vls/v1/stations?contract=contract_name&apiKey=apiK')\n",
    "print(\"5. \",dub_bike_response.status_code)\n",
    "\n",
    "dub_bike_response = requests.get('https://api.jcdecaux.com/vls/v1/stations?contract=team_16&apiKey=fe03402bc0668202ca98a2dba4127a9af87048f9')\n",
    "print(\"6. \",dub_bike_response.status_code)"
   ]
  },
  {
   "cell_type": "code",
   "execution_count": 152,
   "id": "b24c4e62",
   "metadata": {},
   "outputs": [
    {
     "data": {
      "text/plain": [
       "'application/json'"
      ]
     },
     "execution_count": 152,
     "metadata": {},
     "output_type": "execute_result"
    }
   ],
   "source": [
    "#Checks content type\n",
    "dub_bike_response.headers['Content-Type']"
   ]
  },
  {
   "cell_type": "code",
   "execution_count": 153,
   "id": "768bd600",
   "metadata": {},
   "outputs": [
    {
     "name": "stdout",
     "output_type": "stream",
     "text": [
      "{'error': 'Unauthorized'}\n"
     ]
    }
   ],
   "source": [
    "dub_bike_response = dub_bike_response.json()\n",
    "print(dub_bike_response)\n",
    "#bike_data = dub_bike_response.text\n",
    "#parse_json = json.loads(bike_data)\n",
    "#parse_json"
   ]
  },
  {
   "cell_type": "code",
   "execution_count": null,
   "id": "5823c6bc",
   "metadata": {},
   "outputs": [],
   "source": []
  },
  {
   "cell_type": "code",
   "execution_count": null,
   "id": "63f5ddfc",
   "metadata": {},
   "outputs": [],
   "source": []
  },
  {
   "cell_type": "code",
   "execution_count": null,
   "id": "4a51cae6",
   "metadata": {},
   "outputs": [],
   "source": []
  }
 ],
 "metadata": {
  "kernelspec": {
   "display_name": "Python 3 (ipykernel)",
   "language": "python",
   "name": "python3"
  },
  "language_info": {
   "codemirror_mode": {
    "name": "ipython",
    "version": 3
   },
   "file_extension": ".py",
   "mimetype": "text/x-python",
   "name": "python",
   "nbconvert_exporter": "python",
   "pygments_lexer": "ipython3",
   "version": "3.10.9"
  }
 },
 "nbformat": 4,
 "nbformat_minor": 5
}
