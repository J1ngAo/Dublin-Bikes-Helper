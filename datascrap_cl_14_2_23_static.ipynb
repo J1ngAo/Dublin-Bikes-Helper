{
 "cells": [
  {
   "cell_type": "markdown",
   "id": "110cce01",
   "metadata": {},
   "source": [
    "# Data Scrapping - Static Data"
   ]
  },
  {
   "cell_type": "code",
   "execution_count": 2,
   "id": "abb7de24",
   "metadata": {},
   "outputs": [],
   "source": [
    "import requests\n",
    "import pandas as pd\n",
    "from bs4 import BeautifulSoup\n",
    "import json"
   ]
  },
  {
   "cell_type": "code",
   "execution_count": 9,
   "id": "c7b6d409",
   "metadata": {},
   "outputs": [],
   "source": [
    "df = pd.read_csv(\"C:/Users/corma/Desktop/Software Eng/dublin1.csv\")"
   ]
  },
  {
   "cell_type": "code",
   "execution_count": 10,
   "id": "2512c861",
   "metadata": {},
   "outputs": [
    {
     "name": "stdout",
     "output_type": "stream",
     "text": [
      "(114, 7)\n",
      "   Number                  Name               Address     Latitude  \\\n",
      "0      42      SMITHFIELD NORTH      Smithfield North    53.349562   \n",
      "1      30  PARNELL SQUARE NORTH  Parnell Square North  53.35374155   \n",
      "2      54        CLONMEL STREET        Clonmel Street    53.336021   \n",
      "3     108         AVONDALE ROAD         Avondale Road    53.359405   \n",
      "4      20     JAMES STREET EAST     James Street East    53.336597   \n",
      "5      56    MOUNT STREET LOWER    Mount Street Lower     53.33796   \n",
      "6       6    CHRISTCHURCH PLACE    Christchurch Place    53.343368   \n",
      "7      18       GRANTHAM STREET       Grantham Street    53.334123   \n",
      "8      32         PEARSE STREET         Pearse Street    53.344304   \n",
      "9      52      YORK STREET EAST      York Street East    53.338755   \n",
      "\n",
      "      Longitude  Unnamed: 5  Unnamed: 6  \n",
      "0     -6.278198         NaN         NaN  \n",
      "1  -6.265301448         NaN         NaN  \n",
      "2      -6.26298         NaN         NaN  \n",
      "3     -6.276142         NaN         NaN  \n",
      "4     -6.248109         NaN         NaN  \n",
      "5      -6.24153         NaN         NaN  \n",
      "6      -6.27012         NaN         NaN  \n",
      "7     -6.265436         NaN         NaN  \n",
      "8     -6.250427         NaN         NaN  \n",
      "9     -6.262003         NaN         NaN  \n",
      "     Number                        Name                     Address  \\\n",
      "104       3               BOLTON STREET               Bolton Street   \n",
      "105      40               JERVIS STREET               Jervis Street   \n",
      "106      29           ORMOND QUAY UPPER           Ormond Quay Upper   \n",
      "107     103  GRANGEGORMAN LOWER (SOUTH)  Grangegorman Lower (South)   \n",
      "108      28        MOUNTJOY SQUARE WEST        Mountjoy Square West   \n",
      "109      39              WILTON TERRACE              Wilton Terrace   \n",
      "110      83                  EMMET ROAD                  Emmet Road   \n",
      "111      92      HEUSTON BRIDGE (NORTH)      Heuston Bridge (North)   \n",
      "112      21       LEINSTER STREET SOUTH       Leinster Street South   \n",
      "113      88             BLACKHALL PLACE             Blackhall Place   \n",
      "\n",
      "      Latitude  Longitude  Unnamed: 5  Unnamed: 6  \n",
      "104  53.351182  -6.269859         NaN         NaN  \n",
      "105    53.3483  -6.266651         NaN         NaN  \n",
      "106  53.346057  -6.268001         NaN         NaN  \n",
      "107  53.354663  -6.278681         NaN         NaN  \n",
      "108  53.356299  -6.258586         NaN         NaN  \n",
      "109  53.332383  -6.252717         NaN         NaN  \n",
      "110  53.340714  -6.308191         NaN         NaN  \n",
      "111  53.347802  -6.292432         NaN         NaN  \n",
      "112   53.34218  -6.254485         NaN         NaN  \n",
      "113    53.3488  -6.281637         NaN         NaN  \n"
     ]
    }
   ],
   "source": [
    "print(df.shape)\n",
    "print(df.head(10))\n",
    "print(df.tail(10))"
   ]
  },
  {
   "cell_type": "code",
   "execution_count": null,
   "id": "a6b8d8a7",
   "metadata": {},
   "outputs": [],
   "source": []
  }
 ],
 "metadata": {
  "kernelspec": {
   "display_name": "Python 3 (ipykernel)",
   "language": "python",
   "name": "python3"
  },
  "language_info": {
   "codemirror_mode": {
    "name": "ipython",
    "version": 3
   },
   "file_extension": ".py",
   "mimetype": "text/x-python",
   "name": "python",
   "nbconvert_exporter": "python",
   "pygments_lexer": "ipython3",
   "version": "3.10.9"
  }
 },
 "nbformat": 4,
 "nbformat_minor": 5
}
