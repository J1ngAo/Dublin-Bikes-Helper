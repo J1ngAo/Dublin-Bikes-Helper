{
 "cells": [
  {
   "cell_type": "markdown",
   "id": "5e90d7ad",
   "metadata": {},
   "source": [
    "# Data Scrapping - Reatime Data"
   ]
  },
  {
   "cell_type": "markdown",
   "id": "83b773b0",
   "metadata": {},
   "source": [
    "GET https://api.jcdecaux.com/vls/v1/stations?contract=dublin&apiKey=ENTER_API_KEY_HERE"
   ]
  },
  {
   "cell_type": "code",
   "execution_count": 2,
   "id": "1a4af466",
   "metadata": {},
   "outputs": [],
   "source": [
    "import pandas as pd\n",
    "import requests\n",
    "import json\n",
    "import time\n",
    "from datetime import datetime\n",
    "import traceback\n",
    "import codecs\n"
   ]
  },
  {
   "cell_type": "code",
   "execution_count": null,
   "id": "c7285e51",
   "metadata": {},
   "outputs": [],
   "source": [
    "while True:\n",
    "    try:\n",
    "        re = requests.get('https://api.jcdecaux.com/vls/v1/stations?contract=dublin&apiKey=fe03402bc0668202ca98a2dba4127a9af87048f9')\n",
    "        dub_bike = json.loads(re.text)\n",
    "        with open('C:/Users/corma/anaconda3/softwareeng/realtime_bike_data.json','a') as f:\n",
    "            json.dump(dub_bike,f)\n",
    "        \n",
    "        now = datetime.now()\n",
    "        check = \"\\nDate and Time \" + str(now) + \" |  Status Code \" + str(re.status_code)\n",
    "        with open('C:/Users/corma/anaconda3/softwareeng/check_data.txt','a') as f:\n",
    "            f.write(check) \n",
    "        \n",
    "        time.sleep(5*60)\n",
    "    \n",
    "    except Exception:\n",
    "        trace = traceback.format_exc()\n",
    "        with open('C:/Users/corma/anaconda3/softwareeng/traceback_data.txt','a') as f:\n",
    "            f.write(trace)    "
   ]
  },
  {
   "cell_type": "code",
   "execution_count": null,
   "id": "b2003614",
   "metadata": {},
   "outputs": [],
   "source": [
    "with open('C:/Users/corma/anaconda3/softwareeng/realtime_bike_data.txt','r') as f:\n",
    "    x = f.read()\n",
    "print(type(x))"
   ]
  },
  {
   "cell_type": "code",
   "execution_count": null,
   "id": "4a51cae6",
   "metadata": {},
   "outputs": [],
   "source": [
    "#df = pd.read_json(codecs.open(\"C:/Users/corma/anaconda3/softwareeng/realtime_bike_data.json\", \"r\",\"utf-8\"),lines=True)\n",
    "#df = pd.read_json(open(\"C:/Users/corma/anaconda3/softwareeng/realtime_bike_data.json\",\"r\"),lines=True)\n",
    "#print(df)"
   ]
  },
  {
   "cell_type": "code",
   "execution_count": null,
   "id": "75c61a99",
   "metadata": {},
   "outputs": [],
   "source": [
    "#print(x)"
   ]
  },
  {
   "cell_type": "code",
   "execution_count": null,
   "id": "a4d3c318",
   "metadata": {},
   "outputs": [],
   "source": [
    "#df.shape"
   ]
  },
  {
   "cell_type": "code",
   "execution_count": null,
   "id": "0adb6bd3",
   "metadata": {},
   "outputs": [],
   "source": []
  }
 ],
 "metadata": {
  "kernelspec": {
   "display_name": "Python 3 (ipykernel)",
   "language": "python",
   "name": "python3"
  },
  "language_info": {
   "codemirror_mode": {
    "name": "ipython",
    "version": 3
   },
   "file_extension": ".py",
   "mimetype": "text/x-python",
   "name": "python",
   "nbconvert_exporter": "python",
   "pygments_lexer": "ipython3",
   "version": "3.9.7"
  }
 },
 "nbformat": 4,
 "nbformat_minor": 5
}
