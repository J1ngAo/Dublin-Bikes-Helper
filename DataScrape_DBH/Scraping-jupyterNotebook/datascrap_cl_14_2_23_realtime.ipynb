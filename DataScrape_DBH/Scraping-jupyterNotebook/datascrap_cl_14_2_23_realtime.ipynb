{
 "cells": [
  {
   "cell_type": "markdown",
   "id": "5e90d7ad",
   "metadata": {},
   "source": [
    "# Data Scrapping - Reatime Data"
   ]
  },
  {
   "cell_type": "markdown",
   "id": "83b773b0",
   "metadata": {},
   "source": [
    "GET https://api.jcdecaux.com/vls/v1/stations?contract=dublin&apiKey=ENTER_API_KEY_HERE"
   ]
  },
  {
   "cell_type": "code",
   "execution_count": 92,
   "id": "1a4af466",
   "metadata": {},
   "outputs": [
    {
     "name": "stdout",
     "output_type": "stream",
     "text": [
      "200\n"
     ]
    }
   ],
   "source": [
    "import requests\n",
    "import json\n",
    "from bs4 import BeautifulSoup\n",
    "import pandas as pd\n",
    "\n",
    "dub_bike_response = requests.get('https://api.jcdecaux.com/vls/v1/stations?contract=dublin&apiKey=004cf9dced9bc8d383db556938be65d9449aeae2')\n",
    "print(dub_bike_response.status_code)"
   ]
  },
  {
   "cell_type": "code",
   "execution_count": 93,
   "id": "b24c4e62",
   "metadata": {},
   "outputs": [],
   "source": [
    "#Checks content type\n",
    "#dub_bike_response.headers['Content-Type']"
   ]
  },
  {
   "cell_type": "code",
   "execution_count": 94,
   "id": "768bd600",
   "metadata": {},
   "outputs": [],
   "source": [
    "dub_bike_response = dub_bike_response.json()\n",
    "#print(dub_bike_response)"
   ]
  },
  {
   "cell_type": "code",
   "execution_count": 95,
   "id": "5823c6bc",
   "metadata": {},
   "outputs": [],
   "source": [
    "#for x in dub_bike_response:\n",
    "   #print(x)"
   ]
  },
  {
   "cell_type": "code",
   "execution_count": 96,
   "id": "c39daa98",
   "metadata": {},
   "outputs": [],
   "source": [
    "with open(\"json_bike.json\", \"w\") as outfile:\n",
    "    json.dump(dub_bike_response,outfile)"
   ]
  },
  {
   "cell_type": "code",
   "execution_count": 97,
   "id": "fe1da81b",
   "metadata": {},
   "outputs": [],
   "source": [
    "#for x in json_bike.json:\n",
    "  # print(x)"
   ]
  },
  {
   "cell_type": "code",
   "execution_count": 98,
   "id": "b8fed773",
   "metadata": {},
   "outputs": [
    {
     "name": "stdout",
     "output_type": "stream",
     "text": [
      "[{'number': 42, 'contract_name': 'dublin', 'name': 'SMITHFIELD NORTH', 'address': 'Smithfield North', 'position': {'lat': 53.349562, 'lng': -6.278198}, 'banking': False, 'bonus': False, 'bike_stands': 30, 'available_bike_stands': 6, 'available_bikes': 24, 'status': 'OPEN', 'last_update': 1676716676000}, {'number': 30, 'contract_name': 'dublin', 'name': 'PARNELL SQUARE NORTH', 'address': 'Parnell Square North', 'position': {'lat': 53.3537415547453, 'lng': -6.26530144781526}, 'banking': False, 'bonus': False, 'bike_stands': 20, 'available_bike_stands': 17, 'available_bikes': 3, 'status': 'OPEN', 'last_update': 1676716498000}, {'number': 54, 'contract_name': 'dublin', 'name': 'CLONMEL STREET', 'address': 'Clonmel Street', 'position': {'lat': 53.336021, 'lng': -6.26298}, 'banking': False, 'bonus': False, 'bike_stands': 33, 'available_bike_stands': 32, 'available_bikes': 1, 'status': 'OPEN', 'last_update': 1676716980000}, {'number': 108, 'contract_name': 'dublin', 'name': 'AVONDALE ROAD', 'address': 'Avondale Road', 'position': {'lat': 53.359405, 'lng': -6.276142}, 'banking': False, 'bonus': False, 'bike_stands': 35, 'available_bike_stands': 30, 'available_bikes': 5, 'status': 'OPEN', 'last_update': 1676716608000}, {'number': 20, 'contract_name': 'dublin', 'name': 'JAMES STREET EAST', 'address': 'James Street East', 'position': {'lat': 53.336597, 'lng': -6.248109}, 'banking': False, 'bonus': False, 'bike_stands': 30, 'available_bike_stands': 29, 'available_bikes': 1, 'status': 'OPEN', 'last_update': 1676716725000}, {'number': 56, 'contract_name': 'dublin', 'name': 'MOUNT STREET LOWER', 'address': 'Mount Street Lower', 'position': {'lat': 53.33796, 'lng': -6.24153}, 'banking': False, 'bonus': False, 'bike_stands': 40, 'available_bike_stands': 38, 'available_bikes': 2, 'status': 'OPEN', 'last_update': 1676717027000}, {'number': 6, 'contract_name': 'dublin', 'name': 'CHRISTCHURCH PLACE', 'address': 'Christchurch Place', 'position': {'lat': 53.343368, 'lng': -6.27012}, 'banking': False, 'bonus': False, 'bike_stands': 20, 'available_bike_stands': 4, 'available_bikes': 16, 'status': 'OPEN', 'last_update': 1676716575000}, {'number': 18, 'contract_name': 'dublin', 'name': 'GRANTHAM STREET', 'address': 'Grantham Street', 'position': {'lat': 53.334123, 'lng': -6.265436}, 'banking': False, 'bonus': False, 'bike_stands': 30, 'available_bike_stands': 17, 'available_bikes': 13, 'status': 'OPEN', 'last_update': 1676716824000}, {'number': 32, 'contract_name': 'dublin', 'name': 'PEARSE STREET', 'address': 'Pearse Street', 'position': {'lat': 53.344304, 'lng': -6.250427}, 'banking': False, 'bonus': False, 'bike_stands': 30, 'available_bike_stands': 15, 'available_bikes': 15, 'status': 'OPEN', 'last_update': 1676716463000}, {'number': 52, 'contract_name': 'dublin', 'name': 'YORK STREET EAST', 'address': 'York Street East', 'position': {'lat': 53.338755, 'lng': -6.262003}, 'banking': False, 'bonus': False, 'bike_stands': 32, 'available_bike_stands': 19, 'available_bikes': 13, 'status': 'OPEN', 'last_update': 1676716969000}, {'number': 48, 'contract_name': 'dublin', 'name': 'EXCISE WALK', 'address': 'Excise Walk', 'position': {'lat': 53.347777, 'lng': -6.244239}, 'banking': False, 'bonus': False, 'bike_stands': 40, 'available_bike_stands': 36, 'available_bikes': 4, 'status': 'OPEN', 'last_update': 1676716807000}, {'number': 13, 'contract_name': 'dublin', 'name': 'FITZWILLIAM SQUARE WEST', 'address': 'Fitzwilliam Square West', 'position': {'lat': 53.336074, 'lng': -6.252825}, 'banking': False, 'bonus': False, 'bike_stands': 30, 'available_bike_stands': 30, 'available_bikes': 0, 'status': 'OPEN', 'last_update': 1676716855000}, {'number': 43, 'contract_name': 'dublin', 'name': 'PORTOBELLO ROAD', 'address': 'Portobello Road', 'position': {'lat': 53.330091, 'lng': -6.268044}, 'banking': False, 'bonus': False, 'bike_stands': 30, 'available_bike_stands': 27, 'available_bikes': 3, 'status': 'OPEN', 'last_update': 1676716871000}, {'number': 31, 'contract_name': 'dublin', 'name': 'PARNELL STREET', 'address': 'Parnell Street', 'position': {'lat': 53.350929, 'lng': -6.265125}, 'banking': False, 'bonus': False, 'bike_stands': 20, 'available_bike_stands': 6, 'available_bikes': 14, 'status': 'OPEN', 'last_update': 1676716670000}, {'number': 98, 'contract_name': 'dublin', 'name': 'FREDERICK STREET SOUTH', 'address': 'Frederick Street South', 'position': {'lat': 53.341515, 'lng': -6.256853}, 'banking': False, 'bonus': False, 'bike_stands': 40, 'available_bike_stands': 34, 'available_bikes': 6, 'status': 'OPEN', 'last_update': 1676716854000}, {'number': 14, 'contract_name': 'dublin', 'name': 'FOWNES STREET UPPER', 'address': 'Fownes Street Upper', 'position': {'lat': 53.344603, 'lng': -6.263371}, 'banking': False, 'bonus': False, 'bike_stands': 30, 'available_bike_stands': 4, 'available_bikes': 26, 'status': 'OPEN', 'last_update': 1676716602000}, {'number': 1, 'contract_name': 'dublin', 'name': 'CLARENDON ROW', 'address': 'Clarendon Row', 'position': {'lat': 53.340927, 'lng': -6.262501}, 'banking': False, 'bonus': False, 'bike_stands': 31, 'available_bike_stands': 4, 'available_bikes': 27, 'status': 'OPEN', 'last_update': 1676717038000}, {'number': 23, 'contract_name': 'dublin', 'name': 'CUSTOM HOUSE', 'address': 'Custom House', 'position': {'lat': 53.348279, 'lng': -6.254662}, 'banking': False, 'bonus': False, 'bike_stands': 30, 'available_bike_stands': 5, 'available_bikes': 25, 'status': 'OPEN', 'last_update': 1676716544000}, {'number': 106, 'contract_name': 'dublin', 'name': 'RATHDOWN ROAD', 'address': 'Rathdown Road', 'position': {'lat': 53.35893, 'lng': -6.280337}, 'banking': False, 'bonus': False, 'bike_stands': 40, 'available_bike_stands': 27, 'available_bikes': 13, 'status': 'OPEN', 'last_update': 1676716948000}, {'number': 112, 'contract_name': 'dublin', 'name': \"NORTH CIRCULAR ROAD (O'CONNELL'S)\", 'address': \"North Circular Road (O'Connell's)\", 'position': {'lat': 53.357841, 'lng': -6.251557}, 'banking': False, 'bonus': False, 'bike_stands': 30, 'available_bike_stands': 23, 'available_bikes': 7, 'status': 'OPEN', 'last_update': 1676716494000}, {'number': 68, 'contract_name': 'dublin', 'name': 'HANOVER QUAY', 'address': 'Hanover Quay', 'position': {'lat': 53.344115, 'lng': -6.237153}, 'banking': False, 'bonus': False, 'bike_stands': 40, 'available_bike_stands': 39, 'available_bikes': 1, 'status': 'OPEN', 'last_update': 1676717054000}, {'number': 74, 'contract_name': 'dublin', 'name': 'OLIVER BOND STREET', 'address': 'Oliver Bond Street', 'position': {'lat': 53.343893, 'lng': -6.280531}, 'banking': False, 'bonus': False, 'bike_stands': 30, 'available_bike_stands': 27, 'available_bikes': 3, 'status': 'OPEN', 'last_update': 1676717038000}, {'number': 87, 'contract_name': 'dublin', 'name': 'COLLINS BARRACKS MUSEUM', 'address': 'Collins Barracks Museum', 'position': {'lat': 53.347477, 'lng': -6.28525}, 'banking': False, 'bonus': False, 'bike_stands': 38, 'available_bike_stands': 34, 'available_bikes': 4, 'status': 'OPEN', 'last_update': 1676716836000}, {'number': 84, 'contract_name': 'dublin', 'name': 'BROOKFIELD ROAD', 'address': 'Brookfield Road', 'position': {'lat': 53.339005, 'lng': -6.300217}, 'banking': False, 'bonus': False, 'bike_stands': 30, 'available_bike_stands': 10, 'available_bikes': 20, 'status': 'OPEN', 'last_update': 1676716801000}, {'number': 90, 'contract_name': 'dublin', 'name': 'BENSON STREET', 'address': 'Benson Street', 'position': {'lat': 53.344153, 'lng': -6.233451}, 'banking': False, 'bonus': False, 'bike_stands': 40, 'available_bike_stands': 39, 'available_bikes': 1, 'status': 'OPEN', 'last_update': 1676716520000}, {'number': 11, 'contract_name': 'dublin', 'name': 'EARLSFORT TERRACE', 'address': 'Earlsfort Terrace', 'position': {'lat': 53.334295, 'lng': -6.258503}, 'banking': False, 'bonus': False, 'bike_stands': 30, 'available_bike_stands': 26, 'available_bikes': 4, 'status': 'OPEN', 'last_update': 1676717002000}, {'number': 17, 'contract_name': 'dublin', 'name': 'GOLDEN LANE', 'address': 'Golden Lane', 'position': {'lat': 53.340803, 'lng': -6.267732}, 'banking': False, 'bonus': False, 'bike_stands': 20, 'available_bike_stands': 16, 'available_bikes': 4, 'status': 'OPEN', 'last_update': 1676716793000}, {'number': 45, 'contract_name': 'dublin', 'name': 'DEVERELL PLACE', 'address': 'Deverell Place', 'position': {'lat': 53.351464, 'lng': -6.255265}, 'banking': False, 'bonus': False, 'bike_stands': 30, 'available_bike_stands': 16, 'available_bikes': 14, 'status': 'OPEN', 'last_update': 1676716747000}, {'number': 114, 'contract_name': 'dublin', 'name': 'WILTON TERRACE (PARK)', 'address': 'Wilton Terrace (Park)', 'position': {'lat': 53.333653, 'lng': -6.248345}, 'banking': False, 'bonus': False, 'bike_stands': 40, 'available_bike_stands': 35, 'available_bikes': 5, 'status': 'OPEN', 'last_update': 1676716475000}, {'number': 72, 'contract_name': 'dublin', 'name': 'JOHN STREET WEST', 'address': 'John Street West', 'position': {'lat': 53.343105, 'lng': -6.277167}, 'banking': False, 'bonus': False, 'bike_stands': 31, 'available_bike_stands': 21, 'available_bikes': 10, 'status': 'OPEN', 'last_update': 1676716717000}, {'number': 63, 'contract_name': 'dublin', 'name': 'FENIAN STREET', 'address': 'Fenian Street', 'position': {'lat': 53.341428, 'lng': -6.24672}, 'banking': False, 'bonus': False, 'bike_stands': 35, 'available_bike_stands': 26, 'available_bikes': 9, 'status': 'OPEN', 'last_update': 1676716507000}, {'number': 113, 'contract_name': 'dublin', 'name': 'MERRION SQUARE SOUTH', 'address': 'Merrion Square South', 'position': {'lat': 53.338614, 'lng': -6.248606}, 'banking': False, 'bonus': False, 'bike_stands': 40, 'available_bike_stands': 34, 'available_bikes': 6, 'status': 'OPEN', 'last_update': 1676716482000}, {'number': 91, 'contract_name': 'dublin', 'name': 'SOUTH DOCK ROAD', 'address': 'South Dock Road', 'position': {'lat': 53.341833, 'lng': -6.231291}, 'banking': False, 'bonus': False, 'bike_stands': 30, 'available_bike_stands': 18, 'available_bikes': 12, 'status': 'OPEN', 'last_update': 1676716910000}, {'number': 99, 'contract_name': 'dublin', 'name': 'CITY QUAY', 'address': 'City Quay', 'position': {'lat': 53.346637, 'lng': -6.246154}, 'banking': False, 'bonus': False, 'bike_stands': 30, 'available_bike_stands': 29, 'available_bikes': 1, 'status': 'OPEN', 'last_update': 1676716661000}, {'number': 9, 'contract_name': 'dublin', 'name': 'EXCHEQUER STREET', 'address': 'Exchequer Street', 'position': {'lat': 53.343034, 'lng': -6.263578}, 'banking': False, 'bonus': False, 'bike_stands': 24, 'available_bike_stands': 5, 'available_bikes': 19, 'status': 'OPEN', 'last_update': 1676716719000}, {'number': 67, 'contract_name': 'dublin', 'name': 'THE POINT', 'address': 'The Point', 'position': {'lat': 53.346867, 'lng': -6.230852}, 'banking': False, 'bonus': False, 'bike_stands': 40, 'available_bike_stands': 22, 'available_bikes': 18, 'status': 'OPEN', 'last_update': 1676716634000}, {'number': 116, 'contract_name': 'dublin', 'name': 'BROADSTONE', 'address': 'Broadstone', 'position': {'lat': 53.3547, 'lng': -6.272314}, 'banking': False, 'bonus': False, 'bike_stands': 30, 'available_bike_stands': 29, 'available_bikes': 1, 'status': 'OPEN', 'last_update': 1676716624000}, {'number': 55, 'contract_name': 'dublin', 'name': 'HATCH STREET', 'address': 'Hatch Street', 'position': {'lat': 53.33403, 'lng': -6.260714}, 'banking': False, 'bonus': False, 'bike_stands': 36, 'available_bike_stands': 23, 'available_bikes': 13, 'status': 'OPEN', 'last_update': 1676716972000}, {'number': 62, 'contract_name': 'dublin', 'name': 'LIME STREET', 'address': 'Lime Street', 'position': {'lat': 53.346026, 'lng': -6.243576}, 'banking': False, 'bonus': False, 'bike_stands': 40, 'available_bike_stands': 30, 'available_bikes': 10, 'status': 'OPEN', 'last_update': 1676716600000}, {'number': 5, 'contract_name': 'dublin', 'name': 'CHARLEMONT PLACE', 'address': 'Charlemont Street', 'position': {'lat': 53.330662, 'lng': -6.260177}, 'banking': False, 'bonus': False, 'bike_stands': 40, 'available_bike_stands': 16, 'available_bikes': 24, 'status': 'OPEN', 'last_update': 1676716967000}, {'number': 97, 'contract_name': 'dublin', 'name': 'KILMAINHAM GAOL', 'address': 'Kilmainham Gaol', 'position': {'lat': 53.342113, 'lng': -6.310015}, 'banking': False, 'bonus': False, 'bike_stands': 40, 'available_bike_stands': 30, 'available_bikes': 10, 'status': 'OPEN', 'last_update': 1676716725000}, {'number': 61, 'contract_name': 'dublin', 'name': 'HARDWICKE PLACE', 'address': 'Hardwicke Place', 'position': {'lat': 53.357043, 'lng': -6.263232}, 'banking': False, 'bonus': False, 'bike_stands': 25, 'available_bike_stands': 15, 'available_bikes': 10, 'status': 'OPEN', 'last_update': 1676716558000}, {'number': 77, 'contract_name': 'dublin', 'name': 'WOLFE TONE STREET', 'address': 'Wolfe Tone Street', 'position': {'lat': 53.348875, 'lng': -6.267459}, 'banking': False, 'bonus': False, 'bike_stands': 29, 'available_bike_stands': 11, 'available_bikes': 18, 'status': 'OPEN', 'last_update': 1676716881000}, {'number': 4, 'contract_name': 'dublin', 'name': 'GREEK STREET', 'address': 'Greek Street', 'position': {'lat': 53.346874, 'lng': -6.272976}, 'banking': False, 'bonus': False, 'bike_stands': 20, 'available_bike_stands': 17, 'available_bikes': 3, 'status': 'OPEN', 'last_update': 1676716806000}, {'number': 49, 'contract_name': 'dublin', 'name': 'GUILD STREET', 'address': 'Guild Street', 'position': {'lat': 53.347932, 'lng': -6.240928}, 'banking': False, 'bonus': False, 'bike_stands': 40, 'available_bike_stands': 21, 'available_bikes': 19, 'status': 'OPEN', 'last_update': 1676716860000}, {'number': 19, 'contract_name': 'dublin', 'name': 'HERBERT PLACE', 'address': 'Herbert Place', 'position': {'lat': 53.334432, 'lng': -6.245575}, 'banking': False, 'bonus': False, 'bike_stands': 30, 'available_bike_stands': 23, 'available_bikes': 7, 'status': 'OPEN', 'last_update': 1676716877000}, {'number': 7, 'contract_name': 'dublin', 'name': 'HIGH STREET', 'address': 'High Street', 'position': {'lat': 53.343565, 'lng': -6.275071}, 'banking': False, 'bonus': False, 'bike_stands': 29, 'available_bike_stands': 19, 'available_bikes': 10, 'status': 'OPEN', 'last_update': 1676716758000}, {'number': 60, 'contract_name': 'dublin', 'name': 'NORTH CIRCULAR ROAD', 'address': 'North Circular Road', 'position': {'lat': 53.359624, 'lng': -6.260348}, 'banking': False, 'bonus': False, 'bike_stands': 30, 'available_bike_stands': 19, 'available_bikes': 10, 'status': 'OPEN', 'last_update': 1676717067000}, {'number': 102, 'contract_name': 'dublin', 'name': 'WESTERN WAY', 'address': 'Western Way', 'position': {'lat': 53.354929, 'lng': -6.269425}, 'banking': False, 'bonus': False, 'bike_stands': 40, 'available_bike_stands': 25, 'available_bikes': 15, 'status': 'OPEN', 'last_update': 1676716622000}, {'number': 38, 'contract_name': 'dublin', 'name': 'TALBOT STREET', 'address': 'Talbot Street', 'position': {'lat': 53.350974, 'lng': -6.25294}, 'banking': False, 'bonus': False, 'bike_stands': 40, 'available_bike_stands': 31, 'available_bikes': 9, 'status': 'OPEN', 'last_update': 1676717062000}, {'number': 53, 'contract_name': 'dublin', 'name': 'NEWMAN HOUSE', 'address': 'Newman House', 'position': {'lat': 53.337132, 'lng': -6.26059}, 'banking': False, 'bonus': False, 'bike_stands': 40, 'available_bike_stands': 32, 'available_bikes': 8, 'status': 'OPEN', 'last_update': 1676716817000}, {'number': 58, 'contract_name': 'dublin', 'name': \"SIR PATRICK DUN'S\", 'address': \"Sir Patrick's Dun\", 'position': {'lat': 53.339218, 'lng': -6.240642}, 'banking': False, 'bonus': False, 'bike_stands': 40, 'available_bike_stands': 24, 'available_bikes': 16, 'status': 'OPEN', 'last_update': 1676716648000}, {'number': 66, 'contract_name': 'dublin', 'name': 'NEW CENTRAL BANK', 'address': 'New Central Bank', 'position': {'lat': 53.347122, 'lng': -6.234749}, 'banking': False, 'bonus': False, 'bike_stands': 40, 'available_bike_stands': 16, 'available_bikes': 24, 'status': 'OPEN', 'last_update': 1676716499000}, {'number': 104, 'contract_name': 'dublin', 'name': 'GRANGEGORMAN LOWER (CENTRAL)', 'address': 'Grangegorman Lower (Central)', 'position': {'lat': 53.355173, 'lng': -6.278424}, 'banking': False, 'bonus': False, 'bike_stands': 40, 'available_bike_stands': 33, 'available_bikes': 7, 'status': 'OPEN', 'last_update': 1676716727000}, {'number': 101, 'contract_name': 'dublin', 'name': 'KING STREET NORTH', 'address': 'King Street North', 'position': {'lat': 53.350291, 'lng': -6.273507}, 'banking': False, 'bonus': False, 'bike_stands': 30, 'available_bike_stands': 18, 'available_bikes': 12, 'status': 'OPEN', 'last_update': 1676716818000}, {'number': 115, 'contract_name': 'dublin', 'name': 'KILLARNEY STREET', 'address': 'Killarney Street', 'position': {'lat': 53.354845, 'lng': -6.247579}, 'banking': False, 'bonus': False, 'bike_stands': 30, 'available_bike_stands': 18, 'available_bikes': 12, 'status': 'OPEN', 'last_update': 1676716522000}, {'number': 47, 'contract_name': 'dublin', 'name': 'HERBERT STREET', 'address': 'Herbert Street', 'position': {'lat': 53.335742, 'lng': -6.24551}, 'banking': False, 'bonus': False, 'bike_stands': 40, 'available_bike_stands': 38, 'available_bikes': 2, 'status': 'OPEN', 'last_update': 1676716678000}, {'number': 117, 'contract_name': 'dublin', 'name': 'HANOVER QUAY EAST', 'address': 'Hanover Quay East', 'position': {'lat': 53.343653, 'lng': -6.231755}, 'banking': False, 'bonus': False, 'bike_stands': 40, 'available_bike_stands': 29, 'available_bikes': 11, 'status': 'OPEN', 'last_update': 1676716991000}, {'number': 8, 'contract_name': 'dublin', 'name': 'CUSTOM HOUSE QUAY', 'address': 'Custom House Quay', 'position': {'lat': 53.347884, 'lng': -6.248048}, 'banking': False, 'bonus': False, 'bike_stands': 30, 'available_bike_stands': 26, 'available_bikes': 4, 'status': 'OPEN', 'last_update': 1676716805000}, {'number': 27, 'contract_name': 'dublin', 'name': 'MOLESWORTH STREET', 'address': 'Molesworth Street', 'position': {'lat': 53.341288, 'lng': -6.258117}, 'banking': False, 'bonus': False, 'bike_stands': 20, 'available_bike_stands': 3, 'available_bikes': 17, 'status': 'OPEN', 'last_update': 1676716956000}, {'number': 16, 'contract_name': 'dublin', 'name': 'GEORGES QUAY', 'address': 'Georges Quay', 'position': {'lat': 53.347508, 'lng': -6.252192}, 'banking': False, 'bonus': False, 'bike_stands': 20, 'available_bike_stands': 3, 'available_bikes': 17, 'status': 'OPEN', 'last_update': 1676716991000}, {'number': 96, 'contract_name': 'dublin', 'name': 'KILMAINHAM LANE', 'address': 'Kilmainham Lane', 'position': {'lat': 53.341805, 'lng': -6.305085}, 'banking': False, 'bonus': False, 'bike_stands': 30, 'available_bike_stands': 18, 'available_bikes': 12, 'status': 'OPEN', 'last_update': 1676716651000}, {'number': 82, 'contract_name': 'dublin', 'name': 'MOUNT BROWN', 'address': 'Mount Brown', 'position': {'lat': 53.341645, 'lng': -6.29719}, 'banking': False, 'bonus': False, 'bike_stands': 22, 'available_bike_stands': 16, 'available_bikes': 6, 'status': 'OPEN', 'last_update': 1676717052000}, {'number': 76, 'contract_name': 'dublin', 'name': 'MARKET STREET SOUTH', 'address': 'Market Street South', 'position': {'lat': 53.342296, 'lng': -6.287661}, 'banking': False, 'bonus': False, 'bike_stands': 38, 'available_bike_stands': 27, 'available_bikes': 11, 'status': 'OPEN', 'last_update': 1676716534000}, {'number': 71, 'contract_name': 'dublin', 'name': 'KEVIN STREET', 'address': 'Kevin Street', 'position': {'lat': 53.337757, 'lng': -6.267699}, 'banking': False, 'bonus': False, 'bike_stands': 40, 'available_bike_stands': 26, 'available_bikes': 14, 'status': 'OPEN', 'last_update': 1676716802000}, {'number': 79, 'contract_name': 'dublin', 'name': 'ECCLES STREET EAST', 'address': 'Eccles Street East', 'position': {'lat': 53.358115, 'lng': -6.265601}, 'banking': False, 'bonus': False, 'bike_stands': 27, 'available_bike_stands': 24, 'available_bikes': 3, 'status': 'OPEN', 'last_update': 1676716849000}, {'number': 69, 'contract_name': 'dublin', 'name': 'GRAND CANAL DOCK', 'address': 'Grand Canal Dock', 'position': {'lat': 53.342638, 'lng': -6.238695}, 'banking': False, 'bonus': False, 'bike_stands': 40, 'available_bike_stands': 28, 'available_bikes': 12, 'status': 'OPEN', 'last_update': 1676717065000}, {'number': 25, 'contract_name': 'dublin', 'name': 'MERRION SQUARE EAST', 'address': 'Merrion Square East', 'position': {'lat': 53.339434, 'lng': -6.246548}, 'banking': False, 'bonus': False, 'bike_stands': 30, 'available_bike_stands': 27, 'available_bikes': 3, 'status': 'OPEN', 'last_update': 1676716775000}, {'number': 51, 'contract_name': 'dublin', 'name': 'YORK STREET WEST', 'address': 'York Street West', 'position': {'lat': 53.339334, 'lng': -6.264699}, 'banking': False, 'bonus': False, 'bike_stands': 40, 'available_bike_stands': 24, 'available_bikes': 16, 'status': 'OPEN', 'last_update': 1676716916000}, {'number': 37, 'contract_name': 'dublin', 'name': \"ST. STEPHEN'S GREEN SOUTH\", 'address': \"St. Stephen's Green South\", 'position': {'lat': 53.337494, 'lng': -6.26199}, 'banking': True, 'bonus': False, 'bike_stands': 30, 'available_bike_stands': 30, 'available_bikes': 0, 'status': 'OPEN', 'last_update': 1676716638000}, {'number': 59, 'contract_name': 'dublin', 'name': 'DENMARK STREET GREAT', 'address': 'Denmark Street Great', 'position': {'lat': 53.35561, 'lng': -6.261397}, 'banking': False, 'bonus': False, 'bike_stands': 20, 'available_bike_stands': 15, 'available_bikes': 5, 'status': 'OPEN', 'last_update': 1676716861000}, {'number': 95, 'contract_name': 'dublin', 'name': 'ROYAL HOSPITAL', 'address': 'Royal Hospital', 'position': {'lat': 53.343897, 'lng': -6.29706}, 'banking': False, 'bonus': False, 'bike_stands': 40, 'available_bike_stands': 31, 'available_bikes': 9, 'status': 'OPEN', 'last_update': 1676716828000}, {'number': 94, 'contract_name': 'dublin', 'name': 'HEUSTON STATION (CAR PARK)', 'address': 'Heuston Station (Car Park)', 'position': {'lat': 53.346985, 'lng': -6.297804}, 'banking': False, 'bonus': False, 'bike_stands': 40, 'available_bike_stands': 33, 'available_bikes': 7, 'status': 'OPEN', 'last_update': 1676716905000}, {'number': 105, 'contract_name': 'dublin', 'name': 'GRANGEGORMAN LOWER (NORTH)', 'address': 'Grangegorman Lower (North)', 'position': {'lat': 53.355954, 'lng': -6.278378}, 'banking': False, 'bonus': False, 'bike_stands': 36, 'available_bike_stands': 15, 'available_bikes': 21, 'status': 'OPEN', 'last_update': 1676716746000}, {'number': 36, 'contract_name': 'dublin', 'name': \"ST. STEPHEN'S GREEN EAST\", 'address': \"St. Stephen's Green East\", 'position': {'lat': 53.337824, 'lng': -6.256035}, 'banking': False, 'bonus': False, 'bike_stands': 40, 'available_bike_stands': 19, 'available_bikes': 21, 'status': 'OPEN', 'last_update': 1676716564000}, {'number': 93, 'contract_name': 'dublin', 'name': 'HEUSTON STATION (CENTRAL)', 'address': 'Heuston Station (Central)', 'position': {'lat': 53.346603, 'lng': -6.296924}, 'banking': False, 'bonus': False, 'bike_stands': 40, 'available_bike_stands': 6, 'available_bikes': 34, 'status': 'OPEN', 'last_update': 1676716852000}, {'number': 22, 'contract_name': 'dublin', 'name': 'TOWNSEND STREET', 'address': 'Townsend Street', 'position': {'lat': 53.345922, 'lng': -6.254614}, 'banking': False, 'bonus': False, 'bike_stands': 20, 'available_bike_stands': 15, 'available_bikes': 4, 'status': 'OPEN', 'last_update': 1676716993000}, {'number': 50, 'contract_name': 'dublin', 'name': 'GEORGES LANE', 'address': \"George's Lane\", 'position': {'lat': 53.35023, 'lng': -6.279696}, 'banking': False, 'bonus': False, 'bike_stands': 40, 'available_bike_stands': 20, 'available_bikes': 20, 'status': 'OPEN', 'last_update': 1676716536000}, {'number': 110, 'contract_name': 'dublin', 'name': 'PHIBSBOROUGH ROAD', 'address': 'Phibsborough Road', 'position': {'lat': 53.356307, 'lng': -6.273717}, 'banking': False, 'bonus': False, 'bike_stands': 40, 'available_bike_stands': 30, 'available_bikes': 10, 'status': 'OPEN', 'last_update': 1676716794000}, {'number': 12, 'contract_name': 'dublin', 'name': 'ECCLES STREET', 'address': 'Eccles Street', 'position': {'lat': 53.359246, 'lng': -6.269779}, 'banking': False, 'bonus': False, 'bike_stands': 20, 'available_bike_stands': 19, 'available_bikes': 1, 'status': 'OPEN', 'last_update': 1676716685000}, {'number': 34, 'contract_name': 'dublin', 'name': 'PORTOBELLO HARBOUR', 'address': 'Portobello Harbour', 'position': {'lat': 53.330362, 'lng': -6.265163}, 'banking': False, 'bonus': False, 'bike_stands': 30, 'available_bike_stands': 17, 'available_bikes': 13, 'status': 'OPEN', 'last_update': 1676716857000}, {'number': 78, 'contract_name': 'dublin', 'name': 'MATER HOSPITAL', 'address': 'Mater Hospital', 'position': {'lat': 53.359967, 'lng': -6.264828}, 'banking': False, 'bonus': False, 'bike_stands': 40, 'available_bike_stands': 22, 'available_bikes': 18, 'status': 'OPEN', 'last_update': 1676716944000}, {'number': 2, 'contract_name': 'dublin', 'name': 'BLESSINGTON STREET', 'address': 'Blessington Street', 'position': {'lat': 53.356769, 'lng': -6.26814}, 'banking': False, 'bonus': False, 'bike_stands': 20, 'available_bike_stands': 12, 'available_bikes': 8, 'status': 'OPEN', 'last_update': 1676716487000}, {'number': 75, 'contract_name': 'dublin', 'name': 'JAMES STREET', 'address': 'James Street', 'position': {'lat': 53.343456, 'lng': -6.287409}, 'banking': False, 'bonus': False, 'bike_stands': 40, 'available_bike_stands': 25, 'available_bikes': 15, 'status': 'OPEN', 'last_update': 1676716697000}, {'number': 507, 'contract_name': 'dublin', 'name': 'ORIEL STREET TEST TERMINAL', 'address': 'JCDecaux Ireland, 52 Oriel Street Lower, Dublin 1', 'position': {'lat': 53.35463, 'lng': -6.242615}, 'banking': False, 'bonus': False, 'bike_stands': 1, 'available_bike_stands': 0, 'available_bikes': 1, 'status': 'OPEN', 'last_update': 1675786128000}, {'number': 111, 'contract_name': 'dublin', 'name': 'MOUNTJOY SQUARE EAST', 'address': 'Mountjoy Square East', 'position': {'lat': 53.356717, 'lng': -6.256359}, 'banking': False, 'bonus': False, 'bike_stands': 40, 'available_bike_stands': 35, 'available_bikes': 5, 'status': 'OPEN', 'last_update': 1676716835000}, {'number': 26, 'contract_name': 'dublin', 'name': 'MERRION SQUARE WEST', 'address': 'Merrion Square West', 'position': {'lat': 53.339764, 'lng': -6.251988}, 'banking': True, 'bonus': False, 'bike_stands': 20, 'available_bike_stands': 0, 'available_bikes': 20, 'status': 'OPEN', 'last_update': 1676716633000}, {'number': 65, 'contract_name': 'dublin', 'name': 'CONVENTION CENTRE', 'address': 'Convention Centre', 'position': {'lat': 53.34744, 'lng': -6.238523}, 'banking': True, 'bonus': False, 'bike_stands': 40, 'available_bike_stands': 35, 'available_bikes': 5, 'status': 'OPEN', 'last_update': 1676716928000}, {'number': 15, 'contract_name': 'dublin', 'name': 'HARDWICKE STREET', 'address': 'Hardwicke Street', 'position': {'lat': 53.355473, 'lng': -6.264423}, 'banking': False, 'bonus': False, 'bike_stands': 16, 'available_bike_stands': 6, 'available_bikes': 7, 'status': 'OPEN', 'last_update': 1676716967000}, {'number': 86, 'contract_name': 'dublin', 'name': 'PARKGATE STREET', 'address': 'Parkgate Street', 'position': {'lat': 53.347972, 'lng': -6.291804}, 'banking': False, 'bonus': False, 'bike_stands': 38, 'available_bike_stands': 18, 'available_bikes': 20, 'status': 'OPEN', 'last_update': 1676716980000}, {'number': 35, 'contract_name': 'dublin', 'name': 'SMITHFIELD', 'address': 'Smithfield', 'position': {'lat': 53.347692, 'lng': -6.278214}, 'banking': False, 'bonus': False, 'bike_stands': 30, 'available_bike_stands': 24, 'available_bikes': 5, 'status': 'OPEN', 'last_update': 1676717053000}, {'number': 10, 'contract_name': 'dublin', 'name': 'DAME STREET', 'address': 'Dame Street', 'position': {'lat': 53.344007, 'lng': -6.266802}, 'banking': True, 'bonus': False, 'bike_stands': 16, 'available_bike_stands': 0, 'available_bikes': 16, 'status': 'OPEN', 'last_update': 1676716654000}, {'number': 100, 'contract_name': 'dublin', 'name': 'HEUSTON BRIDGE (SOUTH)', 'address': 'Heuston Bridge (South)', 'position': {'lat': 53.347106, 'lng': -6.292041}, 'banking': False, 'bonus': False, 'bike_stands': 25, 'available_bike_stands': 4, 'available_bikes': 21, 'status': 'OPEN', 'last_update': 1676717002000}, {'number': 24, 'contract_name': 'dublin', 'name': 'CATHAL BRUGHA STREET', 'address': 'Cathal Brugha Street', 'position': {'lat': 53.352149, 'lng': -6.260533}, 'banking': False, 'bonus': False, 'bike_stands': 20, 'available_bike_stands': 0, 'available_bikes': 20, 'status': 'OPEN', 'last_update': 1676716887000}, {'number': 64, 'contract_name': 'dublin', 'name': 'SANDWITH STREET', 'address': 'Sandwith Street', 'position': {'lat': 53.345203, 'lng': -6.247163}, 'banking': False, 'bonus': False, 'bike_stands': 40, 'available_bike_stands': 31, 'available_bikes': 9, 'status': 'OPEN', 'last_update': 1676716679000}, {'number': 109, 'contract_name': 'dublin', 'name': 'BUCKINGHAM STREET LOWER', 'address': 'Buckingham Street Lower', 'position': {'lat': 53.353331, 'lng': -6.249319}, 'banking': False, 'bonus': False, 'bike_stands': 29, 'available_bike_stands': 8, 'available_bikes': 21, 'status': 'OPEN', 'last_update': 1676716954000}, {'number': 85, 'contract_name': 'dublin', 'name': 'ROTHE ABBEY', 'address': 'Rothe Abbey', 'position': {'lat': 53.338776, 'lng': -6.30395}, 'banking': False, 'bonus': False, 'bike_stands': 35, 'available_bike_stands': 24, 'available_bikes': 11, 'status': 'OPEN', 'last_update': 1676716955000}, {'number': 107, 'contract_name': 'dublin', 'name': 'CHARLEVILLE ROAD', 'address': 'Charleville Road', 'position': {'lat': 53.359157, 'lng': -6.281866}, 'banking': False, 'bonus': False, 'bike_stands': 40, 'available_bike_stands': 20, 'available_bikes': 20, 'status': 'OPEN', 'last_update': 1676716927000}, {'number': 33, 'contract_name': 'dublin', 'name': \"PRINCES STREET / O'CONNELL STREET\", 'address': \"Princes Street / O'Connell Street\", 'position': {'lat': 53.349013, 'lng': -6.260311}, 'banking': True, 'bonus': False, 'bike_stands': 23, 'available_bike_stands': 16, 'available_bikes': 7, 'status': 'OPEN', 'last_update': 1676716823000}, {'number': 44, 'contract_name': 'dublin', 'name': 'UPPER SHERRARD STREET', 'address': 'Upper Sherrard Street', 'position': {'lat': 53.358437, 'lng': -6.260641}, 'banking': False, 'bonus': False, 'bike_stands': 30, 'available_bike_stands': 26, 'available_bikes': 4, 'status': 'OPEN', 'last_update': 1676717034000}, {'number': 89, 'contract_name': 'dublin', 'name': 'FITZWILLIAM SQUARE EAST', 'address': 'Fitzwilliam Square East', 'position': {'lat': 53.335211, 'lng': -6.2509}, 'banking': False, 'bonus': False, 'bike_stands': 40, 'available_bike_stands': 31, 'available_bikes': 9, 'status': 'OPEN', 'last_update': 1676716576000}, {'number': 57, 'contract_name': 'dublin', 'name': 'GRATTAN STREET', 'address': 'Grattan Street', 'position': {'lat': 53.339629, 'lng': -6.243778}, 'banking': False, 'bonus': False, 'bike_stands': 23, 'available_bike_stands': 21, 'available_bikes': 1, 'status': 'OPEN', 'last_update': 1676716811000}, {'number': 80, 'contract_name': 'dublin', 'name': 'ST JAMES HOSPITAL (LUAS)', 'address': 'St James Hospital (Luas)', 'position': {'lat': 53.341359, 'lng': -6.292951}, 'banking': False, 'bonus': False, 'bike_stands': 40, 'available_bike_stands': 21, 'available_bikes': 19, 'status': 'OPEN', 'last_update': 1676717031000}, {'number': 41, 'contract_name': 'dublin', 'name': 'HARCOURT TERRACE', 'address': 'Harcourt Terrace', 'position': {'lat': 53.332763, 'lng': -6.257942}, 'banking': False, 'bonus': False, 'bike_stands': 20, 'available_bike_stands': 17, 'available_bikes': 3, 'status': 'OPEN', 'last_update': 1676716622000}, {'number': 3, 'contract_name': 'dublin', 'name': 'BOLTON STREET', 'address': 'Bolton Street', 'position': {'lat': 53.351182, 'lng': -6.269859}, 'banking': False, 'bonus': False, 'bike_stands': 20, 'available_bike_stands': 16, 'available_bikes': 4, 'status': 'OPEN', 'last_update': 1676716731000}, {'number': 40, 'contract_name': 'dublin', 'name': 'JERVIS STREET', 'address': 'Jervis Street', 'position': {'lat': 53.3483, 'lng': -6.266651}, 'banking': False, 'bonus': False, 'bike_stands': 21, 'available_bike_stands': 1, 'available_bikes': 20, 'status': 'OPEN', 'last_update': 1676716709000}, {'number': 29, 'contract_name': 'dublin', 'name': 'ORMOND QUAY UPPER', 'address': 'Ormond Quay Upper', 'position': {'lat': 53.346057, 'lng': -6.268001}, 'banking': False, 'bonus': False, 'bike_stands': 29, 'available_bike_stands': 15, 'available_bikes': 14, 'status': 'OPEN', 'last_update': 1676716835000}, {'number': 103, 'contract_name': 'dublin', 'name': 'GRANGEGORMAN LOWER (SOUTH)', 'address': 'Grangegorman Lower (South)', 'position': {'lat': 53.354663, 'lng': -6.278681}, 'banking': False, 'bonus': False, 'bike_stands': 40, 'available_bike_stands': 24, 'available_bikes': 16, 'status': 'OPEN', 'last_update': 1676716611000}, {'number': 28, 'contract_name': 'dublin', 'name': 'MOUNTJOY SQUARE WEST', 'address': 'Mountjoy Square West', 'position': {'lat': 53.356299, 'lng': -6.258586}, 'banking': False, 'bonus': False, 'bike_stands': 30, 'available_bike_stands': 15, 'available_bikes': 15, 'status': 'OPEN', 'last_update': 1676716780000}, {'number': 39, 'contract_name': 'dublin', 'name': 'WILTON TERRACE', 'address': 'Wilton Terrace', 'position': {'lat': 53.332383, 'lng': -6.252717}, 'banking': False, 'bonus': False, 'bike_stands': 20, 'available_bike_stands': 4, 'available_bikes': 15, 'status': 'OPEN', 'last_update': 1676716700000}, {'number': 83, 'contract_name': 'dublin', 'name': 'EMMET ROAD', 'address': 'Emmet Road', 'position': {'lat': 53.340714, 'lng': -6.308191}, 'banking': False, 'bonus': False, 'bike_stands': 40, 'available_bike_stands': 19, 'available_bikes': 21, 'status': 'OPEN', 'last_update': 1676716918000}, {'number': 92, 'contract_name': 'dublin', 'name': 'HEUSTON BRIDGE (NORTH)', 'address': 'Heuston Bridge (North)', 'position': {'lat': 53.347802, 'lng': -6.292432}, 'banking': False, 'bonus': False, 'bike_stands': 40, 'available_bike_stands': 2, 'available_bikes': 38, 'status': 'OPEN', 'last_update': 1676716580000}, {'number': 21, 'contract_name': 'dublin', 'name': 'LEINSTER STREET SOUTH', 'address': 'Leinster Street South', 'position': {'lat': 53.34218, 'lng': -6.254485}, 'banking': False, 'bonus': False, 'bike_stands': 30, 'available_bike_stands': 3, 'available_bikes': 26, 'status': 'OPEN', 'last_update': 1676716655000}, {'number': 88, 'contract_name': 'dublin', 'name': 'BLACKHALL PLACE', 'address': 'Blackhall Place', 'position': {'lat': 53.3488, 'lng': -6.281637}, 'banking': False, 'bonus': False, 'bike_stands': 30, 'available_bike_stands': 14, 'available_bikes': 16, 'status': 'OPEN', 'last_update': 1676716828000}]\n"
     ]
    }
   ],
   "source": [
    "with open(\"json_bike.json\",\"r\") as openfile:\n",
    "    json_object = json.load(openfile)\n",
    "print(json_object)"
   ]
  },
  {
   "cell_type": "code",
   "execution_count": 99,
   "id": "4e036e72",
   "metadata": {},
   "outputs": [],
   "source": [
    "df = pd.read_json(\"json_bike.json\")"
   ]
  },
  {
   "cell_type": "code",
   "execution_count": 100,
   "id": "5b44b37f",
   "metadata": {},
   "outputs": [
    {
     "data": {
      "text/html": [
       "<div>\n",
       "<style scoped>\n",
       "    .dataframe tbody tr th:only-of-type {\n",
       "        vertical-align: middle;\n",
       "    }\n",
       "\n",
       "    .dataframe tbody tr th {\n",
       "        vertical-align: top;\n",
       "    }\n",
       "\n",
       "    .dataframe thead th {\n",
       "        text-align: right;\n",
       "    }\n",
       "</style>\n",
       "<table border=\"1\" class=\"dataframe\">\n",
       "  <thead>\n",
       "    <tr style=\"text-align: right;\">\n",
       "      <th></th>\n",
       "      <th>number</th>\n",
       "      <th>contract_name</th>\n",
       "      <th>name</th>\n",
       "      <th>address</th>\n",
       "      <th>position</th>\n",
       "      <th>banking</th>\n",
       "      <th>bonus</th>\n",
       "      <th>bike_stands</th>\n",
       "      <th>available_bike_stands</th>\n",
       "      <th>available_bikes</th>\n",
       "      <th>status</th>\n",
       "      <th>last_update</th>\n",
       "    </tr>\n",
       "  </thead>\n",
       "  <tbody>\n",
       "    <tr>\n",
       "      <th>0</th>\n",
       "      <td>42</td>\n",
       "      <td>dublin</td>\n",
       "      <td>SMITHFIELD NORTH</td>\n",
       "      <td>Smithfield North</td>\n",
       "      <td>{'lat': 53.349562, 'lng': -6.278198}</td>\n",
       "      <td>False</td>\n",
       "      <td>False</td>\n",
       "      <td>30</td>\n",
       "      <td>6</td>\n",
       "      <td>24</td>\n",
       "      <td>OPEN</td>\n",
       "      <td>1676716676000</td>\n",
       "    </tr>\n",
       "    <tr>\n",
       "      <th>1</th>\n",
       "      <td>30</td>\n",
       "      <td>dublin</td>\n",
       "      <td>PARNELL SQUARE NORTH</td>\n",
       "      <td>Parnell Square North</td>\n",
       "      <td>{'lat': 53.3537415547453, 'lng': -6.2653014478...</td>\n",
       "      <td>False</td>\n",
       "      <td>False</td>\n",
       "      <td>20</td>\n",
       "      <td>17</td>\n",
       "      <td>3</td>\n",
       "      <td>OPEN</td>\n",
       "      <td>1676716498000</td>\n",
       "    </tr>\n",
       "    <tr>\n",
       "      <th>2</th>\n",
       "      <td>54</td>\n",
       "      <td>dublin</td>\n",
       "      <td>CLONMEL STREET</td>\n",
       "      <td>Clonmel Street</td>\n",
       "      <td>{'lat': 53.336021, 'lng': -6.26298}</td>\n",
       "      <td>False</td>\n",
       "      <td>False</td>\n",
       "      <td>33</td>\n",
       "      <td>32</td>\n",
       "      <td>1</td>\n",
       "      <td>OPEN</td>\n",
       "      <td>1676716980000</td>\n",
       "    </tr>\n",
       "    <tr>\n",
       "      <th>3</th>\n",
       "      <td>108</td>\n",
       "      <td>dublin</td>\n",
       "      <td>AVONDALE ROAD</td>\n",
       "      <td>Avondale Road</td>\n",
       "      <td>{'lat': 53.359405, 'lng': -6.276142}</td>\n",
       "      <td>False</td>\n",
       "      <td>False</td>\n",
       "      <td>35</td>\n",
       "      <td>30</td>\n",
       "      <td>5</td>\n",
       "      <td>OPEN</td>\n",
       "      <td>1676716608000</td>\n",
       "    </tr>\n",
       "    <tr>\n",
       "      <th>4</th>\n",
       "      <td>20</td>\n",
       "      <td>dublin</td>\n",
       "      <td>JAMES STREET EAST</td>\n",
       "      <td>James Street East</td>\n",
       "      <td>{'lat': 53.336597, 'lng': -6.248109}</td>\n",
       "      <td>False</td>\n",
       "      <td>False</td>\n",
       "      <td>30</td>\n",
       "      <td>29</td>\n",
       "      <td>1</td>\n",
       "      <td>OPEN</td>\n",
       "      <td>1676716725000</td>\n",
       "    </tr>\n",
       "    <tr>\n",
       "      <th>5</th>\n",
       "      <td>56</td>\n",
       "      <td>dublin</td>\n",
       "      <td>MOUNT STREET LOWER</td>\n",
       "      <td>Mount Street Lower</td>\n",
       "      <td>{'lat': 53.33796, 'lng': -6.24153}</td>\n",
       "      <td>False</td>\n",
       "      <td>False</td>\n",
       "      <td>40</td>\n",
       "      <td>38</td>\n",
       "      <td>2</td>\n",
       "      <td>OPEN</td>\n",
       "      <td>1676717027000</td>\n",
       "    </tr>\n",
       "    <tr>\n",
       "      <th>6</th>\n",
       "      <td>6</td>\n",
       "      <td>dublin</td>\n",
       "      <td>CHRISTCHURCH PLACE</td>\n",
       "      <td>Christchurch Place</td>\n",
       "      <td>{'lat': 53.343368, 'lng': -6.27012}</td>\n",
       "      <td>False</td>\n",
       "      <td>False</td>\n",
       "      <td>20</td>\n",
       "      <td>4</td>\n",
       "      <td>16</td>\n",
       "      <td>OPEN</td>\n",
       "      <td>1676716575000</td>\n",
       "    </tr>\n",
       "    <tr>\n",
       "      <th>7</th>\n",
       "      <td>18</td>\n",
       "      <td>dublin</td>\n",
       "      <td>GRANTHAM STREET</td>\n",
       "      <td>Grantham Street</td>\n",
       "      <td>{'lat': 53.334123, 'lng': -6.265436}</td>\n",
       "      <td>False</td>\n",
       "      <td>False</td>\n",
       "      <td>30</td>\n",
       "      <td>17</td>\n",
       "      <td>13</td>\n",
       "      <td>OPEN</td>\n",
       "      <td>1676716824000</td>\n",
       "    </tr>\n",
       "    <tr>\n",
       "      <th>8</th>\n",
       "      <td>32</td>\n",
       "      <td>dublin</td>\n",
       "      <td>PEARSE STREET</td>\n",
       "      <td>Pearse Street</td>\n",
       "      <td>{'lat': 53.344304, 'lng': -6.250427}</td>\n",
       "      <td>False</td>\n",
       "      <td>False</td>\n",
       "      <td>30</td>\n",
       "      <td>15</td>\n",
       "      <td>15</td>\n",
       "      <td>OPEN</td>\n",
       "      <td>1676716463000</td>\n",
       "    </tr>\n",
       "    <tr>\n",
       "      <th>9</th>\n",
       "      <td>52</td>\n",
       "      <td>dublin</td>\n",
       "      <td>YORK STREET EAST</td>\n",
       "      <td>York Street East</td>\n",
       "      <td>{'lat': 53.338755, 'lng': -6.262003}</td>\n",
       "      <td>False</td>\n",
       "      <td>False</td>\n",
       "      <td>32</td>\n",
       "      <td>19</td>\n",
       "      <td>13</td>\n",
       "      <td>OPEN</td>\n",
       "      <td>1676716969000</td>\n",
       "    </tr>\n",
       "  </tbody>\n",
       "</table>\n",
       "</div>"
      ],
      "text/plain": [
       "   number contract_name                  name               address  \\\n",
       "0      42        dublin      SMITHFIELD NORTH      Smithfield North   \n",
       "1      30        dublin  PARNELL SQUARE NORTH  Parnell Square North   \n",
       "2      54        dublin        CLONMEL STREET        Clonmel Street   \n",
       "3     108        dublin         AVONDALE ROAD         Avondale Road   \n",
       "4      20        dublin     JAMES STREET EAST     James Street East   \n",
       "5      56        dublin    MOUNT STREET LOWER    Mount Street Lower   \n",
       "6       6        dublin    CHRISTCHURCH PLACE    Christchurch Place   \n",
       "7      18        dublin       GRANTHAM STREET       Grantham Street   \n",
       "8      32        dublin         PEARSE STREET         Pearse Street   \n",
       "9      52        dublin      YORK STREET EAST      York Street East   \n",
       "\n",
       "                                            position  banking  bonus  \\\n",
       "0               {'lat': 53.349562, 'lng': -6.278198}    False  False   \n",
       "1  {'lat': 53.3537415547453, 'lng': -6.2653014478...    False  False   \n",
       "2                {'lat': 53.336021, 'lng': -6.26298}    False  False   \n",
       "3               {'lat': 53.359405, 'lng': -6.276142}    False  False   \n",
       "4               {'lat': 53.336597, 'lng': -6.248109}    False  False   \n",
       "5                 {'lat': 53.33796, 'lng': -6.24153}    False  False   \n",
       "6                {'lat': 53.343368, 'lng': -6.27012}    False  False   \n",
       "7               {'lat': 53.334123, 'lng': -6.265436}    False  False   \n",
       "8               {'lat': 53.344304, 'lng': -6.250427}    False  False   \n",
       "9               {'lat': 53.338755, 'lng': -6.262003}    False  False   \n",
       "\n",
       "   bike_stands  available_bike_stands  available_bikes status    last_update  \n",
       "0           30                      6               24   OPEN  1676716676000  \n",
       "1           20                     17                3   OPEN  1676716498000  \n",
       "2           33                     32                1   OPEN  1676716980000  \n",
       "3           35                     30                5   OPEN  1676716608000  \n",
       "4           30                     29                1   OPEN  1676716725000  \n",
       "5           40                     38                2   OPEN  1676717027000  \n",
       "6           20                      4               16   OPEN  1676716575000  \n",
       "7           30                     17               13   OPEN  1676716824000  \n",
       "8           30                     15               15   OPEN  1676716463000  \n",
       "9           32                     19               13   OPEN  1676716969000  "
      ]
     },
     "execution_count": 100,
     "metadata": {},
     "output_type": "execute_result"
    }
   ],
   "source": [
    "df.head(10)\n",
    "#df.describe()\n",
    "#df.shape"
   ]
  },
  {
   "cell_type": "code",
   "execution_count": 42,
   "id": "63f5ddfc",
   "metadata": {},
   "outputs": [],
   "source": []
  },
  {
   "cell_type": "code",
   "execution_count": 43,
   "id": "4a51cae6",
   "metadata": {},
   "outputs": [],
   "source": []
  },
  {
   "cell_type": "code",
   "execution_count": null,
   "id": "75c61a99",
   "metadata": {},
   "outputs": [],
   "source": []
  }
 ],
 "metadata": {
  "kernelspec": {
   "display_name": "Python 3 (ipykernel)",
   "language": "python",
   "name": "python3"
  },
  "language_info": {
   "codemirror_mode": {
    "name": "ipython",
    "version": 3
   },
   "file_extension": ".py",
   "mimetype": "text/x-python",
   "name": "python",
   "nbconvert_exporter": "python",
   "pygments_lexer": "ipython3",
   "version": "3.8.16"
  }
 },
 "nbformat": 4,
 "nbformat_minor": 5
}
