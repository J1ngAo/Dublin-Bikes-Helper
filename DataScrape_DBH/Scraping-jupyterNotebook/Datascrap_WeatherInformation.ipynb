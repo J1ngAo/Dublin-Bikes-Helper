{
 "cells": [
  {
   "cell_type": "markdown",
   "id": "12fb2118",
   "metadata": {},
   "source": [
    "# Data Scrapping - Dublin Weather API\n",
    "-- version 1.0\n",
    "\n",
    "   managed by Yongjie Lyu"
   ]
  },
  {
   "cell_type": "markdown",
   "id": "72d7d719",
   "metadata": {},
   "source": [
    "### example API call\n",
    "Current weather data API\n",
    "\n",
    "https://api.openweathermap.org/data/2.5/weather?lat={lat}&lon={lon}&appid={API key}\n",
    "\n",
    "\n",
    "Geocoding API\n",
    "\n",
    "http://api.openweathermap.org/geo/1.0/direct?q={city name},{state code},{country code}&limit={limit}&appid={API key}"
   ]
  },
  {
   "cell_type": "code",
   "execution_count": 1,
   "id": "cab69004",
   "metadata": {},
   "outputs": [],
   "source": [
    "import requests\n",
    "import json\n",
    "import pandas as pd"
   ]
  },
  {
   "cell_type": "markdown",
   "id": "c117c9ec",
   "metadata": {},
   "source": [
    "### Get the coordinate of Dublin city from Geocoding API"
   ]
  },
  {
   "cell_type": "code",
   "execution_count": 2,
   "id": "4544b98b",
   "metadata": {},
   "outputs": [],
   "source": [
    "## Geocoding API\n",
    "token = \"06070e53f0b195fef92272b71f2c0963\"\n",
    "url1=f'http://api.openweathermap.org/geo/1.0/direct?q=Dublin&limit=1&appid={token}'\n",
    "response_coordinate = requests.get(url1).text"
   ]
  },
  {
   "cell_type": "markdown",
   "id": "7c8e63be",
   "metadata": {},
   "source": [
    "Pass the coordinate"
   ]
  },
  {
   "cell_type": "code",
   "execution_count": 3,
   "id": "9f29b7ad",
   "metadata": {
    "scrolled": true
   },
   "outputs": [
    {
     "name": "stdout",
     "output_type": "stream",
     "text": [
      "Dublin\n",
      "-6.2602964\n",
      "53.3498006\n"
     ]
    }
   ],
   "source": [
    "coordinate_Json = json.loads(response_coordinate)\n",
    "print(coordinate_Json[0]['name'])\n",
    "print(coordinate_Json[0]['lon'])\n",
    "print(coordinate_Json[0]['lat'])\n",
    "\n",
    "## store the coordinate\n",
    "lon = coordinate_Json[0]['lon']\n",
    "lat = coordinate_Json[0]['lat']"
   ]
  },
  {
   "cell_type": "markdown",
   "id": "339d0213",
   "metadata": {},
   "source": [
    "### invoke the weather API"
   ]
  },
  {
   "cell_type": "code",
   "execution_count": 4,
   "id": "324221b9",
   "metadata": {},
   "outputs": [],
   "source": [
    "## Current weather data API\n",
    "url = f'https://api.openweathermap.org/data/2.5/weather?lat={lat}&lon={lon}&appid={token}'\n",
    "response_weather = requests.get(url).text"
   ]
  },
  {
   "cell_type": "code",
   "execution_count": 5,
   "id": "439d0286",
   "metadata": {},
   "outputs": [
    {
     "name": "stdout",
     "output_type": "stream",
     "text": [
      "{\n",
      "   \"coord\": {\n",
      "      \"lon\": -6.2603,\n",
      "      \"lat\": 53.3498\n",
      "   },\n",
      "   \"weather\": [\n",
      "      {\n",
      "         \"id\": 803,\n",
      "         \"main\": \"Clouds\",\n",
      "         \"description\": \"broken clouds\",\n",
      "         \"icon\": \"04n\"\n",
      "      }\n",
      "   ],\n",
      "   \"base\": \"stations\",\n",
      "   \"main\": {\n",
      "      \"temp\": 278.96,\n",
      "      \"feels_like\": 275.44,\n",
      "      \"temp_min\": 278.52,\n",
      "      \"temp_max\": 279.27,\n",
      "      \"pressure\": 1010,\n",
      "      \"humidity\": 89\n",
      "   },\n",
      "   \"visibility\": 10000,\n",
      "   \"wind\": {\n",
      "      \"speed\": 5.14,\n",
      "      \"deg\": 270\n",
      "   },\n",
      "   \"clouds\": {\n",
      "      \"all\": 75\n",
      "   },\n",
      "   \"dt\": 1677034691,\n",
      "   \"sys\": {\n",
      "      \"type\": 2,\n",
      "      \"id\": 2037117,\n",
      "      \"country\": \"IE\",\n",
      "      \"sunrise\": 1677050969,\n",
      "      \"sunset\": 1677088081\n",
      "   },\n",
      "   \"timezone\": 0,\n",
      "   \"id\": 2962486,\n",
      "   \"name\": \"Mountjoy\",\n",
      "   \"cod\": 200\n",
      "}\n"
     ]
    }
   ],
   "source": [
    "weather_Json = json.loads(response_weather)\n",
    "json_str = json.dumps(weather_Json, indent=3)\n",
    "print(json_str)\n"
   ]
  },
  {
   "cell_type": "markdown",
   "id": "293eba7f",
   "metadata": {},
   "source": [
    "### store the weather information into database"
   ]
  }
 ],
 "metadata": {
  "kernelspec": {
   "display_name": "Python 3 (ipykernel)",
   "language": "python",
   "name": "python3"
  },
  "language_info": {
   "codemirror_mode": {
    "name": "ipython",
    "version": 3
   },
   "file_extension": ".py",
   "mimetype": "text/x-python",
   "name": "python",
   "nbconvert_exporter": "python",
   "pygments_lexer": "ipython3",
   "version": "3.8.16"
  }
 },
 "nbformat": 4,
 "nbformat_minor": 5
}
