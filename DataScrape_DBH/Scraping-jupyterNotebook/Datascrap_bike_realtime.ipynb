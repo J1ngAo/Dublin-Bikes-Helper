{
 "cells": [
  {
   "cell_type": "code",
   "execution_count": 1,
   "id": "7d3aa8fe",
   "metadata": {},
   "outputs": [],
   "source": [
    "import pandas as pd\n",
    "import requests\n",
    "import json\n",
    "import time\n",
    "from datetime import datetime\n",
    "import traceback\n",
    "\n",
    "try:\n",
    "    re = requests.get('https://api.jcdecaux.com/vls/v1/stations?contract=dublin&apiKey=fe03402bc0668202ca98a2dba4127a9af87048f9')\n",
    "    dub_bike = json.loads(re.text)\n",
    "    with open('new_realtime_bike_data.json','a') as f:\n",
    "        json.dump(dub_bike,f)\n",
    "\n",
    "    now = datetime.now()\n",
    "    check = \"\\nDate and Time \" + str(now) + \" |  Status Code \" + str(re.status_code)\n",
    "    with open('check_data.txt','a') as f:\n",
    "        f.write(check)\n",
    "except Exception:\n",
    "    trace = traceback.format_exc()\n",
    "    with open('traceback_data.txt','a') as f:\n",
    "        f.write(trace)"
   ]
  },
  {
   "cell_type": "code",
   "execution_count": null,
   "id": "060c5fb8",
   "metadata": {},
   "outputs": [],
   "source": []
  }
 ],
 "metadata": {
  "kernelspec": {
   "display_name": "Python 3 (ipykernel)",
   "language": "python",
   "name": "python3"
  },
  "language_info": {
   "codemirror_mode": {
    "name": "ipython",
    "version": 3
   },
   "file_extension": ".py",
   "mimetype": "text/x-python",
   "name": "python",
   "nbconvert_exporter": "python",
   "pygments_lexer": "ipython3",
   "version": "3.10.9"
  }
 },
 "nbformat": 4,
 "nbformat_minor": 5
}
