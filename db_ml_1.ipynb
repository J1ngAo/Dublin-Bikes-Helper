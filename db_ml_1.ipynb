{
 "cells": [
  {
   "cell_type": "code",
   "execution_count": 1,
   "id": "3f6bfb53",
   "metadata": {},
   "outputs": [],
   "source": [
    "import pandas as pd\n",
    "import numpy as np\n",
    "import matplotlib.pyplot as plt\n",
    "import matplotlib.dates\n",
    "import requests\n",
    "import json\n",
    "from pathlib import Path\n",
    "import time\n",
    "import datetime"
   ]
  },
  {
   "cell_type": "code",
   "execution_count": 2,
   "id": "1cdb95f1",
   "metadata": {},
   "outputs": [],
   "source": [
    "%matplotlib inline"
   ]
  },
  {
   "cell_type": "code",
   "execution_count": 34,
   "id": "179212fa",
   "metadata": {},
   "outputs": [],
   "source": [
    "#path to files\n",
    "#file_path_json = Path('C:\\\\Users\\\\corma\\\\comp30830\\\\new_realtime_bike_data(24_2_23).json')\n",
    "file_path_csv = Path('C:\\\\Users\\\\corma\\\\Desktop\\\\Software Eng\\\\dublinbikes_20211001_20220101_usage.csv')\n"
   ]
  },
  {
   "cell_type": "code",
   "execution_count": 35,
   "id": "87499fec",
   "metadata": {},
   "outputs": [],
   "source": [
    "df = pd.read_csv(file_path_csv)"
   ]
  },
  {
   "cell_type": "code",
   "execution_count": 36,
   "id": "8c0585c1",
   "metadata": {},
   "outputs": [
    {
     "data": {
      "text/plain": [
       "(2776085, 11)"
      ]
     },
     "execution_count": 36,
     "metadata": {},
     "output_type": "execute_result"
    }
   ],
   "source": [
    "df.shape"
   ]
  },
  {
   "cell_type": "code",
   "execution_count": 37,
   "id": "2dc95e9e",
   "metadata": {},
   "outputs": [
    {
     "data": {
      "text/html": [
       "<div>\n",
       "<style scoped>\n",
       "    .dataframe tbody tr th:only-of-type {\n",
       "        vertical-align: middle;\n",
       "    }\n",
       "\n",
       "    .dataframe tbody tr th {\n",
       "        vertical-align: top;\n",
       "    }\n",
       "\n",
       "    .dataframe thead th {\n",
       "        text-align: right;\n",
       "    }\n",
       "</style>\n",
       "<table border=\"1\" class=\"dataframe\">\n",
       "  <thead>\n",
       "    <tr style=\"text-align: right;\">\n",
       "      <th></th>\n",
       "      <th>STATION ID</th>\n",
       "      <th>TIME</th>\n",
       "      <th>LAST UPDATED</th>\n",
       "      <th>NAME</th>\n",
       "      <th>BIKE STANDS</th>\n",
       "      <th>AVAILABLE BIKE STANDS</th>\n",
       "      <th>AVAILABLE BIKES</th>\n",
       "      <th>STATUS</th>\n",
       "      <th>ADDRESS</th>\n",
       "      <th>LATITUDE</th>\n",
       "      <th>LONGITUDE</th>\n",
       "    </tr>\n",
       "  </thead>\n",
       "  <tbody>\n",
       "    <tr>\n",
       "      <th>0</th>\n",
       "      <td>2</td>\n",
       "      <td>2021-10-01 00:05:02</td>\n",
       "      <td>2021-10-01 00:00:15</td>\n",
       "      <td>BLESSINGTON STREET</td>\n",
       "      <td>20</td>\n",
       "      <td>7</td>\n",
       "      <td>13</td>\n",
       "      <td>Open</td>\n",
       "      <td>Blessington Street</td>\n",
       "      <td>53.35677</td>\n",
       "      <td>-6.26814</td>\n",
       "    </tr>\n",
       "    <tr>\n",
       "      <th>1</th>\n",
       "      <td>2</td>\n",
       "      <td>2021-10-01 00:10:02</td>\n",
       "      <td>2021-10-01 00:05:36</td>\n",
       "      <td>BLESSINGTON STREET</td>\n",
       "      <td>20</td>\n",
       "      <td>6</td>\n",
       "      <td>14</td>\n",
       "      <td>Open</td>\n",
       "      <td>Blessington Street</td>\n",
       "      <td>53.35677</td>\n",
       "      <td>-6.26814</td>\n",
       "    </tr>\n",
       "    <tr>\n",
       "      <th>2</th>\n",
       "      <td>2</td>\n",
       "      <td>2021-10-01 00:15:02</td>\n",
       "      <td>2021-10-01 00:05:36</td>\n",
       "      <td>BLESSINGTON STREET</td>\n",
       "      <td>20</td>\n",
       "      <td>6</td>\n",
       "      <td>14</td>\n",
       "      <td>Open</td>\n",
       "      <td>Blessington Street</td>\n",
       "      <td>53.35677</td>\n",
       "      <td>-6.26814</td>\n",
       "    </tr>\n",
       "    <tr>\n",
       "      <th>3</th>\n",
       "      <td>2</td>\n",
       "      <td>2021-10-01 00:20:02</td>\n",
       "      <td>2021-10-01 00:15:43</td>\n",
       "      <td>BLESSINGTON STREET</td>\n",
       "      <td>20</td>\n",
       "      <td>6</td>\n",
       "      <td>14</td>\n",
       "      <td>Open</td>\n",
       "      <td>Blessington Street</td>\n",
       "      <td>53.35677</td>\n",
       "      <td>-6.26814</td>\n",
       "    </tr>\n",
       "    <tr>\n",
       "      <th>4</th>\n",
       "      <td>2</td>\n",
       "      <td>2021-10-01 00:25:02</td>\n",
       "      <td>2021-10-01 00:15:43</td>\n",
       "      <td>BLESSINGTON STREET</td>\n",
       "      <td>20</td>\n",
       "      <td>6</td>\n",
       "      <td>14</td>\n",
       "      <td>Open</td>\n",
       "      <td>Blessington Street</td>\n",
       "      <td>53.35677</td>\n",
       "      <td>-6.26814</td>\n",
       "    </tr>\n",
       "  </tbody>\n",
       "</table>\n",
       "</div>"
      ],
      "text/plain": [
       "   STATION ID                 TIME         LAST UPDATED                NAME  \\\n",
       "0           2  2021-10-01 00:05:02  2021-10-01 00:00:15  BLESSINGTON STREET   \n",
       "1           2  2021-10-01 00:10:02  2021-10-01 00:05:36  BLESSINGTON STREET   \n",
       "2           2  2021-10-01 00:15:02  2021-10-01 00:05:36  BLESSINGTON STREET   \n",
       "3           2  2021-10-01 00:20:02  2021-10-01 00:15:43  BLESSINGTON STREET   \n",
       "4           2  2021-10-01 00:25:02  2021-10-01 00:15:43  BLESSINGTON STREET   \n",
       "\n",
       "   BIKE STANDS  AVAILABLE BIKE STANDS  AVAILABLE BIKES STATUS  \\\n",
       "0           20                      7               13   Open   \n",
       "1           20                      6               14   Open   \n",
       "2           20                      6               14   Open   \n",
       "3           20                      6               14   Open   \n",
       "4           20                      6               14   Open   \n",
       "\n",
       "              ADDRESS  LATITUDE  LONGITUDE  \n",
       "0  Blessington Street  53.35677   -6.26814  \n",
       "1  Blessington Street  53.35677   -6.26814  \n",
       "2  Blessington Street  53.35677   -6.26814  \n",
       "3  Blessington Street  53.35677   -6.26814  \n",
       "4  Blessington Street  53.35677   -6.26814  "
      ]
     },
     "execution_count": 37,
     "metadata": {},
     "output_type": "execute_result"
    }
   ],
   "source": [
    "#dfcsv.info\n",
    "df.head()"
   ]
  },
  {
   "cell_type": "code",
   "execution_count": 38,
   "id": "815f60d8",
   "metadata": {},
   "outputs": [],
   "source": [
    "#df.dtypes"
   ]
  },
  {
   "cell_type": "code",
   "execution_count": 180,
   "id": "4e23f2c2",
   "metadata": {},
   "outputs": [
    {
     "data": {
      "text/plain": [
       "0   2021-10-01 00:05:02\n",
       "1   2021-10-01 00:10:02\n",
       "2   2021-10-01 00:15:02\n",
       "3   2021-10-01 00:20:02\n",
       "4   2021-10-01 00:25:02\n",
       "Name: TIME, dtype: datetime64[ns]"
      ]
     },
     "execution_count": 180,
     "metadata": {},
     "output_type": "execute_result"
    }
   ],
   "source": [
    "df[\"TIME\"] = pd.to_datetime(df[\"TIME\"])\n",
    "df[\"TIME\"].head()"
   ]
  },
  {
   "cell_type": "code",
   "execution_count": 181,
   "id": "17164629",
   "metadata": {},
   "outputs": [],
   "source": [
    "#df.dtypes"
   ]
  },
  {
   "cell_type": "code",
   "execution_count": 308,
   "id": "7bf4b6fc",
   "metadata": {},
   "outputs": [
    {
     "data": {
      "text/plain": [
       "2776080    1\n",
       "2776081    1\n",
       "2776082    1\n",
       "2776083    1\n",
       "2776084    1\n",
       "Name: DAY_num, dtype: int64"
      ]
     },
     "execution_count": 308,
     "metadata": {},
     "output_type": "execute_result"
    }
   ],
   "source": [
    "df[\"DAY_num\"] = df[\"TIME\"].dt.day\n",
    "df[\"DAY_num\"].tail()"
   ]
  },
  {
   "cell_type": "code",
   "execution_count": 309,
   "id": "e3e35ebe",
   "metadata": {},
   "outputs": [
    {
     "data": {
      "text/plain": [
       "2776070    Mon\n",
       "2776071    Mon\n",
       "2776072    Mon\n",
       "2776073    Mon\n",
       "2776074    Mon\n",
       "2776075    Mon\n",
       "2776076    Mon\n",
       "2776077    Mon\n",
       "2776078    Mon\n",
       "2776079    Mon\n",
       "2776080    Mon\n",
       "2776081    Mon\n",
       "2776082    Mon\n",
       "2776083    Mon\n",
       "2776084    Mon\n",
       "Name: DAY, dtype: object"
      ]
     },
     "execution_count": 309,
     "metadata": {},
     "output_type": "execute_result"
    }
   ],
   "source": [
    "df.loc[df['DAY_num'] == 1, 'DAY'] = 'Mon'  \n",
    "df.loc[df['DAY_num'] == 2, 'DAY'] = 'Tue'  \n",
    "df.loc[df['DAY_num'] == 3, 'DAY'] = 'Wed'  \n",
    "df.loc[df['DAY_num'] == 4, 'DAY'] = 'Thu'  \n",
    "df.loc[df['DAY_num'] == 5, 'DAY'] = 'Fri' \n",
    "df.loc[df['DAY_num'] == 6, 'DAY'] = 'Sat' \n",
    "df.loc[df['DAY_num'] == 7, 'DAY'] = 'Sun' \n",
    "#df['DAY'].head(15)\n",
    "df['DAY'].tail(15)"
   ]
  },
  {
   "cell_type": "code",
   "execution_count": 310,
   "id": "9c52e388",
   "metadata": {},
   "outputs": [],
   "source": [
    "#df.dtypes"
   ]
  },
  {
   "cell_type": "code",
   "execution_count": 311,
   "id": "fcb1b06e",
   "metadata": {},
   "outputs": [],
   "source": [
    "df[\"YEAR\"] = df[\"TIME\"].dt.year\n",
    "#df[\"YEAR\"].head()"
   ]
  },
  {
   "cell_type": "code",
   "execution_count": 312,
   "id": "97a5db80",
   "metadata": {},
   "outputs": [
    {
     "data": {
      "text/plain": [
       "2776080    23\n",
       "2776081    23\n",
       "2776082    23\n",
       "2776083    23\n",
       "2776084    23\n",
       "Name: HOUR, dtype: int64"
      ]
     },
     "execution_count": 312,
     "metadata": {},
     "output_type": "execute_result"
    }
   ],
   "source": [
    "df[\"HOUR\"] = df[\"TIME\"].dt.hour\n",
    "df[\"HOUR\"].tail()"
   ]
  },
  {
   "cell_type": "code",
   "execution_count": 412,
   "id": "2c368ea4",
   "metadata": {},
   "outputs": [
    {
     "data": {
      "text/plain": [
       "array([10, 11, 12,  1], dtype=int64)"
      ]
     },
     "execution_count": 412,
     "metadata": {},
     "output_type": "execute_result"
    }
   ],
   "source": [
    "df[\"MONTH\"] = df[\"TIME\"].dt.month\n",
    "df[\"MONTH\"].unique()"
   ]
  },
  {
   "cell_type": "code",
   "execution_count": 314,
   "id": "64e0122e",
   "metadata": {},
   "outputs": [
    {
     "data": {
      "text/plain": [
       "2776070    45\n",
       "2776071    50\n",
       "2776072    55\n",
       "2776073     0\n",
       "2776074     5\n",
       "2776075    10\n",
       "2776076    15\n",
       "2776077    20\n",
       "2776078    25\n",
       "2776079    30\n",
       "2776080    35\n",
       "2776081    40\n",
       "2776082    45\n",
       "2776083    50\n",
       "2776084    55\n",
       "Name: MINUTE, dtype: int64"
      ]
     },
     "execution_count": 314,
     "metadata": {},
     "output_type": "execute_result"
    }
   ],
   "source": [
    "df[\"MINUTE\"] = df[\"TIME\"].dt.minute\n",
    "df[\"MINUTE\"].tail(15)"
   ]
  },
  {
   "cell_type": "code",
   "execution_count": 315,
   "id": "69d6a8a9",
   "metadata": {},
   "outputs": [
    {
     "data": {
      "text/plain": [
       "STATION ID                        int64\n",
       "TIME                     datetime64[ns]\n",
       "LAST UPDATED                     object\n",
       "NAME                             object\n",
       "BIKE STANDS                       int64\n",
       "AVAILABLE BIKE STANDS             int64\n",
       "AVAILABLE BIKES                   int64\n",
       "STATUS                           object\n",
       "ADDRESS                          object\n",
       "LATITUDE                        float64\n",
       "LONGITUDE                       float64\n",
       "DAY_num                           int64\n",
       "DAY                              object\n",
       "YEAR                              int64\n",
       "HOUR                              int64\n",
       "MINUTE                            int64\n",
       "MONTH                             int64\n",
       "hmj                             float64\n",
       "hmja                            float64\n",
       "station_select                     bool\n",
       "xplot                           float64\n",
       "dtype: object"
      ]
     },
     "execution_count": 315,
     "metadata": {},
     "output_type": "execute_result"
    }
   ],
   "source": [
    "df.dtypes"
   ]
  },
  {
   "cell_type": "code",
   "execution_count": 401,
   "id": "87c79dc5",
   "metadata": {},
   "outputs": [
    {
     "name": "stdout",
     "output_type": "stream",
     "text": [
      "Sat    95328\n",
      "Name: DAY, dtype: int64\n",
      "2022    31968\n",
      "Name: YEAR, dtype: int64\n"
     ]
    }
   ],
   "source": [
    "print(df['DAY'][df['DAY']=='Sat'].value_counts().head())\n",
    "print(df['YEAR'][df['YEAR']==2022].value_counts().head())"
   ]
  },
  {
   "cell_type": "code",
   "execution_count": 402,
   "id": "7e55a67e",
   "metadata": {},
   "outputs": [],
   "source": [
    "def convert_day(num):\n",
    "    if num == 1:\n",
    "        return 'Monday'\n",
    "    elif num == 2:\n",
    "        return 'Tuesday'\n",
    "    elif num == 3:\n",
    "        return 'Wednesday'\n",
    "    elif num == 4:\n",
    "        return 'Thursday'\n",
    "    elif num == 5:\n",
    "        return 'Friday'\n",
    "    elif num == 6:\n",
    "        return 'Saturday'\n",
    "    else:\n",
    "        return 'Sunday'"
   ]
  },
  {
   "cell_type": "code",
   "execution_count": 403,
   "id": "b1002362",
   "metadata": {},
   "outputs": [],
   "source": [
    "def convert_month(num):\n",
    "    if num == 1:\n",
    "        return 'January'\n",
    "    elif num == 2:\n",
    "        return 'February'\n",
    "    elif num == 3:\n",
    "        return 'March'\n",
    "    elif num == 4:\n",
    "        return 'April'\n",
    "    elif num == 5:\n",
    "        return 'May'\n",
    "    elif num == 6:\n",
    "        return 'June'\n",
    "    elif num == 7:\n",
    "        return 'July'\n",
    "    elif num == 8:\n",
    "        return 'August'\n",
    "    elif num == 9:\n",
    "        return 'September'\n",
    "    elif num == 10:\n",
    "        return 'October'\n",
    "    elif num == 11:\n",
    "        return 'November'\n",
    "    else:\n",
    "        return 'December'"
   ]
  },
  {
   "cell_type": "code",
   "execution_count": 418,
   "id": "7677e044",
   "metadata": {},
   "outputs": [],
   "source": [
    "#Input  Search Parameters\n",
    "day_num = 5\n",
    "month_num = 10\n",
    "\n",
    "stationid = 2\n",
    "stationname = df.loc[(df['STATION ID']==stationid),'NAME'].values[0]\n",
    "\n",
    "#Screen data based on certain input parameters\n",
    "df['station_select'] = (df['YEAR']==2021) & (df['MONTH']==month_num) & (df['DAY_num']==day_num) & (df['MINUTE']==0) & (df['STATION ID']==stationid)\n",
    "\n",
    "x =df['HOUR'].loc[df['station_select']]"
   ]
  },
  {
   "cell_type": "code",
   "execution_count": 419,
   "id": "810a238e",
   "metadata": {},
   "outputs": [
    {
     "data": {
      "text/plain": [
       "array([ 5, 10, 15, 20, 25, 30, 35, 40, 45, 50, 55,  0, 27], dtype=int64)"
      ]
     },
     "execution_count": 419,
     "metadata": {},
     "output_type": "execute_result"
    }
   ],
   "source": [
    "df['MINUTE'].unique()"
   ]
  },
  {
   "cell_type": "code",
   "execution_count": 420,
   "id": "aae39388",
   "metadata": {},
   "outputs": [],
   "source": [
    "#y = df['AVAILABLE BIKES'][df['station_select']]\n",
    "y = df['AVAILABLE BIKES'].loc[df['station_select']]"
   ]
  },
  {
   "cell_type": "code",
   "execution_count": 421,
   "id": "5c0f8d74",
   "metadata": {},
   "outputs": [
    {
     "data": {
      "image/png": "[encoded data removed]",
      "text/plain": [
       "<Figure size 640x480 with 1 Axes>"
      ]
     },
     "metadata": {},
     "output_type": "display_data"
    }
   ],
   "source": [
    "\n",
    "\n",
    "plt.ylabel(\"Bike Availability\")\n",
    "plt.xlabel(\"Time (24 hours)\")\n",
    "c=['blue','blue','blue','blue','blue','blue','blue','blue','red','red','red','red','red','red','red','red','red','red','blue','blue','blue','blue','blue','blue']\n",
    "ytick = np.array([0, 2, 4, 6,8,10,12,14,16,18,20,22,24,26,28,30])\n",
    "xtick = np.array([0, 4, 8, 12,16,20,24])\n",
    "plt.xticks(xtick)\n",
    "plt.yticks(ytick)\n",
    "plt.xlim(0,24)\n",
    "plt.bar(x,y,color=c)\n",
    "\n",
    "plt.suptitle(f'Historical Bike Availability for {stationname}')\n",
    "plt.title(f' for a {convert_day(day_num)} in {convert_month(month_num)}')\n",
    "plt.show()"
   ]
  },
  {
   "cell_type": "code",
   "execution_count": null,
   "id": "c626fdfe",
   "metadata": {},
   "outputs": [],
   "source": []
  },
  {
   "cell_type": "code",
   "execution_count": null,
   "id": "21d861cb",
   "metadata": {},
   "outputs": [],
   "source": []
  },
  {
   "cell_type": "code",
   "execution_count": null,
   "id": "037dbeae",
   "metadata": {},
   "outputs": [],
   "source": []
  },
  {
   "cell_type": "code",
   "execution_count": null,
   "id": "505c3a8c",
   "metadata": {},
   "outputs": [],
   "source": []
  },
  {
   "cell_type": "code",
   "execution_count": null,
   "id": "973a0f1b",
   "metadata": {},
   "outputs": [],
   "source": []
  },
  {
   "cell_type": "code",
   "execution_count": null,
   "id": "ec2b37e0",
   "metadata": {},
   "outputs": [],
   "source": []
  },
  {
   "cell_type": "code",
   "execution_count": null,
   "id": "d0d35a28",
   "metadata": {},
   "outputs": [],
   "source": []
  },
  {
   "cell_type": "code",
   "execution_count": null,
   "id": "58830e54",
   "metadata": {},
   "outputs": [],
   "source": []
  },
  {
   "cell_type": "code",
   "execution_count": null,
   "id": "20d00309",
   "metadata": {},
   "outputs": [],
   "source": []
  },
  {
   "cell_type": "code",
   "execution_count": null,
   "id": "795e8b52",
   "metadata": {},
   "outputs": [],
   "source": []
  },
  {
   "cell_type": "code",
   "execution_count": null,
   "id": "5d056a4a",
   "metadata": {},
   "outputs": [],
   "source": []
  },
  {
   "cell_type": "code",
   "execution_count": null,
   "id": "2b8c151b",
   "metadata": {},
   "outputs": [],
   "source": []
  },
  {
   "cell_type": "code",
   "execution_count": null,
   "id": "09172383",
   "metadata": {},
   "outputs": [],
   "source": []
  },
  {
   "cell_type": "code",
   "execution_count": null,
   "id": "0fcf004a",
   "metadata": {},
   "outputs": [],
   "source": []
  },
  {
   "cell_type": "code",
   "execution_count": null,
   "id": "6c2f8360",
   "metadata": {},
   "outputs": [],
   "source": []
  },
  {
   "cell_type": "code",
   "execution_count": null,
   "id": "86977655",
   "metadata": {},
   "outputs": [],
   "source": []
  },
  {
   "cell_type": "code",
   "execution_count": null,
   "id": "b1d49210",
   "metadata": {},
   "outputs": [],
   "source": []
  },
  {
   "cell_type": "code",
   "execution_count": null,
   "id": "e3f8e7ae",
   "metadata": {},
   "outputs": [],
   "source": []
  },
  {
   "cell_type": "code",
   "execution_count": null,
   "id": "ccf83480",
   "metadata": {},
   "outputs": [],
   "source": []
  },
  {
   "cell_type": "markdown",
   "id": "21d3b130",
   "metadata": {},
   "source": [
    "data2 =json.dumps(data1)\n",
    "print(type(data2))\n",
    "data6 = data2.replace(\"\\'\",\"\\\"\")\n",
    "print(data6)\n",
    "#df2 = pd.read_json(data6,lines=True)"
   ]
  },
  {
   "cell_type": "markdown",
   "id": "601d878c",
   "metadata": {},
   "source": [
    "data3 = data2.replace(\"[\",\"\")\n",
    "data3 = data3.replace(\"]\",\"\")\n",
    "print(type(data3))\n",
    "print(data3)"
   ]
  },
  {
   "cell_type": "markdown",
   "id": "99923baf",
   "metadata": {},
   "source": [
    "data4 = json.dumps(data3)\n",
    "print(type(data4))\n",
    "print(data4)\n",
    "df= pd.read_json(data4)"
   ]
  },
  {
   "cell_type": "markdown",
   "id": "d1fb0ac6",
   "metadata": {},
   "source": [
    "with open('C:/Users/corma/comp30830/bike_data.txt','r') as f:\n",
    "    data3 = json.load(f)\n",
    "print(type(data3))\n",
    "print(data3)"
   ]
  }
 ],
 "metadata": {
  "kernelspec": {
   "display_name": "Python 3 (ipykernel)",
   "language": "python",
   "name": "python3"
  },
  "language_info": {
   "codemirror_mode": {
    "name": "ipython",
    "version": 3
   },
   "file_extension": ".py",
   "mimetype": "text/x-python",
   "name": "python",
   "nbconvert_exporter": "python",
   "pygments_lexer": "ipython3",
   "version": "3.10.9"
  }
 },
 "nbformat": 4,
 "nbformat_minor": 5
}
