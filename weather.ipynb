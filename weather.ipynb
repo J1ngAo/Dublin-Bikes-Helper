{
 "cells": [
  {
   "cell_type": "markdown",
   "id": "f0db05fa",
   "metadata": {},
   "source": [
    "# Data Scrapping - Weather"
   ]
  },
  {
   "cell_type": "markdown",
   "id": "35284b32",
   "metadata": {},
   "source": [
    "http://metwdb-openaccess.ichec.ie/metno-wdb2ts/locationforecast?lat=<LATITUDE>;long=<LONGITUDE>\n",
    "http://metwdb-openaccess.ichec.ie/metno-wdb2ts/locationforecast?lat=54.7210798611;long=-8.7237392806 "
   ]
  },
  {
   "cell_type": "code",
   "execution_count": 15,
   "id": "17350281",
   "metadata": {},
   "outputs": [],
   "source": [
    "from bs4 import BeautifulSoup as bs\n",
    "from bs4.element import Comment\n",
    "import pandas as pd\n",
    "import numpy as np\n",
    "import requests\n",
    "import lxml"
   ]
  },
  {
   "cell_type": "code",
   "execution_count": 16,
   "id": "f47a9a27",
   "metadata": {},
   "outputs": [],
   "source": [
    "final_data = pd.DataFrame()"
   ]
  },
  {
   "cell_type": "code",
   "execution_count": 17,
   "id": "29b7b82e",
   "metadata": {},
   "outputs": [],
   "source": [
    "url = \"http://metwdb-openaccess.ichec.ie/metno-wdb2ts/locationforecast?lat=54.7210798611;long=-8.7237392806\""
   ]
  },
  {
   "cell_type": "code",
   "execution_count": 25,
   "id": "0bc12dc1",
   "metadata": {},
   "outputs": [
    {
     "name": "stdout",
     "output_type": "stream",
     "text": [
      "<weatherdata xmlns:xsi=\"http://www.w3.org/2001/XMLSchema-instance\" xsi:noNamespaceSchemaLocation=\"http://api.met.no/weatherapi/locationforecast/1.9/schema\" created=\"2023-02-15T18:50:20Z\">\n",
      "   <meta>\n",
      "      <model name=\"harmonie\" termin=\"2023-02-15T12:00:00Z\" runended=\"2023-02-15T15:17:28Z\" nextrun=\"2023-02-15T22:00:00Z\" from=\"2023-02-15T19:00:00Z\" to=\"2023-02-17T18:00:00Z\" />\n",
      "      <model name=\"ec_n1280_1hr\" termin=\"2023-02-15T00:00:00Z\" runended=\"2023-02-15T15:17:27Z\" nextrun=\"2023-02-16T06:00:00Z\" from=\"2023-02-17T19:00:00Z\" to=\"2023-02-18T18:00:00Z\" />\n",
      "      <model name=\"ec_n1280_3hr\" termin=\"2023-02-15T00:00:00Z\" runended=\"2023-02-15T15:17:28Z\" nextrun=\"2023-02-16T06:00:00Z\" from=\"2023-02-18T21:00:00Z\" to=\"2023-02-21T00:00:00Z\" />\n",
      "      <model name=\"ec_n1280_6hr\" termin=\"2023-02-15T00:00:00Z\" runended=\"2023-02-15T15:17:28Z\" nextrun=\"2023-02-16T06:00:00Z\" from=\"2023-02-21T06:00:00Z\" to=\"2023-02-25T00:00:00Z\" />\n",
      "      </meta>\n",
      "   <product class=\"pointData\">\n",
      "      <time datatype=\"forecast\" from=\"2023-02-15T19:00:00Z\" to=\"2023-02-15T19:00:00Z\">\n",
      "         <location altitude=\"9\" latitude=\"54.7211\" longitude=\"-8.7237\">\n",
      "            <temperature id=\"TTT\" unit=\"celsius\" value=\"8.6\"/>\n",
      "            <windDirection id=\"dd\" deg=\"196.2\" name=\"S\"/>\n",
      "            <windSpeed id=\"ff\" mps=\"7.0\" beaufort=\"4\" name=\"Laber bris\"/>\n",
      "            <windGust id=\"ff_gust\" mps=\"11.5\"/>\n",
      "            <globalRadiation value=\"0.0\" unit=\"W/m^2\"/>\n",
      "            <humidity value=\"95.4\" unit=\"percent\"/>\n",
      "            <pressure id=\"pr\" unit=\"hPa\" value=\"1013.2\"/>\n",
      "            <cloudiness id=\"NN\" percent=\"100.0\"/>\n",
      "            <lowClouds id=\"LOW\" percent=\"100.0\"/>\n",
      "            <mediumClouds id=\"MEDIUM\" percent=\"97.7\"/>\n",
      "            <highClouds id=\"HIGH\" percent=\"62.4\"/>\n",
      "            <dewpointTemperature id=\"TD\" unit=\"celsius\" value=\"7.9\"/>\n",
      "         </location>\n",
      "      </time>\n",
      "      <time datatype=\"forecast\" from=\"2023-02-15T18:00:00Z\" to=\"2023-02-15T19:00:00Z\">\n",
      "         <location altitude=\"9\" latitude=\"54.7211\" longitude=\"-8.7237\">\n",
      "            <precipitation unit=\"mm\" value=\"1.0\" minvalue=\"0.5\" maxvalue=\"1.7\" probability=\"73.9\"/>\n",
      "<symbol id=\"Rain\" number=\"10\"/>\n",
      "         </location>\n",
      "      </time>\n",
      "      <time datatype=\"forecast\" from=\"2023-02-15T20:00:00Z\" to=\"2023-02-15T20:00:00Z\">\n",
      "         <location altitude=\"9\" latitude=\"54.7211\" longitude=\"-8.7237\">\n",
      "            <temperature id=\"TTT\" unit=\"celsius\" value=\"8.6\"/>\n",
      "            <windDirection id=\"dd\" deg=\"184.2\" name=\"S\"/>\n",
      "            <windSpeed id=\"ff\" mps=\"6.4\" beaufort=\"4\" name=\"Laber bris\"/>\n",
      "            <windGust id=\"ff_gust\" mps=\"8.8\"/>\n",
      "            <globalRadiation value=\"0.0\" unit=\"W/m^2\"/>\n",
      "            <humidity value=\"96.1\" unit=\"percent\"/>\n",
      "            <pressure id=\"pr\" unit=\"hPa\" value=\"1013.2\"/>\n",
      "            <cloudiness id=\"NN\" percent=\"100.0\"/>\n",
      "            <lowClouds id=\"LOW\" percent=\"100.0\"/>\n",
      "            <mediumClouds id=\"MEDIUM\" percent=\"59.7\"/>\n",
      "            <highClouds id=\"HIGH\" percent=\"94.8\"/>\n",
      "            <dewpointTemperature id=\"TD\" unit=\"cels\n"
     ]
    }
   ],
   "source": [
    "xml_data = requests.get(url).text\n",
    "print(xml_data[:3000])"
   ]
  }
 ],
 "metadata": {
  "kernelspec": {
   "display_name": "Python 3 (ipykernel)",
   "language": "python",
   "name": "python3"
  },
  "language_info": {
   "codemirror_mode": {
    "name": "ipython",
    "version": 3
   },
   "file_extension": ".py",
   "mimetype": "text/x-python",
   "name": "python",
   "nbconvert_exporter": "python",
   "pygments_lexer": "ipython3",
   "version": "3.10.9"
  }
 },
 "nbformat": 4,
 "nbformat_minor": 5
}
